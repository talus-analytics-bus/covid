{
 "cells": [
  {
   "cell_type": "code",
   "execution_count": 63,
   "metadata": {},
   "outputs": [],
   "source": [
    "import camelot\n",
    "import matplotlib\n",
    "%matplotlib inline\n",
    "\n",
    "import pandas as pd\n",
    "import numpy as np\n",
    "\n",
    "import requests\n",
    "import bs4\n",
    "\n",
    "import re\n",
    "import io"
   ]
  },
  {
   "cell_type": "code",
   "execution_count": 131,
   "metadata": {},
   "outputs": [],
   "source": [
    "tables = camelot.read_pdf('tmp/Issue(22)-June 1, 2019.pdf', flavor='stream', edge_tol=500, row_tol=9, strip_text='\\n', table_areas=['10, 360, 600, 90'])\n",
    "#tables = camelot.read_pdf('sme2502.pdf', split_text=True, process_background=True) #line_scale=70, copy_text=['v'])#, flavor='stream')table_areas=['20, 389, 600, 100'], "
   ]
  },
  {
   "cell_type": "code",
   "execution_count": 132,
   "metadata": {},
   "outputs": [
    {
     "name": "stdout",
     "output_type": "stream",
     "text": [
      "{'accuracy': 98.78, 'whitespace': 9.94, 'order': 1, 'page': 1}\n"
     ]
    }
   ],
   "source": [
    "print(tables[0].parsing_report)"
   ]
  },
  {
   "cell_type": "code",
   "execution_count": 133,
   "metadata": {},
   "outputs": [
    {
     "data": {
      "image/png": "[encoded data removed]",
      "text/plain": [
       "<Figure size 432x288 with 1 Axes>"
      ]
     },
     "execution_count": 133,
     "metadata": {},
     "output_type": "execute_result"
    },
    {
     "data": {
      "image/png": "[encoded data removed]",
      "text/plain": [
       "<Figure size 432x288 with 1 Axes>"
      ]
     },
     "metadata": {
      "needs_background": "light"
     },
     "output_type": "display_data"
    }
   ],
   "source": [
    "camelot.plot(tables[0], kind='contour')"
   ]
  },
  {
   "cell_type": "code",
   "execution_count": 134,
   "metadata": {},
   "outputs": [],
   "source": [
    "sme2502 = tables[0].df"
   ]
  },
  {
   "cell_type": "code",
   "execution_count": 138,
   "metadata": {},
   "outputs": [
    {
     "data": {
      "text/html": [
       "<div>\n",
       "<style scoped>\n",
       "    .dataframe tbody tr th:only-of-type {\n",
       "        vertical-align: middle;\n",
       "    }\n",
       "\n",
       "    .dataframe tbody tr th {\n",
       "        vertical-align: top;\n",
       "    }\n",
       "\n",
       "    .dataframe thead th {\n",
       "        text-align: right;\n",
       "    }\n",
       "</style>\n",
       "<table border=\"1\" class=\"dataframe\">\n",
       "  <thead>\n",
       "    <tr style=\"text-align: right;\">\n",
       "      <th></th>\n",
       "      <th>0</th>\n",
       "      <th>1</th>\n",
       "      <th>2</th>\n",
       "      <th>3</th>\n",
       "      <th>4</th>\n",
       "      <th>5</th>\n",
       "      <th>6</th>\n",
       "      <th>7</th>\n",
       "      <th>8</th>\n",
       "      <th>9</th>\n",
       "      <th>10</th>\n",
       "      <th>11</th>\n",
       "      <th>12</th>\n",
       "      <th>13</th>\n",
       "      <th>14</th>\n",
       "      <th>15</th>\n",
       "      <th>16</th>\n",
       "    </tr>\n",
       "  </thead>\n",
       "  <tbody>\n",
       "    <tr>\n",
       "      <td>0</td>\n",
       "      <td>Subregion</td>\n",
       "      <td>Susp.</td>\n",
       "      <td></td>\n",
       "      <td>Measles Confirmed</td>\n",
       "      <td></td>\n",
       "      <td></td>\n",
       "      <td>Year/Week Last Conf.</td>\n",
       "      <td></td>\n",
       "      <td>Rubella Confirmed 2019</td>\n",
       "      <td></td>\n",
       "      <td>Year/Week Last Conf.</td>\n",
       "      <td>Discarded Cases</td>\n",
       "      <td></td>\n",
       "      <td></td>\n",
       "      <td>Congenital Rubella</td>\n",
       "      <td></td>\n",
       "      <td>Year/Week</td>\n",
       "    </tr>\n",
       "    <tr>\n",
       "      <td>1</td>\n",
       "      <td>and Country</td>\n",
       "      <td>Cases</td>\n",
       "      <td></td>\n",
       "      <td></td>\n",
       "      <td>2019</td>\n",
       "      <td></td>\n",
       "      <td>Measles</td>\n",
       "      <td></td>\n",
       "      <td></td>\n",
       "      <td></td>\n",
       "      <td>Rubella</td>\n",
       "      <td></td>\n",
       "      <td>2019</td>\n",
       "      <td></td>\n",
       "      <td>Syndrome</td>\n",
       "      <td></td>\n",
       "      <td>Last Conf.</td>\n",
       "    </tr>\n",
       "    <tr>\n",
       "      <td>2</td>\n",
       "      <td></td>\n",
       "      <td>2019</td>\n",
       "      <td>Clin.</td>\n",
       "      <td>Lab.</td>\n",
       "      <td>EPI link</td>\n",
       "      <td>Total</td>\n",
       "      <td>case</td>\n",
       "      <td>Clin.</td>\n",
       "      <td>Lab.</td>\n",
       "      <td>Total</td>\n",
       "      <td>Case</td>\n",
       "      <td>Dengue</td>\n",
       "      <td>Others</td>\n",
       "      <td>Susp.</td>\n",
       "      <td>Conf.</td>\n",
       "      <td>CRI*</td>\n",
       "      <td>CRS Case</td>\n",
       "    </tr>\n",
       "    <tr>\n",
       "      <td>3</td>\n",
       "      <td>AND BOL</td>\n",
       "      <td>37</td>\n",
       "      <td>0</td>\n",
       "      <td>0</td>\n",
       "      <td>…</td>\n",
       "      <td>0</td>\n",
       "      <td>2000-40</td>\n",
       "      <td>0</td>\n",
       "      <td>0</td>\n",
       "      <td>0</td>\n",
       "      <td>2006-03</td>\n",
       "      <td>0</td>\n",
       "      <td>5</td>\n",
       "      <td>0</td>\n",
       "      <td>0</td>\n",
       "      <td>0</td>\n",
       "      <td>…</td>\n",
       "    </tr>\n",
       "    <tr>\n",
       "      <td>4</td>\n",
       "      <td>COL</td>\n",
       "      <td>1289</td>\n",
       "      <td>0</td>\n",
       "      <td>118</td>\n",
       "      <td>…</td>\n",
       "      <td>118</td>\n",
       "      <td>2019-21</td>\n",
       "      <td>0</td>\n",
       "      <td>0</td>\n",
       "      <td>0</td>\n",
       "      <td>2012-31</td>\n",
       "      <td>1</td>\n",
       "      <td>1064</td>\n",
       "      <td>116</td>\n",
       "      <td>0</td>\n",
       "      <td>0</td>\n",
       "      <td>2005-34</td>\n",
       "    </tr>\n",
       "    <tr>\n",
       "      <td>5</td>\n",
       "      <td>ECU</td>\n",
       "      <td>0</td>\n",
       "      <td>0</td>\n",
       "      <td>0</td>\n",
       "      <td>0</td>\n",
       "      <td>0</td>\n",
       "      <td>2018-33</td>\n",
       "      <td>0</td>\n",
       "      <td>0</td>\n",
       "      <td>0</td>\n",
       "      <td>2004-49</td>\n",
       "      <td>0</td>\n",
       "      <td>0</td>\n",
       "      <td>0</td>\n",
       "      <td>…</td>\n",
       "      <td>…</td>\n",
       "      <td>2011-14</td>\n",
       "    </tr>\n",
       "    <tr>\n",
       "      <td>6</td>\n",
       "      <td>PER</td>\n",
       "      <td>227</td>\n",
       "      <td>0</td>\n",
       "      <td>2</td>\n",
       "      <td>…</td>\n",
       "      <td>2</td>\n",
       "      <td>2019-17</td>\n",
       "      <td>0</td>\n",
       "      <td>0</td>\n",
       "      <td>0</td>\n",
       "      <td>2009-04</td>\n",
       "      <td>0</td>\n",
       "      <td>212</td>\n",
       "      <td>0</td>\n",
       "      <td>0</td>\n",
       "      <td>0</td>\n",
       "      <td>2007-16</td>\n",
       "    </tr>\n",
       "    <tr>\n",
       "      <td>7</td>\n",
       "      <td>VEN</td>\n",
       "      <td>…</td>\n",
       "      <td>32</td>\n",
       "      <td>148</td>\n",
       "      <td>23</td>\n",
       "      <td>203a</td>\n",
       "      <td>2019-13</td>\n",
       "      <td>0</td>\n",
       "      <td>0</td>\n",
       "      <td>0</td>\n",
       "      <td>2007-51</td>\n",
       "      <td>3</td>\n",
       "      <td>68</td>\n",
       "      <td>19</td>\n",
       "      <td>0</td>\n",
       "      <td>0</td>\n",
       "      <td>…</td>\n",
       "    </tr>\n",
       "    <tr>\n",
       "      <td>8</td>\n",
       "      <td>BRA BRA</td>\n",
       "      <td>1748</td>\n",
       "      <td>13</td>\n",
       "      <td>114</td>\n",
       "      <td>…</td>\n",
       "      <td>127</td>\n",
       "      <td>2019-20</td>\n",
       "      <td>…</td>\n",
       "      <td>…</td>\n",
       "      <td>…</td>\n",
       "      <td>2014-40</td>\n",
       "      <td>0</td>\n",
       "      <td>1115</td>\n",
       "      <td>22</td>\n",
       "      <td>0</td>\n",
       "      <td>0</td>\n",
       "      <td>2009-34</td>\n",
       "    </tr>\n",
       "    <tr>\n",
       "      <td>9</td>\n",
       "      <td>CAP CRI</td>\n",
       "      <td>34</td>\n",
       "      <td>0</td>\n",
       "      <td>10</td>\n",
       "      <td>…</td>\n",
       "      <td>10a</td>\n",
       "      <td>2019-13</td>\n",
       "      <td>0</td>\n",
       "      <td>0</td>\n",
       "      <td>0</td>\n",
       "      <td>2001-39</td>\n",
       "      <td>0</td>\n",
       "      <td>24</td>\n",
       "      <td>17</td>\n",
       "      <td>0</td>\n",
       "      <td>0</td>\n",
       "      <td>…</td>\n",
       "    </tr>\n",
       "    <tr>\n",
       "      <td>10</td>\n",
       "      <td>GTM</td>\n",
       "      <td>156</td>\n",
       "      <td>0</td>\n",
       "      <td>0</td>\n",
       "      <td>…</td>\n",
       "      <td>0</td>\n",
       "      <td>2018-03</td>\n",
       "      <td>0</td>\n",
       "      <td>0</td>\n",
       "      <td>0</td>\n",
       "      <td>2006-31</td>\n",
       "      <td>1</td>\n",
       "      <td>151</td>\n",
       "      <td>2</td>\n",
       "      <td>1</td>\n",
       "      <td>0</td>\n",
       "      <td>2005-00</td>\n",
       "    </tr>\n",
       "    <tr>\n",
       "      <td>11</td>\n",
       "      <td>HND</td>\n",
       "      <td>124</td>\n",
       "      <td>0</td>\n",
       "      <td>0</td>\n",
       "      <td>…</td>\n",
       "      <td>0</td>\n",
       "      <td>1998-16</td>\n",
       "      <td>0</td>\n",
       "      <td>0</td>\n",
       "      <td>0</td>\n",
       "      <td>2004-11</td>\n",
       "      <td>0</td>\n",
       "      <td>112</td>\n",
       "      <td>3</td>\n",
       "      <td>0</td>\n",
       "      <td>0</td>\n",
       "      <td>2001-00</td>\n",
       "    </tr>\n",
       "    <tr>\n",
       "      <td>12</td>\n",
       "      <td>NIC</td>\n",
       "      <td>334</td>\n",
       "      <td>0</td>\n",
       "      <td>0</td>\n",
       "      <td>…</td>\n",
       "      <td>0</td>\n",
       "      <td>1994-14</td>\n",
       "      <td>0</td>\n",
       "      <td>0</td>\n",
       "      <td>0</td>\n",
       "      <td>2004-19</td>\n",
       "      <td>3</td>\n",
       "      <td>254</td>\n",
       "      <td>11</td>\n",
       "      <td>3</td>\n",
       "      <td>0</td>\n",
       "      <td>2005-00</td>\n",
       "    </tr>\n",
       "    <tr>\n",
       "      <td>13</td>\n",
       "      <td>PAN</td>\n",
       "      <td>29</td>\n",
       "      <td>0</td>\n",
       "      <td>0</td>\n",
       "      <td>…</td>\n",
       "      <td>0</td>\n",
       "      <td>2011-20</td>\n",
       "      <td>0</td>\n",
       "      <td>0</td>\n",
       "      <td>0</td>\n",
       "      <td>2002-48</td>\n",
       "      <td>0</td>\n",
       "      <td>25</td>\n",
       "      <td>0</td>\n",
       "      <td>0</td>\n",
       "      <td>0</td>\n",
       "      <td>…</td>\n",
       "    </tr>\n",
       "    <tr>\n",
       "      <td>14</td>\n",
       "      <td>SLV</td>\n",
       "      <td>186</td>\n",
       "      <td>0</td>\n",
       "      <td>0</td>\n",
       "      <td>…</td>\n",
       "      <td>0</td>\n",
       "      <td>2001-19</td>\n",
       "      <td>0</td>\n",
       "      <td>0</td>\n",
       "      <td>0</td>\n",
       "      <td>2006-30</td>\n",
       "      <td>0</td>\n",
       "      <td>186</td>\n",
       "      <td>0</td>\n",
       "      <td>0</td>\n",
       "      <td>0</td>\n",
       "      <td>2001-00</td>\n",
       "    </tr>\n",
       "    <tr>\n",
       "      <td>15</td>\n",
       "      <td>CAR CAR</td>\n",
       "      <td>143</td>\n",
       "      <td>0</td>\n",
       "      <td>2</td>\n",
       "      <td>1</td>\n",
       "      <td>3</td>\n",
       "      <td>2019-17</td>\n",
       "      <td>0</td>\n",
       "      <td>0</td>\n",
       "      <td>0</td>\n",
       "      <td>2008-18</td>\n",
       "      <td>0</td>\n",
       "      <td>130</td>\n",
       "      <td>4</td>\n",
       "      <td>0</td>\n",
       "      <td>0</td>\n",
       "      <td>1999-00</td>\n",
       "    </tr>\n",
       "    <tr>\n",
       "      <td>16</td>\n",
       "      <td>LAC CUB</td>\n",
       "      <td>1146</td>\n",
       "      <td>0</td>\n",
       "      <td>0</td>\n",
       "      <td>…</td>\n",
       "      <td>0</td>\n",
       "      <td>1993-27</td>\n",
       "      <td>0</td>\n",
       "      <td>0</td>\n",
       "      <td>0</td>\n",
       "      <td>2004-06</td>\n",
       "      <td>0</td>\n",
       "      <td>1146</td>\n",
       "      <td>0</td>\n",
       "      <td>0</td>\n",
       "      <td>0</td>\n",
       "      <td>1989-10</td>\n",
       "    </tr>\n",
       "    <tr>\n",
       "      <td>17</td>\n",
       "      <td>DOM</td>\n",
       "      <td>62</td>\n",
       "      <td>0</td>\n",
       "      <td>0</td>\n",
       "      <td>…</td>\n",
       "      <td>0</td>\n",
       "      <td>2011-18</td>\n",
       "      <td>0</td>\n",
       "      <td>0</td>\n",
       "      <td>0</td>\n",
       "      <td>2007-45</td>\n",
       "      <td>3</td>\n",
       "      <td>37</td>\n",
       "      <td>0</td>\n",
       "      <td>3</td>\n",
       "      <td>0</td>\n",
       "      <td>…</td>\n",
       "    </tr>\n",
       "    <tr>\n",
       "      <td>18</td>\n",
       "      <td>HTI</td>\n",
       "      <td>126</td>\n",
       "      <td>0</td>\n",
       "      <td>0</td>\n",
       "      <td>…</td>\n",
       "      <td>0</td>\n",
       "      <td>2001-39</td>\n",
       "      <td>0</td>\n",
       "      <td>0</td>\n",
       "      <td>0</td>\n",
       "      <td>2006-21</td>\n",
       "      <td>0</td>\n",
       "      <td>23</td>\n",
       "      <td>14</td>\n",
       "      <td>0</td>\n",
       "      <td>0</td>\n",
       "      <td>…</td>\n",
       "    </tr>\n",
       "    <tr>\n",
       "      <td>19</td>\n",
       "      <td>MEX MEX</td>\n",
       "      <td>1679</td>\n",
       "      <td>0</td>\n",
       "      <td>2</td>\n",
       "      <td>…</td>\n",
       "      <td>2</td>\n",
       "      <td>2019-22</td>\n",
       "      <td>0</td>\n",
       "      <td>0</td>\n",
       "      <td>0</td>\n",
       "      <td>2018-14</td>\n",
       "      <td>0</td>\n",
       "      <td>1336</td>\n",
       "      <td>0</td>\n",
       "      <td>0</td>\n",
       "      <td>0</td>\n",
       "      <td>…</td>\n",
       "    </tr>\n",
       "    <tr>\n",
       "      <td>20</td>\n",
       "      <td>NOA CAN</td>\n",
       "      <td>…</td>\n",
       "      <td>…</td>\n",
       "      <td>61</td>\n",
       "      <td>4</td>\n",
       "      <td>65</td>\n",
       "      <td>2019-20</td>\n",
       "      <td>…</td>\n",
       "      <td>…</td>\n",
       "      <td>…</td>\n",
       "      <td>2016-06</td>\n",
       "      <td>…</td>\n",
       "      <td>…</td>\n",
       "      <td>…</td>\n",
       "      <td>…</td>\n",
       "      <td>…</td>\n",
       "      <td>2018-39</td>\n",
       "    </tr>\n",
       "    <tr>\n",
       "      <td>21</td>\n",
       "      <td>USA</td>\n",
       "      <td>…</td>\n",
       "      <td>…</td>\n",
       "      <td>42</td>\n",
       "      <td>898</td>\n",
       "      <td>981b</td>\n",
       "      <td>2019-22</td>\n",
       "      <td>…</td>\n",
       "      <td>…</td>\n",
       "      <td>…</td>\n",
       "      <td>2017-16</td>\n",
       "      <td>…</td>\n",
       "      <td>…</td>\n",
       "      <td>…</td>\n",
       "      <td>…</td>\n",
       "      <td>…</td>\n",
       "      <td>2017-00</td>\n",
       "    </tr>\n",
       "    <tr>\n",
       "      <td>22</td>\n",
       "      <td>SOC ARG</td>\n",
       "      <td>23</td>\n",
       "      <td>0</td>\n",
       "      <td>4</td>\n",
       "      <td>…</td>\n",
       "      <td>4</td>\n",
       "      <td>2019-14</td>\n",
       "      <td>0</td>\n",
       "      <td>1</td>\n",
       "      <td>1</td>\n",
       "      <td>2019-16</td>\n",
       "      <td>0</td>\n",
       "      <td>18</td>\n",
       "      <td>0</td>\n",
       "      <td>0</td>\n",
       "      <td>0</td>\n",
       "      <td>2009-27</td>\n",
       "    </tr>\n",
       "    <tr>\n",
       "      <td>23</td>\n",
       "      <td>CHL</td>\n",
       "      <td>506</td>\n",
       "      <td>0</td>\n",
       "      <td>4</td>\n",
       "      <td>…</td>\n",
       "      <td>4</td>\n",
       "      <td>2019-18</td>\n",
       "      <td>0</td>\n",
       "      <td>0</td>\n",
       "      <td>0</td>\n",
       "      <td>2011-25</td>\n",
       "      <td>0</td>\n",
       "      <td>470</td>\n",
       "      <td>61</td>\n",
       "      <td>0</td>\n",
       "      <td>0</td>\n",
       "      <td>…</td>\n",
       "    </tr>\n",
       "    <tr>\n",
       "      <td>24</td>\n",
       "      <td>PRY</td>\n",
       "      <td>742</td>\n",
       "      <td>0</td>\n",
       "      <td>0</td>\n",
       "      <td>…</td>\n",
       "      <td>0</td>\n",
       "      <td>1998-44</td>\n",
       "      <td>0</td>\n",
       "      <td>0</td>\n",
       "      <td>0</td>\n",
       "      <td>2005-21</td>\n",
       "      <td>11</td>\n",
       "      <td>394</td>\n",
       "      <td>2</td>\n",
       "      <td>0</td>\n",
       "      <td>0</td>\n",
       "      <td>2003-06</td>\n",
       "    </tr>\n",
       "    <tr>\n",
       "      <td>25</td>\n",
       "      <td>URY</td>\n",
       "      <td>33</td>\n",
       "      <td>0</td>\n",
       "      <td>9</td>\n",
       "      <td>…</td>\n",
       "      <td>9c</td>\n",
       "      <td>2019-19</td>\n",
       "      <td>…</td>\n",
       "      <td>…</td>\n",
       "      <td>…</td>\n",
       "      <td>2001-37</td>\n",
       "      <td>0</td>\n",
       "      <td>23</td>\n",
       "      <td>0</td>\n",
       "      <td>0</td>\n",
       "      <td>…</td>\n",
       "      <td>…</td>\n",
       "    </tr>\n",
       "    <tr>\n",
       "      <td>26</td>\n",
       "      <td>TOTAL</td>\n",
       "      <td>8624</td>\n",
       "      <td>45</td>\n",
       "      <td>516</td>\n",
       "      <td>926</td>\n",
       "      <td>1487</td>\n",
       "      <td>--</td>\n",
       "      <td>0</td>\n",
       "      <td>1</td>\n",
       "      <td>1</td>\n",
       "      <td>--</td>\n",
       "      <td>22</td>\n",
       "      <td>6793</td>\n",
       "      <td>271</td>\n",
       "      <td>0</td>\n",
       "      <td>0</td>\n",
       "      <td>--</td>\n",
       "    </tr>\n",
       "    <tr>\n",
       "      <td>27</td>\n",
       "      <td></td>\n",
       "      <td>*Congenital Rubella Infection.</td>\n",
       "      <td></td>\n",
       "      <td></td>\n",
       "      <td></td>\n",
       "      <td></td>\n",
       "      <td></td>\n",
       "      <td></td>\n",
       "      <td></td>\n",
       "      <td></td>\n",
       "      <td></td>\n",
       "      <td></td>\n",
       "      <td></td>\n",
       "      <td></td>\n",
       "      <td>…No updated report receive</td>\n",
       "      <td></td>\n",
       "      <td></td>\n",
       "    </tr>\n",
       "    <tr>\n",
       "      <td>28</td>\n",
       "      <td></td>\n",
       "      <td>(a) PAHO/ WHO. Epidemiological Update: Measles...</td>\n",
       "      <td></td>\n",
       "      <td></td>\n",
       "      <td></td>\n",
       "      <td></td>\n",
       "      <td></td>\n",
       "      <td></td>\n",
       "      <td></td>\n",
       "      <td></td>\n",
       "      <td></td>\n",
       "      <td></td>\n",
       "      <td></td>\n",
       "      <td></td>\n",
       "      <td></td>\n",
       "      <td></td>\n",
       "      <td></td>\n",
       "    </tr>\n",
       "  </tbody>\n",
       "</table>\n",
       "</div>"
      ],
      "text/plain": [
       "              0                                                  1      2  \\\n",
       "0     Subregion                                              Susp.          \n",
       "1   and Country                                              Cases          \n",
       "2                                                             2019  Clin.   \n",
       "3       AND BOL                                                 37      0   \n",
       "4           COL                                               1289      0   \n",
       "5           ECU                                                  0      0   \n",
       "6           PER                                                227      0   \n",
       "7           VEN                                                  …     32   \n",
       "8       BRA BRA                                               1748     13   \n",
       "9       CAP CRI                                                 34      0   \n",
       "10          GTM                                                156      0   \n",
       "11          HND                                                124      0   \n",
       "12          NIC                                                334      0   \n",
       "13          PAN                                                 29      0   \n",
       "14          SLV                                                186      0   \n",
       "15      CAR CAR                                                143      0   \n",
       "16      LAC CUB                                               1146      0   \n",
       "17          DOM                                                 62      0   \n",
       "18          HTI                                                126      0   \n",
       "19      MEX MEX                                               1679      0   \n",
       "20      NOA CAN                                                  …      …   \n",
       "21          USA                                                  …      …   \n",
       "22      SOC ARG                                                 23      0   \n",
       "23          CHL                                                506      0   \n",
       "24          PRY                                                742      0   \n",
       "25          URY                                                 33      0   \n",
       "26        TOTAL                                               8624     45   \n",
       "27                                  *Congenital Rubella Infection.          \n",
       "28               (a) PAHO/ WHO. Epidemiological Update: Measles...          \n",
       "\n",
       "                    3         4      5                     6      7  \\\n",
       "0   Measles Confirmed                   Year/Week Last Conf.          \n",
       "1                          2019                      Measles          \n",
       "2                Lab.  EPI link  Total                  case  Clin.   \n",
       "3                   0         …      0               2000-40      0   \n",
       "4                 118         …    118               2019-21      0   \n",
       "5                   0         0      0               2018-33      0   \n",
       "6                   2         …      2               2019-17      0   \n",
       "7                 148        23   203a               2019-13      0   \n",
       "8                 114         …    127               2019-20      …   \n",
       "9                  10         …    10a               2019-13      0   \n",
       "10                  0         …      0               2018-03      0   \n",
       "11                  0         …      0               1998-16      0   \n",
       "12                  0         …      0               1994-14      0   \n",
       "13                  0         …      0               2011-20      0   \n",
       "14                  0         …      0               2001-19      0   \n",
       "15                  2         1      3               2019-17      0   \n",
       "16                  0         …      0               1993-27      0   \n",
       "17                  0         …      0               2011-18      0   \n",
       "18                  0         …      0               2001-39      0   \n",
       "19                  2         …      2               2019-22      0   \n",
       "20                 61         4     65               2019-20      …   \n",
       "21                 42       898   981b               2019-22      …   \n",
       "22                  4         …      4               2019-14      0   \n",
       "23                  4         …      4               2019-18      0   \n",
       "24                  0         …      0               1998-44      0   \n",
       "25                  9         …     9c               2019-19      …   \n",
       "26                516       926   1487                    --      0   \n",
       "27                                                                    \n",
       "28                                                                    \n",
       "\n",
       "                         8      9                    10               11  \\\n",
       "0   Rubella Confirmed 2019         Year/Week Last Conf.  Discarded Cases   \n",
       "1                                               Rubella                    \n",
       "2                     Lab.  Total                  Case           Dengue   \n",
       "3                        0      0               2006-03                0   \n",
       "4                        0      0               2012-31                1   \n",
       "5                        0      0               2004-49                0   \n",
       "6                        0      0               2009-04                0   \n",
       "7                        0      0               2007-51                3   \n",
       "8                        …      …               2014-40                0   \n",
       "9                        0      0               2001-39                0   \n",
       "10                       0      0               2006-31                1   \n",
       "11                       0      0               2004-11                0   \n",
       "12                       0      0               2004-19                3   \n",
       "13                       0      0               2002-48                0   \n",
       "14                       0      0               2006-30                0   \n",
       "15                       0      0               2008-18                0   \n",
       "16                       0      0               2004-06                0   \n",
       "17                       0      0               2007-45                3   \n",
       "18                       0      0               2006-21                0   \n",
       "19                       0      0               2018-14                0   \n",
       "20                       …      …               2016-06                …   \n",
       "21                       …      …               2017-16                …   \n",
       "22                       1      1               2019-16                0   \n",
       "23                       0      0               2011-25                0   \n",
       "24                       0      0               2005-21               11   \n",
       "25                       …      …               2001-37                0   \n",
       "26                       1      1                    --               22   \n",
       "27                                                                         \n",
       "28                                                                         \n",
       "\n",
       "        12     13                          14    15          16  \n",
       "0                          Congenital Rubella         Year/Week  \n",
       "1     2019                           Syndrome        Last Conf.  \n",
       "2   Others  Susp.                       Conf.  CRI*    CRS Case  \n",
       "3        5      0                           0     0           …  \n",
       "4     1064    116                           0     0     2005-34  \n",
       "5        0      0                           …     …     2011-14  \n",
       "6      212      0                           0     0     2007-16  \n",
       "7       68     19                           0     0           …  \n",
       "8     1115     22                           0     0     2009-34  \n",
       "9       24     17                           0     0           …  \n",
       "10     151      2                           1     0     2005-00  \n",
       "11     112      3                           0     0     2001-00  \n",
       "12     254     11                           3     0     2005-00  \n",
       "13      25      0                           0     0           …  \n",
       "14     186      0                           0     0     2001-00  \n",
       "15     130      4                           0     0     1999-00  \n",
       "16    1146      0                           0     0     1989-10  \n",
       "17      37      0                           3     0           …  \n",
       "18      23     14                           0     0           …  \n",
       "19    1336      0                           0     0           …  \n",
       "20       …      …                           …     …     2018-39  \n",
       "21       …      …                           …     …     2017-00  \n",
       "22      18      0                           0     0     2009-27  \n",
       "23     470     61                           0     0           …  \n",
       "24     394      2                           0     0     2003-06  \n",
       "25      23      0                           0     …           …  \n",
       "26    6793    271                           0     0          --  \n",
       "27                 …No updated report receive                    \n",
       "28                                                               "
      ]
     },
     "execution_count": 138,
     "metadata": {},
     "output_type": "execute_result"
    }
   ],
   "source": [
    "sme2502.head(35)"
   ]
  },
  {
   "cell_type": "code",
   "execution_count": 146,
   "metadata": {},
   "outputs": [],
   "source": [
    "cols = ['Subregion and Country', 'Susp. Cases 2019',\n",
    "        'Measles Confirmed 2019 Clin.',\n",
    "        'Measles Confirmed 2019 Lab.',\n",
    "        'Measles Confirmed 2019 Total',\n",
    "        'Year/Week Last Conf. Measles case',\n",
    "        'Rubella Confirmed 2019 Clin.',\n",
    "        'Rubella Confirmed 2019 Lab.',\n",
    "        'Rubella Confirmed 2019 Total',\n",
    "        'Year/Week Last Conf. Rubella Case',\n",
    "        'Diagnosis of Discarded Cases 2019 Dengue',\n",
    "        'Diagnosis of Discarded Cases 2019 Others',\n",
    "        'Congenital Rubella Syndrome Susp.',\n",
    "        'Congenital Rubella Syndrome Conf.',\n",
    "        'Congenital Rubella Syndrome CRI*',\n",
    "        'Year/Week Last Conf. CRS Case']\n",
    "\n",
    "cols_w_epi = ['Subregion and Country', 'Susp. Cases 2019',\n",
    "        'Measles Confirmed 2019 Clin.',\n",
    "        'Measles Confirmed 2019 Lab.',\n",
    "        'Measles Confirmed 2019 EPI',\n",
    "        'Measles Confirmed 2019 Total',\n",
    "        'Year/Week Last Conf. Measles case',\n",
    "        'Rubella Confirmed 2019 Clin.',\n",
    "        'Rubella Confirmed 2019 Lab.',\n",
    "        'Rubella Confirmed 2019 Total',\n",
    "        'Year/Week Last Conf. Rubella Case',\n",
    "        'Diagnosis of Discarded Cases 2019 Dengue',\n",
    "        'Diagnosis of Discarded Cases 2019 Others',\n",
    "        'Congenital Rubella Syndrome Susp.',\n",
    "        'Congenital Rubella Syndrome Conf.',\n",
    "        'Congenital Rubella Syndrome CRI*',\n",
    "        'Year/Week Last Conf. CRS Case'\n",
    "]\n",
    "\n",
    "new_cols = ['Subregion', 'Country', 'Susp. Cases 2019',\n",
    "        'Measles Confirmed 2019 Clin.',\n",
    "        'Measles Confirmed 2019 Lab.',\n",
    "        'Measles Confirmed 2019 Total',\n",
    "        'Year/Week Last Conf. Measles case',\n",
    "        'Rubella Confirmed 2019 Clin.',\n",
    "        'Rubella Confirmed 2019 Lab.',\n",
    "        'Rubella Confirmed 2019 Total',\n",
    "        'Year/Week Last Conf. Rubella Case',\n",
    "        'Diagnosis of Discarded Cases 2019 Dengue',\n",
    "        'Diagnosis of Discarded Cases 2019 Others',\n",
    "        'Congenital Rubella Syndrome Susp.',\n",
    "        'Congenital Rubella Syndrome Conf.',\n",
    "        'Congenital Rubella Syndrome CRI*',\n",
    "        'Year/Week Last Conf. CRS Case'\n",
    "]\n",
    "\n",
    "new_cols_w_epi = ['Subregion', 'Country', 'Susp. Cases 2019',\n",
    "        'Measles Confirmed 2019 Clin.',\n",
    "        'Measles Confirmed 2019 Lab.',\n",
    "        'Measles Confirmed 2019 EPI',\n",
    "        'Measles Confirmed 2019 Total',\n",
    "        'Year/Week Last Conf. Measles case',\n",
    "        'Rubella Confirmed 2019 Clin.',\n",
    "        'Rubella Confirmed 2019 Lab.',\n",
    "        'Rubella Confirmed 2019 Total',\n",
    "        'Year/Week Last Conf. Rubella Case',\n",
    "        'Diagnosis of Discarded Cases 2019 Dengue',\n",
    "        'Diagnosis of Discarded Cases 2019 Others',\n",
    "        'Congenital Rubella Syndrome Susp.',\n",
    "        'Congenital Rubella Syndrome Conf.',\n",
    "        'Congenital Rubella Syndrome CRI*',\n",
    "        'Year/Week Last Conf. CRS Case'\n",
    "]"
   ]
  },
  {
   "cell_type": "code",
   "execution_count": 7,
   "metadata": {},
   "outputs": [
    {
     "name": "stderr",
     "output_type": "stream",
     "text": [
      "/Users/trae/.virtualenvs/talus_api/lib/python3.7/site-packages/pandas/core/frame.py:4102: SettingWithCopyWarning: \n",
      "A value is trying to be set on a copy of a slice from a DataFrame\n",
      "\n",
      "See the caveats in the documentation: http://pandas.pydata.org/pandas-docs/stable/user_guide/indexing.html#returning-a-view-versus-a-copy\n",
      "  errors=errors,\n"
     ]
    }
   ],
   "source": [
    "data = sme2502.loc[4:,:]\n",
    "data.drop(10, axis=1, inplace=True)\n",
    "data.columns = cols"
   ]
  },
  {
   "cell_type": "code",
   "execution_count": 8,
   "metadata": {},
   "outputs": [
    {
     "name": "stderr",
     "output_type": "stream",
     "text": [
      "/Users/trae/.virtualenvs/talus_api/lib/python3.7/site-packages/ipykernel_launcher.py:2: SettingWithCopyWarning: \n",
      "A value is trying to be set on a copy of a slice from a DataFrame.\n",
      "Try using .loc[row_indexer,col_indexer] = value instead\n",
      "\n",
      "See the caveats in the documentation: http://pandas.pydata.org/pandas-docs/stable/user_guide/indexing.html#returning-a-view-versus-a-copy\n",
      "  \n",
      "/Users/trae/.virtualenvs/talus_api/lib/python3.7/site-packages/ipykernel_launcher.py:3: SettingWithCopyWarning: \n",
      "A value is trying to be set on a copy of a slice from a DataFrame.\n",
      "Try using .loc[row_indexer,col_indexer] = value instead\n",
      "\n",
      "See the caveats in the documentation: http://pandas.pydata.org/pandas-docs/stable/user_guide/indexing.html#returning-a-view-versus-a-copy\n",
      "  This is separate from the ipykernel package so we can avoid doing imports until\n"
     ]
    }
   ],
   "source": [
    "new = data['Subregion and Country'].str.split(' ', n=1, expand=True) \n",
    "data['Subregion']= new[0] \n",
    "data['Country']= new[1] \n",
    "\n",
    "data.drop(columns =['Subregion and Country'], inplace = True)"
   ]
  },
  {
   "cell_type": "code",
   "execution_count": 9,
   "metadata": {},
   "outputs": [],
   "source": [
    "data = data[new_cols]"
   ]
  },
  {
   "cell_type": "code",
   "execution_count": 10,
   "metadata": {},
   "outputs": [],
   "source": [
    "data['Country'] = np.where([i is None for i in data['Country'].tolist()], data['Subregion'], data['Country'])"
   ]
  },
  {
   "cell_type": "code",
   "execution_count": 11,
   "metadata": {},
   "outputs": [
    {
     "data": {
      "text/html": [
       "<div>\n",
       "<style scoped>\n",
       "    .dataframe tbody tr th:only-of-type {\n",
       "        vertical-align: middle;\n",
       "    }\n",
       "\n",
       "    .dataframe tbody tr th {\n",
       "        vertical-align: top;\n",
       "    }\n",
       "\n",
       "    .dataframe thead th {\n",
       "        text-align: right;\n",
       "    }\n",
       "</style>\n",
       "<table border=\"1\" class=\"dataframe\">\n",
       "  <thead>\n",
       "    <tr style=\"text-align: right;\">\n",
       "      <th></th>\n",
       "      <th>Subregion</th>\n",
       "      <th>Country</th>\n",
       "      <th>Susp. Cases 2019</th>\n",
       "      <th>Measles Confirmed 2019 Clin.</th>\n",
       "      <th>Measles Confirmed 2019 Lab.</th>\n",
       "      <th>Measles Confirmed 2019 Total</th>\n",
       "      <th>Year/Week Last Conf. Measles case</th>\n",
       "      <th>Rubella Confirmed 2019 Clin.</th>\n",
       "      <th>Rubella Confirmed 2019 Lab.</th>\n",
       "      <th>Rubella Confirmed 2019 Total</th>\n",
       "      <th>Year/Week Last Conf. Rubella Case</th>\n",
       "      <th>Diagnosis of Discarded Cases 2019 Dengue</th>\n",
       "      <th>Diagnosis of Discarded Cases 2019 Others</th>\n",
       "      <th>Congenital Rubella Syndrome Susp.</th>\n",
       "      <th>Congenital Rubella Syndrome Conf.</th>\n",
       "      <th>Congenital Rubella Syndrome CRI*</th>\n",
       "      <th>Year/Week Last Conf. CRS Case</th>\n",
       "    </tr>\n",
       "  </thead>\n",
       "  <tbody>\n",
       "    <tr>\n",
       "      <td>4</td>\n",
       "      <td>AND</td>\n",
       "      <td>BOL</td>\n",
       "      <td>…</td>\n",
       "      <td>0</td>\n",
       "      <td>0</td>\n",
       "      <td>0</td>\n",
       "      <td>2000-40</td>\n",
       "      <td>0</td>\n",
       "      <td>0</td>\n",
       "      <td>0</td>\n",
       "      <td>2006-03</td>\n",
       "      <td></td>\n",
       "      <td>0</td>\n",
       "      <td>0</td>\n",
       "      <td>0</td>\n",
       "      <td>0</td>\n",
       "      <td>…</td>\n",
       "    </tr>\n",
       "    <tr>\n",
       "      <td>5</td>\n",
       "      <td>COL</td>\n",
       "      <td>COL</td>\n",
       "      <td>8</td>\n",
       "      <td>0</td>\n",
       "      <td>3</td>\n",
       "      <td>3</td>\n",
       "      <td>2019-02</td>\n",
       "      <td>0</td>\n",
       "      <td>0</td>\n",
       "      <td>0</td>\n",
       "      <td>2012-31</td>\n",
       "      <td></td>\n",
       "      <td>4</td>\n",
       "      <td>8</td>\n",
       "      <td>0</td>\n",
       "      <td>0</td>\n",
       "      <td>2005-34</td>\n",
       "    </tr>\n",
       "    <tr>\n",
       "      <td>6</td>\n",
       "      <td>ECU</td>\n",
       "      <td>ECU</td>\n",
       "      <td>…</td>\n",
       "      <td>0</td>\n",
       "      <td>0</td>\n",
       "      <td>0</td>\n",
       "      <td>2018-33</td>\n",
       "      <td>0</td>\n",
       "      <td>0</td>\n",
       "      <td>0</td>\n",
       "      <td>2004-49</td>\n",
       "      <td></td>\n",
       "      <td>0</td>\n",
       "      <td>0</td>\n",
       "      <td>0</td>\n",
       "      <td>0</td>\n",
       "      <td>2011-14</td>\n",
       "    </tr>\n",
       "    <tr>\n",
       "      <td>7</td>\n",
       "      <td>PER</td>\n",
       "      <td>PER</td>\n",
       "      <td>2</td>\n",
       "      <td>0</td>\n",
       "      <td>0</td>\n",
       "      <td>0</td>\n",
       "      <td>2018-41</td>\n",
       "      <td>0</td>\n",
       "      <td>0</td>\n",
       "      <td>0</td>\n",
       "      <td>2009-04</td>\n",
       "      <td></td>\n",
       "      <td>0</td>\n",
       "      <td>0</td>\n",
       "      <td>0</td>\n",
       "      <td>0</td>\n",
       "      <td>2007-16</td>\n",
       "    </tr>\n",
       "    <tr>\n",
       "      <td>8</td>\n",
       "      <td>VEN</td>\n",
       "      <td>VEN</td>\n",
       "      <td>2</td>\n",
       "      <td>0</td>\n",
       "      <td>0</td>\n",
       "      <td>0</td>\n",
       "      <td>2018-52</td>\n",
       "      <td>…</td>\n",
       "      <td>…</td>\n",
       "      <td>…</td>\n",
       "      <td>2007-51</td>\n",
       "      <td></td>\n",
       "      <td>2</td>\n",
       "      <td>0</td>\n",
       "      <td>0</td>\n",
       "      <td>0</td>\n",
       "      <td>…</td>\n",
       "    </tr>\n",
       "    <tr>\n",
       "      <td>9</td>\n",
       "      <td>BRA</td>\n",
       "      <td>BRA</td>\n",
       "      <td>…</td>\n",
       "      <td>0</td>\n",
       "      <td>0</td>\n",
       "      <td>0</td>\n",
       "      <td>2018-50</td>\n",
       "      <td>0</td>\n",
       "      <td>0</td>\n",
       "      <td>0</td>\n",
       "      <td>2014-40</td>\n",
       "      <td></td>\n",
       "      <td>0</td>\n",
       "      <td>0</td>\n",
       "      <td>0</td>\n",
       "      <td>0</td>\n",
       "      <td>2009-34</td>\n",
       "    </tr>\n",
       "    <tr>\n",
       "      <td>10</td>\n",
       "      <td>CAP</td>\n",
       "      <td>CRI</td>\n",
       "      <td>0</td>\n",
       "      <td>0</td>\n",
       "      <td>0</td>\n",
       "      <td>0</td>\n",
       "      <td>2014-09</td>\n",
       "      <td>0</td>\n",
       "      <td>0</td>\n",
       "      <td>0</td>\n",
       "      <td>2001-39</td>\n",
       "      <td></td>\n",
       "      <td>0</td>\n",
       "      <td>0</td>\n",
       "      <td>0</td>\n",
       "      <td>0</td>\n",
       "      <td>…</td>\n",
       "    </tr>\n",
       "    <tr>\n",
       "      <td>11</td>\n",
       "      <td>GTM</td>\n",
       "      <td>GTM</td>\n",
       "      <td>2</td>\n",
       "      <td>0</td>\n",
       "      <td>0</td>\n",
       "      <td>0</td>\n",
       "      <td>2018-03</td>\n",
       "      <td>0</td>\n",
       "      <td>0</td>\n",
       "      <td>0</td>\n",
       "      <td>2006-31</td>\n",
       "      <td></td>\n",
       "      <td>1</td>\n",
       "      <td>0</td>\n",
       "      <td>0</td>\n",
       "      <td>0</td>\n",
       "      <td>2005-00</td>\n",
       "    </tr>\n",
       "    <tr>\n",
       "      <td>12</td>\n",
       "      <td>HND</td>\n",
       "      <td>HND</td>\n",
       "      <td>3</td>\n",
       "      <td>0</td>\n",
       "      <td>0</td>\n",
       "      <td>0</td>\n",
       "      <td>1998-16</td>\n",
       "      <td>0</td>\n",
       "      <td>0</td>\n",
       "      <td>0</td>\n",
       "      <td>2004-11</td>\n",
       "      <td></td>\n",
       "      <td>3</td>\n",
       "      <td>22</td>\n",
       "      <td>0</td>\n",
       "      <td>0</td>\n",
       "      <td>2001-00</td>\n",
       "    </tr>\n",
       "    <tr>\n",
       "      <td>13</td>\n",
       "      <td>NIC</td>\n",
       "      <td>NIC</td>\n",
       "      <td>5</td>\n",
       "      <td>0</td>\n",
       "      <td>0</td>\n",
       "      <td>0</td>\n",
       "      <td>1994-14</td>\n",
       "      <td>0</td>\n",
       "      <td>0</td>\n",
       "      <td>0</td>\n",
       "      <td>2004-19</td>\n",
       "      <td></td>\n",
       "      <td>2</td>\n",
       "      <td>1</td>\n",
       "      <td>0</td>\n",
       "      <td>0</td>\n",
       "      <td>2005-00</td>\n",
       "    </tr>\n",
       "    <tr>\n",
       "      <td>14</td>\n",
       "      <td>PAN</td>\n",
       "      <td>PAN</td>\n",
       "      <td>…</td>\n",
       "      <td>0</td>\n",
       "      <td>0</td>\n",
       "      <td>0</td>\n",
       "      <td>2011-20</td>\n",
       "      <td>0</td>\n",
       "      <td>0</td>\n",
       "      <td>0</td>\n",
       "      <td>2002-48</td>\n",
       "      <td></td>\n",
       "      <td>0</td>\n",
       "      <td>0</td>\n",
       "      <td>0</td>\n",
       "      <td>0</td>\n",
       "      <td>…</td>\n",
       "    </tr>\n",
       "    <tr>\n",
       "      <td>15</td>\n",
       "      <td>SLV</td>\n",
       "      <td>SLV</td>\n",
       "      <td>…</td>\n",
       "      <td>0</td>\n",
       "      <td>0</td>\n",
       "      <td>0</td>\n",
       "      <td>2001-19</td>\n",
       "      <td>0</td>\n",
       "      <td>0</td>\n",
       "      <td>0</td>\n",
       "      <td>2006-30</td>\n",
       "      <td></td>\n",
       "      <td>0</td>\n",
       "      <td>0</td>\n",
       "      <td>0</td>\n",
       "      <td>0</td>\n",
       "      <td>2001-00</td>\n",
       "    </tr>\n",
       "    <tr>\n",
       "      <td>16</td>\n",
       "      <td>CAR</td>\n",
       "      <td>CAR</td>\n",
       "      <td>1</td>\n",
       "      <td>0</td>\n",
       "      <td>0</td>\n",
       "      <td>0</td>\n",
       "      <td>2018-03</td>\n",
       "      <td>0</td>\n",
       "      <td>0</td>\n",
       "      <td>0</td>\n",
       "      <td>2008-18</td>\n",
       "      <td></td>\n",
       "      <td>1</td>\n",
       "      <td>0</td>\n",
       "      <td>0</td>\n",
       "      <td>0</td>\n",
       "      <td>1999-00</td>\n",
       "    </tr>\n",
       "    <tr>\n",
       "      <td>17</td>\n",
       "      <td>LAC</td>\n",
       "      <td>CUB</td>\n",
       "      <td>…</td>\n",
       "      <td>0</td>\n",
       "      <td>0</td>\n",
       "      <td>0</td>\n",
       "      <td>1993-27</td>\n",
       "      <td>0</td>\n",
       "      <td>0</td>\n",
       "      <td>0</td>\n",
       "      <td>2004-06</td>\n",
       "      <td></td>\n",
       "      <td>0</td>\n",
       "      <td>0</td>\n",
       "      <td>0</td>\n",
       "      <td>0</td>\n",
       "      <td>1989-10</td>\n",
       "    </tr>\n",
       "    <tr>\n",
       "      <td>18</td>\n",
       "      <td>DOM</td>\n",
       "      <td>DOM</td>\n",
       "      <td>0</td>\n",
       "      <td>0</td>\n",
       "      <td>0</td>\n",
       "      <td>0</td>\n",
       "      <td>2011-18</td>\n",
       "      <td>0</td>\n",
       "      <td>0</td>\n",
       "      <td>0</td>\n",
       "      <td>2007-45</td>\n",
       "      <td></td>\n",
       "      <td>0</td>\n",
       "      <td>0</td>\n",
       "      <td>0</td>\n",
       "      <td>0</td>\n",
       "      <td>…</td>\n",
       "    </tr>\n",
       "    <tr>\n",
       "      <td>19</td>\n",
       "      <td>HTI</td>\n",
       "      <td>HTI</td>\n",
       "      <td>0</td>\n",
       "      <td>0</td>\n",
       "      <td>0</td>\n",
       "      <td>0</td>\n",
       "      <td>2001-39</td>\n",
       "      <td>0</td>\n",
       "      <td>0</td>\n",
       "      <td>0</td>\n",
       "      <td>2006-21</td>\n",
       "      <td></td>\n",
       "      <td>9</td>\n",
       "      <td>0</td>\n",
       "      <td>0</td>\n",
       "      <td>0</td>\n",
       "      <td>…</td>\n",
       "    </tr>\n",
       "    <tr>\n",
       "      <td>20</td>\n",
       "      <td>MEX</td>\n",
       "      <td>MEX</td>\n",
       "      <td>20</td>\n",
       "      <td>0</td>\n",
       "      <td>0</td>\n",
       "      <td>0</td>\n",
       "      <td>2018-16</td>\n",
       "      <td>0</td>\n",
       "      <td>0</td>\n",
       "      <td>0</td>\n",
       "      <td>2018-14</td>\n",
       "      <td></td>\n",
       "      <td>0</td>\n",
       "      <td>0</td>\n",
       "      <td>0</td>\n",
       "      <td>0</td>\n",
       "      <td>…</td>\n",
       "    </tr>\n",
       "    <tr>\n",
       "      <td>21</td>\n",
       "      <td>NOA</td>\n",
       "      <td>CAN</td>\n",
       "      <td>…</td>\n",
       "      <td>0</td>\n",
       "      <td>1</td>\n",
       "      <td>1</td>\n",
       "      <td>2019-02</td>\n",
       "      <td>…</td>\n",
       "      <td>…</td>\n",
       "      <td>…</td>\n",
       "      <td>2016-06</td>\n",
       "      <td></td>\n",
       "      <td>…</td>\n",
       "      <td>…</td>\n",
       "      <td>…</td>\n",
       "      <td>…</td>\n",
       "      <td>2018-39</td>\n",
       "    </tr>\n",
       "    <tr>\n",
       "      <td>22</td>\n",
       "      <td>USA</td>\n",
       "      <td>USA</td>\n",
       "      <td>…</td>\n",
       "      <td>0</td>\n",
       "      <td>0</td>\n",
       "      <td>0</td>\n",
       "      <td>2018-48</td>\n",
       "      <td>…</td>\n",
       "      <td>…</td>\n",
       "      <td>…</td>\n",
       "      <td>2017-16</td>\n",
       "      <td></td>\n",
       "      <td>…</td>\n",
       "      <td>…</td>\n",
       "      <td>…</td>\n",
       "      <td>…</td>\n",
       "      <td>2017-00</td>\n",
       "    </tr>\n",
       "    <tr>\n",
       "      <td>23</td>\n",
       "      <td>SOC</td>\n",
       "      <td>ARG</td>\n",
       "      <td>0</td>\n",
       "      <td>0</td>\n",
       "      <td>0</td>\n",
       "      <td>0</td>\n",
       "      <td>2018-39</td>\n",
       "      <td>0</td>\n",
       "      <td>0</td>\n",
       "      <td>0</td>\n",
       "      <td>2014-22</td>\n",
       "      <td></td>\n",
       "      <td>4</td>\n",
       "      <td>0</td>\n",
       "      <td>0</td>\n",
       "      <td>0</td>\n",
       "      <td>2009-27</td>\n",
       "    </tr>\n",
       "    <tr>\n",
       "      <td>24</td>\n",
       "      <td>CHL</td>\n",
       "      <td>CHL</td>\n",
       "      <td>13</td>\n",
       "      <td>0</td>\n",
       "      <td>1</td>\n",
       "      <td>1</td>\n",
       "      <td>2019-01</td>\n",
       "      <td>0</td>\n",
       "      <td>0</td>\n",
       "      <td>0</td>\n",
       "      <td>2011-25</td>\n",
       "      <td></td>\n",
       "      <td>10</td>\n",
       "      <td>0</td>\n",
       "      <td>0</td>\n",
       "      <td>0</td>\n",
       "      <td>…</td>\n",
       "    </tr>\n",
       "    <tr>\n",
       "      <td>25</td>\n",
       "      <td>PRY</td>\n",
       "      <td>PRY</td>\n",
       "      <td>24</td>\n",
       "      <td>0</td>\n",
       "      <td>0</td>\n",
       "      <td>0</td>\n",
       "      <td>1998-44</td>\n",
       "      <td>0</td>\n",
       "      <td>0</td>\n",
       "      <td>0</td>\n",
       "      <td>2005-21</td>\n",
       "      <td></td>\n",
       "      <td>0</td>\n",
       "      <td>0</td>\n",
       "      <td>0</td>\n",
       "      <td>0</td>\n",
       "      <td>2003-06</td>\n",
       "    </tr>\n",
       "    <tr>\n",
       "      <td>26</td>\n",
       "      <td>URY</td>\n",
       "      <td>URY</td>\n",
       "      <td>…</td>\n",
       "      <td>0</td>\n",
       "      <td>0</td>\n",
       "      <td>0</td>\n",
       "      <td>1999-08</td>\n",
       "      <td>0</td>\n",
       "      <td>0</td>\n",
       "      <td>0</td>\n",
       "      <td>2001-37</td>\n",
       "      <td></td>\n",
       "      <td>0</td>\n",
       "      <td>0</td>\n",
       "      <td>0</td>\n",
       "      <td>0</td>\n",
       "      <td>…</td>\n",
       "    </tr>\n",
       "    <tr>\n",
       "      <td>27</td>\n",
       "      <td>TOTAL</td>\n",
       "      <td>TOTAL</td>\n",
       "      <td>80</td>\n",
       "      <td>0</td>\n",
       "      <td>5</td>\n",
       "      <td>5</td>\n",
       "      <td>--</td>\n",
       "      <td>0</td>\n",
       "      <td>0</td>\n",
       "      <td>0</td>\n",
       "      <td>--</td>\n",
       "      <td></td>\n",
       "      <td>36</td>\n",
       "      <td>31</td>\n",
       "      <td>0</td>\n",
       "      <td>0</td>\n",
       "      <td>--</td>\n",
       "    </tr>\n",
       "  </tbody>\n",
       "</table>\n",
       "</div>"
      ],
      "text/plain": [
       "   Subregion Country Susp. Cases 2019 Measles Confirmed 2019 Clin.  \\\n",
       "4        AND     BOL                …                            0   \n",
       "5        COL     COL                8                            0   \n",
       "6        ECU     ECU                …                            0   \n",
       "7        PER     PER                2                            0   \n",
       "8        VEN     VEN                2                            0   \n",
       "9        BRA     BRA                …                            0   \n",
       "10       CAP     CRI                0                            0   \n",
       "11       GTM     GTM                2                            0   \n",
       "12       HND     HND                3                            0   \n",
       "13       NIC     NIC                5                            0   \n",
       "14       PAN     PAN                …                            0   \n",
       "15       SLV     SLV                …                            0   \n",
       "16       CAR     CAR                1                            0   \n",
       "17       LAC     CUB                …                            0   \n",
       "18       DOM     DOM                0                            0   \n",
       "19       HTI     HTI                0                            0   \n",
       "20       MEX     MEX               20                            0   \n",
       "21       NOA     CAN                …                            0   \n",
       "22       USA     USA                …                            0   \n",
       "23       SOC     ARG                0                            0   \n",
       "24       CHL     CHL               13                            0   \n",
       "25       PRY     PRY               24                            0   \n",
       "26       URY     URY                …                            0   \n",
       "27     TOTAL   TOTAL               80                            0   \n",
       "\n",
       "   Measles Confirmed 2019 Lab. Measles Confirmed 2019 Total  \\\n",
       "4                            0                            0   \n",
       "5                            3                            3   \n",
       "6                            0                            0   \n",
       "7                            0                            0   \n",
       "8                            0                            0   \n",
       "9                            0                            0   \n",
       "10                           0                            0   \n",
       "11                           0                            0   \n",
       "12                           0                            0   \n",
       "13                           0                            0   \n",
       "14                           0                            0   \n",
       "15                           0                            0   \n",
       "16                           0                            0   \n",
       "17                           0                            0   \n",
       "18                           0                            0   \n",
       "19                           0                            0   \n",
       "20                           0                            0   \n",
       "21                           1                            1   \n",
       "22                           0                            0   \n",
       "23                           0                            0   \n",
       "24                           1                            1   \n",
       "25                           0                            0   \n",
       "26                           0                            0   \n",
       "27                           5                            5   \n",
       "\n",
       "   Year/Week Last Conf. Measles case Rubella Confirmed 2019 Clin.  \\\n",
       "4                            2000-40                            0   \n",
       "5                            2019-02                            0   \n",
       "6                            2018-33                            0   \n",
       "7                            2018-41                            0   \n",
       "8                            2018-52                            …   \n",
       "9                            2018-50                            0   \n",
       "10                           2014-09                            0   \n",
       "11                           2018-03                            0   \n",
       "12                           1998-16                            0   \n",
       "13                           1994-14                            0   \n",
       "14                           2011-20                            0   \n",
       "15                           2001-19                            0   \n",
       "16                           2018-03                            0   \n",
       "17                           1993-27                            0   \n",
       "18                           2011-18                            0   \n",
       "19                           2001-39                            0   \n",
       "20                           2018-16                            0   \n",
       "21                           2019-02                            …   \n",
       "22                           2018-48                            …   \n",
       "23                           2018-39                            0   \n",
       "24                           2019-01                            0   \n",
       "25                           1998-44                            0   \n",
       "26                           1999-08                            0   \n",
       "27                                --                            0   \n",
       "\n",
       "   Rubella Confirmed 2019 Lab. Rubella Confirmed 2019 Total  \\\n",
       "4                            0                            0   \n",
       "5                            0                            0   \n",
       "6                            0                            0   \n",
       "7                            0                            0   \n",
       "8                            …                            …   \n",
       "9                            0                            0   \n",
       "10                           0                            0   \n",
       "11                           0                            0   \n",
       "12                           0                            0   \n",
       "13                           0                            0   \n",
       "14                           0                            0   \n",
       "15                           0                            0   \n",
       "16                           0                            0   \n",
       "17                           0                            0   \n",
       "18                           0                            0   \n",
       "19                           0                            0   \n",
       "20                           0                            0   \n",
       "21                           …                            …   \n",
       "22                           …                            …   \n",
       "23                           0                            0   \n",
       "24                           0                            0   \n",
       "25                           0                            0   \n",
       "26                           0                            0   \n",
       "27                           0                            0   \n",
       "\n",
       "   Year/Week Last Conf. Rubella Case Diagnosis of Discarded Cases 2019 Dengue  \\\n",
       "4                            2006-03                                            \n",
       "5                            2012-31                                            \n",
       "6                            2004-49                                            \n",
       "7                            2009-04                                            \n",
       "8                            2007-51                                            \n",
       "9                            2014-40                                            \n",
       "10                           2001-39                                            \n",
       "11                           2006-31                                            \n",
       "12                           2004-11                                            \n",
       "13                           2004-19                                            \n",
       "14                           2002-48                                            \n",
       "15                           2006-30                                            \n",
       "16                           2008-18                                            \n",
       "17                           2004-06                                            \n",
       "18                           2007-45                                            \n",
       "19                           2006-21                                            \n",
       "20                           2018-14                                            \n",
       "21                           2016-06                                            \n",
       "22                           2017-16                                            \n",
       "23                           2014-22                                            \n",
       "24                           2011-25                                            \n",
       "25                           2005-21                                            \n",
       "26                           2001-37                                            \n",
       "27                                --                                            \n",
       "\n",
       "   Diagnosis of Discarded Cases 2019 Others Congenital Rubella Syndrome Susp.  \\\n",
       "4                                         0                                 0   \n",
       "5                                         4                                 8   \n",
       "6                                         0                                 0   \n",
       "7                                         0                                 0   \n",
       "8                                         2                                 0   \n",
       "9                                         0                                 0   \n",
       "10                                        0                                 0   \n",
       "11                                        1                                 0   \n",
       "12                                        3                                22   \n",
       "13                                        2                                 1   \n",
       "14                                        0                                 0   \n",
       "15                                        0                                 0   \n",
       "16                                        1                                 0   \n",
       "17                                        0                                 0   \n",
       "18                                        0                                 0   \n",
       "19                                        9                                 0   \n",
       "20                                        0                                 0   \n",
       "21                                        …                                 …   \n",
       "22                                        …                                 …   \n",
       "23                                        4                                 0   \n",
       "24                                       10                                 0   \n",
       "25                                        0                                 0   \n",
       "26                                        0                                 0   \n",
       "27                                       36                                31   \n",
       "\n",
       "   Congenital Rubella Syndrome Conf. Congenital Rubella Syndrome CRI*  \\\n",
       "4                                  0                                0   \n",
       "5                                  0                                0   \n",
       "6                                  0                                0   \n",
       "7                                  0                                0   \n",
       "8                                  0                                0   \n",
       "9                                  0                                0   \n",
       "10                                 0                                0   \n",
       "11                                 0                                0   \n",
       "12                                 0                                0   \n",
       "13                                 0                                0   \n",
       "14                                 0                                0   \n",
       "15                                 0                                0   \n",
       "16                                 0                                0   \n",
       "17                                 0                                0   \n",
       "18                                 0                                0   \n",
       "19                                 0                                0   \n",
       "20                                 0                                0   \n",
       "21                                 …                                …   \n",
       "22                                 …                                …   \n",
       "23                                 0                                0   \n",
       "24                                 0                                0   \n",
       "25                                 0                                0   \n",
       "26                                 0                                0   \n",
       "27                                 0                                0   \n",
       "\n",
       "   Year/Week Last Conf. CRS Case  \n",
       "4                              …  \n",
       "5                        2005-34  \n",
       "6                        2011-14  \n",
       "7                        2007-16  \n",
       "8                              …  \n",
       "9                        2009-34  \n",
       "10                             …  \n",
       "11                       2005-00  \n",
       "12                       2001-00  \n",
       "13                       2005-00  \n",
       "14                             …  \n",
       "15                       2001-00  \n",
       "16                       1999-00  \n",
       "17                       1989-10  \n",
       "18                             …  \n",
       "19                             …  \n",
       "20                             …  \n",
       "21                       2018-39  \n",
       "22                       2017-00  \n",
       "23                       2009-27  \n",
       "24                             …  \n",
       "25                       2003-06  \n",
       "26                             …  \n",
       "27                            --  "
      ]
     },
     "execution_count": 11,
     "metadata": {},
     "output_type": "execute_result"
    }
   ],
   "source": [
    "data.head(25)"
   ]
  },
  {
   "cell_type": "code",
   "execution_count": 16,
   "metadata": {},
   "outputs": [
    {
     "data": {
      "text/html": [
       "<div>\n",
       "<style scoped>\n",
       "    .dataframe tbody tr th:only-of-type {\n",
       "        vertical-align: middle;\n",
       "    }\n",
       "\n",
       "    .dataframe tbody tr th {\n",
       "        vertical-align: top;\n",
       "    }\n",
       "\n",
       "    .dataframe thead th {\n",
       "        text-align: right;\n",
       "    }\n",
       "</style>\n",
       "<table border=\"1\" class=\"dataframe\">\n",
       "  <thead>\n",
       "    <tr style=\"text-align: right;\">\n",
       "      <th></th>\n",
       "      <th>Susp. Cases 2019</th>\n",
       "      <th>Measles Confirmed 2019 Clin.</th>\n",
       "      <th>Measles Confirmed 2019 Lab.</th>\n",
       "      <th>Measles Confirmed 2019 Total</th>\n",
       "    </tr>\n",
       "  </thead>\n",
       "  <tbody>\n",
       "    <tr>\n",
       "      <td>8</td>\n",
       "      <td>2</td>\n",
       "      <td>0</td>\n",
       "      <td>0</td>\n",
       "      <td>0</td>\n",
       "    </tr>\n",
       "  </tbody>\n",
       "</table>\n",
       "</div>"
      ],
      "text/plain": [
       "  Susp. Cases 2019 Measles Confirmed 2019 Clin. Measles Confirmed 2019 Lab.  \\\n",
       "8                2                            0                           0   \n",
       "\n",
       "  Measles Confirmed 2019 Total  \n",
       "8                            0  "
      ]
     },
     "execution_count": 16,
     "metadata": {},
     "output_type": "execute_result"
    }
   ],
   "source": [
    "data.loc[(data.Country == 'VEN'), ['Susp. Cases 2019',\t'Measles Confirmed 2019 Clin.', 'Measles Confirmed 2019 Lab.', 'Measles Confirmed 2019 Total']]"
   ]
  },
  {
   "cell_type": "code",
   "execution_count": 12,
   "metadata": {},
   "outputs": [
    {
     "name": "stderr",
     "output_type": "stream",
     "text": [
      "/Users/trae/.virtualenvs/talus_api/lib/python3.7/site-packages/urllib3/connectionpool.py:851: InsecureRequestWarning: Unverified HTTPS request is being made. Adding certificate verification is strongly advised. See: https://urllib3.readthedocs.io/en/latest/advanced-usage.html#ssl-warnings\n",
      "  InsecureRequestWarning)\n"
     ]
    }
   ],
   "source": [
    "list_html = requests.get('https://www.paho.org/hq/index.php?option=com_content&view=article&id=730:2009-measlesrubella-weekly-bulletin&Itemid=39426&lang=en', verify=False).text"
   ]
  },
  {
   "cell_type": "code",
   "execution_count": 13,
   "metadata": {},
   "outputs": [],
   "source": [
    "list_soup = bs4.BeautifulSoup(list_html,'lxml')"
   ]
  },
  {
   "cell_type": "code",
   "execution_count": 26,
   "metadata": {},
   "outputs": [],
   "source": [
    "test_match = re.compile('Measles/Rubella Weekly Bulletin \\(([0-9]+)\\) - (\\d+) (\\w+) (\\d+)$')"
   ]
  },
  {
   "cell_type": "code",
   "execution_count": 27,
   "metadata": {},
   "outputs": [
    {
     "name": "stdout",
     "output_type": "stream",
     "text": [
      "<re.Match object; span=(0, 53), match='Measles/Rubella Weekly Bulletin (53) - 3 January >\n"
     ]
    }
   ],
   "source": [
    "print(test_match.match('Measles/Rubella Weekly Bulletin (53) - 3 January 2009'))"
   ]
  },
  {
   "cell_type": "code",
   "execution_count": 88,
   "metadata": {},
   "outputs": [],
   "source": [
    "no_slash_match = re.compile('Measles Rubella Weekly Bulletin \\(([0-9]+)\\) -\\s+(\\d+) (\\w+) (\\d+)$')"
   ]
  },
  {
   "cell_type": "code",
   "execution_count": 86,
   "metadata": {},
   "outputs": [],
   "source": [
    "report_list_2 = []"
   ]
  },
  {
   "cell_type": "code",
   "execution_count": 85,
   "metadata": {
    "scrolled": true
   },
   "outputs": [
    {
     "name": "stdout",
     "output_type": "stream",
     "text": [
      "text:, link: /hq/index.php?lang=en\n",
      "text:\n",
      "                                            English                                    , link: https://www.paho.org/hq/index.php?option=com_content&view=article&id=730:2009-measlesrubella-weekly-bulletin&Itemid=39426&lang=en\n",
      "text:\n",
      "                                            Español                                    , link: https://www.paho.org/hq/index.php?option=com_content&view=article&id=730:2009-measlesrubella-weekly-bulletin&Itemid=39426&lang=es\n",
      "text:\n",
      "                                            English                                    , link: https://www.paho.org/hq/index.php?option=com_content&view=article&id=730:2009-measlesrubella-weekly-bulletin&Itemid=39426&lang=en\n",
      "text:\n",
      "                                            Español                                    , link: https://www.paho.org/hq/index.php?option=com_content&view=article&id=730:2009-measlesrubella-weekly-bulletin&Itemid=39426&lang=es\n",
      "text:  Find us on Facebook, link: https://www.facebook.com/PAHOWHO\n",
      "text: Find us on Twitter, link: https://twitter.com/pahowho\n",
      "text: Find us on Instagram, link: https://www.instagram.com/opspaho/\n",
      "text:  Find us on LinkedIn , link: https://www.linkedin.com/company/pan-american-health-organization\n",
      "text: Find us on Youtube, link: https://www.youtube.com/pahopin\n",
      "text: Find us on Flickr, link: https://www.flickr.com/photos/87642443@N05/\n",
      "text: RSS, link: /hq/index.php?format=feed&type=rss\n",
      "text:Home, link: /hq/index.php?option=com_content&view=featured&Itemid=101&lang=en\n",
      "text:Topics, link: /hq/index.php?option=com_topics&view=topics&Itemid=40241&lang=en\n",
      "text:Programs, link: /hq/index.php?option=com_pronpro&view=pronpro&Itemid=298&lang=en\n",
      "text:Media, link: /hq/index.php?option=com_content&view=article&id=964&Itemid=958&lang=en\n",
      "text:Publications, link: /hq/index.php?option=com_content&view=article&id=1245&Itemid=1497&lang=en\n",
      "text:Data, link: http://www.paho.org/data/index.php/en/\n",
      "text:Countries & Centers, link: /hq/index.php?option=com_wrapper&view=wrapper&Itemid=2005&lang=en\n",
      "text:Governing Bodies, link: /hq/index.php?option=com_content&view=article&id=42&Itemid=419&lang=en\n",
      "text:About PAHO, link: /hq/index.php?option=com_content&view=article&id=91&Itemid=220&lang=en\n",
      "text:Home, link: /hq/index.php?option=com_content&view=featured&Itemid=101&lang=en\n",
      "text:Home, link: /hq/index.php?option=com_content&view=article&id=5022&Itemid=358&lang=en\n",
      "text:Regional Immunization Action Plan, link: /hq/index.php?option=com_content&view=article&id=13101&Itemid=42296&lang=en\n",
      "text:Vaccine-Preventable Diseases, link: /hq/index.php?option=com_content&view=article&id=1865&Itemid=1899&lang=en\n",
      "text:Data and Statistics, link: /hq/index.php?option=com_content&view=article&id=2043&Itemid=2032&lang=en\n",
      "text:Publications, link: /hq/index.php?option=com_content&view=article&id=278&Itemid=39427&lang=en\n",
      "text:PAHO Immunization Awards, link: /hq/index.php?option=com_content&view=article&id=7793&Itemid=39657&lang=en\n",
      "text:New Vaccines, link: /hq/index.php?option=com_content&view=article&id=1855&Itemid=1602&lang=en\n",
      "text:ProVac, link: /hq/index.php?option=com_content&view=article&id=13239&Itemid=841&lang=en\n",
      "text:TAG Reports, link: /hq/index.php?option=com_content&view=article&id=1862&Itemid=39430&lang=en\n",
      "text:Vaccination Week in the Americas, link: http://www.paho.org/vwa\n",
      "text:About us - Immunization Program, link: /hq/index.php?option=com_content&view=article&id=289&Itemid=384&lang=en\n",
      "text:About Measles, link: /hq/index.php?option=com_content&view=article&id=10407&Itemid=1711&lang=en\n",
      "text:Measles Case Definition, link: /hq/index.php?option=com_content&view=article&id=729&Itemid=844&lang=en\n",
      "text:Measles Weekly Bulletin, link: /hq/index.php?option=com_content&view=article&id=730&Itemid=39426&lang=en\n",
      "text:Basic Measles Facts, link: /hq/index.php?option=com_content&view=article&id=14173&Itemid=72231&lang=en\n",
      "text:Investigation Form, link: /hq/index.php?option=com_content&view=article&id=2317&Itemid=1943&lang=en\n",
      "text:Technical Advisory Group on Immunization Reports, link: /hq/index.php?option=com_content&view=article&id=1862&Itemid=39430&lang=en\n",
      "text:Measles Epidemiological Alerts, link: /hq/index.php?option=com_content&view=article&id=2770&Itemid=42342&lang=en\n",
      "text:Subscribe here , link: mailto:LISTSERV@LISTSERV.PAHO.ORG?subject=Subscribe%20to%20Measles Rubella%20Weekly%20Bulletin&body=SUBSCRIBE%20MEASLES%20Name%20LastName%0A%0A(Please%20replace%20'Name'%20and%20'LastName'%20with%20your%20own%20ones)\n",
      "text:Previous Issues of the Measles/Rubella Weekly Bulletin, link: /hq/index.php?option=com_content&view=article&id=5999&Itemid=2400&lang=en\n",
      "text:Measles Rubella Weekly Bulletin (47) - 23 November 2019, link: /hq/index.php?option=com_docman&task=doc_download&gid=51111&lang=en\n",
      "text:Measles Rubella Weekly Bulletin (46) - 16 November 2019, link: /hq/index.php?option=com_docman&task=doc_download&gid=51110&lang=en\n",
      "text:Measles Rubella Weekly Bulletin (45) - 9 November 2019, link: /hq/index.php?option=com_docman&task=doc_download&gid=51028&lang=en\n",
      "text:Measles Rubella Weekly Bulletin (44) -  2 November 2019, link: /hq/index.php?option=com_docman&task=doc_download&gid=51000&lang=en\n",
      "text:Measles Rubella Weekly Bulletin (43) - 26 October 2019, link: /hq/index.php?option=com_docman&task=doc_download&gid=50933&lang=en\n",
      "text:Measles Rubella Weekly Bulletin (42) - 19 October 2019, link: /hq/index.php?option=com_docman&task=doc_download&gid=50868&lang=en\n",
      "text:Measles Rubella Weekly Bulletin (41) - 12 October 2019, link: /hq/index.php?option=com_docman&task=doc_download&gid=50817&lang=en\n",
      "text:Measles Rubella Weekly Bulletin (40) - 5 October 2019, link: /hq/index.php?option=com_docman&task=doc_download&gid=50696&lang=en\n",
      "text:Measles Rubella Weekly Bulletin (39) - 28 September 2019, link: /hq/index.php?option=com_docman&task=doc_download&gid=50649&lang=en\n",
      "text:Measles Rubella Weekly Bulletin (38) - 21 September 2019, link: /hq/index.php?option=com_docman&task=doc_download&gid=50493&lang=en\n",
      "text:Measles Rubella Weekly Bulletin (37) - 14 September 2019, link: /hq/index.php?option=com_docman&task=doc_download&gid=50492&lang=en\n",
      "text:Measles Rubella Weekly Bulletin (36) - 7 September 2019, link: /hq/index.php?option=com_docman&task=doc_download&gid=50333&lang=en\n",
      "text:Measles Rubella Weekly Bulletin (35) - 31 August 2019, link: /hq/index.php?option=com_docman&task=doc_download&gid=50332&lang=en\n",
      "text:Measles Rubella Weekly Bulletin (34) - 24 August 2019, link: /hq/index.php?option=com_docman&task=doc_download&gid=50331&lang=en\n",
      "text:Measles Rubella Weekly Bulletin (33) - 17 August 2019, link: /hq/index.php?option=com_docman&task=doc_download&gid=50330&lang=en\n",
      "text:Measles Rubella Weekly Bulletin (32) - 10 August 2019, link: /hq/index.php?option=com_docman&task=doc_download&gid=50329&lang=en\n",
      "text:Measles Rubella Weekly Bulletin (31) - 3 August 2019, link: /hq/index.php?option=com_docman&task=doc_download&gid=50328&lang=en\n",
      "text:Measles Rubella Weekly Bulletin (30) - 27 July 2019, link: /hq/index.php?option=com_docman&task=doc_download&gid=49575&lang=en\n",
      "text:Measles Rubella Weekly Bulletin (29) - 20 July 2019, link: /hq/index.php?option=com_docman&task=doc_download&gid=49501&lang=en\n",
      "text:Measles Rubella Weekly Bulletin (28) - 13 July 2019, link: /hq/index.php?option=com_docman&task=doc_download&gid=49500&lang=en\n",
      "text:Measles Rubella Weekly Bulletin (27) - 6 July 2019, link: /hq/index.php?option=com_docman&task=doc_download&gid=49414&lang=en\n",
      "text:Measles Rubella Weekly Bulletin (26) - 29 June 2019, link: /hq/index.php?option=com_docman&task=doc_download&gid=49264&lang=en\n",
      "text:Measles Rubella Weekly Bulletin (25) - 22 June 2019, link: /hq/index.php?option=com_docman&task=doc_download&gid=49263&lang=en\n",
      "text:Measles Rubella Weekly Bulletin (24) - 15 June 2019, link: /hq/index.php?option=com_docman&task=doc_download&gid=49223&lang=en\n",
      "text:Measles Rubella Weekly Bulletin (23) - 8 June 2019, link: /hq/index.php?option=com_docman&task=doc_download&gid=49222&lang=en\n",
      "text:Measles Rubella Weekly Bulletin (22) - 1 June 2019, link: /hq/index.php?option=com_docman&task=doc_download&gid=49221&lang=en\n",
      "text:Measles Rubella Weekly Bulletin (21) - 25 May 2019, link: /hq/index.php?option=com_docman&task=doc_download&gid=49220&lang=en\n",
      "text:Measles Rubella Weekly Bulletin (20) - 18 May 2019, link: /hq/index.php?option=com_docman&task=doc_download&gid=48933&lang=en\n",
      "text:Measles Rubella Weekly Bulletin (19) - 11 May 2019, link: /hq/index.php?option=com_docman&task=doc_download&gid=48931&lang=en\n",
      "text:Measles Rubella Weekly Bulletin (18) - 4 May 2019, link: /hq/index.php?option=com_docman&task=doc_download&gid=48510&lang=en\n",
      "text:Measles Rubella Weekly Bulletin (17) - 27 April 2019, link: /hq/index.php?option=com_docman&task=doc_download&gid=48477&lang=en\n",
      "text:Measles Rubella Weekly Bulletin (16) - 20 April 2019, link: /hq/index.php?option=com_docman&task=doc_download&gid=48476&lang=en\n",
      "text:Measles Rubella Weekly Bulletin (15) - 13 April 2019, link: /hq/index.php?option=com_docman&task=doc_download&gid=48300&lang=en\n",
      "text:Measles Rubella Weekly Bulletin (14) - 6 April 2019, link: /hq/index.php?option=com_docman&task=doc_download&gid=48297&lang=en\n",
      "text:Measles Rubella Weekly Bulletin (13) - 30 March 2019, link: /hq/index.php?option=com_docman&task=doc_download&gid=48296&lang=en\n",
      "text:Measles Rubella Weekly Bulletin (12) - 23 March 2019, link: /hq/index.php?option=com_docman&task=doc_download&gid=48295&lang=en\n",
      "text:Measles Rubella Weekly Bulletin (11) - 16 March 2019, link: /hq/index.php?option=com_docman&task=doc_download&gid=48122&lang=en\n",
      "text:Measles Rubella Weekly Bulletin (10) - 9 March 2019, link: /hq/index.php?option=com_docman&task=doc_download&gid=48088&lang=en\n",
      "text:Measles Rubella Weekly Bulletin (09) - 2 March 2019, link: /hq/index.php?option=com_docman&task=doc_download&gid=47989&lang=en\n",
      "text:Measles Rubella Weekly Bulletin (08) - 23 February 2019, link: /hq/index.php?option=com_docman&task=doc_download&gid=47945&lang=en\n",
      "text:Measles Rubella Weekly Bulletin (07) - 16 February 2019, link: /hq/index.php?option=com_docman&task=doc_download&gid=47944&lang=en\n",
      "text:Measles Rubella Weekly Bulletin (06) - 9 February 2019, link: /hq/index.php?option=com_docman&task=doc_download&gid=47943&lang=en\n",
      "text:Measles Rubella Weekly Bulletin (05) - 2 February 2019, link: /hq/index.php?option=com_docman&task=doc_download&gid=47942&lang=en\n",
      "text:Measles Rubella Weekly Bulletin (04) - 26 January 2019, link: /hq/index.php?option=com_docman&task=doc_download&gid=47672&lang=en\n",
      "text:Measles Rubella Weekly Bulletin (03) - 19 January 2019, link: /hq/index.php?option=com_docman&task=doc_download&gid=47671&lang=en\n",
      "text:Measles Rubella Weekly Bulletin (02) - 12 January 2019, link: /hq/index.php?option=com_docman&task=doc_download&gid=47576&lang=en\n",
      "text:Measles Rubella Weekly Bulletin (01) - 05 January 2019, link: /hq/index.php?option=com_docman&task=doc_download&gid=47483&lang=en\n",
      "text:Measles Rubella Weekly Bulletin (52) - 29 December 2018, link: /hq/index.php?option=com_docman&task=doc_download&gid=47459&lang=en\n",
      "text:Measles Rubella Weekly Bulletin (50) - 15 December 2018, link: /hq/index.php?option=com_docman&task=doc_download&gid=47457&lang=en\n",
      "text:Measles Rubella Weekly Bulletin (49) - 8 December 2018, link: /hq/index.php?option=com_docman&task=doc_download&gid=47455&lang=en\n",
      "text:Measles Rubella Weekly Bulletin (48) - 1 December 2018, link: /hq/index.php?option=com_docman&task=doc_download&gid=47453&lang=en\n",
      "text:Measles Rubella Weekly Bulletin (46) - 17 November 2018, link: /hq/index.php?option=com_docman&task=doc_download&gid=47086&lang=en\n",
      "text:Measles Rubella Weekly Bulletin (45) - 10 November 2018, link: /hq/index.php?option=com_docman&task=doc_download&gid=47085&lang=en\n",
      "text:Measles Rubella Weekly Bulletin (47) - 24 November 2018, link: /hq/index.php?option=com_docman&task=doc_download&gid=47452&lang=en\n",
      "text:Measles Rubella Weekly Bulletin (44) -  3 November 2018, link: /hq/index.php?option=com_docman&task=doc_download&gid=46974&lang=en\n",
      "text:Measles Rubella Weekly Bulletin (43) - 27 October 2018, link: /hq/index.php?option=com_docman&task=doc_download&gid=46917&lang=en\n",
      "text:Measles Rubella Weekly Bulletin (42) -  20 October 2018, link: /hq/index.php?option=com_docman&task=doc_download&gid=44917&lang=en\n",
      "text:Measles Rubella Weekly Bulletin (41) - 13 October 2018, link: /hq/index.php?option=com_docman&task=doc_download&gid=46755&lang=en\n",
      "text:Measles Rubella Weekly Bulletin (40) - 6 October 2018, link: /hq/index.php?option=com_docman&task=doc_download&gid=46754&lang=en\n",
      "text:Measles Rubella Weekly Bulletin (39) - 29 September 2018, link: /hq/index.php?option=com_docman&task=doc_download&gid=46552&lang=en\n",
      "text:Measles Rubella Weekly Bulletin (38) - 22 September 2018, link: /hq/index.php?option=com_docman&task=doc_download&gid=46551&lang=en\n",
      "text:Measles Rubella Weekly Bulletin (37) - 15 September 2018, link: /hq/index.php?option=com_docman&task=doc_download&gid=44915&lang=en\n",
      "text:Measles Rubella Weekly Bulletin (36) - 8 September 2018, link: /hq/index.php?option=com_docman&task=doc_download&gid=45628&lang=en\n",
      "text:Measles Rubella Weekly Bulletin (35) - 1 September 2018, link: /hq/index.php?option=com_docman&task=doc_download&gid=45629&lang=en\n",
      "text:Measles Rubella Weekly Bulletin (34) - 25 August 2018, link: /hq/index.php?option=com_docman&task=doc_download&gid=45630&lang=en\n",
      "text:Measles Rubella Weekly Bulletin (33) - 18 August 2018, link: /hq/index.php?option=com_docman&task=doc_download&gid=46151&lang=en\n",
      "text:Measles Rubella Weekly Bulletin (32) -  11 August 2018, link: /hq/index.php?option=com_docman&task=doc_download&gid=46033&lang=en\n",
      "text:Measles Rubella Weekly Bulletin (31) - 4 August 2018, link: /hq/index.php?option=com_docman&task=doc_download&gid=46037&lang=en\n",
      "text:Measles Rubella Weekly Bulletin (30) - 30 July 2018, link: /hq/index.php?option=com_docman&task=doc_download&gid=46036&lang=en\n",
      "text:Measles Rubella Weekly Bulletin (29) - 21 July 2018, link: /hq/index.php?option=com_docman&task=doc_download&gid=46035&lang=en\n",
      "text:Measles Rubella Weekly Bulletin (28) - 13 July 2018, link: /hq/index.php?option=com_docman&task=doc_download&gid=46034&lang=en\n",
      "text:Measles Rubella Weekly Bulletin (26) - 30 June 2018, link: /hq/index.php?option=com_docman&task=doc_download&gid=45631&lang=en\n",
      "text:Measles Rubella Weekly Bulletin (24) - 16 June 2018, link: /hq/index.php?option=com_docman&task=doc_download&gid=44914&lang=en\n",
      "text:Measles Rubella Weekly Bulletin (23) - 9 June 2018, link: /hq/index.php?option=com_docman&task=doc_download&gid=44913&lang=en\n",
      "text:Measles Rubella Weekly Bulletin (22) - 02 June 2018, link: /hq/index.php?option=com_docman&task=doc_download&gid=45382&lang=en\n",
      "text:Measles Rubella Weekly Bulletin (21) - 26 May 2018, link: /hq/index.php?option=com_docman&task=doc_download&gid=45380&lang=en\n",
      "text:Measles Rubella Weekly Bulletin (20) - 19 May 2018, link: /hq/index.php?option=com_docman&task=doc_download&gid=44912&lang=en\n",
      "text:Measles Rubella Weekly Bulletin (19) - 12 May 2018, link: /hq/index.php?option=com_docman&task=doc_download&gid=44911&lang=en\n",
      "text:Measles Rubella Weekly Bulletin (18) -  5 May 2018, link: /hq/index.php?option=com_docman&task=doc_download&gid=44918&lang=en\n",
      "text:Measles Rubella Weekly Bulletin (17) -  28 April 2018, link: /hq/index.php?option=com_docman&task=doc_download&gid=43849&lang=en\n",
      "text:Measles Rubella Weekly Bulletin (16) -  21 April 2018, link: /hq/index.php?option=com_docman&task=doc_download&gid=43848&lang=en\n",
      "text:Measles Rubella Weekly Bulletin (15) - 14 April 2018, link: /hq/index.php?option=com_docman&task=doc_download&gid=44916&lang=en\n",
      "text:Measles Rubella Weekly Bulletin (15) - 14 April 2018, link: /hq/index.php?option=com_docman&task=doc_download&gid=43847&lang=en\n",
      "text:Measles Rubella Weekly Bulletin (14) - 7 April 2018, link: /hq/index.php?option=com_docman&task=doc_download&gid=43850&lang=en\n",
      "text:Measles Rubella Weekly Bulletin (13) - 31 March 2018, link: /hq/index.php?option=com_docman&task=doc_download&gid=43577&lang=en\n",
      "text:Measles Rubella Weekly Bulletin (12) - 24 March 2018, link: /hq/index.php?option=com_docman&task=doc_download&gid=43846&lang=en\n",
      "text:Measles Rubella Weekly Bulletin (11) - 17 March 2018, link: /hq/index.php?option=com_docman&task=doc_download&gid=43576&lang=en\n",
      "text:Measles Rubella Weekly Bulletin (10) - 10 March 2018, link: /hq/index.php?option=com_docman&task=doc_download&gid=43845&lang=en\n",
      "text:Measles Rubella Weekly Bulletin (09) - 3 March 2018, link: /hq/index.php?option=com_docman&task=doc_download&gid=43844&lang=en\n",
      "text:Measles Rubella Weekly Bulletin (08) - 24 February 2018, link: /hq/index.php?option=com_docman&task=doc_download&gid=43843&lang=en\n",
      "text:Measles Rubella Weekly Bulletin (07) - 17 February 2018, link: /hq/index.php?option=com_docman&task=doc_download&gid=43575&lang=en\n",
      "text:Measles Rubella Weekly Bulletin (06) -  10 February 2018, link: /hq/index.php?option=com_docman&task=doc_download&gid=43578&lang=en\n",
      "text:Measles Rubella Weekly Bulletin (05) -  3 February 2018, link: /hq/index.php?option=com_docman&task=doc_download&gid=43560&lang=en\n",
      "text:Measles Rubella Weekly Bulletin (04) - 27 January 2018, link: /hq/index.php?option=com_docman&task=doc_download&gid=43491&lang=en\n",
      "text:Measles Rubella Weekly Bulletin (03) - 20 January 2018, link: /hq/index.php?option=com_docman&task=doc_download&gid=43477&lang=en\n",
      "text:Measles Rubella Weekly Bulletin (02) - 13 January 2018, link: /hq/index.php?option=com_docman&task=doc_download&gid=43474&lang=en\n",
      "text:Measles Rubella Weekly Bulletin (52) - 30 December 2017, link: /hq/index.php?option=com_docman&task=doc_download&gid=43470&lang=en\n",
      "text:Measles Rubella Weekly Bulletin (51) - 23 December 2017, link: /hq/index.php?option=com_docman&task=doc_download&gid=42943&lang=en\n",
      "text:Measles Rubella Weekly Bulletin (50) - 16 December 2017, link: /hq/index.php?option=com_docman&task=doc_download&gid=42942&lang=en\n",
      "text:Measles Rubella Weekly Bulletin (49) - 9 December 2017, link: /hq/index.php?option=com_docman&task=doc_download&gid=42771&lang=en\n",
      "text:Measles Rubella Weekly Bulletin (48) - 2 December 2017, link: /hq/index.php?option=com_docman&task=doc_download&gid=42770&lang=en\n",
      "text:Measles Rubella Weekly Bulletin (47) - 25 October 2017, link: /hq/index.php?option=com_docman&task=doc_download&gid=42941&lang=en\n",
      "text:Measles Rubella Weekly Bulletin (46) -18 November 2017, link: /hq/index.php?option=com_docman&task=doc_download&gid=42940&lang=en\n",
      "text:Measles Rubella Weekly Bulletin (45) - 17 October 2017, link: /hq/index.php?option=com_docman&task=doc_download&gid=42769&lang=en\n",
      "text:Measles Rubella Weekly Bulletin (44) - 4 November 2017, link: /hq/index.php?option=com_docman&task=doc_download&gid=42767&lang=en\n",
      "text:Measles Rubella Weekly Bulletin (43) - 28 October 2017, link: /hq/index.php?option=com_docman&task=doc_download&gid=42768&lang=en\n",
      "text:Measles Rubella Weekly Bulletin (42) - 21 October 2017, link: /hq/index.php?option=com_docman&task=doc_download&gid=42146&lang=en\n",
      "text:Measles Rubella Weekly Bulletin (41) - 14 October 2017, link: /hq/index.php?option=com_docman&task=doc_download&gid=42145&lang=en\n",
      "text:Measles Rubella Weekly Bulletin (40) - 7 October 2017, link: /hq/index.php?option=com_docman&task=doc_download&gid=42144&lang=en\n",
      "text:Measles Rubella Weekly Bulletin (39) - 30 September 2017, link: /hq/index.php?option=com_docman&task=doc_download&gid=42143&lang=en\n",
      "text:Measles Rubella Weekly Bulletin (38) - 23 September 2017, link: /hq/index.php?option=com_docman&task=doc_download&gid=42142&lang=en\n",
      "text:Measles Rubella Weekly Bulletin (37) - 16 september 2017, link: /hq/index.php?option=com_docman&task=doc_download&gid=41541&lang=en\n",
      "text:Measles Rubella Weekly Bulletin (36) - 9 September 2017, link: /hq/index.php?option=com_docman&task=doc_download&gid=41540&lang=en\n",
      "text:Measles Rubella Weekly Bulletin (35) - 2 September 2017, link: /hq/index.php?option=com_docman&task=doc_download&gid=41539&lang=en\n",
      "text:Measles Rubella Weekly Bulletin (34) - 26 August 2017, link: /hq/index.php?option=com_docman&task=doc_download&gid=41538&lang=en\n",
      "text:Measles Rubella Weekly Bulletin (33) - 19 August 2017, link: /hq/index.php?option=com_docman&task=doc_download&gid=41537&lang=en\n",
      "text:Measles Rubella Weekly Bulletin (32) - 12 August 2017, link: /hq/index.php?option=com_docman&task=doc_download&gid=41536&lang=en\n",
      "text:Measles Rubella Weekly Bulletin (31) - 5 August 2017, link: /hq/index.php?option=com_docman&task=doc_download&gid=40528&lang=en\n",
      "text:Measles Rubella Weekly Bulletin (30) - 29 July 2017, link: /hq/index.php?option=com_docman&task=doc_download&gid=40527&lang=en\n",
      "text:Measles Rubella Weekly Bulletin (29) - 22 July 2017, link: /hq/index.php?option=com_docman&task=doc_download&gid=41041&lang=en\n",
      "text:Measles Rubella Weekly Bulletin (28) - 15 July 2017, link: /hq/index.php?option=com_docman&task=doc_download&gid=40934&lang=en\n",
      "text:Measles Rubella Weekly Bulletin (27) - 8 July 2017, link: /hq/index.php?option=com_docman&task=doc_download&gid=40932&lang=en\n",
      "text:Measles Rubella Weekly Bulletin (26) - 1 July 2017, link: /hq/index.php?option=com_docman&task=doc_download&gid=40526&lang=en\n",
      "text:Measles Rubella Weekly Bulletin (25) - 24 June 2017, link: /hq/index.php?option=com_docman&task=doc_download&gid=40525&lang=en\n",
      "text:Measles Rubella Weekly Bulletin (24) - 17 June 2017, link: /hq/index.php?option=com_docman&task=doc_download&gid=40524&lang=en\n",
      "text:Measles Rubella Weekly Bulletin (23) - 10 June 2017, link: /hq/index.php?option=com_docman&task=doc_download&gid=39674&lang=en\n",
      "text:Measles Rubella Weekly Bulletin (22) - 3 June 2017, link: /hq/index.php?option=com_docman&task=doc_download&gid=39675&lang=en\n",
      "text:Measles Rubella Weekly Bulletin (21) - 27 May 2017, link: /hq/index.php?option=com_docman&task=doc_download&gid=39672&lang=en\n",
      "text:Measles Rubella Weekly Bulletin (20) - 20 May 2017, link: /hq/index.php?option=com_docman&task=doc_download&gid=39673&lang=en\n",
      "text:Measles Rubella Weekly Bulletin (19) - 12 May 2017, link: /hq/index.php?option=com_docman&task=doc_download&gid=39671&lang=en\n",
      "text:Measles Rubella Weekly Bulletin (18) - 06 May 2017, link: /hq/index.php?option=com_docman&task=doc_download&gid=39940&lang=en\n",
      "text:Measles Rubella Weekly Bulletin (17) - 29 April 2017, link: /hq/index.php?option=com_docman&task=doc_download&gid=39935&lang=en\n",
      "text:Measles Rubella Weekly Bulletin (16) - 22 April 2017, link: /hq/index.php?option=com_docman&task=doc_download&gid=38682&lang=en\n",
      "text:Measles Rubella Weekly Bulletin (15) - 15 April 2017, link: /hq/index.php?option=com_docman&task=doc_download&gid=38681&lang=en\n",
      "text:Measles Rubella Weekly Bulletin (14) - 8 April 2017, link: /hq/index.php?option=com_docman&task=doc_download&gid=38680&lang=en\n",
      "text:Measles Rubella Weekly Bulletin (13) - 1 April 2017, link: /hq/index.php?option=com_docman&task=doc_download&gid=38679&lang=en\n",
      "text:Measles Rubella Weekly Bulletin (12) - 23 March 2017, link: /hq/index.php?option=com_docman&task=doc_download&gid=38678&lang=en\n",
      "text:Measles Rubella Weekly Bulletin (11) - 18 March 2017, link: /hq/index.php?option=com_docman&task=doc_download&gid=38677&lang=en\n",
      "text:Measles Rubella Weekly Bulletin (10) - 11 March 2017, link: /hq/index.php?option=com_docman&task=doc_download&gid=38676&lang=en\n",
      "text:Measles Rubella Weekly Bulletin (9) - 4 March 2017, link: /hq/index.php?option=com_docman&task=doc_download&gid=38675&lang=en\n",
      "text:Measles Rubella Weekly Bulletin (8) - 25 February 2017, link: /hq/index.php?option=com_docman&task=doc_download&gid=37974&lang=en\n",
      "text:Measles Rubella Weekly Bulletin (7) - 18 February 2017, link: /hq/index.php?option=com_docman&task=doc_download&gid=37975&lang=en\n",
      "text:Measles Rubella Weekly Bulletin (6) - 11 February 2017, link: /hq/index.php?option=com_docman&task=doc_download&gid=37976&lang=en\n",
      "text:Measles Rubella Weekly Bulletin (5) - 4 February 2017, link: /hq/index.php?option=com_docman&task=doc_download&gid=37977&lang=en\n",
      "text:Measles Rubella Weekly Bulletin (4) - 28 January 2017, link: /hq/index.php?option=com_docman&task=doc_download&gid=37686&lang=en\n",
      "text:Measles Rubella Weekly Bulletin (3) - 21 January 2017, link: /hq/index.php?option=com_docman&task=doc_download&gid=37688&lang=en\n",
      "text:Measles Rubella Weekly Bulletin (2) - 14 January 2017, link: /hq/index.php?option=com_docman&task=doc_download&gid=37687&lang=en\n",
      "text:Measles Rubella Weekly Bulletin (1) - 7 January 2017, link: /hq/index.php?option=com_docman&task=doc_download&gid=37684&lang=en\n",
      "text:Measles Rubella Weekly Bulletin (52) - 31 December 2016, link: /hq/index.php?option=com_docman&task=doc_download&gid=37685&lang=en\n",
      "text:Measles Rubella Weekly Bulletin (51) - 24 December 2016, link: /hq/index.php?option=com_docman&task=doc_download&gid=37229&lang=en\n",
      "text:Measles Rubella Weekly Bulletin (50) - 17 December 2016, link: /hq/index.php?option=com_docman&task=doc_download&gid=37228&lang=en\n",
      "text:Measles Rubella Weekly Bulletin (49) - 10 December 2016, link: /hq/index.php?option=com_docman&task=doc_download&gid=37088&lang=en\n",
      "text:Measles Rubella Weekly Bulletin (48) - 3 December 2016, link: /hq/index.php?option=com_docman&task=doc_download&gid=37087&lang=en\n",
      "text:Measles Rubella Weekly Bulletin (47) - 26 November 2016, link: /hq/index.php?option=com_docman&task=doc_download&gid=37086&lang=en\n",
      "text:Measles Rubella Weekly Bulletin (46) - 19 November 2016, link: /hq/index.php?option=com_docman&task=doc_download&gid=37085&lang=en\n",
      "text:Measles Rubella Weekly Bulletin (45) -  12 November 2016, link: /hq/index.php?option=com_docman&task=doc_download&gid=37084&lang=en\n",
      "text:Measles Rubella Weekly Bulletin (44) - 5 November 2016, link: /hq/index.php?option=com_docman&task=doc_download&gid=36239&lang=en\n",
      "text:Measles Rubella Weekly Bulletin (43) - 29 October 2016, link: /hq/index.php?option=com_docman&task=doc_download&gid=36238&lang=en\n",
      "text:Measles Rubella Weekly Bulletin (42) - 22 October 2016, link: /hq/index.php?option=com_docman&task=doc_download&gid=36237&lang=en\n",
      "text:Measles Rubella Weekly Bulletin (41) - 15 October 2016, link: /hq/index.php?option=com_docman&task=doc_download&gid=36236&lang=en\n",
      "text:Measles Rubella Weekly Bulletin (40) - 8 October 2016, link: /hq/index.php?option=com_docman&task=doc_download&gid=36589&lang=en\n",
      "text:Measles Rubella Weekly Bulletin (39) -  1 October 2016, link: /hq/index.php?option=com_docman&task=doc_download&gid=36459&lang=en\n",
      "text:Measles Rubella Weekly Bulletin (38) - 24 September 2016, link: /hq/index.php?option=com_docman&task=doc_download&gid=36235&lang=en\n",
      "text:Measles Rubella Weekly Bulletin (37) - 17 September 2016, link: /hq/index.php?option=com_docman&task=doc_download&gid=35712&lang=en\n",
      "text:Measles Rubella Weekly Bulletin (36) - 10 September 2016, link: /hq/index.php?option=com_docman&task=doc_download&gid=35711&lang=en\n",
      "text:Measles Rubella Weekly Bulletin (35) - 3 September 2016, link: /hq/index.php?option=com_docman&task=doc_download&gid=35710&lang=en\n",
      "text:Measles Rubella Weekly Bulletin (34) - 27 August 2016, link: /hq/index.php?option=com_docman&task=doc_download&gid=35709&lang=en\n",
      "text:Measles Rubella Weekly Bulletin (33) - 20 August 2016, link: /hq/index.php?option=com_docman&task=doc_download&gid=35708&lang=en\n",
      "text:Measles Rubella Weekly Bulletin (32) - 13 August 2016, link: /hq/index.php?option=com_docman&task=doc_download&gid=35707&lang=en\n",
      "text:Measles Rubella Weekly Bulletin (31) - 6 August 2016, link: /hq/index.php?option=com_docman&task=doc_download&gid=35302&lang=en\n",
      "text:Measles Rubella Weekly Bulletin (30) - 30 July 2016, link: /hq/index.php?option=com_docman&task=doc_download&gid=35301&lang=en\n",
      "text:Measles Rubella Weekly Bulletin (29) - 23 July 2016, link: /hq/index.php?option=com_docman&task=doc_download&gid=35300&lang=en\n",
      "text:Measles Rubella Weekly Bulletin (28) - 16 July 2016, link: /hq/index.php?option=com_docman&task=doc_download&gid=35299&lang=en\n",
      "text:Measles Rubella Weekly Bulletin (27) - 9 July 2016, link: /hq/index.php?option=com_docman&task=doc_download&gid=35303&lang=en\n",
      "text:Measles Rubella Weekly Bulletin (26) - 2 July 2016, link: /hq/index.php?option=com_docman&task=doc_download&gid=34685&lang=en\n",
      "text:Measles Rubella Weekly Bulletin (25) - 25 June 2016, link: /hq/index.php?option=com_docman&task=doc_download&gid=34684&lang=en\n",
      "text:Measles Rubella Weekly Bulletin (24) - 18 June 2016, link: /hq/index.php?option=com_docman&task=doc_download&gid=34977&lang=en\n",
      "text:Measles Rubella Weekly Bulletin (23) - 11 June 2016, link: /hq/index.php?option=com_docman&task=doc_download&gid=34976&lang=en\n",
      "text:Measles Rubella Weekly Bulletin (22) - 4 June 2016, link: /hq/index.php?option=com_docman&task=doc_download&gid=34683&lang=en\n",
      "text:Measles Rubella Weekly Bulletin (21) - 28 May 2016, link: /hq/index.php?option=com_docman&task=doc_download&gid=34682&lang=en\n",
      "text:Measles Rubella Weekly Bulletin (20) - 21 May 2016, link: /hq/index.php?option=com_docman&task=doc_download&gid=34321&lang=en\n",
      "text:Measles Rubella Weekly Bulletin (19) - 14 May 2016, link: /hq/index.php?option=com_docman&task=doc_download&gid=34320&lang=en\n",
      "text:Measles Rubella Weekly Bulletin (18) - 7 May 2016, link: /hq/index.php?option=com_docman&task=doc_download&gid=34319&lang=en\n",
      "text:Measles Rubella Weekly Bulletin (17) - 30 April 2016, link: /hq/index.php?option=com_docman&task=doc_download&gid=34322&lang=en\n",
      "text:Measles Rubella Weekly Bulletin (16) - 23 April 2016, link: /hq/index.php?option=com_docman&task=doc_download&gid=33494&lang=en\n",
      "text:Measles Rubella Weekly Bulletin (15) - 16 April 2016, link: /hq/index.php?option=com_docman&task=doc_download&gid=33493&lang=en\n",
      "text:Measles Rubella Weekly Bulletin (14) - 9 April 2016, link: /hq/index.php?option=com_docman&task=doc_download&gid=33492&lang=en\n",
      "text:Measles Rubella Weekly Bulletin (13) - 2 April 2016, link: /hq/index.php?option=com_docman&task=doc_download&gid=33491&lang=en\n",
      "text:Measles Rubella Weekly Bulletin (12) - 26 March 2016, link: /hq/index.php?option=com_docman&task=doc_download&gid=33490&lang=en\n",
      "text:Measles Rubella Weekly Bulletin (11) - 19 March 2016, link: /hq/index.php?option=com_docman&task=doc_download&gid=33944&lang=en\n",
      "text:Measles Rubella Weekly Bulletin (10) - 12 March 2016, link: /hq/index.php?option=com_docman&task=doc_download&gid=33775&lang=en\n",
      "text:Measles Rubella Weekly Bulletin (09) - 05 March 2016, link: /hq/index.php?option=com_docman&task=doc_download&gid=33667&lang=en\n",
      "text:Measles Rubella Weekly Bulletin (08) - 27 February 2016, link: /hq/index.php?option=com_docman&task=doc_download&gid=33197&lang=en\n",
      "text:Measles Rubella Weekly Bulletin (07) - 20 February 2016, link: /hq/index.php?option=com_docman&task=doc_download&gid=33198&lang=en\n",
      "text:Measles Rubella Weekly Bulletin (06) - 13 February 2016, link: /hq/index.php?option=com_docman&task=doc_download&gid=33196&lang=en\n",
      "text:Measles Rubella Weekly Bulletin (05) - 6 February 2016, link: /hq/index.php?option=com_docman&task=doc_download&gid=33199&lang=en\n",
      "text:Measles Rubella Weekly Bulletin (04) - 30 January 2016, link: /hq/index.php?option=com_docman&task=doc_download&gid=32960&lang=en\n",
      "text:Measles Rubella Weekly Bulletin (03) - 23 January 2016, link: /hq/index.php?option=com_docman&task=doc_download&gid=32962&lang=en\n",
      "text:Measles Rubella Weekly Bulletin (02) - 16 January 2016, link: /hq/index.php?option=com_docman&task=doc_download&gid=32961&lang=en\n",
      "text:Measles Rubella Weekly Bulletin (01) - 9 January 2016, link: /hq/index.php?option=com_docman&task=doc_download&gid=32852&lang=en\n",
      "text:Measles Rubella Weekly Bulletin (52) - 2 January 2016, link: /hq/index.php?option=com_docman&task=doc_download&gid=32851&lang=en\n",
      "text:Measles Rubella Weekly Bulletin (51) - 26 December 2015, link: /hq/index.php?option=com_docman&task=doc_download&gid=32385&lang=en\n",
      "text:Measles Rubella Weekly Bulletin (49) - 12 December 2015, link: /hq/index.php?option=com_docman&task=doc_download&gid=32389&lang=en\n",
      "text:Measles Rubella Weekly Bulletin (48) - 5 December 2015, link: /hq/index.php?option=com_docman&task=doc_download&gid=32387&lang=en\n",
      "text:Measles Rubella Weekly Bulletin (47) - 28 November 2015, link: /hq/index.php?option=com_docman&task=doc_download&gid=32388&lang=en\n",
      "text:Measles Rubella Weekly Bulletin (46) - 21 November 2015, link: /hq/index.php?option=com_docman&task=doc_download&gid=32353&lang=en\n",
      "text:Measles Rubella Weekly Bulletin (45) - 14 November 2015, link: /hq/index.php?option=com_docman&task=doc_download&gid=32351&lang=en\n",
      "text:Measles Rubella Weekly Bulletin (44) - 7 November 2015, link: /hq/index.php?option=com_docman&task=doc_download&gid=32350&lang=en\n",
      "text:Measles Rubella Weekly Bulletin (43) - 31 October 2015, link: /hq/index.php?option=com_docman&task=doc_download&gid=32148&lang=en\n",
      "text:Measles Rubella Weekly Bulletin (42) - 24 October 2015, link: /hq/index.php?option=com_docman&task=doc_download&gid=31419&lang=en\n",
      "text:Measles Rubella Weekly Bulletin (41) - 17 October 2015, link: /hq/index.php?option=com_docman&task=doc_download&gid=31649&lang=en\n",
      "text:Measles Rubella Weekly Bulletin (40) - 10 October 2015, link: /hq/index.php?option=com_docman&task=doc_download&gid=31648&lang=en\n",
      "text:Measles Rubella Weekly Bulletin (39) - 3 October 2015, link: /hq/index.php?option=com_docman&task=doc_download&gid=31647&lang=en\n",
      "text:Measles Rubella Weekly Bulletin (38) - 26 September 2015, link: /hq/index.php?option=com_docman&task=doc_download&gid=31650&lang=en\n",
      "text:Measles Rubella Weekly Bulletin (37) - 19 September 2015, link: /hq/index.php?option=com_docman&task=doc_download&gid=31646&lang=en\n",
      "text:Measles Rubella Weekly Bulletin (36) - 12 September 2015, link: /hq/index.php?option=com_docman&task=doc_download&gid=31645&lang=en\n",
      "text:Measles Rubella Weekly Bulletin (35) - 5 September 2015, link: /hq/index.php?option=com_docman&task=doc_download&gid=31429&lang=en\n",
      "text:Measles Rubella Weekly Bulletin (34) - 29 August 2015, link: /hq/index.php?option=com_docman&task=doc_download&gid=31430&lang=en\n",
      "text:Measles Rubella Weekly Bulletin (33) - 22 August 2015, link: /hq/index.php?option=com_docman&task=doc_download&gid=31128&lang=en\n",
      "text:Measles Rubella Weekly Bulletin (32) - 15 August 2015, link: /hq/index.php?option=com_docman&task=doc_download&gid=31127&lang=en\n",
      "text:Measles Rubella Weekly Bulletin (31) - 8 August 2015, link: /hq/index.php?option=com_docman&task=doc_download&gid=30911&lang=en\n",
      "text:Measles Rubella Weekly Bulletin (30) - 1 August 2015, link: /hq/index.php?option=com_docman&task=doc_download&gid=30910&lang=en\n",
      "text:Measles Rubella Weekly Bulletin (29) - 25 July 2015, link: /hq/index.php?option=com_docman&task=doc_download&gid=30909&lang=en\n",
      "text:Measles Rubella Weekly Bulletin (28) - 18 July 2015, link: /hq/index.php?option=com_docman&task=doc_download&gid=31016&lang=en\n",
      "text:Measles Rubella Weekly Bulletin (27) - 11 July 2015, link: /hq/index.php?option=com_docman&task=doc_download&gid=30912&lang=en\n",
      "text:Measles Rubella Weekly Bulletin (26) - 4 July 2015, link: /hq/index.php?option=com_docman&task=doc_download&gid=30638&lang=en\n",
      "text:Measles Rubella Weekly Bulletin (25) - 27 June 2015, link: /hq/index.php?option=com_docman&task=doc_download&gid=30642&lang=en\n",
      "text:Measles Rubella Weekly Bulletin (24) - 20 June 2015, link: /hq/index.php?option=com_docman&task=doc_download&gid=30639&lang=en\n",
      "text:Measles Rubella Weekly Bulletin (23) - 13 June 2015, link: /hq/index.php?option=com_docman&task=doc_download&gid=30641&lang=en\n",
      "text:Measles Rubella Weekly Bulletin (22) - 6 June 2015, link: /hq/index.php?option=com_docman&task=doc_download&gid=30637&lang=en\n",
      "text:Measles Rubella Weekly Bulletin (21) - 30 May 2015, link: /hq/index.php?option=com_docman&task=doc_download&gid=30484&lang=en\n",
      "text:Measles Rubella Weekly Bulletin (20) - 23 May 2015, link: /hq/index.php?option=com_docman&task=doc_download&gid=30483&lang=en\n",
      "text:Measles Rubella Weekly Bulletin (19) - 16 May 2015, link: /hq/index.php?option=com_docman&task=doc_download&gid=30482&lang=en\n",
      "text:Measles Rubella Weekly Bulletin (18) - 9 May 2015, link: /hq/index.php?option=com_docman&task=doc_download&gid=30481&lang=en\n",
      "text:Measles Rubella Weekly Bulletin (17) - 2 May 2015, link: /hq/index.php?option=com_docman&task=doc_download&gid=30089&lang=en\n",
      "text:Measles Rubella Weekly Bulletin (16) - 25 April 2015, link: /hq/index.php?option=com_docman&task=doc_download&gid=29760&lang=en\n",
      "text:Measles Rubella Weekly Bulletin (15) - 18 April 2015, link: /hq/index.php?option=com_docman&task=doc_download&gid=29757&lang=en\n",
      "text:Measles Rubella Weekly Bulletin (14) - 11 April 2015, link: /hq/index.php?option=com_docman&task=doc_download&gid=29759&lang=en\n",
      "text:Measles Rubella Weekly Bulletin (13) - 4 April 2015, link: /hq/index.php?option=com_docman&task=doc_download&gid=29758&lang=en\n",
      "text:Measles Rubella Weekly Bulletin (12) - 28 March 2015, link: /hq/index.php?option=com_docman&task=doc_download&gid=29178&lang=en\n",
      "text:Measles Rubella Weekly Bulletin (11) - 21 March 2015, link: /hq/index.php?option=com_docman&task=doc_download&gid=29664&lang=en\n",
      "text:Measles Rubella Weekly Bulletin (10) - 14 March 2015, link: /hq/index.php?option=com_docman&task=doc_download&gid=29603&lang=en\n",
      "text:Measles Rubella Weekly Bulletin (09) - 07 March 2015, link: /hq/index.php?option=com_docman&task=doc_download&gid=29176&lang=en\n",
      "text:Measles Rubella Weekly Bulletin (08) - 28 February 2015, link: /hq/index.php?option=com_docman&task=doc_download&gid=28988&lang=en\n",
      "text:Measles Rubella Weekly Bulletin (07) - 21 February 2015, link: /hq/index.php?option=com_docman&task=doc_download&gid=28989&lang=en\n",
      "text:Measles Rubella Weekly Bulletin (06) - 14 February 2015, link: /hq/index.php?option=com_docman&task=doc_download&gid=28991&lang=en\n",
      "text:Measles Rubella Weekly Bulletin (05) - 7 February 2015, link: /hq/index.php?option=com_docman&task=doc_download&gid=28990&lang=en\n",
      "text:Measles Rubella Weekly Bulletin (04) - 31 January 2015, link: /hq/index.php?option=com_docman&task=doc_download&gid=28886&lang=en\n",
      "text:Measles Rubella Weekly Bulletin (03) - 24 January 2015, link: /hq/index.php?option=com_docman&task=doc_download&gid=28780&lang=en\n",
      "text:Measles Rubella Weekly Bulletin (02) - 17 January 2015, link: /hq/index.php?option=com_docman&task=doc_download&gid=28885&lang=en\n",
      "text:Measles Rubella Weekly Bulletin (01) - 10 January 2015, link: /hq/index.php?option=com_docman&task=doc_download&gid=28779&lang=en\n",
      "text:Measles/Rubella Weekly Bulletin (53) - 3 January 2015, link: /hq/index.php?option=com_docman&task=doc_download&gid=32500&lang=en\n",
      "text:Measles/Rubella Weekly Bulletin (52) - 27 December 2014, link: /hq/index.php?option=com_docman&task=doc_download&gid=28723&lang=en\n",
      "text:Measles/Rubella Weekly Bulletin (51) - 20 December 2014, link: /hq/index.php?option=com_docman&task=doc_download&gid=28664&lang=en\n",
      "text:Measles/Rubella Weekly Bulletin (50) - 13 December 2014, link: /hq/index.php?option=com_docman&task=doc_download&gid=28663&lang=en\n",
      "text:Measles/Rubella Weekly Bulletin (49) - 6 December 2014, link: /hq/index.php?option=com_docman&task=doc_download&gid=28623&lang=en\n",
      "text:Measles/Rubella Weekly Bulletin (48) - 29 November 2014, link: /hq/index.php?option=com_docman&task=doc_download&gid=28585&lang=en\n",
      "text:Measles/Rubella Weekly Bulletin (47) - 22 November 2014, link: /hq/index.php?option=com_docman&task=doc_download&gid=28365&lang=en\n",
      "text:Measles/Rubella Weekly Bulletin (46) - 15 November 2014, link: /hq/index.php?option=com_docman&task=doc_download&gid=28364&lang=en\n",
      "text:Measles Rubella Weekly Bulletin (45) - 8 November 2014, link: /hq/index.php?option=com_docman&task=doc_download&gid=28199&lang=en\n",
      "text:Measles/Rubella Weekly Bulletin (44) - 1 November 2014, link: /hq/index.php?option=com_docman&task=doc_download&gid=28369&lang=en\n",
      "text:Measles Rubella Weekly Bulletin (43) - 25 October 2014 , link: /hq/index.php?option=com_docman&task=doc_download&gid=27971&lang=en\n",
      "text:Measles Rubella Weekly Bulletin (42) - 18 October 2014 , link: /hq/index.php?option=com_docman&task=doc_download&gid=27968&lang=en\n",
      "text:Measles Rubella Weekly Bulletin (41) - 11 October 2014 , link: /hq/index.php?option=com_docman&task=doc_download&gid=27693&lang=en\n",
      "text:Measles Rubella Weekly Bulletin (40) - 4 October 2014, link: /hq/index.php?option=com_docman&task=doc_download&gid=27626&lang=en\n",
      "text:Measles Rubella Weekly Bulletin (39) - 27 September 2014, link: /hq/index.php?option=com_docman&task=doc_download&gid=27584&lang=en\n",
      "text:Measles Rubella Weekly Bulletin (38) - 20 September 2014, link: /hq/index.php?option=com_docman&task=doc_download&gid=27583&lang=en\n",
      "text:Measles Rubella Weekly Bulletin (37) - 13 September 2014, link: /hq/index.php?option=com_docman&task=doc_download&gid=27354&lang=en\n",
      "text:Measles Rubella Weekly Bulletin (36) - 6 September 2014, link: /hq/index.php?option=com_docman&task=doc_download&gid=27252&lang=en\n",
      "text:Measles Rubella Weekly Bulletin (35) - 30 August 2014 , link: /hq/index.php?option=com_docman&task=doc_download&gid=27093&lang=en\n",
      "text:Measles Rubella Weekly Bulletin (34) - 23 August 2014 , link: /hq/index.php?option=com_docman&task=doc_download&gid=27092&lang=en\n",
      "text:Measles Rubella Weekly Bulletin (33) - 16 August 2014 , link: /hq/index.php?option=com_docman&task=doc_download&gid=27091&lang=en\n",
      "text:Measles Rubella Weekly Bulletin (32) - 9 August 2014 , link: /hq/index.php?option=com_docman&task=doc_download&gid=26708&lang=en\n",
      "text:Measles Rubella Weekly Bulletin (31) - 2 August 2014 , link: /hq/index.php?option=com_docman&task=doc_download&gid=26487&lang=en\n",
      "text:Measles Rubella Weekly Bulletin (30) - 26 July 2014 , link: /hq/index.php?option=com_docman&task=doc_download&gid=26486&lang=en\n",
      "text:Measles Rubella Weekly Bulletin (29) - 19 July 2014 , link: /hq/index.php?option=com_docman&task=doc_download&gid=26320&lang=en\n",
      "text:Measles Rubella Weekly Bulletin (28) - 12 July 2014 , link: /hq/index.php?option=com_docman&task=doc_download&gid=26215&lang=en\n",
      "text:Measles Rubella Weekly Bulletin (27) -  5 July 2014, link: /hq/index.php?option=com_docman&task=doc_download&gid=26158&lang=en\n",
      "text:Measles Rubella Weekly Bulletin (26) - 28 June 2014 , link: /hq/index.php?option=com_docman&task=doc_download&gid=26094&lang=en\n",
      "text:Measles Rubella Weekly Bulletin (25) - 21 June 2014, link: /hq/index.php?option=com_docman&task=doc_download&gid=25566&lang=en\n",
      "text:Measles Rubella Weekly Bulletin (24) - 14 June 2014, link: /hq/index.php?option=com_docman&task=doc_download&gid=25564&lang=en\n",
      "text:Measles Rubella Weekly Bulletin (23) - 7 June 2014 , link: /hq/index.php?option=com_docman&task=doc_download&gid=25565&lang=en\n",
      "text:Measles Rubella Weekly Bulletin (22) - 31 May 2014 , link: /hq/index.php?option=com_docman&task=doc_download&gid=25819&lang=en\n",
      "text:Measles Rubella Weekly Bulletin (21) - 24 May 2014, link: /hq/index.php?option=com_docman&task=doc_download&gid=25745&lang=en\n",
      "text:Measles Rubella Weekly Bulletin (20) - 17 May 2014 , link: /hq/index.php?option=com_docman&task=doc_download&gid=25671&lang=en\n",
      "text:Measles Rubella Weekly Bulletin (19) - 10 May 2014, link: /hq/index.php?option=com_docman&task=doc_download&gid=25556&lang=en\n",
      "text:Measles Rubella Weekly Bulletin (18) - 3 May 2014 , link: /hq/index.php?option=com_docman&task=doc_download&gid=25466&lang=en\n",
      "text:Measles Rubella Weekly Bulletin (17) - 26 April 2014, link: /hq/index.php?option=com_docman&task=doc_download&gid=25364&lang=en\n",
      "text:Measles Rubella Weekly Bulletin (16) - 19 April 2014 , link: /hq/index.php?option=com_docman&task=doc_download&gid=25299&lang=en\n",
      "text:Measles Rubella Weekly Bulletin (15) - 12 April 2014 , link: /hq/index.php?option=com_docman&task=doc_download&gid=25019&lang=en\n",
      "text:Measles Rubella Weekly Bulletin (14) - 5 April 2014 , link: /hq/index.php?option=com_docman&task=doc_download&gid=25018&lang=en\n",
      "text:Measles Rubella Weekly Bulletin (13) - 29 March 2014, link: /hq/index.php?option=com_docman&task=doc_download&gid=24798&lang=en\n",
      "text:Measles Rubella Weekly Bulletin (12) - 22 March 2014, link: /hq/index.php?option=com_docman&task=doc_download&gid=24800&lang=en\n",
      "text:Measles Rubella Weekly Bulletin (11) - 15 March 2014, link: /hq/index.php?option=com_docman&task=doc_download&gid=24611&lang=en\n",
      "text:Measles Rubella Weekly Bulletin (10) - 8 March 2014 , link: /hq/index.php?option=com_docman&task=doc_download&gid=24555&lang=en\n",
      "text:Measles Rubella Weekly Bulletin (09) -  1 March 2014, link: /hq/index.php?option=com_docman&task=doc_download&gid=24468&lang=en\n",
      "text:Measles Rubella Weekly Bulletin (08) - 22 February 2014, link: /hq/index.php?option=com_docman&task=doc_download&gid=24457&lang=en\n",
      "text:Measles Rubella Weekly Bulletin (07) - 15 February 2014 , link: /hq/index.php?option=com_docman&task=doc_download&gid=24453&lang=en\n",
      "text:Measles Rubella Weekly Bulletin (06) - 8 February 2014 , link: /hq/index.php?option=com_docman&task=doc_download&gid=24249&lang=en\n",
      "text:Measles Rubella Weekly Bulletin (05) - 1 February 2014 , link: /hq/index.php?option=com_docman&task=doc_download&gid=24204&lang=en\n",
      "text:Measles Rubella Weekly Bulletin (04) - 25 January 2014 , link: /hq/index.php?option=com_docman&task=doc_download&gid=24120&lang=en\n",
      "text:Measles Rubella Weekly Bulletin (03) - 18 January 2014, link: /hq/index.php?option=com_docman&task=doc_download&gid=24010&lang=en\n",
      "text:Measles Rubella Weekly Bulletin (02) - 11 January 2014, link: /hq/index.php?option=com_docman&task=doc_download&gid=24009&lang=en\n",
      "text:Measles Rubella Weekly Bulletin (01) - 4 January 2014, link: /hq/index.php?option=com_docman&task=doc_download&gid=24008&lang=en\n",
      "text:Measles Rubella Weekly Bulletin (52) - 28 December 2013, link: /hq/index.php?option=com_docman&task=doc_download&gid=24559&lang=en\n",
      "text:Measles Rubella Weekly Bulletin (51) - 21 December 2013 , link: /hq/index.php?option=com_docman&task=doc_download&gid=23904&lang=en\n",
      "text:Measles Rubella Weekly Bulletin (50) - 14 December 2013 , link: /hq/index.php?option=com_docman&task=doc_download&gid=23879&lang=en\n",
      "text:Measles Rubella Weekly Bulletin (49) - 7 December 2013 , link: /hq/index.php?option=com_docman&task=doc_download&gid=23840&lang=en\n",
      "text:Measles Rubella Weekly Bulletin (48) - 30 November 2013 , link: /hq/index.php?option=com_docman&task=doc_download&gid=23786&lang=en\n",
      "text:Measles Rubella Weekly Bulletin (47) - 23 November 2013 , link: /hq/index.php?option=com_docman&task=doc_download&gid=23716&lang=en\n",
      "text:Measles Rubella Weekly Bulletin (46) - 16 November 2013 , link: /hq/index.php?option=com_docman&task=doc_download&gid=23715&lang=en\n",
      "text:Measles Rubella Weekly Bulletin (45) - 09 November 2013, link: /hq/index.php?option=com_docman&task=doc_download&gid=23677&lang=en\n",
      "text:Measles Rubella Weekly Bulletin (44) - 2 November 2013, link: /hq/index.php?option=com_docman&task=doc_download&gid=23523&lang=en\n",
      "text:Measles Rubella Weekly Bulletin (43) - 26 October 2013 , link: /hq/index.php?option=com_docman&task=doc_download&gid=23492&lang=en\n",
      "text:Measles Rubella Weekly Bulletin (42) - 19 October 2013 , link: /hq/index.php?option=com_docman&task=doc_download&gid=23426&lang=en\n",
      "text:Measles Rubella Weekly Bulletin (41) - 12 October 2013 , link: /hq/index.php?option=com_docman&task=doc_download&gid=23377&lang=en\n",
      "text:Measles Rubella Weekly Bulletin (40) - 5 October 2013 , link: /hq/index.php?option=com_docman&task=doc_download&gid=23307&lang=en\n",
      "text:Measles Rubella Weekly Bulletin (39) - 28 September 2013 , link: /hq/index.php?option=com_docman&task=doc_download&gid=23198&lang=en\n",
      "text:Measles Rubella Weekly Bulletin (38) - 21 September 2013 , link: /hq/index.php?option=com_docman&task=doc_download&gid=23103&lang=en\n",
      "text:Measles Rubella Weekly Bulletin (37) - 14 September 2013 , link: /hq/index.php?option=com_docman&task=doc_download&gid=23029&lang=en\n",
      "text:Measles Rubella Weekly Bulletin (36) - 7 September 2013 , link: /hq/index.php?option=com_docman&task=doc_download&gid=22970&lang=en\n",
      "text:Measles Rubella Weekly Bulletin (35) - 31 August 2013 , link: /hq/index.php?option=com_docman&task=doc_download&gid=22884&lang=en\n",
      "text:Measles Rubella Weekly Bulletin (34) - 24 August 2013 , link: /hq/index.php?option=com_docman&task=doc_download&gid=22851&lang=en\n",
      "text:Measles Rubella Weekly Bulletin (33) - 17 August 2013 , link: /hq/index.php?option=com_docman&task=doc_download&gid=22734&lang=en\n",
      "text:Measles Rubella Weekly Bulletin (32) - 10 August 2013 , link: /hq/index.php?option=com_docman&task=doc_download&gid=22629&lang=en\n",
      "text:Measles Rubella Weekly Bulletin (31) - 3 August 2013 , link: /hq/index.php?option=com_docman&task=doc_download&gid=22587&lang=en\n",
      "text:Measles Rubella Weekly Bulletin (30) - 27 July 2013 , link: /hq/index.php?option=com_docman&task=doc_download&gid=22478&lang=en\n",
      "text:Measles Rubella Weekly Bulletin (29) - 20 July 2013 , link: /hq/index.php?option=com_docman&task=doc_download&gid=22440&lang=en\n",
      "text:Measles Rubella Weekly Bulletin (28) - 13 July 2013 , link: /hq/index.php?option=com_docman&task=doc_download&gid=22429&lang=en\n",
      "text:Measles Rubella Weekly Bulletin (27) - 6 July 2013, link: /hq/index.php?option=com_docman&task=doc_download&gid=22294&lang=en\n",
      "text:Measles Rubella Weekly Bulletin (26) - 29 June 2013 , link: /hq/index.php?option=com_docman&task=doc_download&gid=22229&lang=en\n",
      "text:Measles Rubella Weekly Bulletin (25) - 22 June 2013 , link: /hq/index.php?option=com_docman&task=doc_download&gid=22228&lang=en\n",
      "text:Measles Rubella Weekly Bulletin (24) -15 June 2013, link: /hq/index.php?option=com_docman&task=doc_download&gid=22112&lang=en\n",
      "text:Measles Rubella Weekly Bulletin (23) - 8 June 2013, link: /hq/index.php?option=com_docman&task=doc_download&gid=22111&lang=en\n",
      "text:Measles Rubella Weekly Bulletin (22) - 1 June 2013, link: /hq/index.php?option=com_docman&task=doc_download&gid=21872&lang=en\n",
      "text:Measles Rubella Weekly Bulletin (21) - 25 May 2013 , link: /hq/index.php?option=com_docman&task=doc_download&gid=21766&lang=en\n",
      "text:Measles Rubella Weekly Bulletin (20) - 18 May 2013 , link: /hq/index.php?option=com_docman&task=doc_download&gid=21765&lang=en\n",
      "text:Measles Rubella Weekly Bulletin (19) - 11 May 2013 , link: /hq/index.php?option=com_docman&task=doc_download&gid=21764&lang=en\n",
      "text:Measles Rubella Weekly Bulletin (18) - 4 May 2013, link: /hq/index.php?option=com_docman&task=doc_download&gid=21524&lang=en\n",
      "text:Measles Rubella Weekly Bulletin (17) - 27 April 2013 , link: /hq/index.php?option=com_docman&task=doc_download&gid=21404&lang=en\n",
      "text:Measles Rubella Weekly Bulletin (16) - 20 April 2013 , link: /hq/index.php?option=com_docman&task=doc_download&gid=21313&lang=en\n",
      "text:Measles Rubella Weekly Bulletin (15) - 13 April 2013, link: /hq/index.php?option=com_docman&task=doc_download&gid=21275&lang=en\n",
      "text:Measles Rubella Weekly Bulletin (14) - 6 April 2013, link: /hq/index.php?option=com_docman&task=doc_download&gid=21274&lang=en\n",
      "text:Measles Rubella Weekly Bulletin (13) - 30 March 2013, link: /hq/index.php?option=com_docman&task=doc_download&gid=21273&lang=en\n",
      "text:Measles Rubella Weekly Bulletin (12) - 23 March 2013 , link: /hq/index.php?option=com_docman&task=doc_download&gid=20970&lang=en\n",
      "text:Measles Rubella Weekly Bulletin (11) - 16 March 2013 , link: /hq/index.php?option=com_docman&task=doc_download&gid=20969&lang=en\n",
      "text:Measles Rubella Weekly Bulletin (10) - 9 March 2013 , link: /hq/index.php?option=com_docman&task=doc_download&gid=20818&lang=en\n",
      "text:Measles Rubella Weekly Bulletin (09) - 2 March 2013 , link: /hq/index.php?option=com_docman&task=doc_download&gid=20817&lang=en\n",
      "text:Measles Rubella Weekly Bulletin (08) - 23 February 2013 , link: /hq/index.php?option=com_docman&task=doc_download&gid=20423&lang=en\n",
      "text:Measles Rubella Weekly Bulletin (07) - 16 February 2013 , link: /hq/index.php?option=com_docman&task=doc_download&gid=20214&lang=en\n",
      "text:Measles Rubella Weekly Bulletin (06) - 9 February 2013, link: /hq/index.php?option=com_docman&task=doc_download&gid=20149&lang=en\n",
      "text:Measles Rubella Weekly Bulletin (05) - 2 February 2013 , link: /hq/index.php?option=com_docman&task=doc_download&gid=20074&lang=en\n",
      "text:Measles Rubella Weekly Bulletin (04) - 26 January 2013 , link: /hq/index.php?option=com_docman&task=doc_download&gid=20000&lang=en\n",
      "text:Measles Rubella Weekly Bulletin (03) - 19 January 2013 , link: /hq/index.php?option=com_docman&task=doc_download&gid=19999&lang=en\n",
      "text:Measles Rubella Weekly Bulletin (02) - 12 January 2013 , link: /hq/index.php?option=com_docman&task=doc_download&gid=19859&lang=en\n",
      "text:Measles Rubella Weekly Bulletin (01) - 5 January 2013, link: /hq/index.php?option=com_docman&task=doc_download&gid=19716&lang=en\n",
      "text:Measles/Rubella Weekly Bulletin (52) - 29 December 2012 , link: /hq/index.php?option=com_docman&task=doc_download&gid=19650&lang=en\n",
      "text:Measles/Rubella Weekly Bulletin (51) - 22 December 2012 , link: /hq/index.php?option=com_docman&task=doc_download&gid=19642&lang=en\n",
      "text:Measles/Rubella Weekly Bulletin (50) - 15 December 2012 , link: /hq/index.php?option=com_docman&task=doc_download&gid=19639&lang=en\n",
      "text:Measles/Rubella Weekly Bulletin (49) - 08 December 2012 , link: /hq/index.php?option=com_docman&task=doc_download&gid=19557&lang=en\n",
      "text:Measles/Rubella Weekly Bulletin (48) - 01 December 2012 , link: /hq/index.php?option=com_docman&task=doc_download&gid=19555&lang=en\n",
      "text:Measles/Rubella Weekly Bulletin (47) - 24 November 2012 , link: /hq/index.php?option=com_docman&task=doc_download&gid=19553&lang=en\n",
      "text:Measles/Rubella Weekly Bulletin (46) - 17 November 2012 , link: /hq/index.php?option=com_docman&task=doc_download&gid=19472&lang=en\n",
      "text:Measles/Rubella Weekly Bulletin (45) - 10 November 2012, link: /hq/index.php?option=com_docman&task=doc_download&gid=19341&lang=en\n",
      "text:Measles/Rubella Weekly Bulletin (44) - 3 November 2012 , link: /hq/index.php?option=com_docman&task=doc_download&gid=19284&lang=en\n",
      "text:Measles/Rubella Weekly Bulletin (43) - 27 October 2012 , link: /hq/index.php?option=com_docman&task=doc_download&gid=19283&lang=en\n",
      "text:Measles/Rubella Weekly Bulletin (42) - 20 October 2012, link: /hq/index.php?option=com_docman&task=doc_download&gid=19181&lang=en\n",
      "text:Measles/Rubella Weekly Bulletin (41) - 13 October 2012, link: /hq/index.php?option=com_docman&task=doc_download&gid=19180&lang=en\n",
      "text:Measles/Rubella Weekly Bulletin (40) - 6 October 2012, link: /hq/index.php?option=com_docman&task=doc_download&gid=19179&lang=en\n",
      "text:Measles/Rubella Weekly Bulletin (39) - 29 September 2012, link: /hq/index.php?option=com_docman&task=doc_download&gid=19178&lang=en\n",
      "text:Measles/Rubella Weekly Bulletin (38) - 22 September 2012 , link: /hq/index.php?option=com_docman&task=doc_download&gid=18981&lang=en\n",
      "text:Measles/Rubella Weekly Bulletin (37) - 15 September 2012 , link: /hq/index.php?option=com_docman&task=doc_download&gid=18980&lang=en\n",
      "text:Measles/Rubella Weekly Bulletin (36) - 8 September 2012 , link: /hq/index.php?option=com_docman&task=doc_download&gid=18979&lang=en\n",
      "text:Measles/Rubella Weekly Bulletin (35) - 1 September 2012 , link: /hq/index.php?option=com_docman&task=doc_download&gid=18978&lang=en\n",
      "text:Measles/Rubella Weekly Bulletin (34) - 25 August 2012, link: /hq/index.php?option=com_docman&task=doc_download&gid=18655&lang=en\n",
      "text:Measles/Rubella Weekly Bulletin (33) - 18 August 2012, link: /hq/index.php?option=com_docman&task=doc_download&gid=18596&lang=en\n",
      "text:Measles/Rubella Weekly Bulletin (32) - 11 August 2012 , link: /hq/index.php?option=com_docman&task=doc_download&gid=18982&lang=en\n",
      "text:Measles/Rubella Weekly Bulletin (31) - 4 August 2012, link: /hq/index.php?option=com_docman&task=doc_download&gid=18464&lang=en\n",
      "text:Measles/Rubella Weekly Bulletin (30) - 28 July 2012, link: /hq/index.php?option=com_docman&task=doc_download&gid=18408&lang=en\n",
      "text:Measles/Rubella Weekly Bulletin (29) - 21 July 2012, link: /hq/index.php?option=com_docman&task=doc_download&gid=18348&lang=en\n",
      "text:Measles/Rubella Weekly Bulletin (28) - 14 July 2012, link: /hq/index.php?option=com_docman&task=doc_download&gid=18316&lang=en\n",
      "text:Measles/Rubella Weekly Bulletin (27) - 7 July 2012, link: /hq/index.php?option=com_docman&task=doc_download&gid=18244&lang=en\n",
      "text:Measles/Rubella Weekly Bulletin (26) - 30 June 2012, link: /hq/index.php?option=com_docman&task=doc_download&gid=18200&lang=en\n",
      "text:Measles/Rubella Weekly Bulletin (25) - 23 June 2012, link: /hq/index.php?option=com_docman&task=doc_download&gid=18199&lang=en\n",
      "text:Measles/Rubella Weekly Bulletin (24) - 16 June 2012, link: /hq/index.php?option=com_docman&task=doc_download&gid=18198&lang=en\n",
      "text:Measles/Rubella Weekly Bulletin (23) - 9 June 2012, link: /hq/index.php?option=com_docman&task=doc_download&gid=17981&lang=en\n",
      "text:Measles/Rubella Weekly Bulletin (22) - 2 June 2012, link: /hq/index.php?option=com_docman&task=doc_download&gid=17906&lang=en\n",
      "text:Measles/Rubella Weekly Bulletin (21) - 26 May 2012, link: /hq/index.php?option=com_docman&task=doc_download&gid=17848&lang=en\n",
      "text:Measles/Rubella Weekly Bulletin (20) - 19 May 2012, link: /hq/index.php?option=com_docman&task=doc_download&gid=17822&lang=en\n",
      "text:Measles/Rubella Weekly Bulletin (19) - 12 May 2012, link: /hq/index.php?option=com_docman&task=doc_download&gid=17986&lang=en\n",
      "text:Measles/Rubella Weekly Bulletin (18) - 5 May  2012, link: /hq/index.php?option=com_docman&task=doc_download&gid=17699&lang=en\n",
      "text:Measles/Rubella Weekly Bulletin (17) - 28 April 2012, link: /hq/index.php?option=com_docman&task=doc_download&gid=17588&lang=en\n",
      "text:Measles/Rubella Weekly Bulletin (16) - 21 April 2012, link: /hq/index.php?option=com_docman&task=doc_download&gid=17484&lang=en\n",
      "text:Measles/Rubella Weekly Bulletin (15) - 14 April 2012, link: /hq/index.php?option=com_docman&task=doc_download&gid=17394&lang=en\n",
      "text:Measles/Rubella Weekly Bulletin (14) - 7 April 2012, link: /hq/index.php?option=com_docman&task=doc_download&gid=17330&lang=en\n",
      "text:Measles/Rubella Weekly Bulletin (13) - 31 March 2012, link: /hq/index.php?option=com_docman&task=doc_download&gid=17273&lang=en\n",
      "text:Measles/Rubella Weekly Bulletin (12) - 24 March 2012, link: /hq/index.php?option=com_docman&task=doc_download&gid=17275&lang=en\n",
      "text:Measles/Rubella Weekly Bulletin (11) - 17 March 2012, link: /hq/index.php?option=com_docman&task=doc_download&gid=17224&lang=en\n",
      "text:Measles/Rubella Weekly Bulletin (10) - 10 March 2012, link: /hq/index.php?option=com_docman&task=doc_download&gid=17184&lang=en\n",
      "text:Measles/Rubella Weekly Bulletin (09) - 03 March 2012, link: /hq/index.php?option=com_docman&task=doc_download&gid=17183&lang=en\n",
      "text:Measles/Rubella Weekly Bulletin (08) - 25 February 2012, link: /hq/index.php?option=com_docman&task=doc_download&gid=17048&lang=en\n",
      "text:Measles/Rubella Weekly Bulletin (07) - 18 February 2012, link: /hq/index.php?option=com_docman&task=doc_download&gid=16986&lang=en\n",
      "text:Measles/Rubella Weekly Bulletin (06) - 11 February 2012, link: /hq/index.php?option=com_docman&task=doc_download&gid=16944&lang=en\n",
      "text:Measles/Rubella Weekly Bulletin (05) - 04 February 2012, link: /hq/index.php?option=com_docman&task=doc_download&gid=16887&lang=en\n",
      "text:Measles/Rubella Weekly Bulletin (04) - 28 January 2012, link: /hq/index.php?option=com_docman&task=doc_download&gid=16807&lang=en\n",
      "text:Measles/Rubella Weekly Bulletin (03) - 21 January 2012, link: /hq/index.php?option=com_docman&task=doc_download&gid=16742&lang=en\n",
      "text:Measles/Rubella Weekly Bulletin (02) - 14 January 2012, link: /hq/index.php?option=com_docman&task=doc_download&gid=16704&lang=en\n",
      "text:Measles/Rubella Weekly Bulletin (01) - 07 January 2012, link: /hq/index.php?option=com_docman&task=doc_download&gid=16656&lang=en\n",
      "text:Measles/Rubella Weekly Bulletin (52) - 31 December 2011, link: /hq/index.php?option=com_docman&task=doc_download&gid=16310&lang=en\n",
      "text:Measles/Rubella Weekly Bulletin (51) - 24 December 2011, link: /hq/index.php?option=com_docman&task=doc_download&gid=16249&lang=en\n",
      "text:Measles/Rubella Weekly Bulletin (50) - 17 December 2011, link: /hq/index.php?option=com_docman&task=doc_download&gid=16192&lang=en\n",
      "text:Measles/Rubella Weekly Bulletin (49) - 10 December 2011, link: /hq/index.php?option=com_docman&task=doc_download&gid=16096&lang=en\n",
      "text:Measles/Rubella Weekly Bulletin (48) - 3 December 2011, link: /hq/index.php?option=com_docman&task=doc_download&gid=16051&lang=en\n",
      "text:Measles/Rubella Weekly Bulletin (47) - 26 November 2011, link: /hq/index.php?option=com_docman&task=doc_download&gid=15989&lang=en\n",
      "text:Measles/Rubella Weekly Bulletin (46) - 19 November 2011, link: /hq/index.php?option=com_docman&task=doc_download&gid=15772&lang=en\n",
      "text:Measles/Rubella Weekly Bulletin (45) - 12 November 2011, link: /hq/index.php?option=com_docman&task=doc_download&gid=15704&lang=en\n",
      "text:Measles/Rubella Weekly Bulletin (44) - 5 November 2011, link: /hq/index.php?option=com_docman&task=doc_download&gid=15561&lang=en\n",
      "text:Measles/Rubella Weekly Bulletin (43) - 29 October 2011, link: /hq/index.php?option=com_docman&task=doc_download&gid=15459&lang=en\n",
      "text:Measles/Rubella Weekly Bulletin (42) - 22 October 2011, link: /hq/index.php?option=com_docman&task=doc_download&gid=15286&lang=en\n",
      "text:Measles/Rubella Weekly Bulletin (41) - 15 October 2011, link: /hq/index.php?option=com_docman&task=doc_download&gid=15222&lang=en\n",
      "text:Measles/Rubella Weekly Bulletin (40) - 8 October 2011, link: /hq/index.php?option=com_docman&task=doc_download&gid=15225&lang=en\n",
      "text:Measles/Rubella Weekly bulletin (39) - 1 October 2011, link: /hq/index.php?option=com_docman&task=doc_download&gid=15086&lang=en\n",
      "text:Measles/Rubella Weekly Bulletin (38) - 24 September 2011, link: /hq/index.php?option=com_docman&task=doc_download&gid=14983&lang=en\n",
      "text:Measles/Rubella Weekly Bulletin (37) - 17 September 2011, link: /hq/index.php?option=com_docman&task=doc_download&gid=14922&lang=en\n",
      "text:Measles/Rubella Weekly Bulletin (36) - 10 September 2011, link: /hq/index.php?option=com_docman&task=doc_download&gid=14853&lang=en\n",
      "text:Measles/Rubella Weekly Bulletin (35) - 3 September 2011, link: /hq/index.php?option=com_docman&task=doc_download&gid=14768&lang=en\n",
      "text:Measles/Rubella Weekly Bulletin (34) - 27 August 2011, link: /hq/index.php?option=com_docman&task=doc_download&gid=14714&lang=en\n",
      "text:Measles/Rubella Weekly Bulletin (33) - 20 August 2011, link: /hq/index.php?option=com_docman&task=doc_download&gid=14715&lang=en\n",
      "text:Measles/Rubella Weekly Bulletin (32) - 13 August 2011, link: /hq/index.php?option=com_docman&task=doc_download&gid=14716&lang=en\n",
      "text:Measles/Rubella Weekly Bulletin (31) - 6 August 2011, link: /hq/index.php?option=com_docman&task=doc_download&gid=14399&lang=en\n",
      "text:Measles/Rubella Weekly Bulletin (30) - 30 July 2011, link: /hq/index.php?option=com_docman&task=doc_download&gid=14287&lang=en\n",
      "text:Measles/Rubella Weekly Bulletin (29) - 23 July 2011, link: /hq/index.php?option=com_docman&task=doc_download&gid=14197&lang=en\n",
      "text:Measles/Rubella Weekly Bulletin (28) - 16 July 2011, link: /hq/index.php?option=com_docman&task=doc_download&gid=14127&lang=en\n",
      "text:Measles/Rubella Weekly Bulletin (27) - 09 July 2011, link: /hq/index.php?option=com_docman&task=doc_download&gid=13998&lang=en\n",
      "text:Measles/Rubella Weekly Bulletin (26) - 2 July 2011, link: /hq/index.php?option=com_docman&task=doc_download&gid=13864&lang=en\n",
      "text:Measles/Rubella Weekly Bulletin (25) - 25 June 2011, link: /hq/index.php?option=com_docman&task=doc_download&gid=13863&lang=en\n",
      "text:Measles/Rubella Weekly Bulletin (24) - 18 June 2011, link: /hq/index.php?option=com_docman&task=doc_download&gid=13719&lang=en\n",
      "text:Measles/Rubella Weekly bulletin (23) - 11 June 2011, link: /hq/index.php?option=com_docman&task=doc_download&gid=13529&lang=en\n",
      "text:Measles/Rubella Weekly Bulletin (22) - 4 June 2011, link: /hq/index.php?option=com_docman&task=doc_download&gid=13418&lang=en\n",
      "text:Measles/Rubella Weekly bulletin (21) - 28 May 2011, link: /hq/index.php?option=com_docman&task=doc_download&gid=13296&lang=en\n",
      "text:Measles/Rubella Weekly bulletin (20) - 21 May 2011, link: /hq/index.php?option=com_docman&task=doc_download&gid=13191&lang=en\n",
      "text:Measles/Rubella Weekly Bulletin (19) - 14 May 2011, link: /hq/index.php?option=com_docman&task=doc_download&gid=13056&lang=en\n",
      "text:Measles/Rubella Weekly Bulletin (18) - 7 May 2011, link: /hq/index.php?option=com_docman&task=doc_download&gid=12953&lang=en\n",
      "text:Measles/Rubella Weekly Bulletin (17) - 30 April 2011, link: /hq/index.php?option=com_docman&task=doc_download&gid=12832&lang=en\n",
      "text:Measles/Rubella Weekly Bulletin (16) - 23 April 2011, link: /hq/index.php?option=com_docman&task=doc_download&gid=12794&lang=en\n",
      "text:Measles/Rubella Weekly Bulletin (15) - 16 April 2011, link: /hq/index.php?option=com_docman&task=doc_download&gid=12756&lang=en\n",
      "text:Measles/Rubella Weekly Bulletin (14) - 9 April 2011, link: /hq/index.php?option=com_docman&task=doc_download&gid=12696&lang=en\n",
      "text:Measles/Rubella Weekly Bulletin (13) - 2 April 2011, link: /hq/index.php?option=com_docman&task=doc_download&gid=12613&lang=en\n",
      "text:Measles/Rubella Weekly Bulletin (12) - 26 March 2011, link: /hq/index.php?option=com_docman&task=doc_download&gid=12485&lang=en\n",
      "text:Measles/Rubella Weekly Bulletin (11) - 19 March 2011, link: /hq/index.php?option=com_docman&task=doc_download&gid=12449&lang=en\n",
      "text:Measles/Rubella Weekly Bulletin (10) - 12 March 2011, link: /hq/index.php?option=com_docman&task=doc_download&gid=12355&lang=en\n",
      "text:Measles/Rubella Weekly Bulletin (09) - 5 March 2011, link: /hq/index.php?option=com_docman&task=doc_download&gid=12192&lang=en\n",
      "text:Measles/Rubella Weekly Bulletin (08) - 26 February 2011, link: /hq/index.php?option=com_docman&task=doc_download&gid=12130&lang=en\n",
      "text:Measles/Rubella Weekly Bulletin (07) - 19 February 2011, link: /hq/index.php?option=com_docman&task=doc_download&gid=12090&lang=en\n",
      "text:Measles/Rubella Weekly Bulletin (06) - 12 February 2011, link: /hq/index.php?option=com_docman&task=doc_download&gid=12050&lang=en\n",
      "text:Measles/Rubella Weekly Bulletin (05) - 5 February 2011, link: /hq/index.php?option=com_docman&task=doc_download&gid=11974&lang=en\n",
      "text:Measles/Rubella Weekly Bulletin (04) - 29 Janaury 2011, link: /hq/index.php?option=com_docman&task=doc_download&gid=11900&lang=en\n",
      "text:Measles/Rubella Weekly Bulletin (03) - 22 January 2011, link: /hq/index.php?option=com_docman&task=doc_download&gid=11911&lang=en\n",
      "text:Measles/Rubella Weekly Bulletin (02) - 15 January 2011, link: /hq/index.php?option=com_docman&task=doc_download&gid=11604&lang=en\n",
      "text:Measles/Rubella Weekly Bulletin (01) - 8 January 2011, link: /hq/index.php?option=com_docman&task=doc_download&gid=11570&lang=en\n",
      "text:Measles/Rubella Weekly Bulletin (52) - 1 January 2011, link: /hq/index.php?option=com_docman&task=doc_download&gid=11566&lang=en\n",
      "text:Measles/Rubella Weekly Bulletin (51) - 25 December 2010, link: /hq/index.php?option=com_docman&task=doc_download&gid=11565&lang=en\n",
      "text:Measles/Rubella Weekly Bulletin (50) - 18 December 2010, link: /hq/index.php?option=com_docman&task=doc_download&gid=11409&lang=en\n",
      "text:Measles/Rubella Weekly Bulletin (49) - 11 December 2010, link: /hq/index.php?option=com_docman&task=doc_download&gid=11377&lang=en\n",
      "text:Measles/Rubella Weekly Bulletin (48) -4 December 2010, link: /hq/index.php?option=com_docman&task=doc_download&gid=11248&lang=en\n",
      "text:Measles/Rubella Weekly Bulletin (47) - 27 November 2010, link: /hq/index.php?option=com_docman&task=doc_download&gid=11247&lang=en\n",
      "text:Measles/Rubella Weekly Bulletin (46) - 20 November 2010, link: /hq/index.php?option=com_docman&task=doc_download&gid=11246&lang=en\n",
      "text:Measles/Rubella Weekly Bulletin (45) - 13 November 2010, link: /hq/index.php?option=com_docman&task=doc_download&gid=11245&lang=en\n",
      "text:Measles/Rubella Weekly Bulletin (44) - 6 November 2010 , link: /hq/index.php?option=com_docman&task=doc_download&gid=11084&lang=en\n",
      "text:Measles/Rubella Weekly Bulletin (43) - 30 October 2010 , link: /hq/index.php?option=com_docman&task=doc_download&gid=11083&lang=en\n",
      "text:Measles/Rubella Weekly Bulletin (43) - 30 October 2010, link: /hq/index.php?option=com_docman&task=doc_download&gid=11025&lang=en\n",
      "text:Measles/Rubella Weekly Bulletin (42) - 23 October 2010 , link: /hq/index.php?option=com_docman&task=doc_download&gid=11082&lang=en\n",
      "text:Measles/Rubella Weekly Bulletin (42) - 23 October 2010, link: /hq/index.php?option=com_docman&task=doc_download&gid=11024&lang=en\n",
      "text:Measles/Rubella Weekly Bulletin (41) - 16 October 2010, link: /hq/index.php?option=com_docman&task=doc_download&gid=10620&lang=en\n",
      "text:Measles/Rubella Weekly bulletin (40) - 9 October 2010, link: /hq/index.php?option=com_docman&task=doc_download&gid=9082&lang=en\n",
      "text:Measles/Rubella Weekly Bulletin (39) - 2 October 2010, link: /hq/index.php?option=com_docman&task=doc_download&gid=9068&lang=en\n",
      "text:Measles/Rubella Weekly Bulletin (38) - 25 September 2010, link: /hq/index.php?option=com_docman&task=doc_download&gid=8876&lang=en\n",
      "text:Measles/Rubella Weekly Bulletin (37) - 18 September 2010, link: /hq/index.php?option=com_docman&task=doc_download&gid=8522&lang=en\n",
      "text:Measles/Rubella Weekly Bulletin (36) - 11 September 2010, link: /hq/index.php?option=com_docman&task=doc_download&gid=8610&lang=en\n",
      "text:Measles/Rubella Weekly Bulletin (35) - 4 September 2010, link: /hq/index.php?option=com_docman&task=doc_download&gid=8520&lang=en\n",
      "text:Measles/Rubella Weekly Bulletin (34) - 28 August 2010, link: /hq/index.php?option=com_docman&task=doc_download&gid=8521&lang=en\n",
      "text:Measles/Rubella Weekly Bulletin (33) - 21 August 2010, link: /hq/index.php?option=com_docman&task=doc_download&gid=8083&lang=en\n",
      "text:Measles/Rubella Weekly Bulletin (32) - 14 August 2010, link: /hq/index.php?option=com_docman&task=doc_download&gid=8009&lang=en\n",
      "text:Measles/Rubella Weekly Bulletin (31) - 7 August 2010, link: /hq/index.php?option=com_docman&task=doc_download&gid=6577&lang=en\n",
      "text:Measles/Rubella Weekly Bulletin (30) - 31 July 2010, link: /hq/index.php?option=com_docman&task=doc_download&gid=6584&lang=en\n",
      "text:Measles/Rubella Weekly Bulletin (29) - 24 July 2010, link: /hq/index.php?option=com_docman&task=doc_download&gid=6580&lang=en\n",
      "text:Measles/Rubella Weekly Bulletin (28) - 17 July 2010, link: /hq/index.php?option=com_docman&task=doc_download&gid=6578&lang=en\n",
      "text:Measles/Rubella Weekly Bulletin (27) - 10 July 2010, link: /hq/index.php?option=com_docman&task=doc_download&gid=6583&lang=en\n",
      "text:Measles/Rubella Weekly Bulletin (26) - 3 July 2010, link: /hq/index.php?option=com_docman&task=doc_download&gid=6582&lang=en\n",
      "text:Measles/Rubella Weekly Bulletin (25) -26 June 2010, link: /hq/index.php?option=com_docman&task=doc_download&gid=7090&lang=en\n",
      "text:Measles/Rubella Weekly Bulletin (24) -19 June 2010, link: /hq/index.php?option=com_docman&task=doc_download&gid=6579&lang=en\n",
      "text:Measles/Rubella Weekly Bulletin (23) - 12 June 2010, link: /hq/index.php?option=com_docman&task=doc_download&gid=6581&lang=en\n",
      "text:Measles/Rubella Weekly Bulletin (22) - 5 June 2010, link: /hq/index.php?option=com_docman&task=doc_download&gid=6576&lang=en\n",
      "text:Measles/Rubella Weekly Bulletin (21) - 29 May 2010, link: /hq/index.php?option=com_docman&task=doc_download&gid=6411&lang=en\n",
      "text:Measles/Rubella Weekly Bulletin (20) - 22 May 2010, link: /hq/index.php?option=com_docman&task=doc_download&gid=6282&lang=en\n",
      "text:Measles/Rubella Weekly Bulletin (19) - 15 May 2010, link: /hq/index.php?option=com_docman&task=doc_download&gid=6283&lang=en\n",
      "text:Measles/Rubella Weekly Bulletin (18) - 8 May 2010, link: /hq/index.php?option=com_docman&task=doc_download&gid=5907&lang=en\n",
      "text:Measles/Rubella Weekly Bulletin (17) - 1 May 2010  , link: /hq/index.php?option=com_docman&task=doc_download&gid=4822&lang=en\n",
      "text:Measles/rubella Weekly Bulletin (16) - 24 April 2010, link: /hq/index.php?option=com_docman&task=doc_download&gid=5655&lang=en\n",
      "text:Measles/Rubella Weekly Bulletin (15) - 17 April 2010, link: /hq/index.php?option=com_docman&task=doc_download&gid=5635&lang=en\n",
      "text:Measles/Rubella Weekly Bulletin (14) - 10 April 2010, link: /hq/index.php?option=com_docman&task=doc_download&gid=5341&lang=en\n",
      "text:Measles/Rubella Weekly Bulletin (13) - 3 April 2010, link: /hq/index.php?option=com_docman&task=doc_download&gid=5270&lang=en\n",
      "text:Measles/Rubella Weekly Bulletin (12) - 27 March 2010, link: /hq/index.php?option=com_docman&task=doc_download&gid=5273&lang=en\n",
      "text:Measles/Rubella Weekly bulletin (11) - 20 March 2010, link: /hq/index.php?option=com_docman&task=doc_download&gid=5115&lang=en\n",
      "text:Measles/Rubella Weekly Bulletin (10) - 13 March 2010, link: /hq/index.php?option=com_docman&task=doc_download&gid=5052&lang=en\n",
      "text:Measles/Rubella Weekly Bulletin (09) - 6 March 2010, link: /hq/index.php?option=com_docman&task=doc_download&gid=4823&lang=en\n",
      "text:Measles/Rubella Weekly Bulletin (08) - 27 February 2010, link: /hq/index.php?option=com_docman&task=doc_download&gid=4743&lang=en\n",
      "text:Measles/Rubella Weekly Bulletin (07) - 20 February 2010, link: /hq/index.php?option=com_docman&task=doc_download&gid=4548&lang=en\n",
      "text:Measles/Rubella Weekly Bulletin (06) - 13 February 2010, link: /hq/index.php?option=com_docman&task=doc_download&gid=4543&lang=en\n",
      "text:Measles/Rubella Weekly Bulletin (05) - 6 February 2010, link: /hq/index.php?option=com_docman&task=doc_download&gid=4409&lang=en\n",
      "text:Measles/Rubella Weekly Bulletin (04) - 30 January 2010, link: /hq/index.php?option=com_docman&task=doc_download&gid=4355&lang=en\n",
      "text:Measles/Rubella Weekly Bulletin (03) - 23 January 2010, link: /hq/index.php?option=com_docman&task=doc_download&gid=4290&lang=en\n",
      "text:Measles/Rubella Weekly Bulletin (02) - 16 January 2010  , link: /hq/index.php?option=com_docman&task=doc_download&gid=4202&lang=en\n",
      "text:Measles/Rubella Weekly Bulletin (01) - 9 January 2010, link: /hq/index.php?option=com_docman&task=doc_download&gid=4165&lang=en\n",
      "text:Measles/Rubella Weekly Bulletin (41) - 17 October 2009, link: /hq/index.php?option=com_docman&task=doc_download&gid=3302&lang=en\n",
      "text:Measles/Rubella Weekly Bulletin (40) - 10 October 2009, link: /hq/index.php?option=com_docman&task=doc_download&gid=3301&lang=en\n",
      "text:Measles/Rubella Weekly Bulletin (39) - 3 October 2009, link: /hq/index.php?option=com_docman&task=doc_download&gid=3300&lang=en\n",
      "text:Measles/Rubella Weekly Bulletin (36) - 12 September 2009, link: /hq/index.php?option=com_docman&task=doc_download&gid=3299&lang=en\n",
      "text:Measles/Rubella Weekly Bulletin (34) - 29 August 2009, link: /hq/index.php?option=com_docman&task=doc_download&gid=3298&lang=en\n",
      "text:Measles/Rubella Weekly Bulletin (33) - 22 August 2009, link: /hq/index.php?option=com_docman&task=doc_download&gid=3297&lang=en\n",
      "text:Measles/Rubella Weekly Bulletin (32) - 15 August 2009, link: /hq/index.php?option=com_docman&task=doc_download&gid=3296&lang=en\n",
      "text:Measles/Rubella Weekly Bulletin (31) - 8 August 2009, link: /hq/index.php?option=com_docman&task=doc_download&gid=3295&lang=en\n",
      "text:Measles/Rubella Weekly Bulletin (30) - 1 August 2009, link: /hq/index.php?option=com_docman&task=doc_download&gid=2564&lang=en\n",
      "text:Measles/Rubella Weekly Bulletin (29) - 25 July 2009, link: /hq/index.php?option=com_docman&task=doc_download&gid=2511&lang=en\n",
      "text:Measles/Rubella Weekly Bulletin (28) - 18 July 2009, link: /hq/index.php?option=com_docman&task=doc_download&gid=2510&lang=en\n",
      "text:Measles/Rubella Weekly Bulletin (27) - 11 July 2009, link: /hq/index.php?option=com_docman&task=doc_download&gid=2509&lang=en\n",
      "text:Measles/Rubella Weekly Bulletin (26) - 4 July 2009, link: /hq/index.php?option=com_docman&task=doc_download&gid=2508&lang=en\n",
      "text:Measles/Rubella Weekly Bulletin (25) - 27 June 2009, link: /hq/index.php?option=com_docman&task=doc_download&gid=2507&lang=en\n",
      "text:Measles/Rubella Weekly Bulletin (24) - 20 June 2009, link: /hq/index.php?option=com_docman&task=doc_download&gid=2222&lang=en\n",
      "text:Measles/Rubella Weekly Bulletin (23) - 13 June 2009, link: /hq/index.php?option=com_docman&task=doc_download&gid=2166&lang=en\n",
      "text:Measles/Rubella Weekly Bulletin (22) - 6 June 2009, link: /hq/index.php?option=com_docman&task=doc_download&gid=2226&lang=en\n",
      "text:Measles/Rubella Weekly Bulletin (21) - 30 May 2009, link: /hq/index.php?option=com_docman&task=doc_download&gid=1876&lang=en\n",
      "text:Measles/Rubella Weekly Bulletin (20) - 23 May 2009, link: /hq/index.php?option=com_docman&task=doc_download&gid=1792&lang=en\n",
      "text:Measles/Rubella Weekly Bulletin (19) - 16 May 2009, link: /hq/index.php?option=com_docman&task=doc_download&gid=1691&lang=en\n",
      "text:Measles/Rubella Weekly Bulletin (18) - 8 May 2009, link: /hq/index.php?option=com_docman&task=doc_download&gid=1589&lang=en\n",
      "text:Measles/Rubella Weekly Bulletin (17) - 2 May 2009, link: /hq/index.php?option=com_docman&task=doc_download&gid=5908&lang=en\n",
      "text:Measles/Rubella Weekly Bulletin (16) - 25 April 2009, link: /hq/index.php?option=com_docman&task=doc_download&gid=1400&lang=en\n",
      "text:Measles/Rubella Weekly Bulletin (15) - 18 April 2009, link: /hq/index.php?option=com_docman&task=doc_download&gid=1288&lang=en\n",
      "text:Measles/Rubella Weekly Bulletin (14) - 11 April 2009, link: /hq/index.php?option=com_docman&task=doc_download&gid=1236&lang=en\n",
      "text:Measles/Rubella Weekly Bulletin (13) - 4 April 2009, link: /hq/index.php?option=com_docman&task=doc_download&gid=1203&lang=en\n",
      "text:Measles/Rubella Weekly Bulletin (12) - 28 March 2009, link: /hq/index.php?option=com_docman&task=doc_download&gid=1151&lang=en\n",
      "text:Measles/Rubella Weekly Bulletin (11) - 21 March 2009, link: /hq/index.php?option=com_docman&task=doc_download&gid=1106&lang=en\n",
      "text:Measles/Rubella Weekly Bulletin (10) - 14 March 2009, link: /hq/index.php?option=com_docman&task=doc_download&gid=1022&lang=en\n",
      "text:Measles/Rubella Weekly Bulletin (09) - 7 March 2009, link: /hq/index.php?option=com_docman&task=doc_download&gid=986&lang=en\n",
      "text:Measles/Rubella Weekly Bulletin (08) - 28 February 2009, link: /hq/index.php?option=com_docman&task=doc_download&gid=902&lang=en\n",
      "text:Measles/Rubella Weekly Bulletin (07) - 21 February 2009, link: /hq/index.php?option=com_docman&task=doc_download&gid=856&lang=en\n",
      "text:Measles/Rubella Weekly Bulletin (06) - 14 February 2009, link: /hq/index.php?option=com_docman&task=doc_download&gid=791&lang=en\n",
      "text:Measles/Rubella Weekly Bulletin (05) - 7 February 2009, link: /hq/index.php?option=com_docman&task=doc_download&gid=756&lang=en\n",
      "text:Measles/Rubella Weekly Bulletin (04) - 31 January 2009, link: /hq/index.php?option=com_docman&task=doc_download&gid=743&lang=en\n",
      "text:Measles/Rubella Weekly Bulletin (03) - 24 January 2009, link: /hq/index.php?option=com_docman&task=doc_download&gid=742&lang=en\n",
      "text:Measles/Rubella Weekly Bulletin (02) - 17 January 2009, link: /hq/index.php?option=com_docman&task=doc_download&gid=741&lang=en\n",
      "text:Measles/Rubella Weekly Bulletin (01) - 10 January 2009, link: /hq/index.php?option=com_docman&task=doc_download&gid=740&lang=en\n",
      "text:Measles/Rubella Weekly Bulletin (53) - 3 January 2009, link: /hq/index.php?option=com_docman&task=doc_download&gid=739&lang=en\n",
      "text:M/R Graphs 2019-47, link: /hq/index.php?option=com_docman&task=doc_download&gid=51119&lang=en\n",
      "text:M/R Graphs 2019-46, link: /hq/index.php?option=com_docman&task=doc_download&gid=51118&lang=en\n",
      "text:M/R Graphs 2019-45, link: /hq/index.php?option=com_docman&task=doc_download&gid=51117&lang=en\n",
      "text:M/R Graphs 2019-44, link: /hq/index.php?option=com_docman&task=doc_download&gid=50935&lang=en\n",
      "text:M/R Graphs 2019-43, link: /hq/index.php?option=com_docman&task=doc_download&gid=50939&lang=en\n",
      "text:M/R Graphs 2019-42, link: /hq/index.php?option=com_docman&task=doc_download&gid=50869&lang=en\n",
      "text:M/R Graphs 2019-41, link: /hq/index.php?option=com_docman&task=doc_download&gid=50818&lang=en\n",
      "text:M/R Graphs 2019-40, link: /hq/index.php?option=com_docman&task=doc_download&gid=50697&lang=en\n",
      "text:M/R Graphs 2019-39, link: /hq/index.php?option=com_docman&task=doc_download&gid=50652&lang=en\n",
      "text:M/R Graphs 2019-38, link: /hq/index.php?option=com_docman&task=doc_download&gid=50495&lang=en\n",
      "text:M/R Graphs 2019-37, link: /hq/index.php?option=com_docman&task=doc_download&gid=50494&lang=en\n",
      "text:M/R Graphs 2019-36, link: /hq/index.php?option=com_docman&task=doc_download&gid=50341&lang=en\n",
      "text:M/R Graphs 2019-35, link: /hq/index.php?option=com_docman&task=doc_download&gid=50338&lang=en\n",
      "text:M/R Graphs 2019-34, link: /hq/index.php?option=com_docman&task=doc_download&gid=50337&lang=en\n",
      "text:M/R Graphs 2019-33, link: /hq/index.php?option=com_docman&task=doc_download&gid=50336&lang=en\n",
      "text:M/R Graphs 2019-32, link: /hq/index.php?option=com_docman&task=doc_download&gid=50335&lang=en\n",
      "text:M/R Graphs 2019-31, link: /hq/index.php?option=com_docman&task=doc_download&gid=50334&lang=en\n",
      "text:M/R Graphs 2019-30, link: /hq/index.php?option=com_docman&task=doc_download&gid=49584&lang=en\n",
      "text:M/R Graphs 2019-29, link: /hq/index.php?option=com_docman&task=doc_download&gid=49583&lang=en\n",
      "text:M/R Graphs 2019-28, link: /hq/index.php?option=com_docman&task=doc_download&gid=49582&lang=en\n",
      "text:M/R Graphs 2019-27, link: /hq/index.php?option=com_docman&task=doc_download&gid=49415&lang=en\n",
      "text:M/R Graphs 2019-24, link: /hq/index.php?option=com_docman&task=doc_download&gid=49269&lang=en\n",
      "text:M/R Graphs 2019-26, link: /hq/index.php?option=com_docman&task=doc_download&gid=49272&lang=en\n",
      "text:M/R Graphs 2019-25, link: /hq/index.php?option=com_docman&task=doc_download&gid=49271&lang=en\n",
      "text:M/R Graphs 2019-23, link: /hq/index.php?option=com_docman&task=doc_download&gid=49270&lang=en\n",
      "text:M/R Graphs 2019-22, link: /hq/index.php?option=com_docman&task=doc_download&gid=49268&lang=en\n",
      "text:M/R Graphs 2019-21, link: /hq/index.php?option=com_docman&task=doc_download&gid=49267&lang=en\n",
      "text:M/R Graphs 2019-20, link: /hq/index.php?option=com_docman&task=doc_download&gid=48936&lang=en\n",
      "text:M/R Graphs 2019-19, link: /hq/index.php?option=com_docman&task=doc_download&gid=48935&lang=en\n",
      "text:M/R Graphs 2019-18, link: /hq/index.php?option=com_docman&task=doc_download&gid=48511&lang=en\n",
      "text:M/R Graphs 2019-17, link: /hq/index.php?option=com_docman&task=doc_download&gid=48496&lang=en\n",
      "text:M/R Graphs 2019-16, link: /hq/index.php?option=com_docman&task=doc_download&gid=48495&lang=en\n",
      "text:M/R Graphs 2019-15, link: /hq/index.php?option=com_docman&task=doc_download&gid=48494&lang=en\n",
      "text:M/R Graphs 2019-14, link: /hq/index.php?option=com_docman&task=doc_download&gid=48493&lang=en\n",
      "text:M/R Graphs 2019-13, link: /hq/index.php?option=com_docman&task=doc_download&gid=48492&lang=en\n",
      "text:M/R Graphs 2019-11, link: /hq/index.php?option=com_docman&task=doc_download&gid=48123&lang=en\n",
      "text:M/R Graphs 2019-10, link: /hq/index.php?option=com_docman&task=doc_download&gid=48087&lang=en\n",
      "text:M/R Graphs 2019-09, link: /hq/index.php?option=com_docman&task=doc_download&gid=47988&lang=en\n",
      "text:M/R Graphs 2019-08, link: /hq/index.php?option=com_docman&task=doc_download&gid=47949&lang=en\n",
      "text:M/R Graphs 2019-07, link: /hq/index.php?option=com_docman&task=doc_download&gid=47948&lang=en\n",
      "text:M/R Graphs 2019-06, link: /hq/index.php?option=com_docman&task=doc_download&gid=47947&lang=en\n",
      "text:M/R Graphs 2019-05, link: /hq/index.php?option=com_docman&task=doc_download&gid=47946&lang=en\n",
      "text:M/R Graphs 2019-04, link: /hq/index.php?option=com_docman&task=doc_download&gid=47670&lang=en\n",
      "text:M/R Graphs 2019-03, link: /hq/index.php?option=com_docman&task=doc_download&gid=47669&lang=en\n",
      "text:M/R Graphs 2019-02, link: /hq/index.php?option=com_docman&task=doc_download&gid=47580&lang=en\n",
      "text:M/R Graphs 2019-01, link: /hq/index.php?option=com_docman&task=doc_download&gid=47481&lang=en\n",
      "text:M/R Graphs 2018-52, link: /hq/index.php?option=com_docman&task=doc_download&gid=47479&lang=en\n",
      "text:M/R Graphs 2018-50, link: /hq/index.php?option=com_docman&task=doc_download&gid=47477&lang=en\n",
      "text:M/R Graphs 2018-49, link: /hq/index.php?option=com_docman&task=doc_download&gid=47475&lang=en\n",
      "text:M/R Graphs 2018-48, link: /hq/index.php?option=com_docman&task=doc_download&gid=47473&lang=en\n",
      "text:M/R Graphs 2018-47, link: /hq/index.php?option=com_docman&task=doc_download&gid=47471&lang=en\n",
      "text:M/R Graphs 2018-46, link: /hq/index.php?option=com_docman&task=doc_download&gid=47088&lang=en\n",
      "text:M/R Graphs 2018-45, link: /hq/index.php?option=com_docman&task=doc_download&gid=47087&lang=en\n",
      "text:M/R Graphs 2018-44, link: /hq/index.php?option=com_docman&task=doc_download&gid=46976&lang=en\n",
      "text:M/R Graphs 2018-43, link: /hq/index.php?option=com_docman&task=doc_download&gid=46921&lang=en\n",
      "text:M/R Graphs 2018-34, link: /hq/index.php?option=com_docman&task=doc_download&gid=45068&lang=en\n",
      "text:M/R Graphs 2018-35, link: /hq/index.php?option=com_docman&task=doc_download&gid=44929&lang=en\n",
      "text:M/R Graphs 2018-36, link: /hq/index.php?option=com_docman&task=doc_download&gid=45624&lang=en\n",
      "text:M/R Graphs 2018-37, link: /hq/index.php?option=com_docman&task=doc_download&gid=45067&lang=en\n",
      "text:M/R Graphs 2018-39, link: /hq/index.php?option=com_docman&task=doc_download&gid=46890&lang=en\n",
      "text:M/R Graphs 2018-41, link: /hq/index.php?option=com_docman&task=doc_download&gid=46891&lang=en\n",
      "text:M/R Graphs 2018-42, link: /hq/index.php?option=com_docman&task=doc_download&gid=46892&lang=en\n",
      "text:M/R Graphs 2018-33, link: /hq/index.php?option=com_docman&task=doc_download&gid=46440&lang=en\n",
      "text:M/R Graphs 2018-32, link: /hq/index.php?option=com_docman&task=doc_download&gid=46038&lang=en\n",
      "text:M/R Graphs 2018-31, link: /hq/index.php?option=com_docman&task=doc_download&gid=46042&lang=en\n",
      "text:M/R Graphs 2018-30, link: /hq/index.php?option=com_docman&task=doc_download&gid=46041&lang=en\n",
      "text:M/R Graphs 2018-29, link: /hq/index.php?option=com_docman&task=doc_download&gid=46040&lang=en\n",
      "text:M/R Graphs 2018-28, link: /hq/index.php?option=com_docman&task=doc_download&gid=46039&lang=en\n",
      "text:M/R Graphs 2018-27, link: /hq/index.php?option=com_docman&task=doc_download&gid=45623&lang=en\n",
      "text:M/R Graphs 2018-26, link: /hq/index.php?option=com_docman&task=doc_download&gid=45627&lang=en\n",
      "text:M/R Graphs 2018-25, link: /hq/index.php?option=com_docman&task=doc_download&gid=45626&lang=en\n",
      "text:M/R Graphs 2018-24, link: /hq/index.php?option=com_docman&task=doc_download&gid=45625&lang=en\n",
      "text:M/R Graphs 2018-23, link: /hq/index.php?option=com_docman&task=doc_download&gid=44927&lang=en\n",
      "text:M/R Graphs 2018-22, link: /hq/index.php?option=com_docman&task=doc_download&gid=44928&lang=en\n",
      "text:M/R Graphs 2018-21, link: /hq/index.php?option=com_docman&task=doc_download&gid=45066&lang=en\n",
      "text:M/R Graphs 2018-20, link: /hq/index.php?option=com_docman&task=doc_download&gid=44926&lang=en\n",
      "text:M/R Graphs 2018-19, link: /hq/index.php?option=com_docman&task=doc_download&gid=44925&lang=en\n",
      "text:M/R Graphs 2018-18, link: /hq/index.php?option=com_docman&task=doc_download&gid=44924&lang=en\n",
      "text:M/R Graphs 2018-17, link: /hq/index.php?option=com_docman&task=doc_download&gid=44182&lang=en\n",
      "text:M/R Graphs 2018-16, link: /hq/index.php?option=com_docman&task=doc_download&gid=44181&lang=en\n",
      "text:M/R Graphs 2018-15, link: /hq/index.php?option=com_docman&task=doc_download&gid=44180&lang=en\n",
      "text:M/R Graphs 2018-14, link: /hq/index.php?option=com_docman&task=doc_download&gid=44179&lang=en\n",
      "text:M/R Graphs 2018-13, link: /hq/index.php?option=com_docman&task=doc_download&gid=44178&lang=en\n",
      "text:M/R Graphs 2018-12, link: /hq/index.php?option=com_docman&task=doc_download&gid=44177&lang=en\n",
      "text:M/R Graphs 2018-11, link: /hq/index.php?option=com_docman&task=doc_download&gid=43841&lang=en\n",
      "text:M/R Graphs 2018-10, link: /hq/index.php?option=com_docman&task=doc_download&gid=43840&lang=en\n",
      "text:M/R Graphs 2018-09, link: /hq/index.php?option=com_docman&task=doc_download&gid=43581&lang=en\n",
      "text:M/R Graphs 2018-08, link: /hq/index.php?option=com_docman&task=doc_download&gid=43839&lang=en\n",
      "text:M/R Graphs 2018-07, link: /hq/index.php?option=com_docman&task=doc_download&gid=43579&lang=en\n",
      "text:M/R Graphs 2018-06, link: /hq/index.php?option=com_docman&task=doc_download&gid=43583&lang=en\n",
      "text:M/R Graphs 2018-05, link: /hq/index.php?option=com_docman&task=doc_download&gid=43580&lang=en\n",
      "text:M/R Graphs 2018-04, link: /hq/index.php?option=com_docman&task=doc_download&gid=43582&lang=en\n",
      "text:M/R Graphs 2018-03, link: /hq/index.php?option=com_docman&task=doc_download&gid=43842&lang=en\n",
      "text:M/R Graphs 2018-02, link: /hq/index.php?option=com_docman&task=doc_download&gid=43838&lang=en\n",
      "text:M/R Graphs 2017-51, link: /hq/index.php?option=com_docman&task=doc_download&gid=42937&lang=en\n",
      "text:M/R Graphs 2017-50, link: /hq/index.php?option=com_docman&task=doc_download&gid=42936&lang=en\n",
      "text:M/R Graphs 2017-49, link: /hq/index.php?option=com_docman&task=doc_download&gid=42938&lang=en\n",
      "text:M/R Graphs 2017-48, link: /hq/index.php?option=com_docman&task=doc_download&gid=42933&lang=en\n",
      "text:M/R Graphs 2017-47, link: /hq/index.php?option=com_docman&task=doc_download&gid=42934&lang=en\n",
      "text:M/R Graphs 2017-46, link: /hq/index.php?option=com_docman&task=doc_download&gid=42935&lang=en\n",
      "text:M/R Graphs 2017-45, link: /hq/index.php?option=com_docman&task=doc_download&gid=42610&lang=en\n",
      "text:M/R Graphs 2017-44, link: /hq/index.php?option=com_docman&task=doc_download&gid=42609&lang=en\n",
      "text:M/R Graphs 2017-43, link: /hq/index.php?option=com_docman&task=doc_download&gid=42608&lang=en\n",
      "text:M/R Graphs 2017-42, link: /hq/index.php?option=com_docman&task=doc_download&gid=42607&lang=en\n",
      "text:M/R Graphs 2017-41, link: /hq/index.php?option=com_docman&task=doc_download&gid=42611&lang=en\n",
      "text:M/R Graphs 2017-40, link: /hq/index.php?option=com_docman&task=doc_download&gid=41875&lang=en\n",
      "text:M/R Graphs 2017-39, link: /hq/index.php?option=com_docman&task=doc_download&gid=41874&lang=en\n",
      "text:M/R Graphs 2017-38, link: /hq/index.php?option=com_docman&task=doc_download&gid=41873&lang=en\n",
      "text:M/R Graphs 2017-37, link: /hq/index.php?option=com_docman&task=doc_download&gid=41872&lang=en\n",
      "text:M/R Graphs 2017-36, link: /hq/index.php?option=com_docman&task=doc_download&gid=41871&lang=en\n",
      "text:M/R Graphs 2017-35, link: /hq/index.php?option=com_docman&task=doc_download&gid=40536&lang=en\n",
      "text:M/R Graphs 2017-34, link: /hq/index.php?option=com_docman&task=doc_download&gid=41870&lang=en\n",
      "text:M/R Graphs 2017-33, link: /hq/index.php?option=com_docman&task=doc_download&gid=40535&lang=en\n",
      "text:M/R Graphs 2017-32, link: /hq/index.php?option=com_docman&task=doc_download&gid=40534&lang=en\n",
      "text:M/R Graphs 2017-31, link: /hq/index.php?option=com_docman&task=doc_download&gid=40533&lang=en\n",
      "text:M/R Graphs 2017-30, link: /hq/index.php?option=com_docman&task=doc_download&gid=40532&lang=en\n",
      "text:M/R Graphs 2017-29, link: /hq/index.php?option=com_docman&task=doc_download&gid=41051&lang=en\n",
      "text:M/R Graphs 2017-28, link: /hq/index.php?option=com_docman&task=doc_download&gid=40938&lang=en\n",
      "text:M/R Graphs 2017-27, link: /hq/index.php?option=com_docman&task=doc_download&gid=40936&lang=en\n",
      "text:M/R Graphs 2017-26, link: /hq/index.php?option=com_docman&task=doc_download&gid=40531&lang=en\n",
      "text:M/R Graphs 2017-25, link: /hq/index.php?option=com_docman&task=doc_download&gid=40530&lang=en\n",
      "text:M/R Graphs 2017-24, link: /hq/index.php?option=com_docman&task=doc_download&gid=40529&lang=en\n",
      "text:M/R Graphs 2017-23, link: /hq/index.php?option=com_docman&task=doc_download&gid=40537&lang=en\n",
      "text:M/R Graphs 2017-22, link: /hq/index.php?option=com_docman&task=doc_download&gid=39681&lang=en\n",
      "text:M/R Graphs 2017-21, link: /hq/index.php?option=com_docman&task=doc_download&gid=39679&lang=en\n",
      "text:M/R Graphs 2017-20, link: /hq/index.php?option=com_docman&task=doc_download&gid=39680&lang=en\n",
      "text:M/R Graphs 2017-19, link: /hq/index.php?option=com_docman&task=doc_download&gid=39678&lang=en\n",
      "text:M/R Graphs 2017-18, link: /hq/index.php?option=com_docman&task=doc_download&gid=39677&lang=en\n",
      "text:M/R Graphs 2017-17, link: /hq/index.php?option=com_docman&task=doc_download&gid=39676&lang=en\n",
      "text:M/R Graphs 2017-16, link: /hq/index.php?option=com_docman&task=doc_download&gid=38706&lang=en\n",
      "text:M/R Graphs 2017-15, link: /hq/index.php?option=com_docman&task=doc_download&gid=38705&lang=en\n",
      "text:M/R Graphs 2017-14, link: /hq/index.php?option=com_docman&task=doc_download&gid=38704&lang=en\n",
      "text:M/R Graphs 2017-13, link: /hq/index.php?option=com_docman&task=doc_download&gid=38703&lang=en\n",
      "text:M/R Graphs 2017-12, link: /hq/index.php?option=com_docman&task=doc_download&gid=38702&lang=en\n",
      "text:M/R Graphs 2017-11, link: /hq/index.php?option=com_docman&task=doc_download&gid=38701&lang=en\n",
      "text:M/R Graphs 2017-10, link: /hq/index.php?option=com_docman&task=doc_download&gid=38700&lang=en\n",
      "text:M/R Graphs 2017-09, link: /hq/index.php?option=com_docman&task=doc_download&gid=38699&lang=en\n",
      "text:M/R Graphs 2017-08, link: /hq/index.php?option=com_docman&task=doc_download&gid=38074&lang=en\n",
      "text:M/R Graphs 2017-07, link: /hq/index.php?option=com_docman&task=doc_download&gid=38075&lang=en\n",
      "text:M/R Graphs 2017-06, link: /hq/index.php?option=com_docman&task=doc_download&gid=38076&lang=en\n",
      "text:M/R Graphs 2017-05, link: /hq/index.php?option=com_docman&task=doc_download&gid=38077&lang=en\n",
      "text:M/R Graphs 2017-04, link: /hq/index.php?option=com_docman&task=doc_download&gid=37767&lang=en\n",
      "text:M/R Graphs 2017-03, link: /hq/index.php?option=com_docman&task=doc_download&gid=37768&lang=en\n",
      "text:M/R Graphs 2017-02, link: /hq/index.php?option=com_docman&task=doc_download&gid=36230&lang=en\n",
      "text:M/R Graphs 2017-01, link: /hq/index.php?option=com_docman&task=doc_download&gid=37691&lang=en\n",
      "text:M/R Graphs 2016-52, link: /hq/index.php?option=com_docman&task=doc_download&gid=37233&lang=en\n",
      "text:M/R Graphs 2016-51, link: /hq/index.php?option=com_docman&task=doc_download&gid=37236&lang=en\n",
      "text:M/R Graphs 2016-50, link: /hq/index.php?option=com_docman&task=doc_download&gid=37235&lang=en\n",
      "text:M/R Graphs 2016-49, link: /hq/index.php?option=com_docman&task=doc_download&gid=37234&lang=en\n",
      "text:M/R Graphs 2016-48, link: /hq/index.php?option=com_docman&task=doc_download&gid=37237&lang=en\n",
      "text:M/R Graphs 2016-47, link: /hq/index.php?option=com_docman&task=doc_download&gid=37238&lang=en\n",
      "text:M/R Graphs 2016-46, link: /hq/index.php?option=com_docman&task=doc_download&gid=37239&lang=en\n",
      "text:M/R Graphs 2016-45, link: /hq/index.php?option=com_docman&task=doc_download&gid=37231&lang=en\n",
      "text:M/R Graphs 2016-44, link: /hq/index.php?option=com_docman&task=doc_download&gid=37232&lang=en\n",
      "text:M/R Graphs 2016-43, link: /hq/index.php?option=com_docman&task=doc_download&gid=36234&lang=en\n",
      "text:M/R Graphs 2016-42, link: /hq/index.php?option=com_docman&task=doc_download&gid=36233&lang=en\n",
      "text:M/R Graphs 2016-41, link: /hq/index.php?option=com_docman&task=doc_download&gid=36232&lang=en\n",
      "text:M/R Graphs 2016-40, link: /hq/index.php?option=com_docman&task=doc_download&gid=36591&lang=en\n",
      "text:M/R Graphs 2016-39, link: /hq/index.php?option=com_docman&task=doc_download&gid=36463&lang=en\n",
      "text:M/R Graphs 2016-38, link: /hq/index.php?option=com_docman&task=doc_download&gid=36231&lang=en\n",
      "text:M/R Graphs 2016-37, link: /hq/index.php?option=com_docman&task=doc_download&gid=35938&lang=en\n",
      "text:M/R Graphs 2016-36, link: /hq/index.php?option=com_docman&task=doc_download&gid=35937&lang=en\n",
      "text:M/R Graphs 2016-35, link: /hq/index.php?option=com_docman&task=doc_download&gid=35936&lang=en\n",
      "text:M/R Graphs 2016-34, link: /hq/index.php?option=com_docman&task=doc_download&gid=35935&lang=en\n",
      "text:M/R Graphs 2016-33, link: /hq/index.php?option=com_docman&task=doc_download&gid=35417&lang=en\n",
      "text:M/R Graphs 2016-32, link: /hq/index.php?option=com_docman&task=doc_download&gid=35939&lang=en\n",
      "text:M/R Graphs 2016-31, link: /hq/index.php?option=com_docman&task=doc_download&gid=35416&lang=en\n",
      "text:M/R Graphs 2016-30, link: /hq/index.php?option=com_docman&task=doc_download&gid=35415&lang=en\n",
      "text:M/R Graphs 2016-29, link: /hq/index.php?option=com_docman&task=doc_download&gid=34689&lang=en\n",
      "text:M/R Graphs 2016-28, link: /hq/index.php?option=com_docman&task=doc_download&gid=35414&lang=en\n",
      "text:M/R Graphs 2016-27, link: /hq/index.php?option=com_docman&task=doc_download&gid=35418&lang=en\n",
      "text:M/R Graphs 2016-26, link: /hq/index.php?option=com_docman&task=doc_download&gid=34688&lang=en\n",
      "text:M/R Graphs 2016-25, link: /hq/index.php?option=com_docman&task=doc_download&gid=34687&lang=en\n",
      "text:M/R Graphs 2016-24, link: /hq/index.php?option=com_docman&task=doc_download&gid=34980&lang=en\n",
      "text:M/R Graphs 2016-23, link: /hq/index.php?option=com_docman&task=doc_download&gid=34979&lang=en\n",
      "text:M/R Graphs 2016-22, link: /hq/index.php?option=com_docman&task=doc_download&gid=34978&lang=en\n",
      "text:M/R Graphs 2016-21, link: /hq/index.php?option=com_docman&task=doc_download&gid=34686&lang=en\n",
      "text:M/R Graphs 2016-20, link: /hq/index.php?option=com_docman&task=doc_download&gid=34317&lang=en\n",
      "text:M/R Graphs 2016-19, link: /hq/index.php?option=com_docman&task=doc_download&gid=34316&lang=en\n",
      "text:M/R Graphs 2016-18, link: /hq/index.php?option=com_docman&task=doc_download&gid=34315&lang=en\n",
      "text:M/R Graphs 2016-17, link: /hq/index.php?option=com_docman&task=doc_download&gid=34318&lang=en\n",
      "text:M/R Graphs 2016-16, link: /hq/index.php?option=com_docman&task=doc_download&gid=33498&lang=en\n",
      "text:M/R Graphs 2016-15, link: /hq/index.php?option=com_docman&task=doc_download&gid=33499&lang=en\n",
      "text:M/R Graphs 2016-14, link: /hq/index.php?option=com_docman&task=doc_download&gid=33497&lang=en\n",
      "text:M/R Graphs 2016-13, link: /hq/index.php?option=com_docman&task=doc_download&gid=33496&lang=en\n",
      "text:M/R Graphs 2016-12, link: /hq/index.php?option=com_docman&task=doc_download&gid=33495&lang=en\n",
      "text:M/R Graphs 2016-11, link: /hq/index.php?option=com_docman&task=doc_download&gid=33946&lang=en\n",
      "text:M/R Graphs 2016-10, link: /hq/index.php?option=com_docman&task=doc_download&gid=33803&lang=en\n",
      "text:M/R Graphs 2016-09, link: /hq/index.php?option=com_docman&task=doc_download&gid=33690&lang=en\n",
      "text:M/R Graphs 2016-08, link: /hq/index.php?option=com_docman&task=doc_download&gid=33201&lang=en\n",
      "text:M/R Graphs 2016-07, link: /hq/index.php?option=com_docman&task=doc_download&gid=33202&lang=en\n",
      "text:M/R Graphs 2016-06, link: /hq/index.php?option=com_docman&task=doc_download&gid=33200&lang=en\n",
      "text:M/R Graphs 2016-05, link: /hq/index.php?option=com_docman&task=doc_download&gid=33203&lang=en\n",
      "text:M/R Graphs 2016-04, link: /hq/index.php?option=com_docman&task=doc_download&gid=32963&lang=en\n",
      "text:M/R Graphs 2016-03, link: /hq/index.php?option=com_docman&task=doc_download&gid=32964&lang=en\n",
      "text:M/R Graphs 2016-02, link: /hq/index.php?option=com_docman&task=doc_download&gid=32653&lang=en\n",
      "text:M/R Graphs 2016-01, link: /hq/index.php?option=com_docman&task=doc_download&gid=32853&lang=en\n",
      "text:M/R Graphs 2015-51, link: /hq/index.php?option=com_docman&task=doc_download&gid=32655&lang=en\n",
      "text:M/R Graphs 2015-52, link: /hq/index.php?option=com_docman&task=doc_download&gid=32654&lang=en\n",
      "text:M/R Graphs 2015-50, link: /hq/index.php?option=com_docman&task=doc_download&gid=31643&lang=en\n",
      "text:M/R Graphs 2015-49, link: /hq/index.php?option=com_docman&task=doc_download&gid=31642&lang=en\n",
      "text:M/R Graphs 2015-48, link: /hq/index.php?option=com_docman&task=doc_download&gid=31641&lang=en\n",
      "text:M/R Graphs 2015-47, link: /hq/index.php?option=com_docman&task=doc_download&gid=31640&lang=en\n",
      "text:M/R Graphs 2015-46, link: /hq/index.php?option=com_docman&task=doc_download&gid=31638&lang=en\n",
      "text:M/R Graphs 2015-45, link: /hq/index.php?option=com_docman&task=doc_download&gid=31639&lang=en\n",
      "text:M/R Graphs 2015-44, link: /hq/index.php?option=com_docman&task=doc_download&gid=31637&lang=en\n",
      "text:M/R Graphs 2015-43, link: /hq/index.php?option=com_docman&task=doc_download&gid=31635&lang=en\n",
      "text:M/R Graphs 2015-42, link: /hq/index.php?option=com_docman&task=doc_download&gid=31636&lang=en\n",
      "text:M/R Graphs 2015-41, link: /hq/index.php?option=com_docman&task=doc_download&gid=31634&lang=en\n",
      "text:M/R Graphs 2015-40, link: /hq/index.php?option=com_docman&task=doc_download&gid=31633&lang=en\n",
      "text:M/R Graphs 2015-39, link: /hq/index.php?option=com_docman&task=doc_download&gid=31632&lang=en\n",
      "text:M/R Graphs 2015-38, link: /hq/index.php?option=com_docman&task=doc_download&gid=31631&lang=en\n",
      "text:M/R Graphs 2015-37, link: /hq/index.php?option=com_docman&task=doc_download&gid=31644&lang=en\n",
      "text:M/R Graphs 2015-36, link: /hq/index.php?option=com_docman&task=doc_download&gid=31630&lang=en\n",
      "text:M/R Graphs 2015-35, link: /hq/index.php?option=com_docman&task=doc_download&gid=31130&lang=en\n",
      "text:M/R Graphs 2015-34, link: /hq/index.php?option=com_docman&task=doc_download&gid=31129&lang=en\n",
      "text:M/R Graphs 2015-33, link: /hq/index.php?option=com_docman&task=doc_download&gid=30494&lang=en\n",
      "text:M/R Graphs 2015-32, link: /hq/index.php?option=com_docman&task=doc_download&gid=30644&lang=en\n",
      "text:M/R Graphs 2015-31, link: /hq/index.php?option=com_docman&task=doc_download&gid=30919&lang=en\n",
      "text:M/R Graphs 2015-30, link: /hq/index.php?option=com_docman&task=doc_download&gid=30918&lang=en\n",
      "text:M/R Graphs 2015-29, link: /hq/index.php?option=com_docman&task=doc_download&gid=30917&lang=en\n",
      "text:M/R Graphs 2015-28, link: /hq/index.php?option=com_docman&task=doc_download&gid=31020&lang=en\n",
      "text:M/R Graphs 2015-27, link: /hq/index.php?option=com_docman&task=doc_download&gid=30920&lang=en\n",
      "text:M/R Graphs 2015-26, link: /hq/index.php?option=com_docman&task=doc_download&gid=30691&lang=en\n",
      "text:M/R Graphs 2015-25, link: /hq/index.php?option=com_docman&task=doc_download&gid=30690&lang=en\n",
      "text:M/R Graphs 2015-24, link: /hq/index.php?option=com_docman&task=doc_download&gid=30647&lang=en\n",
      "text:M/R Graphs 2015-23, link: /hq/index.php?option=com_docman&task=doc_download&gid=30646&lang=en\n",
      "text:M/R Graphs 2015-22, link: /hq/index.php?option=com_docman&task=doc_download&gid=30645&lang=en\n",
      "text:M/R Graphs 2015-21, link: /hq/index.php?option=com_docman&task=doc_download&gid=30643&lang=en\n",
      "text:M/R Graphs 2015-20, link: /hq/index.php?option=com_docman&task=doc_download&gid=30495&lang=en\n",
      "text:M/R Graphs 2015-19, link: /hq/index.php?option=com_docman&task=doc_download&gid=30496&lang=en\n",
      "text:M/R Graphs 2015-18, link: /hq/index.php?option=com_docman&task=doc_download&gid=30497&lang=en\n",
      "text:M/R Graphs 2015-17, link: /hq/index.php?option=com_docman&task=doc_download&gid=30104&lang=en\n",
      "text:M/R Graphs 2015-16, link: /hq/index.php?option=com_docman&task=doc_download&gid=30102&lang=en\n",
      "text:M/R Graphs 2015-15, link: /hq/index.php?option=com_docman&task=doc_download&gid=29835&lang=en\n",
      "text:M/R Graphs 2015-14, link: /hq/index.php?option=com_docman&task=doc_download&gid=29834&lang=en\n",
      "text:M/R Graphs 2015-13, link: /hq/index.php?option=com_docman&task=doc_download&gid=28985&lang=en\n",
      "text:M/R Graphs 2015-12, link: /hq/index.php?option=com_docman&task=doc_download&gid=29183&lang=en\n",
      "text:M/R Graphs 2015-11, link: /hq/index.php?option=com_docman&task=doc_download&gid=29658&lang=en\n",
      "text:M/R Graphs 2015-10, link: /hq/index.php?option=com_docman&task=doc_download&gid=28986&lang=en\n",
      "text:M/R Graphs 2015-09, link: /hq/index.php?option=com_docman&task=doc_download&gid=28987&lang=en\n",
      "text:M/R Graphs 2015-08, link: /hq/index.php?option=com_docman&task=doc_download&gid=28984&lang=en\n",
      "text:M/R Graphs 2015-07, link: /hq/index.php?option=com_docman&task=doc_download&gid=29182&lang=en\n",
      "text:M/R Graphs 2015-06, link: /hq/index.php?option=com_docman&task=doc_download&gid=29181&lang=en\n",
      "text:M/R Graphs 2015-05, link: /hq/index.php?option=com_docman&task=doc_download&gid=29180&lang=en\n",
      "text:M/R Graphs 2015-04, link: /hq/index.php?option=com_docman&task=doc_download&gid=28889&lang=en\n",
      "text:M/R Graphs 2015-03, link: /hq/index.php?option=com_docman&task=doc_download&gid=28887&lang=en\n",
      "text:M/R Graphs 2015-02, link: /hq/index.php?option=com_docman&task=doc_download&gid=28888&lang=en\n",
      "text:M/R Graphs 2015-01, link: /hq/index.php?option=com_docman&task=doc_download&gid=28781&lang=en\n",
      "text:M/R Graphs 2014-53, link: /hq/index.php?option=com_docman&task=doc_download&gid=32501&lang=en\n",
      "text:M/R Graphs 2014-52, link: /hq/index.php?option=com_docman&task=doc_download&gid=28720&lang=en\n",
      "text:M/R Graphs 2014-51, link: /hq/index.php?option=com_docman&task=doc_download&gid=28719&lang=en\n",
      "text:M/R Graphs 2014-50, link: /hq/index.php?option=com_docman&task=doc_download&gid=28665&lang=en\n",
      "text:M/R Graphs 2014-49, link: /hq/index.php?option=com_docman&task=doc_download&gid=28624&lang=en\n",
      "text:M/R Graphs 2014-48, link: /hq/index.php?option=com_docman&task=doc_download&gid=28366&lang=en\n",
      "text:M/R Graphs 2014-47, link: /hq/index.php?option=com_docman&task=doc_download&gid=28368&lang=en\n",
      "text:M/R Graphs 2014-46, link: /hq/index.php?option=com_docman&task=doc_download&gid=28367&lang=en\n",
      "text:M/R Graphs 2014-45, link: /hq/index.php?option=com_docman&task=doc_download&gid=28200&lang=en\n",
      "text:M/R Graphs 2014-44, link: /hq/index.php?option=com_docman&task=doc_download&gid=28201&lang=en\n",
      "text:M/R Graphs 2014-43, link: /hq/index.php?option=com_docman&task=doc_download&gid=27977&lang=en\n",
      "text:M/R Graphs 2014-42, link: /hq/index.php?option=com_docman&task=doc_download&gid=27975&lang=en\n",
      "text:M/R Graphs 2014-41, link: /hq/index.php?option=com_docman&task=doc_download&gid=27694&lang=en\n",
      "text:M/R Graphs 2014-40, link: /hq/index.php?option=com_docman&task=doc_download&gid=27627&lang=en\n",
      "text:M/R Graphs 2014-39, link: /hq/index.php?option=com_docman&task=doc_download&gid=27586&lang=en\n",
      "text:M/R Graphs 2014-38, link: /hq/index.php?option=com_docman&task=doc_download&gid=27585&lang=en\n",
      "text:M/R Graphs 2014-37, link: /hq/index.php?option=com_docman&task=doc_download&gid=27355&lang=en\n",
      "text:M/R Graphs 2014-36, link: /hq/index.php?option=com_docman&task=doc_download&gid=27255&lang=en\n",
      "text:M/R Graphs 2014-35, link: /hq/index.php?option=com_docman&task=doc_download&gid=27096&lang=en\n",
      "text:M/R Graphs 2014-34, link: /hq/index.php?option=com_docman&task=doc_download&gid=27095&lang=en\n",
      "text:M/R Graphs 2014-33, link: /hq/index.php?option=com_docman&task=doc_download&gid=27094&lang=en\n",
      "text:M/R Graphs 2014-32, link: /hq/index.php?option=com_docman&task=doc_download&gid=26709&lang=en\n",
      "text:M/R Graphs 2014-31, link: /hq/index.php?option=com_docman&task=doc_download&gid=26492&lang=en\n",
      "text:M/R Graphs 2014-30, link: /hq/index.php?option=com_docman&task=doc_download&gid=26491&lang=en\n",
      "text:M/R Graphs 2014-29, link: /hq/index.php?option=com_docman&task=doc_download&gid=26325&lang=en\n",
      "text:M/R Graphs 2014-28, link: /hq/index.php?option=com_docman&task=doc_download&gid=26212&lang=en\n",
      "text:M/R Graphs 2014-27, link: /hq/index.php?option=com_docman&task=doc_download&gid=26160&lang=en\n",
      "text:M/R Graphs 2014-26, link: /hq/index.php?option=com_docman&task=doc_download&gid=26096&lang=en\n",
      "text:M/R Graphs 2014-25, link: /hq/index.php?option=com_docman&task=doc_download&gid=25907&lang=en\n",
      "text:M/R Graphs 2014-24, link: /hq/index.php?option=com_docman&task=doc_download&gid=25905&lang=en\n",
      "text:M/R Graphs 2014-23, link: /hq/index.php?option=com_docman&task=doc_download&gid=25906&lang=en\n",
      "text:M/R Graphs 2014-22, link: /hq/index.php?option=com_docman&task=doc_download&gid=26217&lang=en\n",
      "text:M/R Graphs 2014-21, link: /hq/index.php?option=com_docman&task=doc_download&gid=25747&lang=en\n",
      "text:M/R Graphs 2014-20, link: /hq/index.php?option=com_docman&task=doc_download&gid=25672&lang=en\n",
      "text:M/R Graphs 2014-19, link: /hq/index.php?option=com_docman&task=doc_download&gid=25557&lang=en\n",
      "text:M/R Graphs 2014-18, link: /hq/index.php?option=com_docman&task=doc_download&gid=25467&lang=en\n",
      "text:M/R Graphs 2014-17, link: /hq/index.php?option=com_docman&task=doc_download&gid=25366&lang=en\n",
      "text:M/R Graphs 2014-16, link: /hq/index.php?option=com_docman&task=doc_download&gid=25300&lang=en\n",
      "text:M/R Graphs 2014-15, link: /hq/index.php?option=com_docman&task=doc_download&gid=25021&lang=en\n",
      "text:M/R Graphs 2014-14, link: /hq/index.php?option=com_docman&task=doc_download&gid=25020&lang=en\n",
      "text:M/R Graphs 2014-13, link: /hq/index.php?option=com_docman&task=doc_download&gid=24805&lang=en\n",
      "text:M/R Graphs 2014-12 , link: /hq/index.php?option=com_docman&task=doc_download&gid=24803&lang=en\n",
      "text:M/R Graphs 2014-11, link: /hq/index.php?option=com_docman&task=doc_download&gid=24614&lang=en\n",
      "text:M/R Graphs 2014-10, link: /hq/index.php?option=com_docman&task=doc_download&gid=24558&lang=en\n",
      "text:M/R Graphs 2014-09, link: /hq/index.php?option=com_docman&task=doc_download&gid=24465&lang=en\n",
      "text:M/R Graphs 2014-08, link: /hq/index.php?option=com_docman&task=doc_download&gid=24459&lang=en\n",
      "text:M/R Graphs 2014-07, link: /hq/index.php?option=com_docman&task=doc_download&gid=24454&lang=en\n",
      "text:M/R Graphs 2014-06, link: /hq/index.php?option=com_docman&task=doc_download&gid=24250&lang=en\n",
      "text:M/R Graphs 2014-05, link: /hq/index.php?option=com_docman&task=doc_download&gid=24201&lang=en\n",
      "text:M/R Graphs 2014-04, link: /hq/index.php?option=com_docman&task=doc_download&gid=24121&lang=en\n",
      "text:M/R Graphs 2014-03, link: /hq/index.php?option=com_docman&task=doc_download&gid=24034&lang=en\n",
      "text:M/R Graphs 2014-02, link: /hq/index.php?option=com_docman&task=doc_download&gid=24033&lang=en\n",
      "text:M/R Graphs 2014-01, link: /hq/index.php?option=com_docman&task=doc_download&gid=24032&lang=en\n",
      "text:M/R Graphs 2013-52, link: /hq/index.php?option=com_docman&task=doc_download&gid=23914&lang=en\n",
      "text:M/R Graphs 2013-51, link: /hq/index.php?option=com_docman&task=doc_download&gid=23896&lang=en\n",
      "text:M/R Graphs 2013-50, link: /hq/index.php?option=com_docman&task=doc_download&gid=23880&lang=en\n",
      "text:M/R Graphs 2013-49, link: /hq/index.php?option=com_docman&task=doc_download&gid=23841&lang=en\n",
      "text:M/R Graphs 2013-48, link: /hq/index.php?option=com_docman&task=doc_download&gid=23787&lang=en\n",
      "text:M/R Graphs 2013-47, link: /hq/index.php?option=com_docman&task=doc_download&gid=23723&lang=en\n",
      "text:M/R Graphs 2013-46, link: /hq/index.php?option=com_docman&task=doc_download&gid=23722&lang=en\n",
      "text:M/R Graphs 2013-45, link: /hq/index.php?option=com_docman&task=doc_download&gid=23683&lang=en\n",
      "text:M/R Graphs 2013-45, link: /hq/index.php?option=com_docman&task=doc_download&gid=23721&lang=en\n",
      "text:M/R Graphs 2013-44, link: /hq/index.php?option=com_docman&task=doc_download&gid=23522&lang=en\n",
      "text:M/R Graphs 2013-43, link: /hq/index.php?option=com_docman&task=doc_download&gid=23495&lang=en\n",
      "text:M/R Graphs 2013-42, link: /hq/index.php?option=com_docman&task=doc_download&gid=23427&lang=en\n",
      "text:M/R Graphs 2013-41, link: /hq/index.php?option=com_docman&task=doc_download&gid=23383&lang=en\n",
      "text:M/R Graphs 2013-40, link: /hq/index.php?option=com_docman&task=doc_download&gid=23314&lang=en\n",
      "text:M/R Graphs 2013-39, link: /hq/index.php?option=com_docman&task=doc_download&gid=23200&lang=en\n",
      "text:M/R Graphs 2013-39, link: /hq/index.php?option=com_docman&task=doc_download&gid=23199&lang=en\n",
      "text:M/R Graphs 2013-38, link: /hq/index.php?option=com_docman&task=doc_download&gid=23095&lang=en\n",
      "text:M/R Graphs 2013-37, link: /hq/index.php?option=com_docman&task=doc_download&gid=23030&lang=en\n",
      "text:M/R Graphs 2013-36, link: /hq/index.php?option=com_docman&task=doc_download&gid=22976&lang=en\n",
      "text:M/R Graphs 2013-35, link: /hq/index.php?option=com_docman&task=doc_download&gid=22974&lang=en\n",
      "text:M/R Graphs 2013-34, link: /hq/index.php?option=com_docman&task=doc_download&gid=22787&lang=en\n",
      "text:M/R Graphs 2013-33, link: /hq/index.php?option=com_docman&task=doc_download&gid=22735&lang=en\n",
      "text:M/R Graphs 2013-32, link: /hq/index.php?option=com_docman&task=doc_download&gid=22630&lang=en\n",
      "text:M/R Graphs 2013-31, link: /hq/index.php?option=com_docman&task=doc_download&gid=22588&lang=en\n",
      "text:M/R Graphs 2013-30, link: /hq/index.php?option=com_docman&task=doc_download&gid=22479&lang=en\n",
      "text:M/R Graphs 2013-29, link: /hq/index.php?option=com_docman&task=doc_download&gid=22431&lang=en\n",
      "text:M/R Graphs 2013-28, link: /hq/index.php?option=com_docman&task=doc_download&gid=22430&lang=en\n",
      "text:M/R Graphs 2013-27, link: /hq/index.php?option=com_docman&task=doc_download&gid=22293&lang=en\n",
      "text:M/R Graphs 2013-26, link: /hq/index.php?option=com_docman&task=doc_download&gid=22236&lang=en\n",
      "text:M/R Graphs 2013-25, link: /hq/index.php?option=com_docman&task=doc_download&gid=22235&lang=en\n",
      "text:M/R Graphs 2013-24, link: /hq/index.php?option=com_docman&task=doc_download&gid=22116&lang=en\n",
      "text:M/R Graphs 2013-23, link: /hq/index.php?option=com_docman&task=doc_download&gid=22114&lang=en\n",
      "text:M/R Graphs 2013-22, link: /hq/index.php?option=com_docman&task=doc_download&gid=21869&lang=en\n",
      "text:M/R Graphs 2013-21, link: /hq/index.php?option=com_docman&task=doc_download&gid=21868&lang=en\n",
      "text:M/R Graphs 2013-20, link: /hq/index.php?option=com_docman&task=doc_download&gid=21867&lang=en\n",
      "text:M/R Graphs 2013-19, link: /hq/index.php?option=com_docman&task=doc_download&gid=21866&lang=en\n",
      "text:M/R Graphs 2013-18, link: /hq/index.php?option=com_docman&task=doc_download&gid=21525&lang=en\n",
      "text:M/R Graphs 2013-17, link: /hq/index.php?option=com_docman&task=doc_download&gid=21405&lang=en\n",
      "text:M/R Graphs 2013-16, link: /hq/index.php?option=com_docman&task=doc_download&gid=21287&lang=en\n",
      "text:M/R Graphs 2013-15, link: /hq/index.php?option=com_docman&task=doc_download&gid=21286&lang=en\n",
      "text:M/R Graphs 2013-14, link: /hq/index.php?option=com_docman&task=doc_download&gid=21285&lang=en\n",
      "text:M/R Graphs 2013-12, link: /hq/index.php?option=com_docman&task=doc_download&gid=21007&lang=en\n",
      "text:M/R Graphs 2013-11, link: /hq/index.php?option=com_docman&task=doc_download&gid=21006&lang=en\n",
      "text:M/R Graphs 2013-10, link: /hq/index.php?option=com_docman&task=doc_download&gid=20822&lang=en\n",
      "text:M/R Graphs 2013-09, link: /hq/index.php?option=com_docman&task=doc_download&gid=20821&lang=en\n",
      "text:M/R Graphs 2013-08, link: /hq/index.php?option=com_docman&task=doc_download&gid=20424&lang=en\n",
      "text:M/R Graphs 2013-07, link: /hq/index.php?option=com_docman&task=doc_download&gid=20215&lang=en\n",
      "text:M/R Graphs 2013-06, link: /hq/index.php?option=com_docman&task=doc_download&gid=20150&lang=en\n",
      "text:M/R Graphs 2013-05, link: /hq/index.php?option=com_docman&task=doc_download&gid=20075&lang=en\n",
      "text:M/R Graphs 2013-04, link: /hq/index.php?option=com_docman&task=doc_download&gid=20002&lang=en\n",
      "text:M/R Graphs 2013-03, link: /hq/index.php?option=com_docman&task=doc_download&gid=20001&lang=en\n",
      "text:M/R Graphs 2013-02, link: /hq/index.php?option=com_docman&task=doc_download&gid=19862&lang=en\n",
      "text:M/R Graphs 2013-01 , link: /hq/index.php?option=com_docman&task=doc_download&gid=19718&lang=en\n",
      "text:M/R Graphs 2012-52, link: /hq/index.php?option=com_docman&task=doc_download&gid=19653&lang=en\n",
      "text:M/R Graphs 2012-50 , link: /hq/index.php?option=com_docman&task=doc_download&gid=23895&lang=en\n",
      "text:M/R Graphs 2012-49, link: /hq/index.php?option=com_docman&task=doc_download&gid=19571&lang=en\n",
      "text:M/R Graphs 2012-48, link: /hq/index.php?option=com_docman&task=doc_download&gid=19570&lang=en\n",
      "text:M/R Graphs 2012-47, link: /hq/index.php?option=com_docman&task=doc_download&gid=19569&lang=en\n",
      "text:M/R Graphs 2012-46, link: /hq/index.php?option=com_docman&task=doc_download&gid=19473&lang=en\n",
      "text:M/R Graphs 2012-45, link: /hq/index.php?option=com_docman&task=doc_download&gid=19477&lang=en\n",
      "text:M/R Graphs 2012-44, link: /hq/index.php?option=com_docman&task=doc_download&gid=19288&lang=en\n",
      "text:M/R Graphs 2012-43, link: /hq/index.php?option=com_docman&task=doc_download&gid=19287&lang=en\n",
      "text:M/R Graphs 2012-42, link: /hq/index.php?option=com_docman&task=doc_download&gid=19183&lang=en\n",
      "text:M/R Graphs 2012-41, link: /hq/index.php?option=com_docman&task=doc_download&gid=19182&lang=en\n",
      "text:M/R Graphs 2012-40, link: /hq/index.php?option=com_docman&task=doc_download&gid=19069&lang=en\n",
      "text:M/R Graphs 2012-39, link: /hq/index.php?option=com_docman&task=doc_download&gid=19189&lang=en\n",
      "text:M/R Graphs 2012-38, link: /hq/index.php?option=com_docman&task=doc_download&gid=18992&lang=en\n",
      "text:M/R Graphs 2012-37, link: /hq/index.php?option=com_docman&task=doc_download&gid=18991&lang=en\n",
      "text:M/R Graphs 2012-36, link: /hq/index.php?option=com_docman&task=doc_download&gid=18990&lang=en\n",
      "text:M/R Graphs 2012-35, link: /hq/index.php?option=com_docman&task=doc_download&gid=18989&lang=en\n",
      "text:M/R Graphs 2012-34, link: /hq/index.php?option=com_docman&task=doc_download&gid=18988&lang=en\n",
      "text:M/R Graphs 2012-33, link: /hq/index.php?option=com_docman&task=doc_download&gid=18598&lang=en\n",
      "text:M/R Graphs 2012-32, link: /hq/index.php?option=com_docman&task=doc_download&gid=19186&lang=en\n",
      "text:M/R Graphs 2012-31, link: /hq/index.php?option=com_docman&task=doc_download&gid=18465&lang=en\n",
      "text:M/R Graphs 2012-30, link: /hq/index.php?option=com_docman&task=doc_download&gid=18409&lang=en\n",
      "text:M/R Graphs 2012-29, link: /hq/index.php?option=com_docman&task=doc_download&gid=18350&lang=en\n",
      "text:M/R Graphs 2012-28, link: /hq/index.php?option=com_docman&task=doc_download&gid=18319&lang=en\n",
      "text:M/R Graphs 2012-27, link: /hq/index.php?option=com_docman&task=doc_download&gid=18245&lang=en\n",
      "text:M/R Graphs 2012-26, link: /hq/index.php?option=com_docman&task=doc_download&gid=18202&lang=en\n",
      "text:M/R Graphs 2012-25, link: /hq/index.php?option=com_docman&task=doc_download&gid=18203&lang=en\n",
      "text:M/R Graphs 2012-24, link: /hq/index.php?option=com_docman&task=doc_download&gid=18201&lang=en\n",
      "text:M/R Graphs 2012-23, link: /hq/index.php?option=com_docman&task=doc_download&gid=17982&lang=en\n",
      "text:M/R Graphs 2012-22, link: /hq/index.php?option=com_docman&task=doc_download&gid=17909&lang=en\n",
      "text:M/R Graphs 2012-21, link: /hq/index.php?option=com_docman&task=doc_download&gid=18215&lang=en\n",
      "text:M/R Graphs 2012-20, link: /hq/index.php?option=com_docman&task=doc_download&gid=17823&lang=en\n",
      "text:M/R Graphs 2012-18, link: /hq/index.php?option=com_docman&task=doc_download&gid=17700&lang=en\n",
      "text:M/R Graphs 2012-17, link: /hq/index.php?option=com_docman&task=doc_download&gid=17590&lang=en\n",
      "text:M/R Graphs 2012-16, link: /hq/index.php?option=com_docman&task=doc_download&gid=17487&lang=en\n",
      "text:M/R Graphs 2012-15, link: /hq/index.php?option=com_docman&task=doc_download&gid=17375&lang=en\n",
      "text:M/R Graphs 2012-14, link: /hq/index.php?option=com_docman&task=doc_download&gid=17333&lang=en\n",
      "text:M/R Graphs 2012-13, link: /hq/index.php?option=com_docman&task=doc_download&gid=17277&lang=en\n",
      "text:M/R Graphs 2012-12, link: /hq/index.php?option=com_docman&task=doc_download&gid=17255&lang=en\n",
      "text:M/R Graphs 2012-11, link: /hq/index.php?option=com_docman&task=doc_download&gid=17225&lang=en\n",
      "text:M/R Graphs 2012-10, link: /hq/index.php?option=com_docman&task=doc_download&gid=17188&lang=en\n",
      "text:M/R Graphs 2012-09, link: /hq/index.php?option=com_docman&task=doc_download&gid=17187&lang=en\n",
      "text:M/R Graphs 2012-08, link: /hq/index.php?option=com_docman&task=doc_download&gid=17049&lang=en\n",
      "text:M/R Graphs 2012-07, link: /hq/index.php?option=com_docman&task=doc_download&gid=16987&lang=en\n",
      "text:M/R Graphs 2012-06, link: /hq/index.php?option=com_docman&task=doc_download&gid=16952&lang=en\n",
      "text:M/R Graphs 2012-05, link: /hq/index.php?option=com_docman&task=doc_download&gid=16919&lang=en\n",
      "text:M/R Graphs 2012-04, link: /hq/index.php?option=com_docman&task=doc_download&gid=16808&lang=en\n",
      "text:M/R Graphs 2012-03, link: /hq/index.php?option=com_docman&task=doc_download&gid=16735&lang=en\n",
      "text:M/R Graphs 2012-02, link: /hq/index.php?option=com_docman&task=doc_download&gid=16702&lang=en\n",
      "text:M/R Graphs 2012-01, link: /hq/index.php?option=com_docman&task=doc_download&gid=16658&lang=en\n",
      "text:M/R Graphs 2011-52, link: /hq/index.php?option=com_docman&task=doc_download&gid=16311&lang=en\n",
      "text:M/R Graphs 2011-51, link: /hq/index.php?option=com_docman&task=doc_download&gid=16250&lang=en\n",
      "text:M/R Graphs 2011-50, link: /hq/index.php?option=com_docman&task=doc_download&gid=16193&lang=en\n",
      "text:M/R Graphs 2011-49, link: /hq/index.php?option=com_docman&task=doc_download&gid=16099&lang=en\n",
      "text:M/R Graphs 2011-48, link: /hq/index.php?option=com_docman&task=doc_download&gid=16052&lang=en\n",
      "text:M/R Graphs 2011-46, link: /hq/index.php?option=com_docman&task=doc_download&gid=15773&lang=en\n",
      "text:M/R Graphs 2011-45, link: /hq/index.php?option=com_docman&task=doc_download&gid=15705&lang=en\n",
      "text:M/R Graphs 2011-44, link: /hq/index.php?option=com_docman&task=doc_download&gid=15564&lang=en\n",
      "text:M/R Graphs 2011-43, link: /hq/index.php?option=com_docman&task=doc_download&gid=15462&lang=en\n",
      "text:M/R Graphs 2011-42, link: /hq/index.php?option=com_docman&task=doc_download&gid=15284&lang=en\n",
      "text:M/R Graphs 2011-41, link: /hq/index.php?option=com_docman&task=doc_download&gid=15227&lang=en\n",
      "text:M/R Graphs 2011-40, link: /hq/index.php?option=com_docman&task=doc_download&gid=15228&lang=en\n",
      "text:M/R Graphs 2011-39, link: /hq/index.php?option=com_docman&task=doc_download&gid=15088&lang=en\n",
      "text:M/R Graphs 2011-38, link: /hq/index.php?option=com_docman&task=doc_download&gid=14984&lang=en\n",
      "text:M/R Graphs 2011-37, link: /hq/index.php?option=com_docman&task=doc_download&gid=14924&lang=en\n",
      "text:M/R Graphs 2011-36, link: /hq/index.php?option=com_docman&task=doc_download&gid=14855&lang=en\n",
      "text:M/R Graphs 2011-35, link: /hq/index.php?option=com_docman&task=doc_download&gid=14770&lang=en\n",
      "text:M/R Graphs 2011-34, link: /hq/index.php?option=com_docman&task=doc_download&gid=14731&lang=en\n",
      "text:M/R Graphs 2011-33, link: /hq/index.php?option=com_docman&task=doc_download&gid=14734&lang=en\n",
      "text:M/R Graphs 2011-32, link: /hq/index.php?option=com_docman&task=doc_download&gid=14733&lang=en\n",
      "text:M/R Graphs 2011-31, link: /hq/index.php?option=com_docman&task=doc_download&gid=14401&lang=en\n",
      "text:M/R Graphs 2011-30, link: /hq/index.php?option=com_docman&task=doc_download&gid=14290&lang=en\n",
      "text:M/R Graphs 2011-29, link: /hq/index.php?option=com_docman&task=doc_download&gid=14199&lang=en\n",
      "text:M/R Graphs 2011-28, link: /hq/index.php?option=com_docman&task=doc_download&gid=15233&lang=en\n",
      "text:M/R Graphs 2011-26, link: /hq/index.php?option=com_docman&task=doc_download&gid=13870&lang=en\n",
      "text:M/R Graphs 2011-25, link: /hq/index.php?option=com_docman&task=doc_download&gid=13869&lang=en\n",
      "text:M/R Graphs 2011-24, link: /hq/index.php?option=com_docman&task=doc_download&gid=13725&lang=en\n",
      "text:M/R Graphs 2011-23, link: /hq/index.php?option=com_docman&task=doc_download&gid=13572&lang=en\n",
      "text:M/R Graphs 2011-22, link: /hq/index.php?option=com_docman&task=doc_download&gid=13420&lang=en\n",
      "text:M/R Graphs 2011-21, link: /hq/index.php?option=com_docman&task=doc_download&gid=13298&lang=en\n",
      "text:M/R Graphs 2011-20, link: /hq/index.php?option=com_docman&task=doc_download&gid=13193&lang=en\n",
      "text:M/R Graphs 2011-19, link: /hq/index.php?option=com_docman&task=doc_download&gid=13058&lang=en\n",
      "text:M/R Graphs 2011-18, link: /hq/index.php?option=com_docman&task=doc_download&gid=12950&lang=en\n",
      "text:M/R Graphs 2011-17, link: /hq/index.php?option=com_docman&task=doc_download&gid=12834&lang=en\n",
      "text:M/R Graphs 2011-16, link: /hq/index.php?option=com_docman&task=doc_download&gid=12796&lang=en\n",
      "text:M/R Graphs 2011-15, link: /hq/index.php?option=com_docman&task=doc_download&gid=12744&lang=en\n",
      "text:M/R Graphs 2011-14, link: /hq/index.php?option=com_docman&task=doc_download&gid=12697&lang=en\n",
      "text:M/R Graphs 2011-13, link: /hq/index.php?option=com_docman&task=doc_download&gid=12615&lang=en\n",
      "text:M/R Graphs 2011-12, link: /hq/index.php?option=com_docman&task=doc_download&gid=12487&lang=en\n",
      "text:M/R Graphs 2011-11, link: /hq/index.php?option=com_docman&task=doc_download&gid=12451&lang=en\n",
      "text:M/R Graphs 2011-10, link: /hq/index.php?option=com_docman&task=doc_download&gid=12357&lang=en\n",
      "text:M/R Graphs 2011-09, link: /hq/index.php?option=com_docman&task=doc_download&gid=12194&lang=en\n",
      "text:M/R Graphs 2011-08, link: /hq/index.php?option=com_docman&task=doc_download&gid=12132&lang=en\n",
      "text:M/R Graphs 2011-07, link: /hq/index.php?option=com_docman&task=doc_download&gid=12096&lang=en\n",
      "text:M/R Graphs 2011-06, link: /hq/index.php?option=com_docman&task=doc_download&gid=12052&lang=en\n",
      "text:M/R Graphs 2011-05, link: /hq/index.php?option=com_docman&task=doc_download&gid=11976&lang=en\n",
      "text:M/R Graphs 2011-04, link: /hq/index.php?option=com_docman&task=doc_download&gid=11905&lang=en\n",
      "text:M/R Graphs 2011-03, link: /hq/index.php?option=com_docman&task=doc_download&gid=11906&lang=en\n",
      "text:M/R Graphs 2011-02, link: /hq/index.php?option=com_docman&task=doc_download&gid=11605&lang=en\n",
      "text:M/R Graphs 2011-01, link: /hq/index.php?option=com_docman&task=doc_download&gid=11574&lang=en\n",
      "text:M/R Graphs 2010-52, link: /hq/index.php?option=com_docman&task=doc_download&gid=11578&lang=en\n",
      "text:M/R Graphs 2010-51, link: /hq/index.php?option=com_docman&task=doc_download&gid=11577&lang=en\n",
      "text:M/R Graphs 2010-50, link: /hq/index.php?option=com_docman&task=doc_download&gid=11576&lang=en\n",
      "text:Visit the Family, Health Promotion and Life Course (FPL) Department Homepage, link: /hq/index.php?option=com_content&view=article&id=5078&Itemid=1237&lang=en\n",
      "text:, link: /hq/index.php?option=com_docman&task=doc_download&Itemid=270&gid=44297&lang=en\n",
      "text:Guidance for testing of measles and rubella in the Laboratory Network in the Americas, link: /hq/index.php?option=com_docman&task=doc_download&Itemid=270&gid=44297&lang=en\n",
      "text:More videos, link: https://www.youtube.com/playlist?list=PL6hS8Moik7ks1rMhghOtWN7EN0grMrvcY\n",
      "text:Vaccinate your children against measles, link: /hq/index.php?option=com_docman&task=doc_download&gid=46141&Itemid=270&lang=en\n",
      "text:Poster, link: /hq/index.php?option=com_docman&task=doc_download&gid=46144&Itemid=270&lang=en\n",
      "text:Bye Bye Measles and Rubella!, link: /hq/index.php?option=com_docman&task=doc_download&gid=36746&Itemid=270&lang=en\n",
      "text:The Americas vs. Measles and Rubella, link: /hq/index.php?option=com_docman&task=doc_download&gid=25032&Itemid=270&lang=en\n",
      "text:  Find us on Facebook, link: https://www.facebook.com/PAHOWHO\n",
      "text: Find us on Twitter, link: https://twitter.com/pahowho\n",
      "text: Find us on Instagram, link: https://www.instagram.com/opspaho/\n",
      "text:  Find us on LinkedIn , link: https://www.linkedin.com/company/pan-american-health-organization\n",
      "text: Find us on Youtube, link: https://www.youtube.com/pahopin\n",
      "text: Find us on Flickr, link: https://www.flickr.com/photos/pahowho/albums\n",
      "text: RSS, link: /hq/index.php?format=feed&type=rss\n",
      "text:Home, link: /hq/index.php?option=com_content&view=featured&Itemid=101&lang=en\n",
      "text:Topics, link: /hq/index.php?option=com_topics&view=topics&Itemid=40241&lang=en\n",
      "text:Programs, link: /hq/index.php?option=com_pronpro&view=pronpro&Itemid=298&lang=en\n",
      "text:Media, link: /hq/index.php?option=com_content&view=article&id=964&Itemid=958&lang=en\n",
      "text:Publications, link: /hq/index.php?option=com_content&view=article&id=1245&Itemid=1497&lang=en\n",
      "text:Data, link: http://www.paho.org/data/index.php/en/\n",
      "text:Countries & Centers, link: /hq/index.php?option=com_wrapper&view=wrapper&Itemid=2005&lang=en\n",
      "text:Governing Bodies, link: /hq/index.php?option=com_content&view=article&id=42&Itemid=419&lang=en\n",
      "text:About PAHO, link: /hq/index.php?option=com_content&view=article&id=91&Itemid=220&lang=en\n",
      "text:Integrity and Conflict Management System (ICMS), link: /hq/index.php?option=com_content&view=article&id=2001&Itemid=1743&lang=en\n",
      "text:Doing Business with PAHO, link: https://www.paho.org/hq/index.php?option=com_content&view=article&id=186:doing-business-with-paho&Itemid=1110&lang=en\n",
      "text:Employment, link: /hq/index.php?option=com_content&view=article&id=1357&Itemid=1213&lang=en\n",
      "text:Internships, link: /hq/index.php?option=com_content&view=article&id=1489&Itemid=4245&lang=en\n",
      "text:Privacy Policy, link: /hq/index.php?option=com_content&view=article&id=3201&Itemid=2410&lang=en\n",
      "text:Events, link: /hq/index.php?option=com_jem&view=eventslist&Itemid=39913&lang=en\n",
      "text:PAHO Helpline, link: https://secure.ethicspoint.com/domain/media/en/gui/47242/index.html\n",
      "text:Contact Us, link: /hq/index.php?option=com_content&view=article&id=9363&Itemid=40179&lang=en\n",
      "text:PAHO/WHO Collaborating Centers, link: http://www.paho.org/collaboratingcenters\n",
      "text:IRIS Digital Library, link: http://iris.paho.org/xmlui\n",
      "text:Virtual Health Library, link: http://bvsalud.org/en/\n",
      "text:Virtual Campus for Public Health, link: http://www.campusvirtualsp.org/?q=en\n",
      "text:Complete news listing, link: /hq/index.php?option=com_content&view=article&id=5254&Itemid=3799&lang=en\n"
     ]
    }
   ],
   "source": [
    "for url in list_soup.find_all('a'):\n",
    "    print(f\"text:{url.text}, link: {url.get('href')}\")"
   ]
  },
  {
   "cell_type": "code",
   "execution_count": 89,
   "metadata": {},
   "outputs": [],
   "source": [
    "for url in list_soup.find_all('a'):\n",
    "    url_match = no_slash_match.match(url.text)\n",
    "    if url_match is not None:\n",
    "        report_list_2.append(\n",
    "            {\n",
    "                'link': url.text,\n",
    "                'url': url.get('href'),\n",
    "                'number': url_match.group(1),\n",
    "                'day': url_match.group(2),\n",
    "                'month': url_match.group(3),\n",
    "                'year': url_match.group(4),               \n",
    "            }\n",
    "        )"
   ]
  },
  {
   "cell_type": "code",
   "execution_count": 91,
   "metadata": {},
   "outputs": [
    {
     "data": {
      "text/plain": [
       "{'link': 'Measles Rubella Weekly Bulletin (43) - 26 October 2019',\n",
       " 'url': '/hq/index.php?option=com_docman&task=doc_download&gid=50933&lang=en',\n",
       " 'number': '43',\n",
       " 'day': '26',\n",
       " 'month': 'October',\n",
       " 'year': '2019'}"
      ]
     },
     "execution_count": 91,
     "metadata": {},
     "output_type": "execute_result"
    }
   ],
   "source": [
    "report_list_2[4]"
   ]
  },
  {
   "cell_type": "code",
   "execution_count": 159,
   "metadata": {},
   "outputs": [],
   "source": [
    "#def read_pdf(url, file):\n",
    "def read_pdf(file):\n",
    "    try:\n",
    "    \n",
    "        #print(file)\n",
    "        #print(url)\n",
    "        filepath = 'tmp/' + file\n",
    "        #filepath = file\n",
    "        #with open(filepath, 'wb') as f:\n",
    "        #    f.write(requests.get(url, verify=False).content)\n",
    "        \n",
    "        tables = camelot.read_pdf(filepath, flavor='stream', edge_tol=500, row_tol=9, strip_text='\\n', table_areas=['10, 360, 600, 90'])\n",
    "                \n",
    "        table = tables[0].df\n",
    "        \n",
    "        epi_flag = False\n",
    "        \n",
    "        print(table.shape)\n",
    "        \n",
    "        if table.shape[1] == 17:\n",
    "            epi_flag = True\n",
    "            table.columns = cols_w_epi\n",
    "        else:\n",
    "            table.columns = cols\n",
    "        \n",
    "        data_start = table[table.loc[:, 'Subregion and Country'] == 'AND BOL'].index[0]        \n",
    "        data_end = table[table.loc[:, 'Subregion and Country'] == 'TOTAL'].index[0]\n",
    "        \n",
    "        data = table.loc[data_start:data_end,:]\n",
    "        # data.drop(10, axis=1, inplace=True)\n",
    "                \n",
    "        new = data['Subregion and Country'].str.split(' ', n=1, expand=True)\n",
    "        \n",
    "        data['Subregion']= new[0] \n",
    "        data['Country']= new[1] \n",
    "\n",
    "        data.drop(columns =['Subregion and Country'], inplace = True)\n",
    "\n",
    "        if epi_flag:\n",
    "            data = data[new_cols_w_epi]\n",
    "        else:\n",
    "            data = data[new_cols]\n",
    "        \n",
    "        data['Country'] = np.where([i is None for i in data['Country'].tolist()], data['Subregion'], data['Country'])\n",
    "        \n",
    "        if epi_flag:\n",
    "            ven_df = data.loc[(data.Country == 'VEN'), ['Susp. Cases 2019',\t'Measles Confirmed 2019 Clin.',\n",
    "                                                        'Measles Confirmed 2019 Lab.', 'Measles Confirmed 2019 EPI',\n",
    "                                                        'Measles Confirmed 2019 Total']]\n",
    "        else:\n",
    "             ven_df = data.loc[(data.Country == 'VEN'), ['Susp. Cases 2019', 'Measles Confirmed 2019 Clin.',\n",
    "                                                        'Measles Confirmed 2019 Lab.', 'Measles Confirmed 2019 Total']]           \n",
    "                \n",
    "        return list(ven_df.iloc[0, :].values)\n",
    "\n",
    "    except Exception as e:\n",
    "        print(e)\n",
    "        return e"
   ]
  },
  {
   "cell_type": "code",
   "execution_count": 164,
   "metadata": {
    "scrolled": true
   },
   "outputs": [
    {
     "name": "stdout",
     "output_type": "stream",
     "text": [
      "(29, 17)\n",
      "length: 5\n",
      "list: ['1447', '100', '397', '23', '520b']\n"
     ]
    },
    {
     "name": "stderr",
     "output_type": "stream",
     "text": [
      "/Users/trae/.virtualenvs/talus_api/lib/python3.7/site-packages/ipykernel_launcher.py:34: SettingWithCopyWarning: \n",
      "A value is trying to be set on a copy of a slice from a DataFrame.\n",
      "Try using .loc[row_indexer,col_indexer] = value instead\n",
      "\n",
      "See the caveats in the documentation: http://pandas.pydata.org/pandas-docs/stable/user_guide/indexing.html#returning-a-view-versus-a-copy\n",
      "/Users/trae/.virtualenvs/talus_api/lib/python3.7/site-packages/ipykernel_launcher.py:35: SettingWithCopyWarning: \n",
      "A value is trying to be set on a copy of a slice from a DataFrame.\n",
      "Try using .loc[row_indexer,col_indexer] = value instead\n",
      "\n",
      "See the caveats in the documentation: http://pandas.pydata.org/pandas-docs/stable/user_guide/indexing.html#returning-a-view-versus-a-copy\n",
      "/Users/trae/.virtualenvs/talus_api/lib/python3.7/site-packages/pandas/core/frame.py:4102: SettingWithCopyWarning: \n",
      "A value is trying to be set on a copy of a slice from a DataFrame\n",
      "\n",
      "See the caveats in the documentation: http://pandas.pydata.org/pandas-docs/stable/user_guide/indexing.html#returning-a-view-versus-a-copy\n",
      "  errors=errors,\n"
     ]
    },
    {
     "name": "stdout",
     "output_type": "stream",
     "text": [
      "(29, 17)\n",
      "length: 5\n",
      "list: ['1447', '100', '397', '23', '520b']\n"
     ]
    },
    {
     "name": "stderr",
     "output_type": "stream",
     "text": [
      "/Users/trae/.virtualenvs/talus_api/lib/python3.7/site-packages/ipykernel_launcher.py:34: SettingWithCopyWarning: \n",
      "A value is trying to be set on a copy of a slice from a DataFrame.\n",
      "Try using .loc[row_indexer,col_indexer] = value instead\n",
      "\n",
      "See the caveats in the documentation: http://pandas.pydata.org/pandas-docs/stable/user_guide/indexing.html#returning-a-view-versus-a-copy\n",
      "/Users/trae/.virtualenvs/talus_api/lib/python3.7/site-packages/ipykernel_launcher.py:35: SettingWithCopyWarning: \n",
      "A value is trying to be set on a copy of a slice from a DataFrame.\n",
      "Try using .loc[row_indexer,col_indexer] = value instead\n",
      "\n",
      "See the caveats in the documentation: http://pandas.pydata.org/pandas-docs/stable/user_guide/indexing.html#returning-a-view-versus-a-copy\n",
      "/Users/trae/.virtualenvs/talus_api/lib/python3.7/site-packages/pandas/core/frame.py:4102: SettingWithCopyWarning: \n",
      "A value is trying to be set on a copy of a slice from a DataFrame\n",
      "\n",
      "See the caveats in the documentation: http://pandas.pydata.org/pandas-docs/stable/user_guide/indexing.html#returning-a-view-versus-a-copy\n",
      "  errors=errors,\n"
     ]
    },
    {
     "name": "stdout",
     "output_type": "stream",
     "text": [
      "(29, 17)\n",
      "length: 5\n",
      "list: ['1447', '100', '397', '23', '520b']\n"
     ]
    },
    {
     "name": "stderr",
     "output_type": "stream",
     "text": [
      "/Users/trae/.virtualenvs/talus_api/lib/python3.7/site-packages/ipykernel_launcher.py:34: SettingWithCopyWarning: \n",
      "A value is trying to be set on a copy of a slice from a DataFrame.\n",
      "Try using .loc[row_indexer,col_indexer] = value instead\n",
      "\n",
      "See the caveats in the documentation: http://pandas.pydata.org/pandas-docs/stable/user_guide/indexing.html#returning-a-view-versus-a-copy\n",
      "/Users/trae/.virtualenvs/talus_api/lib/python3.7/site-packages/ipykernel_launcher.py:35: SettingWithCopyWarning: \n",
      "A value is trying to be set on a copy of a slice from a DataFrame.\n",
      "Try using .loc[row_indexer,col_indexer] = value instead\n",
      "\n",
      "See the caveats in the documentation: http://pandas.pydata.org/pandas-docs/stable/user_guide/indexing.html#returning-a-view-versus-a-copy\n",
      "/Users/trae/.virtualenvs/talus_api/lib/python3.7/site-packages/pandas/core/frame.py:4102: SettingWithCopyWarning: \n",
      "A value is trying to be set on a copy of a slice from a DataFrame\n",
      "\n",
      "See the caveats in the documentation: http://pandas.pydata.org/pandas-docs/stable/user_guide/indexing.html#returning-a-view-versus-a-copy\n",
      "  errors=errors,\n"
     ]
    },
    {
     "name": "stdout",
     "output_type": "stream",
     "text": [
      "(28, 17)\n",
      "length: 5\n",
      "list: ['461', '100', '397', '23', '520a']\n"
     ]
    },
    {
     "name": "stderr",
     "output_type": "stream",
     "text": [
      "/Users/trae/.virtualenvs/talus_api/lib/python3.7/site-packages/ipykernel_launcher.py:34: SettingWithCopyWarning: \n",
      "A value is trying to be set on a copy of a slice from a DataFrame.\n",
      "Try using .loc[row_indexer,col_indexer] = value instead\n",
      "\n",
      "See the caveats in the documentation: http://pandas.pydata.org/pandas-docs/stable/user_guide/indexing.html#returning-a-view-versus-a-copy\n",
      "/Users/trae/.virtualenvs/talus_api/lib/python3.7/site-packages/ipykernel_launcher.py:35: SettingWithCopyWarning: \n",
      "A value is trying to be set on a copy of a slice from a DataFrame.\n",
      "Try using .loc[row_indexer,col_indexer] = value instead\n",
      "\n",
      "See the caveats in the documentation: http://pandas.pydata.org/pandas-docs/stable/user_guide/indexing.html#returning-a-view-versus-a-copy\n",
      "/Users/trae/.virtualenvs/talus_api/lib/python3.7/site-packages/pandas/core/frame.py:4102: SettingWithCopyWarning: \n",
      "A value is trying to be set on a copy of a slice from a DataFrame\n",
      "\n",
      "See the caveats in the documentation: http://pandas.pydata.org/pandas-docs/stable/user_guide/indexing.html#returning-a-view-versus-a-copy\n",
      "  errors=errors,\n"
     ]
    },
    {
     "name": "stdout",
     "output_type": "stream",
     "text": [
      "(29, 17)\n",
      "length: 5\n",
      "list: ['461', '100', '397', '23', '520a']\n"
     ]
    },
    {
     "name": "stderr",
     "output_type": "stream",
     "text": [
      "/Users/trae/.virtualenvs/talus_api/lib/python3.7/site-packages/ipykernel_launcher.py:34: SettingWithCopyWarning: \n",
      "A value is trying to be set on a copy of a slice from a DataFrame.\n",
      "Try using .loc[row_indexer,col_indexer] = value instead\n",
      "\n",
      "See the caveats in the documentation: http://pandas.pydata.org/pandas-docs/stable/user_guide/indexing.html#returning-a-view-versus-a-copy\n",
      "/Users/trae/.virtualenvs/talus_api/lib/python3.7/site-packages/ipykernel_launcher.py:35: SettingWithCopyWarning: \n",
      "A value is trying to be set on a copy of a slice from a DataFrame.\n",
      "Try using .loc[row_indexer,col_indexer] = value instead\n",
      "\n",
      "See the caveats in the documentation: http://pandas.pydata.org/pandas-docs/stable/user_guide/indexing.html#returning-a-view-versus-a-copy\n",
      "/Users/trae/.virtualenvs/talus_api/lib/python3.7/site-packages/pandas/core/frame.py:4102: SettingWithCopyWarning: \n",
      "A value is trying to be set on a copy of a slice from a DataFrame\n",
      "\n",
      "See the caveats in the documentation: http://pandas.pydata.org/pandas-docs/stable/user_guide/indexing.html#returning-a-view-versus-a-copy\n",
      "  errors=errors,\n"
     ]
    },
    {
     "name": "stdout",
     "output_type": "stream",
     "text": [
      "(29, 17)\n",
      "length: 5\n",
      "list: ['461', '32', '394', '23', '449b']\n"
     ]
    },
    {
     "name": "stderr",
     "output_type": "stream",
     "text": [
      "/Users/trae/.virtualenvs/talus_api/lib/python3.7/site-packages/ipykernel_launcher.py:34: SettingWithCopyWarning: \n",
      "A value is trying to be set on a copy of a slice from a DataFrame.\n",
      "Try using .loc[row_indexer,col_indexer] = value instead\n",
      "\n",
      "See the caveats in the documentation: http://pandas.pydata.org/pandas-docs/stable/user_guide/indexing.html#returning-a-view-versus-a-copy\n",
      "/Users/trae/.virtualenvs/talus_api/lib/python3.7/site-packages/ipykernel_launcher.py:35: SettingWithCopyWarning: \n",
      "A value is trying to be set on a copy of a slice from a DataFrame.\n",
      "Try using .loc[row_indexer,col_indexer] = value instead\n",
      "\n",
      "See the caveats in the documentation: http://pandas.pydata.org/pandas-docs/stable/user_guide/indexing.html#returning-a-view-versus-a-copy\n",
      "/Users/trae/.virtualenvs/talus_api/lib/python3.7/site-packages/pandas/core/frame.py:4102: SettingWithCopyWarning: \n",
      "A value is trying to be set on a copy of a slice from a DataFrame\n",
      "\n",
      "See the caveats in the documentation: http://pandas.pydata.org/pandas-docs/stable/user_guide/indexing.html#returning-a-view-versus-a-copy\n",
      "  errors=errors,\n"
     ]
    },
    {
     "name": "stdout",
     "output_type": "stream",
     "text": [
      "(29, 17)\n",
      "length: 5\n",
      "list: ['461', '32', '394', '23', '449b']\n"
     ]
    },
    {
     "name": "stderr",
     "output_type": "stream",
     "text": [
      "/Users/trae/.virtualenvs/talus_api/lib/python3.7/site-packages/ipykernel_launcher.py:34: SettingWithCopyWarning: \n",
      "A value is trying to be set on a copy of a slice from a DataFrame.\n",
      "Try using .loc[row_indexer,col_indexer] = value instead\n",
      "\n",
      "See the caveats in the documentation: http://pandas.pydata.org/pandas-docs/stable/user_guide/indexing.html#returning-a-view-versus-a-copy\n",
      "/Users/trae/.virtualenvs/talus_api/lib/python3.7/site-packages/ipykernel_launcher.py:35: SettingWithCopyWarning: \n",
      "A value is trying to be set on a copy of a slice from a DataFrame.\n",
      "Try using .loc[row_indexer,col_indexer] = value instead\n",
      "\n",
      "See the caveats in the documentation: http://pandas.pydata.org/pandas-docs/stable/user_guide/indexing.html#returning-a-view-versus-a-copy\n",
      "/Users/trae/.virtualenvs/talus_api/lib/python3.7/site-packages/pandas/core/frame.py:4102: SettingWithCopyWarning: \n",
      "A value is trying to be set on a copy of a slice from a DataFrame\n",
      "\n",
      "See the caveats in the documentation: http://pandas.pydata.org/pandas-docs/stable/user_guide/indexing.html#returning-a-view-versus-a-copy\n",
      "  errors=errors,\n"
     ]
    },
    {
     "name": "stdout",
     "output_type": "stream",
     "text": [
      "(29, 17)\n",
      "length: 5\n",
      "list: ['461', '32', '394', '23', '449b']\n"
     ]
    },
    {
     "name": "stderr",
     "output_type": "stream",
     "text": [
      "/Users/trae/.virtualenvs/talus_api/lib/python3.7/site-packages/ipykernel_launcher.py:34: SettingWithCopyWarning: \n",
      "A value is trying to be set on a copy of a slice from a DataFrame.\n",
      "Try using .loc[row_indexer,col_indexer] = value instead\n",
      "\n",
      "See the caveats in the documentation: http://pandas.pydata.org/pandas-docs/stable/user_guide/indexing.html#returning-a-view-versus-a-copy\n",
      "/Users/trae/.virtualenvs/talus_api/lib/python3.7/site-packages/ipykernel_launcher.py:35: SettingWithCopyWarning: \n",
      "A value is trying to be set on a copy of a slice from a DataFrame.\n",
      "Try using .loc[row_indexer,col_indexer] = value instead\n",
      "\n",
      "See the caveats in the documentation: http://pandas.pydata.org/pandas-docs/stable/user_guide/indexing.html#returning-a-view-versus-a-copy\n",
      "/Users/trae/.virtualenvs/talus_api/lib/python3.7/site-packages/pandas/core/frame.py:4102: SettingWithCopyWarning: \n",
      "A value is trying to be set on a copy of a slice from a DataFrame\n",
      "\n",
      "See the caveats in the documentation: http://pandas.pydata.org/pandas-docs/stable/user_guide/indexing.html#returning-a-view-versus-a-copy\n",
      "  errors=errors,\n"
     ]
    },
    {
     "name": "stdout",
     "output_type": "stream",
     "text": [
      "(29, 17)\n",
      "length: 5\n",
      "list: ['461', '32', '394', '23', '449b']\n"
     ]
    },
    {
     "name": "stderr",
     "output_type": "stream",
     "text": [
      "/Users/trae/.virtualenvs/talus_api/lib/python3.7/site-packages/ipykernel_launcher.py:34: SettingWithCopyWarning: \n",
      "A value is trying to be set on a copy of a slice from a DataFrame.\n",
      "Try using .loc[row_indexer,col_indexer] = value instead\n",
      "\n",
      "See the caveats in the documentation: http://pandas.pydata.org/pandas-docs/stable/user_guide/indexing.html#returning-a-view-versus-a-copy\n",
      "/Users/trae/.virtualenvs/talus_api/lib/python3.7/site-packages/ipykernel_launcher.py:35: SettingWithCopyWarning: \n",
      "A value is trying to be set on a copy of a slice from a DataFrame.\n",
      "Try using .loc[row_indexer,col_indexer] = value instead\n",
      "\n",
      "See the caveats in the documentation: http://pandas.pydata.org/pandas-docs/stable/user_guide/indexing.html#returning-a-view-versus-a-copy\n",
      "/Users/trae/.virtualenvs/talus_api/lib/python3.7/site-packages/pandas/core/frame.py:4102: SettingWithCopyWarning: \n",
      "A value is trying to be set on a copy of a slice from a DataFrame\n",
      "\n",
      "See the caveats in the documentation: http://pandas.pydata.org/pandas-docs/stable/user_guide/indexing.html#returning-a-view-versus-a-copy\n",
      "  errors=errors,\n"
     ]
    },
    {
     "name": "stdout",
     "output_type": "stream",
     "text": [
      "(29, 17)\n",
      "length: 5\n",
      "list: ['461', '32', '394', '23', '449b']\n"
     ]
    },
    {
     "name": "stderr",
     "output_type": "stream",
     "text": [
      "/Users/trae/.virtualenvs/talus_api/lib/python3.7/site-packages/ipykernel_launcher.py:34: SettingWithCopyWarning: \n",
      "A value is trying to be set on a copy of a slice from a DataFrame.\n",
      "Try using .loc[row_indexer,col_indexer] = value instead\n",
      "\n",
      "See the caveats in the documentation: http://pandas.pydata.org/pandas-docs/stable/user_guide/indexing.html#returning-a-view-versus-a-copy\n",
      "/Users/trae/.virtualenvs/talus_api/lib/python3.7/site-packages/ipykernel_launcher.py:35: SettingWithCopyWarning: \n",
      "A value is trying to be set on a copy of a slice from a DataFrame.\n",
      "Try using .loc[row_indexer,col_indexer] = value instead\n",
      "\n",
      "See the caveats in the documentation: http://pandas.pydata.org/pandas-docs/stable/user_guide/indexing.html#returning-a-view-versus-a-copy\n",
      "/Users/trae/.virtualenvs/talus_api/lib/python3.7/site-packages/pandas/core/frame.py:4102: SettingWithCopyWarning: \n",
      "A value is trying to be set on a copy of a slice from a DataFrame\n",
      "\n",
      "See the caveats in the documentation: http://pandas.pydata.org/pandas-docs/stable/user_guide/indexing.html#returning-a-view-versus-a-copy\n",
      "  errors=errors,\n"
     ]
    },
    {
     "name": "stdout",
     "output_type": "stream",
     "text": [
      "(29, 17)\n",
      "length: 5\n",
      "list: ['461', '32', '391', '23', '446b']\n"
     ]
    },
    {
     "name": "stderr",
     "output_type": "stream",
     "text": [
      "/Users/trae/.virtualenvs/talus_api/lib/python3.7/site-packages/ipykernel_launcher.py:34: SettingWithCopyWarning: \n",
      "A value is trying to be set on a copy of a slice from a DataFrame.\n",
      "Try using .loc[row_indexer,col_indexer] = value instead\n",
      "\n",
      "See the caveats in the documentation: http://pandas.pydata.org/pandas-docs/stable/user_guide/indexing.html#returning-a-view-versus-a-copy\n",
      "/Users/trae/.virtualenvs/talus_api/lib/python3.7/site-packages/ipykernel_launcher.py:35: SettingWithCopyWarning: \n",
      "A value is trying to be set on a copy of a slice from a DataFrame.\n",
      "Try using .loc[row_indexer,col_indexer] = value instead\n",
      "\n",
      "See the caveats in the documentation: http://pandas.pydata.org/pandas-docs/stable/user_guide/indexing.html#returning-a-view-versus-a-copy\n",
      "/Users/trae/.virtualenvs/talus_api/lib/python3.7/site-packages/pandas/core/frame.py:4102: SettingWithCopyWarning: \n",
      "A value is trying to be set on a copy of a slice from a DataFrame\n",
      "\n",
      "See the caveats in the documentation: http://pandas.pydata.org/pandas-docs/stable/user_guide/indexing.html#returning-a-view-versus-a-copy\n",
      "  errors=errors,\n"
     ]
    },
    {
     "name": "stdout",
     "output_type": "stream",
     "text": [
      "(29, 17)\n",
      "length: 5\n",
      "list: ['461', '32', '391', '23', '446b']\n"
     ]
    },
    {
     "name": "stderr",
     "output_type": "stream",
     "text": [
      "/Users/trae/.virtualenvs/talus_api/lib/python3.7/site-packages/ipykernel_launcher.py:34: SettingWithCopyWarning: \n",
      "A value is trying to be set on a copy of a slice from a DataFrame.\n",
      "Try using .loc[row_indexer,col_indexer] = value instead\n",
      "\n",
      "See the caveats in the documentation: http://pandas.pydata.org/pandas-docs/stable/user_guide/indexing.html#returning-a-view-versus-a-copy\n",
      "/Users/trae/.virtualenvs/talus_api/lib/python3.7/site-packages/ipykernel_launcher.py:35: SettingWithCopyWarning: \n",
      "A value is trying to be set on a copy of a slice from a DataFrame.\n",
      "Try using .loc[row_indexer,col_indexer] = value instead\n",
      "\n",
      "See the caveats in the documentation: http://pandas.pydata.org/pandas-docs/stable/user_guide/indexing.html#returning-a-view-versus-a-copy\n",
      "/Users/trae/.virtualenvs/talus_api/lib/python3.7/site-packages/pandas/core/frame.py:4102: SettingWithCopyWarning: \n",
      "A value is trying to be set on a copy of a slice from a DataFrame\n",
      "\n",
      "See the caveats in the documentation: http://pandas.pydata.org/pandas-docs/stable/user_guide/indexing.html#returning-a-view-versus-a-copy\n",
      "  errors=errors,\n"
     ]
    },
    {
     "name": "stdout",
     "output_type": "stream",
     "text": [
      "(29, 17)\n",
      "length: 5\n",
      "list: ['461', '32', '391', '23', '446b']\n"
     ]
    },
    {
     "name": "stderr",
     "output_type": "stream",
     "text": [
      "/Users/trae/.virtualenvs/talus_api/lib/python3.7/site-packages/ipykernel_launcher.py:34: SettingWithCopyWarning: \n",
      "A value is trying to be set on a copy of a slice from a DataFrame.\n",
      "Try using .loc[row_indexer,col_indexer] = value instead\n",
      "\n",
      "See the caveats in the documentation: http://pandas.pydata.org/pandas-docs/stable/user_guide/indexing.html#returning-a-view-versus-a-copy\n",
      "/Users/trae/.virtualenvs/talus_api/lib/python3.7/site-packages/ipykernel_launcher.py:35: SettingWithCopyWarning: \n",
      "A value is trying to be set on a copy of a slice from a DataFrame.\n",
      "Try using .loc[row_indexer,col_indexer] = value instead\n",
      "\n",
      "See the caveats in the documentation: http://pandas.pydata.org/pandas-docs/stable/user_guide/indexing.html#returning-a-view-versus-a-copy\n",
      "/Users/trae/.virtualenvs/talus_api/lib/python3.7/site-packages/pandas/core/frame.py:4102: SettingWithCopyWarning: \n",
      "A value is trying to be set on a copy of a slice from a DataFrame\n",
      "\n",
      "See the caveats in the documentation: http://pandas.pydata.org/pandas-docs/stable/user_guide/indexing.html#returning-a-view-versus-a-copy\n",
      "  errors=errors,\n"
     ]
    },
    {
     "name": "stdout",
     "output_type": "stream",
     "text": [
      "(30, 17)\n",
      "length: 5\n",
      "list: ['455', '32', '362', '23', '417b']\n"
     ]
    },
    {
     "name": "stderr",
     "output_type": "stream",
     "text": [
      "/Users/trae/.virtualenvs/talus_api/lib/python3.7/site-packages/ipykernel_launcher.py:34: SettingWithCopyWarning: \n",
      "A value is trying to be set on a copy of a slice from a DataFrame.\n",
      "Try using .loc[row_indexer,col_indexer] = value instead\n",
      "\n",
      "See the caveats in the documentation: http://pandas.pydata.org/pandas-docs/stable/user_guide/indexing.html#returning-a-view-versus-a-copy\n",
      "/Users/trae/.virtualenvs/talus_api/lib/python3.7/site-packages/ipykernel_launcher.py:35: SettingWithCopyWarning: \n",
      "A value is trying to be set on a copy of a slice from a DataFrame.\n",
      "Try using .loc[row_indexer,col_indexer] = value instead\n",
      "\n",
      "See the caveats in the documentation: http://pandas.pydata.org/pandas-docs/stable/user_guide/indexing.html#returning-a-view-versus-a-copy\n",
      "/Users/trae/.virtualenvs/talus_api/lib/python3.7/site-packages/pandas/core/frame.py:4102: SettingWithCopyWarning: \n",
      "A value is trying to be set on a copy of a slice from a DataFrame\n",
      "\n",
      "See the caveats in the documentation: http://pandas.pydata.org/pandas-docs/stable/user_guide/indexing.html#returning-a-view-versus-a-copy\n",
      "  errors=errors,\n"
     ]
    },
    {
     "name": "stdout",
     "output_type": "stream",
     "text": [
      "(29, 17)\n",
      "length: 5\n",
      "list: ['442', '32', '362', '23', '417b']\n"
     ]
    },
    {
     "name": "stderr",
     "output_type": "stream",
     "text": [
      "/Users/trae/.virtualenvs/talus_api/lib/python3.7/site-packages/ipykernel_launcher.py:34: SettingWithCopyWarning: \n",
      "A value is trying to be set on a copy of a slice from a DataFrame.\n",
      "Try using .loc[row_indexer,col_indexer] = value instead\n",
      "\n",
      "See the caveats in the documentation: http://pandas.pydata.org/pandas-docs/stable/user_guide/indexing.html#returning-a-view-versus-a-copy\n",
      "/Users/trae/.virtualenvs/talus_api/lib/python3.7/site-packages/ipykernel_launcher.py:35: SettingWithCopyWarning: \n",
      "A value is trying to be set on a copy of a slice from a DataFrame.\n",
      "Try using .loc[row_indexer,col_indexer] = value instead\n",
      "\n",
      "See the caveats in the documentation: http://pandas.pydata.org/pandas-docs/stable/user_guide/indexing.html#returning-a-view-versus-a-copy\n",
      "/Users/trae/.virtualenvs/talus_api/lib/python3.7/site-packages/pandas/core/frame.py:4102: SettingWithCopyWarning: \n",
      "A value is trying to be set on a copy of a slice from a DataFrame\n",
      "\n",
      "See the caveats in the documentation: http://pandas.pydata.org/pandas-docs/stable/user_guide/indexing.html#returning-a-view-versus-a-copy\n",
      "  errors=errors,\n"
     ]
    },
    {
     "name": "stdout",
     "output_type": "stream",
     "text": [
      "(29, 17)\n",
      "length: 5\n",
      "list: ['442', '32', '362', '23', '417a']\n"
     ]
    },
    {
     "name": "stderr",
     "output_type": "stream",
     "text": [
      "/Users/trae/.virtualenvs/talus_api/lib/python3.7/site-packages/ipykernel_launcher.py:34: SettingWithCopyWarning: \n",
      "A value is trying to be set on a copy of a slice from a DataFrame.\n",
      "Try using .loc[row_indexer,col_indexer] = value instead\n",
      "\n",
      "See the caveats in the documentation: http://pandas.pydata.org/pandas-docs/stable/user_guide/indexing.html#returning-a-view-versus-a-copy\n",
      "/Users/trae/.virtualenvs/talus_api/lib/python3.7/site-packages/ipykernel_launcher.py:35: SettingWithCopyWarning: \n",
      "A value is trying to be set on a copy of a slice from a DataFrame.\n",
      "Try using .loc[row_indexer,col_indexer] = value instead\n",
      "\n",
      "See the caveats in the documentation: http://pandas.pydata.org/pandas-docs/stable/user_guide/indexing.html#returning-a-view-versus-a-copy\n",
      "/Users/trae/.virtualenvs/talus_api/lib/python3.7/site-packages/pandas/core/frame.py:4102: SettingWithCopyWarning: \n",
      "A value is trying to be set on a copy of a slice from a DataFrame\n",
      "\n",
      "See the caveats in the documentation: http://pandas.pydata.org/pandas-docs/stable/user_guide/indexing.html#returning-a-view-versus-a-copy\n",
      "  errors=errors,\n"
     ]
    },
    {
     "name": "stdout",
     "output_type": "stream",
     "text": [
      "(28, 17)\n",
      "length: 5\n",
      "list: ['356', '32', '362', '23', '417a']\n"
     ]
    },
    {
     "name": "stderr",
     "output_type": "stream",
     "text": [
      "/Users/trae/.virtualenvs/talus_api/lib/python3.7/site-packages/ipykernel_launcher.py:34: SettingWithCopyWarning: \n",
      "A value is trying to be set on a copy of a slice from a DataFrame.\n",
      "Try using .loc[row_indexer,col_indexer] = value instead\n",
      "\n",
      "See the caveats in the documentation: http://pandas.pydata.org/pandas-docs/stable/user_guide/indexing.html#returning-a-view-versus-a-copy\n",
      "/Users/trae/.virtualenvs/talus_api/lib/python3.7/site-packages/ipykernel_launcher.py:35: SettingWithCopyWarning: \n",
      "A value is trying to be set on a copy of a slice from a DataFrame.\n",
      "Try using .loc[row_indexer,col_indexer] = value instead\n",
      "\n",
      "See the caveats in the documentation: http://pandas.pydata.org/pandas-docs/stable/user_guide/indexing.html#returning-a-view-versus-a-copy\n",
      "/Users/trae/.virtualenvs/talus_api/lib/python3.7/site-packages/pandas/core/frame.py:4102: SettingWithCopyWarning: \n",
      "A value is trying to be set on a copy of a slice from a DataFrame\n",
      "\n",
      "See the caveats in the documentation: http://pandas.pydata.org/pandas-docs/stable/user_guide/indexing.html#returning-a-view-versus-a-copy\n",
      "  errors=errors,\n"
     ]
    },
    {
     "name": "stdout",
     "output_type": "stream",
     "text": [
      "(29, 17)\n",
      "length: 5\n",
      "list: ['281', '32', '277', '23', '332a']\n"
     ]
    },
    {
     "name": "stderr",
     "output_type": "stream",
     "text": [
      "/Users/trae/.virtualenvs/talus_api/lib/python3.7/site-packages/ipykernel_launcher.py:34: SettingWithCopyWarning: \n",
      "A value is trying to be set on a copy of a slice from a DataFrame.\n",
      "Try using .loc[row_indexer,col_indexer] = value instead\n",
      "\n",
      "See the caveats in the documentation: http://pandas.pydata.org/pandas-docs/stable/user_guide/indexing.html#returning-a-view-versus-a-copy\n",
      "/Users/trae/.virtualenvs/talus_api/lib/python3.7/site-packages/ipykernel_launcher.py:35: SettingWithCopyWarning: \n",
      "A value is trying to be set on a copy of a slice from a DataFrame.\n",
      "Try using .loc[row_indexer,col_indexer] = value instead\n",
      "\n",
      "See the caveats in the documentation: http://pandas.pydata.org/pandas-docs/stable/user_guide/indexing.html#returning-a-view-versus-a-copy\n",
      "/Users/trae/.virtualenvs/talus_api/lib/python3.7/site-packages/pandas/core/frame.py:4102: SettingWithCopyWarning: \n",
      "A value is trying to be set on a copy of a slice from a DataFrame\n",
      "\n",
      "See the caveats in the documentation: http://pandas.pydata.org/pandas-docs/stable/user_guide/indexing.html#returning-a-view-versus-a-copy\n",
      "  errors=errors,\n"
     ]
    },
    {
     "name": "stdout",
     "output_type": "stream",
     "text": [
      "(28, 17)\n",
      "length: 5\n",
      "list: ['230', '32', '277', '23', '332a']\n"
     ]
    },
    {
     "name": "stderr",
     "output_type": "stream",
     "text": [
      "/Users/trae/.virtualenvs/talus_api/lib/python3.7/site-packages/ipykernel_launcher.py:34: SettingWithCopyWarning: \n",
      "A value is trying to be set on a copy of a slice from a DataFrame.\n",
      "Try using .loc[row_indexer,col_indexer] = value instead\n",
      "\n",
      "See the caveats in the documentation: http://pandas.pydata.org/pandas-docs/stable/user_guide/indexing.html#returning-a-view-versus-a-copy\n",
      "/Users/trae/.virtualenvs/talus_api/lib/python3.7/site-packages/ipykernel_launcher.py:35: SettingWithCopyWarning: \n",
      "A value is trying to be set on a copy of a slice from a DataFrame.\n",
      "Try using .loc[row_indexer,col_indexer] = value instead\n",
      "\n",
      "See the caveats in the documentation: http://pandas.pydata.org/pandas-docs/stable/user_guide/indexing.html#returning-a-view-versus-a-copy\n",
      "/Users/trae/.virtualenvs/talus_api/lib/python3.7/site-packages/pandas/core/frame.py:4102: SettingWithCopyWarning: \n",
      "A value is trying to be set on a copy of a slice from a DataFrame\n",
      "\n",
      "See the caveats in the documentation: http://pandas.pydata.org/pandas-docs/stable/user_guide/indexing.html#returning-a-view-versus-a-copy\n",
      "  errors=errors,\n"
     ]
    },
    {
     "name": "stdout",
     "output_type": "stream",
     "text": [
      "(29, 17)\n",
      "length: 5\n",
      "list: ['230', '32', '277', '23', '332a']\n"
     ]
    },
    {
     "name": "stderr",
     "output_type": "stream",
     "text": [
      "/Users/trae/.virtualenvs/talus_api/lib/python3.7/site-packages/ipykernel_launcher.py:34: SettingWithCopyWarning: \n",
      "A value is trying to be set on a copy of a slice from a DataFrame.\n",
      "Try using .loc[row_indexer,col_indexer] = value instead\n",
      "\n",
      "See the caveats in the documentation: http://pandas.pydata.org/pandas-docs/stable/user_guide/indexing.html#returning-a-view-versus-a-copy\n",
      "/Users/trae/.virtualenvs/talus_api/lib/python3.7/site-packages/ipykernel_launcher.py:35: SettingWithCopyWarning: \n",
      "A value is trying to be set on a copy of a slice from a DataFrame.\n",
      "Try using .loc[row_indexer,col_indexer] = value instead\n",
      "\n",
      "See the caveats in the documentation: http://pandas.pydata.org/pandas-docs/stable/user_guide/indexing.html#returning-a-view-versus-a-copy\n",
      "/Users/trae/.virtualenvs/talus_api/lib/python3.7/site-packages/pandas/core/frame.py:4102: SettingWithCopyWarning: \n",
      "A value is trying to be set on a copy of a slice from a DataFrame\n",
      "\n",
      "See the caveats in the documentation: http://pandas.pydata.org/pandas-docs/stable/user_guide/indexing.html#returning-a-view-versus-a-copy\n",
      "  errors=errors,\n"
     ]
    },
    {
     "name": "stdout",
     "output_type": "stream",
     "text": [
      "(29, 17)\n",
      "length: 5\n",
      "list: ['230', '32', '277', '23', '332a']\n"
     ]
    },
    {
     "name": "stderr",
     "output_type": "stream",
     "text": [
      "/Users/trae/.virtualenvs/talus_api/lib/python3.7/site-packages/ipykernel_launcher.py:34: SettingWithCopyWarning: \n",
      "A value is trying to be set on a copy of a slice from a DataFrame.\n",
      "Try using .loc[row_indexer,col_indexer] = value instead\n",
      "\n",
      "See the caveats in the documentation: http://pandas.pydata.org/pandas-docs/stable/user_guide/indexing.html#returning-a-view-versus-a-copy\n",
      "/Users/trae/.virtualenvs/talus_api/lib/python3.7/site-packages/ipykernel_launcher.py:35: SettingWithCopyWarning: \n",
      "A value is trying to be set on a copy of a slice from a DataFrame.\n",
      "Try using .loc[row_indexer,col_indexer] = value instead\n",
      "\n",
      "See the caveats in the documentation: http://pandas.pydata.org/pandas-docs/stable/user_guide/indexing.html#returning-a-view-versus-a-copy\n",
      "/Users/trae/.virtualenvs/talus_api/lib/python3.7/site-packages/pandas/core/frame.py:4102: SettingWithCopyWarning: \n",
      "A value is trying to be set on a copy of a slice from a DataFrame\n",
      "\n",
      "See the caveats in the documentation: http://pandas.pydata.org/pandas-docs/stable/user_guide/indexing.html#returning-a-view-versus-a-copy\n",
      "  errors=errors,\n"
     ]
    },
    {
     "name": "stdout",
     "output_type": "stream",
     "text": [
      "(28, 17)\n",
      "length: 5\n",
      "list: ['230', '32', '277', '23', '332a']\n"
     ]
    },
    {
     "name": "stderr",
     "output_type": "stream",
     "text": [
      "/Users/trae/.virtualenvs/talus_api/lib/python3.7/site-packages/ipykernel_launcher.py:34: SettingWithCopyWarning: \n",
      "A value is trying to be set on a copy of a slice from a DataFrame.\n",
      "Try using .loc[row_indexer,col_indexer] = value instead\n",
      "\n",
      "See the caveats in the documentation: http://pandas.pydata.org/pandas-docs/stable/user_guide/indexing.html#returning-a-view-versus-a-copy\n",
      "/Users/trae/.virtualenvs/talus_api/lib/python3.7/site-packages/ipykernel_launcher.py:35: SettingWithCopyWarning: \n",
      "A value is trying to be set on a copy of a slice from a DataFrame.\n",
      "Try using .loc[row_indexer,col_indexer] = value instead\n",
      "\n",
      "See the caveats in the documentation: http://pandas.pydata.org/pandas-docs/stable/user_guide/indexing.html#returning-a-view-versus-a-copy\n",
      "/Users/trae/.virtualenvs/talus_api/lib/python3.7/site-packages/pandas/core/frame.py:4102: SettingWithCopyWarning: \n",
      "A value is trying to be set on a copy of a slice from a DataFrame\n",
      "\n",
      "See the caveats in the documentation: http://pandas.pydata.org/pandas-docs/stable/user_guide/indexing.html#returning-a-view-versus-a-copy\n",
      "  errors=errors,\n"
     ]
    },
    {
     "name": "stdout",
     "output_type": "stream",
     "text": [
      "(28, 17)\n",
      "length: 5\n",
      "list: ['230', '32', '277', '23', '332a']\n"
     ]
    },
    {
     "name": "stderr",
     "output_type": "stream",
     "text": [
      "/Users/trae/.virtualenvs/talus_api/lib/python3.7/site-packages/ipykernel_launcher.py:34: SettingWithCopyWarning: \n",
      "A value is trying to be set on a copy of a slice from a DataFrame.\n",
      "Try using .loc[row_indexer,col_indexer] = value instead\n",
      "\n",
      "See the caveats in the documentation: http://pandas.pydata.org/pandas-docs/stable/user_guide/indexing.html#returning-a-view-versus-a-copy\n",
      "/Users/trae/.virtualenvs/talus_api/lib/python3.7/site-packages/ipykernel_launcher.py:35: SettingWithCopyWarning: \n",
      "A value is trying to be set on a copy of a slice from a DataFrame.\n",
      "Try using .loc[row_indexer,col_indexer] = value instead\n",
      "\n",
      "See the caveats in the documentation: http://pandas.pydata.org/pandas-docs/stable/user_guide/indexing.html#returning-a-view-versus-a-copy\n",
      "/Users/trae/.virtualenvs/talus_api/lib/python3.7/site-packages/pandas/core/frame.py:4102: SettingWithCopyWarning: \n",
      "A value is trying to be set on a copy of a slice from a DataFrame\n",
      "\n",
      "See the caveats in the documentation: http://pandas.pydata.org/pandas-docs/stable/user_guide/indexing.html#returning-a-view-versus-a-copy\n",
      "  errors=errors,\n"
     ]
    },
    {
     "name": "stdout",
     "output_type": "stream",
     "text": [
      "(28, 17)\n",
      "length: 5\n",
      "list: ['230', '32', '277', '23', '332a']\n"
     ]
    },
    {
     "name": "stderr",
     "output_type": "stream",
     "text": [
      "/Users/trae/.virtualenvs/talus_api/lib/python3.7/site-packages/ipykernel_launcher.py:34: SettingWithCopyWarning: \n",
      "A value is trying to be set on a copy of a slice from a DataFrame.\n",
      "Try using .loc[row_indexer,col_indexer] = value instead\n",
      "\n",
      "See the caveats in the documentation: http://pandas.pydata.org/pandas-docs/stable/user_guide/indexing.html#returning-a-view-versus-a-copy\n",
      "/Users/trae/.virtualenvs/talus_api/lib/python3.7/site-packages/ipykernel_launcher.py:35: SettingWithCopyWarning: \n",
      "A value is trying to be set on a copy of a slice from a DataFrame.\n",
      "Try using .loc[row_indexer,col_indexer] = value instead\n",
      "\n",
      "See the caveats in the documentation: http://pandas.pydata.org/pandas-docs/stable/user_guide/indexing.html#returning-a-view-versus-a-copy\n",
      "/Users/trae/.virtualenvs/talus_api/lib/python3.7/site-packages/pandas/core/frame.py:4102: SettingWithCopyWarning: \n",
      "A value is trying to be set on a copy of a slice from a DataFrame\n",
      "\n",
      "See the caveats in the documentation: http://pandas.pydata.org/pandas-docs/stable/user_guide/indexing.html#returning-a-view-versus-a-copy\n",
      "  errors=errors,\n"
     ]
    },
    {
     "name": "stdout",
     "output_type": "stream",
     "text": [
      "(28, 17)\n",
      "length: 5\n",
      "list: ['…', '32', '148', '23', '203']\n"
     ]
    },
    {
     "name": "stderr",
     "output_type": "stream",
     "text": [
      "/Users/trae/.virtualenvs/talus_api/lib/python3.7/site-packages/ipykernel_launcher.py:34: SettingWithCopyWarning: \n",
      "A value is trying to be set on a copy of a slice from a DataFrame.\n",
      "Try using .loc[row_indexer,col_indexer] = value instead\n",
      "\n",
      "See the caveats in the documentation: http://pandas.pydata.org/pandas-docs/stable/user_guide/indexing.html#returning-a-view-versus-a-copy\n",
      "/Users/trae/.virtualenvs/talus_api/lib/python3.7/site-packages/ipykernel_launcher.py:35: SettingWithCopyWarning: \n",
      "A value is trying to be set on a copy of a slice from a DataFrame.\n",
      "Try using .loc[row_indexer,col_indexer] = value instead\n",
      "\n",
      "See the caveats in the documentation: http://pandas.pydata.org/pandas-docs/stable/user_guide/indexing.html#returning-a-view-versus-a-copy\n",
      "/Users/trae/.virtualenvs/talus_api/lib/python3.7/site-packages/pandas/core/frame.py:4102: SettingWithCopyWarning: \n",
      "A value is trying to be set on a copy of a slice from a DataFrame\n",
      "\n",
      "See the caveats in the documentation: http://pandas.pydata.org/pandas-docs/stable/user_guide/indexing.html#returning-a-view-versus-a-copy\n",
      "  errors=errors,\n"
     ]
    },
    {
     "name": "stdout",
     "output_type": "stream",
     "text": [
      "(29, 17)\n",
      "length: 5\n",
      "list: ['…', '32', '148', '23', '203a']\n"
     ]
    },
    {
     "name": "stderr",
     "output_type": "stream",
     "text": [
      "/Users/trae/.virtualenvs/talus_api/lib/python3.7/site-packages/ipykernel_launcher.py:34: SettingWithCopyWarning: \n",
      "A value is trying to be set on a copy of a slice from a DataFrame.\n",
      "Try using .loc[row_indexer,col_indexer] = value instead\n",
      "\n",
      "See the caveats in the documentation: http://pandas.pydata.org/pandas-docs/stable/user_guide/indexing.html#returning-a-view-versus-a-copy\n",
      "/Users/trae/.virtualenvs/talus_api/lib/python3.7/site-packages/ipykernel_launcher.py:35: SettingWithCopyWarning: \n",
      "A value is trying to be set on a copy of a slice from a DataFrame.\n",
      "Try using .loc[row_indexer,col_indexer] = value instead\n",
      "\n",
      "See the caveats in the documentation: http://pandas.pydata.org/pandas-docs/stable/user_guide/indexing.html#returning-a-view-versus-a-copy\n",
      "/Users/trae/.virtualenvs/talus_api/lib/python3.7/site-packages/pandas/core/frame.py:4102: SettingWithCopyWarning: \n",
      "A value is trying to be set on a copy of a slice from a DataFrame\n",
      "\n",
      "See the caveats in the documentation: http://pandas.pydata.org/pandas-docs/stable/user_guide/indexing.html#returning-a-view-versus-a-copy\n",
      "  errors=errors,\n"
     ]
    },
    {
     "name": "stdout",
     "output_type": "stream",
     "text": [
      "(29, 17)\n",
      "length: 5\n",
      "list: ['…', '32', '148', '23', '203a']\n"
     ]
    },
    {
     "name": "stderr",
     "output_type": "stream",
     "text": [
      "/Users/trae/.virtualenvs/talus_api/lib/python3.7/site-packages/ipykernel_launcher.py:34: SettingWithCopyWarning: \n",
      "A value is trying to be set on a copy of a slice from a DataFrame.\n",
      "Try using .loc[row_indexer,col_indexer] = value instead\n",
      "\n",
      "See the caveats in the documentation: http://pandas.pydata.org/pandas-docs/stable/user_guide/indexing.html#returning-a-view-versus-a-copy\n",
      "/Users/trae/.virtualenvs/talus_api/lib/python3.7/site-packages/ipykernel_launcher.py:35: SettingWithCopyWarning: \n",
      "A value is trying to be set on a copy of a slice from a DataFrame.\n",
      "Try using .loc[row_indexer,col_indexer] = value instead\n",
      "\n",
      "See the caveats in the documentation: http://pandas.pydata.org/pandas-docs/stable/user_guide/indexing.html#returning-a-view-versus-a-copy\n",
      "/Users/trae/.virtualenvs/talus_api/lib/python3.7/site-packages/pandas/core/frame.py:4102: SettingWithCopyWarning: \n",
      "A value is trying to be set on a copy of a slice from a DataFrame\n",
      "\n",
      "See the caveats in the documentation: http://pandas.pydata.org/pandas-docs/stable/user_guide/indexing.html#returning-a-view-versus-a-copy\n",
      "  errors=errors,\n"
     ]
    },
    {
     "name": "stdout",
     "output_type": "stream",
     "text": [
      "(29, 17)\n",
      "length: 5\n",
      "list: ['…', '32', '148', '23', '203a']\n"
     ]
    },
    {
     "name": "stderr",
     "output_type": "stream",
     "text": [
      "/Users/trae/.virtualenvs/talus_api/lib/python3.7/site-packages/ipykernel_launcher.py:34: SettingWithCopyWarning: \n",
      "A value is trying to be set on a copy of a slice from a DataFrame.\n",
      "Try using .loc[row_indexer,col_indexer] = value instead\n",
      "\n",
      "See the caveats in the documentation: http://pandas.pydata.org/pandas-docs/stable/user_guide/indexing.html#returning-a-view-versus-a-copy\n",
      "/Users/trae/.virtualenvs/talus_api/lib/python3.7/site-packages/ipykernel_launcher.py:35: SettingWithCopyWarning: \n",
      "A value is trying to be set on a copy of a slice from a DataFrame.\n",
      "Try using .loc[row_indexer,col_indexer] = value instead\n",
      "\n",
      "See the caveats in the documentation: http://pandas.pydata.org/pandas-docs/stable/user_guide/indexing.html#returning-a-view-versus-a-copy\n",
      "/Users/trae/.virtualenvs/talus_api/lib/python3.7/site-packages/pandas/core/frame.py:4102: SettingWithCopyWarning: \n",
      "A value is trying to be set on a copy of a slice from a DataFrame\n",
      "\n",
      "See the caveats in the documentation: http://pandas.pydata.org/pandas-docs/stable/user_guide/indexing.html#returning-a-view-versus-a-copy\n",
      "  errors=errors,\n"
     ]
    },
    {
     "name": "stdout",
     "output_type": "stream",
     "text": [
      "(28, 17)\n",
      "length: 5\n",
      "list: ['…', '32', '148', '23', '203a']\n"
     ]
    },
    {
     "name": "stderr",
     "output_type": "stream",
     "text": [
      "/Users/trae/.virtualenvs/talus_api/lib/python3.7/site-packages/ipykernel_launcher.py:34: SettingWithCopyWarning: \n",
      "A value is trying to be set on a copy of a slice from a DataFrame.\n",
      "Try using .loc[row_indexer,col_indexer] = value instead\n",
      "\n",
      "See the caveats in the documentation: http://pandas.pydata.org/pandas-docs/stable/user_guide/indexing.html#returning-a-view-versus-a-copy\n",
      "/Users/trae/.virtualenvs/talus_api/lib/python3.7/site-packages/ipykernel_launcher.py:35: SettingWithCopyWarning: \n",
      "A value is trying to be set on a copy of a slice from a DataFrame.\n",
      "Try using .loc[row_indexer,col_indexer] = value instead\n",
      "\n",
      "See the caveats in the documentation: http://pandas.pydata.org/pandas-docs/stable/user_guide/indexing.html#returning-a-view-versus-a-copy\n",
      "/Users/trae/.virtualenvs/talus_api/lib/python3.7/site-packages/pandas/core/frame.py:4102: SettingWithCopyWarning: \n",
      "A value is trying to be set on a copy of a slice from a DataFrame\n",
      "\n",
      "See the caveats in the documentation: http://pandas.pydata.org/pandas-docs/stable/user_guide/indexing.html#returning-a-view-versus-a-copy\n",
      "  errors=errors,\n"
     ]
    },
    {
     "name": "stdout",
     "output_type": "stream",
     "text": [
      "(29, 17)\n",
      "length: 5\n",
      "list: ['…', '32', '85', '23', '140a']\n"
     ]
    },
    {
     "name": "stderr",
     "output_type": "stream",
     "text": [
      "/Users/trae/.virtualenvs/talus_api/lib/python3.7/site-packages/ipykernel_launcher.py:34: SettingWithCopyWarning: \n",
      "A value is trying to be set on a copy of a slice from a DataFrame.\n",
      "Try using .loc[row_indexer,col_indexer] = value instead\n",
      "\n",
      "See the caveats in the documentation: http://pandas.pydata.org/pandas-docs/stable/user_guide/indexing.html#returning-a-view-versus-a-copy\n",
      "/Users/trae/.virtualenvs/talus_api/lib/python3.7/site-packages/ipykernel_launcher.py:35: SettingWithCopyWarning: \n",
      "A value is trying to be set on a copy of a slice from a DataFrame.\n",
      "Try using .loc[row_indexer,col_indexer] = value instead\n",
      "\n",
      "See the caveats in the documentation: http://pandas.pydata.org/pandas-docs/stable/user_guide/indexing.html#returning-a-view-versus-a-copy\n",
      "/Users/trae/.virtualenvs/talus_api/lib/python3.7/site-packages/pandas/core/frame.py:4102: SettingWithCopyWarning: \n",
      "A value is trying to be set on a copy of a slice from a DataFrame\n",
      "\n",
      "See the caveats in the documentation: http://pandas.pydata.org/pandas-docs/stable/user_guide/indexing.html#returning-a-view-versus-a-copy\n",
      "  errors=errors,\n"
     ]
    },
    {
     "name": "stdout",
     "output_type": "stream",
     "text": [
      "(29, 17)\n",
      "length: 5\n",
      "list: ['2', '32', '85', '23', '140a']\n"
     ]
    },
    {
     "name": "stderr",
     "output_type": "stream",
     "text": [
      "/Users/trae/.virtualenvs/talus_api/lib/python3.7/site-packages/ipykernel_launcher.py:34: SettingWithCopyWarning: \n",
      "A value is trying to be set on a copy of a slice from a DataFrame.\n",
      "Try using .loc[row_indexer,col_indexer] = value instead\n",
      "\n",
      "See the caveats in the documentation: http://pandas.pydata.org/pandas-docs/stable/user_guide/indexing.html#returning-a-view-versus-a-copy\n",
      "/Users/trae/.virtualenvs/talus_api/lib/python3.7/site-packages/ipykernel_launcher.py:35: SettingWithCopyWarning: \n",
      "A value is trying to be set on a copy of a slice from a DataFrame.\n",
      "Try using .loc[row_indexer,col_indexer] = value instead\n",
      "\n",
      "See the caveats in the documentation: http://pandas.pydata.org/pandas-docs/stable/user_guide/indexing.html#returning-a-view-versus-a-copy\n",
      "/Users/trae/.virtualenvs/talus_api/lib/python3.7/site-packages/pandas/core/frame.py:4102: SettingWithCopyWarning: \n",
      "A value is trying to be set on a copy of a slice from a DataFrame\n",
      "\n",
      "See the caveats in the documentation: http://pandas.pydata.org/pandas-docs/stable/user_guide/indexing.html#returning-a-view-versus-a-copy\n",
      "  errors=errors,\n"
     ]
    },
    {
     "name": "stdout",
     "output_type": "stream",
     "text": [
      "(29, 17)\n",
      "length: 5\n",
      "list: ['488', '32', '85', '23', '140a']\n"
     ]
    },
    {
     "name": "stderr",
     "output_type": "stream",
     "text": [
      "/Users/trae/.virtualenvs/talus_api/lib/python3.7/site-packages/ipykernel_launcher.py:34: SettingWithCopyWarning: \n",
      "A value is trying to be set on a copy of a slice from a DataFrame.\n",
      "Try using .loc[row_indexer,col_indexer] = value instead\n",
      "\n",
      "See the caveats in the documentation: http://pandas.pydata.org/pandas-docs/stable/user_guide/indexing.html#returning-a-view-versus-a-copy\n",
      "/Users/trae/.virtualenvs/talus_api/lib/python3.7/site-packages/ipykernel_launcher.py:35: SettingWithCopyWarning: \n",
      "A value is trying to be set on a copy of a slice from a DataFrame.\n",
      "Try using .loc[row_indexer,col_indexer] = value instead\n",
      "\n",
      "See the caveats in the documentation: http://pandas.pydata.org/pandas-docs/stable/user_guide/indexing.html#returning-a-view-versus-a-copy\n",
      "/Users/trae/.virtualenvs/talus_api/lib/python3.7/site-packages/pandas/core/frame.py:4102: SettingWithCopyWarning: \n",
      "A value is trying to be set on a copy of a slice from a DataFrame\n",
      "\n",
      "See the caveats in the documentation: http://pandas.pydata.org/pandas-docs/stable/user_guide/indexing.html#returning-a-view-versus-a-copy\n",
      "  errors=errors,\n"
     ]
    },
    {
     "name": "stdout",
     "output_type": "stream",
     "text": [
      "(29, 17)\n",
      "length: 5\n",
      "list: ['488', '32', '85', '23', '140a']\n"
     ]
    },
    {
     "name": "stderr",
     "output_type": "stream",
     "text": [
      "/Users/trae/.virtualenvs/talus_api/lib/python3.7/site-packages/ipykernel_launcher.py:34: SettingWithCopyWarning: \n",
      "A value is trying to be set on a copy of a slice from a DataFrame.\n",
      "Try using .loc[row_indexer,col_indexer] = value instead\n",
      "\n",
      "See the caveats in the documentation: http://pandas.pydata.org/pandas-docs/stable/user_guide/indexing.html#returning-a-view-versus-a-copy\n",
      "/Users/trae/.virtualenvs/talus_api/lib/python3.7/site-packages/ipykernel_launcher.py:35: SettingWithCopyWarning: \n",
      "A value is trying to be set on a copy of a slice from a DataFrame.\n",
      "Try using .loc[row_indexer,col_indexer] = value instead\n",
      "\n",
      "See the caveats in the documentation: http://pandas.pydata.org/pandas-docs/stable/user_guide/indexing.html#returning-a-view-versus-a-copy\n",
      "/Users/trae/.virtualenvs/talus_api/lib/python3.7/site-packages/pandas/core/frame.py:4102: SettingWithCopyWarning: \n",
      "A value is trying to be set on a copy of a slice from a DataFrame\n",
      "\n",
      "See the caveats in the documentation: http://pandas.pydata.org/pandas-docs/stable/user_guide/indexing.html#returning-a-view-versus-a-copy\n",
      "  errors=errors,\n"
     ]
    },
    {
     "name": "stdout",
     "output_type": "stream",
     "text": [
      "(28, 17)\n",
      "length: 5\n",
      "list: ['2', '0', '40', '…', '40a']\n"
     ]
    },
    {
     "name": "stderr",
     "output_type": "stream",
     "text": [
      "/Users/trae/.virtualenvs/talus_api/lib/python3.7/site-packages/ipykernel_launcher.py:34: SettingWithCopyWarning: \n",
      "A value is trying to be set on a copy of a slice from a DataFrame.\n",
      "Try using .loc[row_indexer,col_indexer] = value instead\n",
      "\n",
      "See the caveats in the documentation: http://pandas.pydata.org/pandas-docs/stable/user_guide/indexing.html#returning-a-view-versus-a-copy\n",
      "/Users/trae/.virtualenvs/talus_api/lib/python3.7/site-packages/ipykernel_launcher.py:35: SettingWithCopyWarning: \n",
      "A value is trying to be set on a copy of a slice from a DataFrame.\n",
      "Try using .loc[row_indexer,col_indexer] = value instead\n",
      "\n",
      "See the caveats in the documentation: http://pandas.pydata.org/pandas-docs/stable/user_guide/indexing.html#returning-a-view-versus-a-copy\n",
      "/Users/trae/.virtualenvs/talus_api/lib/python3.7/site-packages/pandas/core/frame.py:4102: SettingWithCopyWarning: \n",
      "A value is trying to be set on a copy of a slice from a DataFrame\n",
      "\n",
      "See the caveats in the documentation: http://pandas.pydata.org/pandas-docs/stable/user_guide/indexing.html#returning-a-view-versus-a-copy\n",
      "  errors=errors,\n"
     ]
    },
    {
     "name": "stdout",
     "output_type": "stream",
     "text": [
      "(28, 17)\n",
      "length: 5\n",
      "list: ['…', '0', '40', '…', '40a']\n"
     ]
    },
    {
     "name": "stderr",
     "output_type": "stream",
     "text": [
      "/Users/trae/.virtualenvs/talus_api/lib/python3.7/site-packages/ipykernel_launcher.py:34: SettingWithCopyWarning: \n",
      "A value is trying to be set on a copy of a slice from a DataFrame.\n",
      "Try using .loc[row_indexer,col_indexer] = value instead\n",
      "\n",
      "See the caveats in the documentation: http://pandas.pydata.org/pandas-docs/stable/user_guide/indexing.html#returning-a-view-versus-a-copy\n",
      "/Users/trae/.virtualenvs/talus_api/lib/python3.7/site-packages/ipykernel_launcher.py:35: SettingWithCopyWarning: \n",
      "A value is trying to be set on a copy of a slice from a DataFrame.\n",
      "Try using .loc[row_indexer,col_indexer] = value instead\n",
      "\n",
      "See the caveats in the documentation: http://pandas.pydata.org/pandas-docs/stable/user_guide/indexing.html#returning-a-view-versus-a-copy\n",
      "/Users/trae/.virtualenvs/talus_api/lib/python3.7/site-packages/pandas/core/frame.py:4102: SettingWithCopyWarning: \n",
      "A value is trying to be set on a copy of a slice from a DataFrame\n",
      "\n",
      "See the caveats in the documentation: http://pandas.pydata.org/pandas-docs/stable/user_guide/indexing.html#returning-a-view-versus-a-copy\n",
      "  errors=errors,\n"
     ]
    },
    {
     "name": "stdout",
     "output_type": "stream",
     "text": [
      "(28, 17)\n",
      "length: 5\n",
      "list: ['2', '0', '40', '…', '40a']\n"
     ]
    },
    {
     "name": "stderr",
     "output_type": "stream",
     "text": [
      "/Users/trae/.virtualenvs/talus_api/lib/python3.7/site-packages/ipykernel_launcher.py:34: SettingWithCopyWarning: \n",
      "A value is trying to be set on a copy of a slice from a DataFrame.\n",
      "Try using .loc[row_indexer,col_indexer] = value instead\n",
      "\n",
      "See the caveats in the documentation: http://pandas.pydata.org/pandas-docs/stable/user_guide/indexing.html#returning-a-view-versus-a-copy\n",
      "/Users/trae/.virtualenvs/talus_api/lib/python3.7/site-packages/ipykernel_launcher.py:35: SettingWithCopyWarning: \n",
      "A value is trying to be set on a copy of a slice from a DataFrame.\n",
      "Try using .loc[row_indexer,col_indexer] = value instead\n",
      "\n",
      "See the caveats in the documentation: http://pandas.pydata.org/pandas-docs/stable/user_guide/indexing.html#returning-a-view-versus-a-copy\n",
      "/Users/trae/.virtualenvs/talus_api/lib/python3.7/site-packages/pandas/core/frame.py:4102: SettingWithCopyWarning: \n",
      "A value is trying to be set on a copy of a slice from a DataFrame\n",
      "\n",
      "See the caveats in the documentation: http://pandas.pydata.org/pandas-docs/stable/user_guide/indexing.html#returning-a-view-versus-a-copy\n",
      "  errors=errors,\n"
     ]
    },
    {
     "name": "stdout",
     "output_type": "stream",
     "text": [
      "(29, 17)\n",
      "length: 5\n",
      "list: ['2', '0', '40', '…', '40a']\n"
     ]
    },
    {
     "name": "stderr",
     "output_type": "stream",
     "text": [
      "/Users/trae/.virtualenvs/talus_api/lib/python3.7/site-packages/ipykernel_launcher.py:34: SettingWithCopyWarning: \n",
      "A value is trying to be set on a copy of a slice from a DataFrame.\n",
      "Try using .loc[row_indexer,col_indexer] = value instead\n",
      "\n",
      "See the caveats in the documentation: http://pandas.pydata.org/pandas-docs/stable/user_guide/indexing.html#returning-a-view-versus-a-copy\n",
      "/Users/trae/.virtualenvs/talus_api/lib/python3.7/site-packages/ipykernel_launcher.py:35: SettingWithCopyWarning: \n",
      "A value is trying to be set on a copy of a slice from a DataFrame.\n",
      "Try using .loc[row_indexer,col_indexer] = value instead\n",
      "\n",
      "See the caveats in the documentation: http://pandas.pydata.org/pandas-docs/stable/user_guide/indexing.html#returning-a-view-versus-a-copy\n",
      "/Users/trae/.virtualenvs/talus_api/lib/python3.7/site-packages/pandas/core/frame.py:4102: SettingWithCopyWarning: \n",
      "A value is trying to be set on a copy of a slice from a DataFrame\n",
      "\n",
      "See the caveats in the documentation: http://pandas.pydata.org/pandas-docs/stable/user_guide/indexing.html#returning-a-view-versus-a-copy\n",
      "  errors=errors,\n"
     ]
    },
    {
     "name": "stdout",
     "output_type": "stream",
     "text": [
      "(28, 17)\n",
      "length: 5\n",
      "list: ['2', '0', '40', '…', '40a']\n"
     ]
    },
    {
     "name": "stderr",
     "output_type": "stream",
     "text": [
      "/Users/trae/.virtualenvs/talus_api/lib/python3.7/site-packages/ipykernel_launcher.py:34: SettingWithCopyWarning: \n",
      "A value is trying to be set on a copy of a slice from a DataFrame.\n",
      "Try using .loc[row_indexer,col_indexer] = value instead\n",
      "\n",
      "See the caveats in the documentation: http://pandas.pydata.org/pandas-docs/stable/user_guide/indexing.html#returning-a-view-versus-a-copy\n",
      "/Users/trae/.virtualenvs/talus_api/lib/python3.7/site-packages/ipykernel_launcher.py:35: SettingWithCopyWarning: \n",
      "A value is trying to be set on a copy of a slice from a DataFrame.\n",
      "Try using .loc[row_indexer,col_indexer] = value instead\n",
      "\n",
      "See the caveats in the documentation: http://pandas.pydata.org/pandas-docs/stable/user_guide/indexing.html#returning-a-view-versus-a-copy\n",
      "/Users/trae/.virtualenvs/talus_api/lib/python3.7/site-packages/pandas/core/frame.py:4102: SettingWithCopyWarning: \n",
      "A value is trying to be set on a copy of a slice from a DataFrame\n",
      "\n",
      "See the caveats in the documentation: http://pandas.pydata.org/pandas-docs/stable/user_guide/indexing.html#returning-a-view-versus-a-copy\n",
      "  errors=errors,\n"
     ]
    },
    {
     "name": "stdout",
     "output_type": "stream",
     "text": [
      "(28, 17)\n",
      "length: 5\n",
      "list: ['2', '0', '40', '…', '40a']\n"
     ]
    },
    {
     "name": "stderr",
     "output_type": "stream",
     "text": [
      "/Users/trae/.virtualenvs/talus_api/lib/python3.7/site-packages/ipykernel_launcher.py:34: SettingWithCopyWarning: \n",
      "A value is trying to be set on a copy of a slice from a DataFrame.\n",
      "Try using .loc[row_indexer,col_indexer] = value instead\n",
      "\n",
      "See the caveats in the documentation: http://pandas.pydata.org/pandas-docs/stable/user_guide/indexing.html#returning-a-view-versus-a-copy\n",
      "/Users/trae/.virtualenvs/talus_api/lib/python3.7/site-packages/ipykernel_launcher.py:35: SettingWithCopyWarning: \n",
      "A value is trying to be set on a copy of a slice from a DataFrame.\n",
      "Try using .loc[row_indexer,col_indexer] = value instead\n",
      "\n",
      "See the caveats in the documentation: http://pandas.pydata.org/pandas-docs/stable/user_guide/indexing.html#returning-a-view-versus-a-copy\n",
      "/Users/trae/.virtualenvs/talus_api/lib/python3.7/site-packages/pandas/core/frame.py:4102: SettingWithCopyWarning: \n",
      "A value is trying to be set on a copy of a slice from a DataFrame\n",
      "\n",
      "See the caveats in the documentation: http://pandas.pydata.org/pandas-docs/stable/user_guide/indexing.html#returning-a-view-versus-a-copy\n",
      "  errors=errors,\n"
     ]
    },
    {
     "name": "stdout",
     "output_type": "stream",
     "text": [
      "(28, 16)\n",
      "length: 4\n",
      "list: ['3', '0', '0', '0']\n"
     ]
    },
    {
     "name": "stderr",
     "output_type": "stream",
     "text": [
      "/Users/trae/.virtualenvs/talus_api/lib/python3.7/site-packages/ipykernel_launcher.py:34: SettingWithCopyWarning: \n",
      "A value is trying to be set on a copy of a slice from a DataFrame.\n",
      "Try using .loc[row_indexer,col_indexer] = value instead\n",
      "\n",
      "See the caveats in the documentation: http://pandas.pydata.org/pandas-docs/stable/user_guide/indexing.html#returning-a-view-versus-a-copy\n",
      "/Users/trae/.virtualenvs/talus_api/lib/python3.7/site-packages/ipykernel_launcher.py:35: SettingWithCopyWarning: \n",
      "A value is trying to be set on a copy of a slice from a DataFrame.\n",
      "Try using .loc[row_indexer,col_indexer] = value instead\n",
      "\n",
      "See the caveats in the documentation: http://pandas.pydata.org/pandas-docs/stable/user_guide/indexing.html#returning-a-view-versus-a-copy\n",
      "/Users/trae/.virtualenvs/talus_api/lib/python3.7/site-packages/pandas/core/frame.py:4102: SettingWithCopyWarning: \n",
      "A value is trying to be set on a copy of a slice from a DataFrame\n",
      "\n",
      "See the caveats in the documentation: http://pandas.pydata.org/pandas-docs/stable/user_guide/indexing.html#returning-a-view-versus-a-copy\n",
      "  errors=errors,\n"
     ]
    },
    {
     "name": "stdout",
     "output_type": "stream",
     "text": [
      "(28, 17)\n",
      "length: 5\n",
      "list: ['3', '0', '0', '0', '2018-52']\n"
     ]
    },
    {
     "name": "stderr",
     "output_type": "stream",
     "text": [
      "/Users/trae/.virtualenvs/talus_api/lib/python3.7/site-packages/ipykernel_launcher.py:34: SettingWithCopyWarning: \n",
      "A value is trying to be set on a copy of a slice from a DataFrame.\n",
      "Try using .loc[row_indexer,col_indexer] = value instead\n",
      "\n",
      "See the caveats in the documentation: http://pandas.pydata.org/pandas-docs/stable/user_guide/indexing.html#returning-a-view-versus-a-copy\n",
      "/Users/trae/.virtualenvs/talus_api/lib/python3.7/site-packages/ipykernel_launcher.py:35: SettingWithCopyWarning: \n",
      "A value is trying to be set on a copy of a slice from a DataFrame.\n",
      "Try using .loc[row_indexer,col_indexer] = value instead\n",
      "\n",
      "See the caveats in the documentation: http://pandas.pydata.org/pandas-docs/stable/user_guide/indexing.html#returning-a-view-versus-a-copy\n",
      "/Users/trae/.virtualenvs/talus_api/lib/python3.7/site-packages/pandas/core/frame.py:4102: SettingWithCopyWarning: \n",
      "A value is trying to be set on a copy of a slice from a DataFrame\n",
      "\n",
      "See the caveats in the documentation: http://pandas.pydata.org/pandas-docs/stable/user_guide/indexing.html#returning-a-view-versus-a-copy\n",
      "  errors=errors,\n"
     ]
    },
    {
     "name": "stdout",
     "output_type": "stream",
     "text": [
      "(28, 17)\n",
      "length: 5\n",
      "list: ['3', '0', '0', '0', '2018-52']\n"
     ]
    },
    {
     "name": "stderr",
     "output_type": "stream",
     "text": [
      "/Users/trae/.virtualenvs/talus_api/lib/python3.7/site-packages/ipykernel_launcher.py:34: SettingWithCopyWarning: \n",
      "A value is trying to be set on a copy of a slice from a DataFrame.\n",
      "Try using .loc[row_indexer,col_indexer] = value instead\n",
      "\n",
      "See the caveats in the documentation: http://pandas.pydata.org/pandas-docs/stable/user_guide/indexing.html#returning-a-view-versus-a-copy\n",
      "/Users/trae/.virtualenvs/talus_api/lib/python3.7/site-packages/ipykernel_launcher.py:35: SettingWithCopyWarning: \n",
      "A value is trying to be set on a copy of a slice from a DataFrame.\n",
      "Try using .loc[row_indexer,col_indexer] = value instead\n",
      "\n",
      "See the caveats in the documentation: http://pandas.pydata.org/pandas-docs/stable/user_guide/indexing.html#returning-a-view-versus-a-copy\n",
      "/Users/trae/.virtualenvs/talus_api/lib/python3.7/site-packages/pandas/core/frame.py:4102: SettingWithCopyWarning: \n",
      "A value is trying to be set on a copy of a slice from a DataFrame\n",
      "\n",
      "See the caveats in the documentation: http://pandas.pydata.org/pandas-docs/stable/user_guide/indexing.html#returning-a-view-versus-a-copy\n",
      "  errors=errors,\n"
     ]
    },
    {
     "name": "stdout",
     "output_type": "stream",
     "text": [
      "(28, 17)\n",
      "length: 5\n",
      "list: ['3', '0', '0', '0', '2018-52']\n"
     ]
    },
    {
     "name": "stderr",
     "output_type": "stream",
     "text": [
      "/Users/trae/.virtualenvs/talus_api/lib/python3.7/site-packages/ipykernel_launcher.py:34: SettingWithCopyWarning: \n",
      "A value is trying to be set on a copy of a slice from a DataFrame.\n",
      "Try using .loc[row_indexer,col_indexer] = value instead\n",
      "\n",
      "See the caveats in the documentation: http://pandas.pydata.org/pandas-docs/stable/user_guide/indexing.html#returning-a-view-versus-a-copy\n",
      "/Users/trae/.virtualenvs/talus_api/lib/python3.7/site-packages/ipykernel_launcher.py:35: SettingWithCopyWarning: \n",
      "A value is trying to be set on a copy of a slice from a DataFrame.\n",
      "Try using .loc[row_indexer,col_indexer] = value instead\n",
      "\n",
      "See the caveats in the documentation: http://pandas.pydata.org/pandas-docs/stable/user_guide/indexing.html#returning-a-view-versus-a-copy\n",
      "/Users/trae/.virtualenvs/talus_api/lib/python3.7/site-packages/pandas/core/frame.py:4102: SettingWithCopyWarning: \n",
      "A value is trying to be set on a copy of a slice from a DataFrame\n",
      "\n",
      "See the caveats in the documentation: http://pandas.pydata.org/pandas-docs/stable/user_guide/indexing.html#returning-a-view-versus-a-copy\n",
      "  errors=errors,\n"
     ]
    },
    {
     "name": "stdout",
     "output_type": "stream",
     "text": [
      "(29, 17)\n",
      "length: 5\n",
      "list: ['3', '0', '0', '0', '2018-52']\n"
     ]
    },
    {
     "name": "stderr",
     "output_type": "stream",
     "text": [
      "/Users/trae/.virtualenvs/talus_api/lib/python3.7/site-packages/ipykernel_launcher.py:34: SettingWithCopyWarning: \n",
      "A value is trying to be set on a copy of a slice from a DataFrame.\n",
      "Try using .loc[row_indexer,col_indexer] = value instead\n",
      "\n",
      "See the caveats in the documentation: http://pandas.pydata.org/pandas-docs/stable/user_guide/indexing.html#returning-a-view-versus-a-copy\n",
      "/Users/trae/.virtualenvs/talus_api/lib/python3.7/site-packages/ipykernel_launcher.py:35: SettingWithCopyWarning: \n",
      "A value is trying to be set on a copy of a slice from a DataFrame.\n",
      "Try using .loc[row_indexer,col_indexer] = value instead\n",
      "\n",
      "See the caveats in the documentation: http://pandas.pydata.org/pandas-docs/stable/user_guide/indexing.html#returning-a-view-versus-a-copy\n",
      "/Users/trae/.virtualenvs/talus_api/lib/python3.7/site-packages/pandas/core/frame.py:4102: SettingWithCopyWarning: \n",
      "A value is trying to be set on a copy of a slice from a DataFrame\n",
      "\n",
      "See the caveats in the documentation: http://pandas.pydata.org/pandas-docs/stable/user_guide/indexing.html#returning-a-view-versus-a-copy\n",
      "  errors=errors,\n"
     ]
    },
    {
     "name": "stdout",
     "output_type": "stream",
     "text": [
      "(29, 17)\n",
      "length: 5\n",
      "list: ['2', '0', '0', '0', '2018-52']\n"
     ]
    },
    {
     "name": "stderr",
     "output_type": "stream",
     "text": [
      "/Users/trae/.virtualenvs/talus_api/lib/python3.7/site-packages/ipykernel_launcher.py:34: SettingWithCopyWarning: \n",
      "A value is trying to be set on a copy of a slice from a DataFrame.\n",
      "Try using .loc[row_indexer,col_indexer] = value instead\n",
      "\n",
      "See the caveats in the documentation: http://pandas.pydata.org/pandas-docs/stable/user_guide/indexing.html#returning-a-view-versus-a-copy\n",
      "/Users/trae/.virtualenvs/talus_api/lib/python3.7/site-packages/ipykernel_launcher.py:35: SettingWithCopyWarning: \n",
      "A value is trying to be set on a copy of a slice from a DataFrame.\n",
      "Try using .loc[row_indexer,col_indexer] = value instead\n",
      "\n",
      "See the caveats in the documentation: http://pandas.pydata.org/pandas-docs/stable/user_guide/indexing.html#returning-a-view-versus-a-copy\n",
      "/Users/trae/.virtualenvs/talus_api/lib/python3.7/site-packages/pandas/core/frame.py:4102: SettingWithCopyWarning: \n",
      "A value is trying to be set on a copy of a slice from a DataFrame\n",
      "\n",
      "See the caveats in the documentation: http://pandas.pydata.org/pandas-docs/stable/user_guide/indexing.html#returning-a-view-versus-a-copy\n",
      "  errors=errors,\n"
     ]
    },
    {
     "name": "stdout",
     "output_type": "stream",
     "text": [
      "(28, 17)\n",
      "length: 5\n",
      "list: ['2', '0', '0', '0', '2018-52']\n"
     ]
    },
    {
     "name": "stderr",
     "output_type": "stream",
     "text": [
      "/Users/trae/.virtualenvs/talus_api/lib/python3.7/site-packages/ipykernel_launcher.py:34: SettingWithCopyWarning: \n",
      "A value is trying to be set on a copy of a slice from a DataFrame.\n",
      "Try using .loc[row_indexer,col_indexer] = value instead\n",
      "\n",
      "See the caveats in the documentation: http://pandas.pydata.org/pandas-docs/stable/user_guide/indexing.html#returning-a-view-versus-a-copy\n",
      "/Users/trae/.virtualenvs/talus_api/lib/python3.7/site-packages/ipykernel_launcher.py:35: SettingWithCopyWarning: \n",
      "A value is trying to be set on a copy of a slice from a DataFrame.\n",
      "Try using .loc[row_indexer,col_indexer] = value instead\n",
      "\n",
      "See the caveats in the documentation: http://pandas.pydata.org/pandas-docs/stable/user_guide/indexing.html#returning-a-view-versus-a-copy\n",
      "/Users/trae/.virtualenvs/talus_api/lib/python3.7/site-packages/pandas/core/frame.py:4102: SettingWithCopyWarning: \n",
      "A value is trying to be set on a copy of a slice from a DataFrame\n",
      "\n",
      "See the caveats in the documentation: http://pandas.pydata.org/pandas-docs/stable/user_guide/indexing.html#returning-a-view-versus-a-copy\n",
      "  errors=errors,\n"
     ]
    },
    {
     "name": "stdout",
     "output_type": "stream",
     "text": [
      "(28, 18)\n",
      "Length mismatch: Expected axis has 18 elements, new values have 16 elements\n",
      "(28, 16)\n",
      "length: 4\n",
      "list: ['…', '…', '5643', '5643a']\n"
     ]
    },
    {
     "name": "stderr",
     "output_type": "stream",
     "text": [
      "/Users/trae/.virtualenvs/talus_api/lib/python3.7/site-packages/ipykernel_launcher.py:34: SettingWithCopyWarning: \n",
      "A value is trying to be set on a copy of a slice from a DataFrame.\n",
      "Try using .loc[row_indexer,col_indexer] = value instead\n",
      "\n",
      "See the caveats in the documentation: http://pandas.pydata.org/pandas-docs/stable/user_guide/indexing.html#returning-a-view-versus-a-copy\n",
      "/Users/trae/.virtualenvs/talus_api/lib/python3.7/site-packages/ipykernel_launcher.py:35: SettingWithCopyWarning: \n",
      "A value is trying to be set on a copy of a slice from a DataFrame.\n",
      "Try using .loc[row_indexer,col_indexer] = value instead\n",
      "\n",
      "See the caveats in the documentation: http://pandas.pydata.org/pandas-docs/stable/user_guide/indexing.html#returning-a-view-versus-a-copy\n",
      "/Users/trae/.virtualenvs/talus_api/lib/python3.7/site-packages/pandas/core/frame.py:4102: SettingWithCopyWarning: \n",
      "A value is trying to be set on a copy of a slice from a DataFrame\n",
      "\n",
      "See the caveats in the documentation: http://pandas.pydata.org/pandas-docs/stable/user_guide/indexing.html#returning-a-view-versus-a-copy\n",
      "  errors=errors,\n"
     ]
    },
    {
     "name": "stdout",
     "output_type": "stream",
     "text": [
      "(28, 16)\n",
      "length: 4\n",
      "list: ['…', '…', '5643', '5643a']\n"
     ]
    },
    {
     "name": "stderr",
     "output_type": "stream",
     "text": [
      "/Users/trae/.virtualenvs/talus_api/lib/python3.7/site-packages/ipykernel_launcher.py:34: SettingWithCopyWarning: \n",
      "A value is trying to be set on a copy of a slice from a DataFrame.\n",
      "Try using .loc[row_indexer,col_indexer] = value instead\n",
      "\n",
      "See the caveats in the documentation: http://pandas.pydata.org/pandas-docs/stable/user_guide/indexing.html#returning-a-view-versus-a-copy\n",
      "/Users/trae/.virtualenvs/talus_api/lib/python3.7/site-packages/ipykernel_launcher.py:35: SettingWithCopyWarning: \n",
      "A value is trying to be set on a copy of a slice from a DataFrame.\n",
      "Try using .loc[row_indexer,col_indexer] = value instead\n",
      "\n",
      "See the caveats in the documentation: http://pandas.pydata.org/pandas-docs/stable/user_guide/indexing.html#returning-a-view-versus-a-copy\n",
      "/Users/trae/.virtualenvs/talus_api/lib/python3.7/site-packages/pandas/core/frame.py:4102: SettingWithCopyWarning: \n",
      "A value is trying to be set on a copy of a slice from a DataFrame\n",
      "\n",
      "See the caveats in the documentation: http://pandas.pydata.org/pandas-docs/stable/user_guide/indexing.html#returning-a-view-versus-a-copy\n",
      "  errors=errors,\n"
     ]
    },
    {
     "name": "stdout",
     "output_type": "stream",
     "text": [
      "(28, 16)\n",
      "length: 4\n",
      "list: ['…', '…', '5643', '5643a']\n"
     ]
    },
    {
     "name": "stderr",
     "output_type": "stream",
     "text": [
      "/Users/trae/.virtualenvs/talus_api/lib/python3.7/site-packages/ipykernel_launcher.py:34: SettingWithCopyWarning: \n",
      "A value is trying to be set on a copy of a slice from a DataFrame.\n",
      "Try using .loc[row_indexer,col_indexer] = value instead\n",
      "\n",
      "See the caveats in the documentation: http://pandas.pydata.org/pandas-docs/stable/user_guide/indexing.html#returning-a-view-versus-a-copy\n",
      "/Users/trae/.virtualenvs/talus_api/lib/python3.7/site-packages/ipykernel_launcher.py:35: SettingWithCopyWarning: \n",
      "A value is trying to be set on a copy of a slice from a DataFrame.\n",
      "Try using .loc[row_indexer,col_indexer] = value instead\n",
      "\n",
      "See the caveats in the documentation: http://pandas.pydata.org/pandas-docs/stable/user_guide/indexing.html#returning-a-view-versus-a-copy\n",
      "/Users/trae/.virtualenvs/talus_api/lib/python3.7/site-packages/pandas/core/frame.py:4102: SettingWithCopyWarning: \n",
      "A value is trying to be set on a copy of a slice from a DataFrame\n",
      "\n",
      "See the caveats in the documentation: http://pandas.pydata.org/pandas-docs/stable/user_guide/indexing.html#returning-a-view-versus-a-copy\n",
      "  errors=errors,\n"
     ]
    },
    {
     "name": "stdout",
     "output_type": "stream",
     "text": [
      "(28, 16)\n",
      "length: 4\n",
      "list: ['…', '…', '5643', '5643a']\n"
     ]
    },
    {
     "name": "stderr",
     "output_type": "stream",
     "text": [
      "/Users/trae/.virtualenvs/talus_api/lib/python3.7/site-packages/ipykernel_launcher.py:34: SettingWithCopyWarning: \n",
      "A value is trying to be set on a copy of a slice from a DataFrame.\n",
      "Try using .loc[row_indexer,col_indexer] = value instead\n",
      "\n",
      "See the caveats in the documentation: http://pandas.pydata.org/pandas-docs/stable/user_guide/indexing.html#returning-a-view-versus-a-copy\n",
      "/Users/trae/.virtualenvs/talus_api/lib/python3.7/site-packages/ipykernel_launcher.py:35: SettingWithCopyWarning: \n",
      "A value is trying to be set on a copy of a slice from a DataFrame.\n",
      "Try using .loc[row_indexer,col_indexer] = value instead\n",
      "\n",
      "See the caveats in the documentation: http://pandas.pydata.org/pandas-docs/stable/user_guide/indexing.html#returning-a-view-versus-a-copy\n",
      "/Users/trae/.virtualenvs/talus_api/lib/python3.7/site-packages/pandas/core/frame.py:4102: SettingWithCopyWarning: \n",
      "A value is trying to be set on a copy of a slice from a DataFrame\n",
      "\n",
      "See the caveats in the documentation: http://pandas.pydata.org/pandas-docs/stable/user_guide/indexing.html#returning-a-view-versus-a-copy\n",
      "  errors=errors,\n"
     ]
    },
    {
     "name": "stdout",
     "output_type": "stream",
     "text": [
      "(28, 16)\n",
      "length: 4\n",
      "list: ['…', '…', '5525', '5525a']\n"
     ]
    },
    {
     "name": "stderr",
     "output_type": "stream",
     "text": [
      "/Users/trae/.virtualenvs/talus_api/lib/python3.7/site-packages/ipykernel_launcher.py:34: SettingWithCopyWarning: \n",
      "A value is trying to be set on a copy of a slice from a DataFrame.\n",
      "Try using .loc[row_indexer,col_indexer] = value instead\n",
      "\n",
      "See the caveats in the documentation: http://pandas.pydata.org/pandas-docs/stable/user_guide/indexing.html#returning-a-view-versus-a-copy\n",
      "/Users/trae/.virtualenvs/talus_api/lib/python3.7/site-packages/ipykernel_launcher.py:35: SettingWithCopyWarning: \n",
      "A value is trying to be set on a copy of a slice from a DataFrame.\n",
      "Try using .loc[row_indexer,col_indexer] = value instead\n",
      "\n",
      "See the caveats in the documentation: http://pandas.pydata.org/pandas-docs/stable/user_guide/indexing.html#returning-a-view-versus-a-copy\n",
      "/Users/trae/.virtualenvs/talus_api/lib/python3.7/site-packages/pandas/core/frame.py:4102: SettingWithCopyWarning: \n",
      "A value is trying to be set on a copy of a slice from a DataFrame\n",
      "\n",
      "See the caveats in the documentation: http://pandas.pydata.org/pandas-docs/stable/user_guide/indexing.html#returning-a-view-versus-a-copy\n",
      "  errors=errors,\n"
     ]
    },
    {
     "name": "stdout",
     "output_type": "stream",
     "text": [
      "(29, 16)\n",
      "length: 4\n",
      "list: ['…', '…', '5525', '5525a']\n"
     ]
    },
    {
     "name": "stderr",
     "output_type": "stream",
     "text": [
      "/Users/trae/.virtualenvs/talus_api/lib/python3.7/site-packages/ipykernel_launcher.py:34: SettingWithCopyWarning: \n",
      "A value is trying to be set on a copy of a slice from a DataFrame.\n",
      "Try using .loc[row_indexer,col_indexer] = value instead\n",
      "\n",
      "See the caveats in the documentation: http://pandas.pydata.org/pandas-docs/stable/user_guide/indexing.html#returning-a-view-versus-a-copy\n",
      "/Users/trae/.virtualenvs/talus_api/lib/python3.7/site-packages/ipykernel_launcher.py:35: SettingWithCopyWarning: \n",
      "A value is trying to be set on a copy of a slice from a DataFrame.\n",
      "Try using .loc[row_indexer,col_indexer] = value instead\n",
      "\n",
      "See the caveats in the documentation: http://pandas.pydata.org/pandas-docs/stable/user_guide/indexing.html#returning-a-view-versus-a-copy\n",
      "/Users/trae/.virtualenvs/talus_api/lib/python3.7/site-packages/pandas/core/frame.py:4102: SettingWithCopyWarning: \n",
      "A value is trying to be set on a copy of a slice from a DataFrame\n",
      "\n",
      "See the caveats in the documentation: http://pandas.pydata.org/pandas-docs/stable/user_guide/indexing.html#returning-a-view-versus-a-copy\n",
      "  errors=errors,\n"
     ]
    },
    {
     "name": "stdout",
     "output_type": "stream",
     "text": [
      "(28, 16)\n",
      "length: 4\n",
      "list: ['…', '…', '5643', '5643a']\n"
     ]
    },
    {
     "name": "stderr",
     "output_type": "stream",
     "text": [
      "/Users/trae/.virtualenvs/talus_api/lib/python3.7/site-packages/ipykernel_launcher.py:34: SettingWithCopyWarning: \n",
      "A value is trying to be set on a copy of a slice from a DataFrame.\n",
      "Try using .loc[row_indexer,col_indexer] = value instead\n",
      "\n",
      "See the caveats in the documentation: http://pandas.pydata.org/pandas-docs/stable/user_guide/indexing.html#returning-a-view-versus-a-copy\n",
      "/Users/trae/.virtualenvs/talus_api/lib/python3.7/site-packages/ipykernel_launcher.py:35: SettingWithCopyWarning: \n",
      "A value is trying to be set on a copy of a slice from a DataFrame.\n",
      "Try using .loc[row_indexer,col_indexer] = value instead\n",
      "\n",
      "See the caveats in the documentation: http://pandas.pydata.org/pandas-docs/stable/user_guide/indexing.html#returning-a-view-versus-a-copy\n",
      "/Users/trae/.virtualenvs/talus_api/lib/python3.7/site-packages/pandas/core/frame.py:4102: SettingWithCopyWarning: \n",
      "A value is trying to be set on a copy of a slice from a DataFrame\n",
      "\n",
      "See the caveats in the documentation: http://pandas.pydata.org/pandas-docs/stable/user_guide/indexing.html#returning-a-view-versus-a-copy\n",
      "  errors=errors,\n"
     ]
    },
    {
     "name": "stdout",
     "output_type": "stream",
     "text": [
      "(29, 16)\n",
      "length: 4\n",
      "list: ['…', '…', '5525', '5525a']\n"
     ]
    },
    {
     "name": "stderr",
     "output_type": "stream",
     "text": [
      "/Users/trae/.virtualenvs/talus_api/lib/python3.7/site-packages/ipykernel_launcher.py:34: SettingWithCopyWarning: \n",
      "A value is trying to be set on a copy of a slice from a DataFrame.\n",
      "Try using .loc[row_indexer,col_indexer] = value instead\n",
      "\n",
      "See the caveats in the documentation: http://pandas.pydata.org/pandas-docs/stable/user_guide/indexing.html#returning-a-view-versus-a-copy\n",
      "/Users/trae/.virtualenvs/talus_api/lib/python3.7/site-packages/ipykernel_launcher.py:35: SettingWithCopyWarning: \n",
      "A value is trying to be set on a copy of a slice from a DataFrame.\n",
      "Try using .loc[row_indexer,col_indexer] = value instead\n",
      "\n",
      "See the caveats in the documentation: http://pandas.pydata.org/pandas-docs/stable/user_guide/indexing.html#returning-a-view-versus-a-copy\n",
      "/Users/trae/.virtualenvs/talus_api/lib/python3.7/site-packages/pandas/core/frame.py:4102: SettingWithCopyWarning: \n",
      "A value is trying to be set on a copy of a slice from a DataFrame\n",
      "\n",
      "See the caveats in the documentation: http://pandas.pydata.org/pandas-docs/stable/user_guide/indexing.html#returning-a-view-versus-a-copy\n",
      "  errors=errors,\n"
     ]
    },
    {
     "name": "stdout",
     "output_type": "stream",
     "text": [
      "(28, 16)\n",
      "length: 4\n",
      "list: ['…', '…', '5525', '5525a']\n"
     ]
    },
    {
     "name": "stderr",
     "output_type": "stream",
     "text": [
      "/Users/trae/.virtualenvs/talus_api/lib/python3.7/site-packages/ipykernel_launcher.py:34: SettingWithCopyWarning: \n",
      "A value is trying to be set on a copy of a slice from a DataFrame.\n",
      "Try using .loc[row_indexer,col_indexer] = value instead\n",
      "\n",
      "See the caveats in the documentation: http://pandas.pydata.org/pandas-docs/stable/user_guide/indexing.html#returning-a-view-versus-a-copy\n",
      "/Users/trae/.virtualenvs/talus_api/lib/python3.7/site-packages/ipykernel_launcher.py:35: SettingWithCopyWarning: \n",
      "A value is trying to be set on a copy of a slice from a DataFrame.\n",
      "Try using .loc[row_indexer,col_indexer] = value instead\n",
      "\n",
      "See the caveats in the documentation: http://pandas.pydata.org/pandas-docs/stable/user_guide/indexing.html#returning-a-view-versus-a-copy\n",
      "/Users/trae/.virtualenvs/talus_api/lib/python3.7/site-packages/pandas/core/frame.py:4102: SettingWithCopyWarning: \n",
      "A value is trying to be set on a copy of a slice from a DataFrame\n",
      "\n",
      "See the caveats in the documentation: http://pandas.pydata.org/pandas-docs/stable/user_guide/indexing.html#returning-a-view-versus-a-copy\n",
      "  errors=errors,\n"
     ]
    },
    {
     "name": "stdout",
     "output_type": "stream",
     "text": [
      "(28, 16)\n",
      "length: 4\n",
      "list: ['…', '…', '5525', '5525a']\n"
     ]
    },
    {
     "name": "stderr",
     "output_type": "stream",
     "text": [
      "/Users/trae/.virtualenvs/talus_api/lib/python3.7/site-packages/ipykernel_launcher.py:34: SettingWithCopyWarning: \n",
      "A value is trying to be set on a copy of a slice from a DataFrame.\n",
      "Try using .loc[row_indexer,col_indexer] = value instead\n",
      "\n",
      "See the caveats in the documentation: http://pandas.pydata.org/pandas-docs/stable/user_guide/indexing.html#returning-a-view-versus-a-copy\n",
      "/Users/trae/.virtualenvs/talus_api/lib/python3.7/site-packages/ipykernel_launcher.py:35: SettingWithCopyWarning: \n",
      "A value is trying to be set on a copy of a slice from a DataFrame.\n",
      "Try using .loc[row_indexer,col_indexer] = value instead\n",
      "\n",
      "See the caveats in the documentation: http://pandas.pydata.org/pandas-docs/stable/user_guide/indexing.html#returning-a-view-versus-a-copy\n",
      "/Users/trae/.virtualenvs/talus_api/lib/python3.7/site-packages/pandas/core/frame.py:4102: SettingWithCopyWarning: \n",
      "A value is trying to be set on a copy of a slice from a DataFrame\n",
      "\n",
      "See the caveats in the documentation: http://pandas.pydata.org/pandas-docs/stable/user_guide/indexing.html#returning-a-view-versus-a-copy\n",
      "  errors=errors,\n"
     ]
    },
    {
     "name": "stdout",
     "output_type": "stream",
     "text": [
      "(29, 16)\n",
      "length: 4\n",
      "list: ['…', '…', '4605', '4605a']\n"
     ]
    },
    {
     "name": "stderr",
     "output_type": "stream",
     "text": [
      "/Users/trae/.virtualenvs/talus_api/lib/python3.7/site-packages/ipykernel_launcher.py:34: SettingWithCopyWarning: \n",
      "A value is trying to be set on a copy of a slice from a DataFrame.\n",
      "Try using .loc[row_indexer,col_indexer] = value instead\n",
      "\n",
      "See the caveats in the documentation: http://pandas.pydata.org/pandas-docs/stable/user_guide/indexing.html#returning-a-view-versus-a-copy\n",
      "/Users/trae/.virtualenvs/talus_api/lib/python3.7/site-packages/ipykernel_launcher.py:35: SettingWithCopyWarning: \n",
      "A value is trying to be set on a copy of a slice from a DataFrame.\n",
      "Try using .loc[row_indexer,col_indexer] = value instead\n",
      "\n",
      "See the caveats in the documentation: http://pandas.pydata.org/pandas-docs/stable/user_guide/indexing.html#returning-a-view-versus-a-copy\n",
      "/Users/trae/.virtualenvs/talus_api/lib/python3.7/site-packages/pandas/core/frame.py:4102: SettingWithCopyWarning: \n",
      "A value is trying to be set on a copy of a slice from a DataFrame\n",
      "\n",
      "See the caveats in the documentation: http://pandas.pydata.org/pandas-docs/stable/user_guide/indexing.html#returning-a-view-versus-a-copy\n",
      "  errors=errors,\n"
     ]
    },
    {
     "name": "stdout",
     "output_type": "stream",
     "text": [
      "(28, 16)\n",
      "length: 4\n",
      "list: ['…', '…', '4605', '4605a']\n"
     ]
    },
    {
     "name": "stderr",
     "output_type": "stream",
     "text": [
      "/Users/trae/.virtualenvs/talus_api/lib/python3.7/site-packages/ipykernel_launcher.py:34: SettingWithCopyWarning: \n",
      "A value is trying to be set on a copy of a slice from a DataFrame.\n",
      "Try using .loc[row_indexer,col_indexer] = value instead\n",
      "\n",
      "See the caveats in the documentation: http://pandas.pydata.org/pandas-docs/stable/user_guide/indexing.html#returning-a-view-versus-a-copy\n",
      "/Users/trae/.virtualenvs/talus_api/lib/python3.7/site-packages/ipykernel_launcher.py:35: SettingWithCopyWarning: \n",
      "A value is trying to be set on a copy of a slice from a DataFrame.\n",
      "Try using .loc[row_indexer,col_indexer] = value instead\n",
      "\n",
      "See the caveats in the documentation: http://pandas.pydata.org/pandas-docs/stable/user_guide/indexing.html#returning-a-view-versus-a-copy\n",
      "/Users/trae/.virtualenvs/talus_api/lib/python3.7/site-packages/pandas/core/frame.py:4102: SettingWithCopyWarning: \n",
      "A value is trying to be set on a copy of a slice from a DataFrame\n",
      "\n",
      "See the caveats in the documentation: http://pandas.pydata.org/pandas-docs/stable/user_guide/indexing.html#returning-a-view-versus-a-copy\n",
      "  errors=errors,\n"
     ]
    },
    {
     "name": "stdout",
     "output_type": "stream",
     "text": [
      "(28, 16)\n",
      "length: 4\n",
      "list: ['…', '…', '4605', '4605a']\n"
     ]
    },
    {
     "name": "stderr",
     "output_type": "stream",
     "text": [
      "/Users/trae/.virtualenvs/talus_api/lib/python3.7/site-packages/ipykernel_launcher.py:34: SettingWithCopyWarning: \n",
      "A value is trying to be set on a copy of a slice from a DataFrame.\n",
      "Try using .loc[row_indexer,col_indexer] = value instead\n",
      "\n",
      "See the caveats in the documentation: http://pandas.pydata.org/pandas-docs/stable/user_guide/indexing.html#returning-a-view-versus-a-copy\n",
      "/Users/trae/.virtualenvs/talus_api/lib/python3.7/site-packages/ipykernel_launcher.py:35: SettingWithCopyWarning: \n",
      "A value is trying to be set on a copy of a slice from a DataFrame.\n",
      "Try using .loc[row_indexer,col_indexer] = value instead\n",
      "\n",
      "See the caveats in the documentation: http://pandas.pydata.org/pandas-docs/stable/user_guide/indexing.html#returning-a-view-versus-a-copy\n",
      "/Users/trae/.virtualenvs/talus_api/lib/python3.7/site-packages/pandas/core/frame.py:4102: SettingWithCopyWarning: \n",
      "A value is trying to be set on a copy of a slice from a DataFrame\n",
      "\n",
      "See the caveats in the documentation: http://pandas.pydata.org/pandas-docs/stable/user_guide/indexing.html#returning-a-view-versus-a-copy\n",
      "  errors=errors,\n"
     ]
    },
    {
     "name": "stdout",
     "output_type": "stream",
     "text": [
      "(29, 16)\n",
      "length: 4\n",
      "list: ['…', '…', '4605', '4605a']\n"
     ]
    },
    {
     "name": "stderr",
     "output_type": "stream",
     "text": [
      "/Users/trae/.virtualenvs/talus_api/lib/python3.7/site-packages/ipykernel_launcher.py:34: SettingWithCopyWarning: \n",
      "A value is trying to be set on a copy of a slice from a DataFrame.\n",
      "Try using .loc[row_indexer,col_indexer] = value instead\n",
      "\n",
      "See the caveats in the documentation: http://pandas.pydata.org/pandas-docs/stable/user_guide/indexing.html#returning-a-view-versus-a-copy\n",
      "/Users/trae/.virtualenvs/talus_api/lib/python3.7/site-packages/ipykernel_launcher.py:35: SettingWithCopyWarning: \n",
      "A value is trying to be set on a copy of a slice from a DataFrame.\n",
      "Try using .loc[row_indexer,col_indexer] = value instead\n",
      "\n",
      "See the caveats in the documentation: http://pandas.pydata.org/pandas-docs/stable/user_guide/indexing.html#returning-a-view-versus-a-copy\n",
      "/Users/trae/.virtualenvs/talus_api/lib/python3.7/site-packages/pandas/core/frame.py:4102: SettingWithCopyWarning: \n",
      "A value is trying to be set on a copy of a slice from a DataFrame\n",
      "\n",
      "See the caveats in the documentation: http://pandas.pydata.org/pandas-docs/stable/user_guide/indexing.html#returning-a-view-versus-a-copy\n",
      "  errors=errors,\n"
     ]
    },
    {
     "name": "stdout",
     "output_type": "stream",
     "text": [
      "(29, 16)\n",
      "length: 4\n",
      "list: ['…', '…', '4605', '4605a']\n"
     ]
    },
    {
     "name": "stderr",
     "output_type": "stream",
     "text": [
      "/Users/trae/.virtualenvs/talus_api/lib/python3.7/site-packages/ipykernel_launcher.py:34: SettingWithCopyWarning: \n",
      "A value is trying to be set on a copy of a slice from a DataFrame.\n",
      "Try using .loc[row_indexer,col_indexer] = value instead\n",
      "\n",
      "See the caveats in the documentation: http://pandas.pydata.org/pandas-docs/stable/user_guide/indexing.html#returning-a-view-versus-a-copy\n",
      "/Users/trae/.virtualenvs/talus_api/lib/python3.7/site-packages/ipykernel_launcher.py:35: SettingWithCopyWarning: \n",
      "A value is trying to be set on a copy of a slice from a DataFrame.\n",
      "Try using .loc[row_indexer,col_indexer] = value instead\n",
      "\n",
      "See the caveats in the documentation: http://pandas.pydata.org/pandas-docs/stable/user_guide/indexing.html#returning-a-view-versus-a-copy\n",
      "/Users/trae/.virtualenvs/talus_api/lib/python3.7/site-packages/pandas/core/frame.py:4102: SettingWithCopyWarning: \n",
      "A value is trying to be set on a copy of a slice from a DataFrame\n",
      "\n",
      "See the caveats in the documentation: http://pandas.pydata.org/pandas-docs/stable/user_guide/indexing.html#returning-a-view-versus-a-copy\n",
      "  errors=errors,\n"
     ]
    },
    {
     "name": "stdout",
     "output_type": "stream",
     "text": [
      "(28, 16)\n",
      "length: 4\n",
      "list: ['…', '…', '3545', '3545a']\n"
     ]
    },
    {
     "name": "stderr",
     "output_type": "stream",
     "text": [
      "/Users/trae/.virtualenvs/talus_api/lib/python3.7/site-packages/ipykernel_launcher.py:34: SettingWithCopyWarning: \n",
      "A value is trying to be set on a copy of a slice from a DataFrame.\n",
      "Try using .loc[row_indexer,col_indexer] = value instead\n",
      "\n",
      "See the caveats in the documentation: http://pandas.pydata.org/pandas-docs/stable/user_guide/indexing.html#returning-a-view-versus-a-copy\n",
      "/Users/trae/.virtualenvs/talus_api/lib/python3.7/site-packages/ipykernel_launcher.py:35: SettingWithCopyWarning: \n",
      "A value is trying to be set on a copy of a slice from a DataFrame.\n",
      "Try using .loc[row_indexer,col_indexer] = value instead\n",
      "\n",
      "See the caveats in the documentation: http://pandas.pydata.org/pandas-docs/stable/user_guide/indexing.html#returning-a-view-versus-a-copy\n",
      "/Users/trae/.virtualenvs/talus_api/lib/python3.7/site-packages/pandas/core/frame.py:4102: SettingWithCopyWarning: \n",
      "A value is trying to be set on a copy of a slice from a DataFrame\n",
      "\n",
      "See the caveats in the documentation: http://pandas.pydata.org/pandas-docs/stable/user_guide/indexing.html#returning-a-view-versus-a-copy\n",
      "  errors=errors,\n"
     ]
    },
    {
     "name": "stdout",
     "output_type": "stream",
     "text": [
      "(28, 16)\n",
      "length: 4\n",
      "list: ['…', '…', '3545', '3545a']\n"
     ]
    },
    {
     "name": "stderr",
     "output_type": "stream",
     "text": [
      "/Users/trae/.virtualenvs/talus_api/lib/python3.7/site-packages/ipykernel_launcher.py:34: SettingWithCopyWarning: \n",
      "A value is trying to be set on a copy of a slice from a DataFrame.\n",
      "Try using .loc[row_indexer,col_indexer] = value instead\n",
      "\n",
      "See the caveats in the documentation: http://pandas.pydata.org/pandas-docs/stable/user_guide/indexing.html#returning-a-view-versus-a-copy\n",
      "/Users/trae/.virtualenvs/talus_api/lib/python3.7/site-packages/ipykernel_launcher.py:35: SettingWithCopyWarning: \n",
      "A value is trying to be set on a copy of a slice from a DataFrame.\n",
      "Try using .loc[row_indexer,col_indexer] = value instead\n",
      "\n",
      "See the caveats in the documentation: http://pandas.pydata.org/pandas-docs/stable/user_guide/indexing.html#returning-a-view-versus-a-copy\n",
      "/Users/trae/.virtualenvs/talus_api/lib/python3.7/site-packages/pandas/core/frame.py:4102: SettingWithCopyWarning: \n",
      "A value is trying to be set on a copy of a slice from a DataFrame\n",
      "\n",
      "See the caveats in the documentation: http://pandas.pydata.org/pandas-docs/stable/user_guide/indexing.html#returning-a-view-versus-a-copy\n",
      "  errors=errors,\n"
     ]
    },
    {
     "name": "stdout",
     "output_type": "stream",
     "text": [
      "(28, 16)\n",
      "length: 4\n",
      "list: ['…', '…', '3545', '3545a']\n"
     ]
    },
    {
     "name": "stderr",
     "output_type": "stream",
     "text": [
      "/Users/trae/.virtualenvs/talus_api/lib/python3.7/site-packages/ipykernel_launcher.py:34: SettingWithCopyWarning: \n",
      "A value is trying to be set on a copy of a slice from a DataFrame.\n",
      "Try using .loc[row_indexer,col_indexer] = value instead\n",
      "\n",
      "See the caveats in the documentation: http://pandas.pydata.org/pandas-docs/stable/user_guide/indexing.html#returning-a-view-versus-a-copy\n",
      "/Users/trae/.virtualenvs/talus_api/lib/python3.7/site-packages/ipykernel_launcher.py:35: SettingWithCopyWarning: \n",
      "A value is trying to be set on a copy of a slice from a DataFrame.\n",
      "Try using .loc[row_indexer,col_indexer] = value instead\n",
      "\n",
      "See the caveats in the documentation: http://pandas.pydata.org/pandas-docs/stable/user_guide/indexing.html#returning-a-view-versus-a-copy\n",
      "/Users/trae/.virtualenvs/talus_api/lib/python3.7/site-packages/pandas/core/frame.py:4102: SettingWithCopyWarning: \n",
      "A value is trying to be set on a copy of a slice from a DataFrame\n",
      "\n",
      "See the caveats in the documentation: http://pandas.pydata.org/pandas-docs/stable/user_guide/indexing.html#returning-a-view-versus-a-copy\n",
      "  errors=errors,\n"
     ]
    },
    {
     "name": "stdout",
     "output_type": "stream",
     "text": [
      "(28, 16)\n",
      "length: 4\n",
      "list: ['…', '…', '3545', '3545']\n"
     ]
    },
    {
     "name": "stderr",
     "output_type": "stream",
     "text": [
      "/Users/trae/.virtualenvs/talus_api/lib/python3.7/site-packages/ipykernel_launcher.py:34: SettingWithCopyWarning: \n",
      "A value is trying to be set on a copy of a slice from a DataFrame.\n",
      "Try using .loc[row_indexer,col_indexer] = value instead\n",
      "\n",
      "See the caveats in the documentation: http://pandas.pydata.org/pandas-docs/stable/user_guide/indexing.html#returning-a-view-versus-a-copy\n",
      "/Users/trae/.virtualenvs/talus_api/lib/python3.7/site-packages/ipykernel_launcher.py:35: SettingWithCopyWarning: \n",
      "A value is trying to be set on a copy of a slice from a DataFrame.\n",
      "Try using .loc[row_indexer,col_indexer] = value instead\n",
      "\n",
      "See the caveats in the documentation: http://pandas.pydata.org/pandas-docs/stable/user_guide/indexing.html#returning-a-view-versus-a-copy\n",
      "/Users/trae/.virtualenvs/talus_api/lib/python3.7/site-packages/pandas/core/frame.py:4102: SettingWithCopyWarning: \n",
      "A value is trying to be set on a copy of a slice from a DataFrame\n",
      "\n",
      "See the caveats in the documentation: http://pandas.pydata.org/pandas-docs/stable/user_guide/indexing.html#returning-a-view-versus-a-copy\n",
      "  errors=errors,\n"
     ]
    },
    {
     "name": "stdout",
     "output_type": "stream",
     "text": [
      "(28, 16)\n",
      "length: 4\n",
      "list: ['', '0', '1842', '1842a']\n"
     ]
    },
    {
     "name": "stderr",
     "output_type": "stream",
     "text": [
      "/Users/trae/.virtualenvs/talus_api/lib/python3.7/site-packages/ipykernel_launcher.py:34: SettingWithCopyWarning: \n",
      "A value is trying to be set on a copy of a slice from a DataFrame.\n",
      "Try using .loc[row_indexer,col_indexer] = value instead\n",
      "\n",
      "See the caveats in the documentation: http://pandas.pydata.org/pandas-docs/stable/user_guide/indexing.html#returning-a-view-versus-a-copy\n",
      "/Users/trae/.virtualenvs/talus_api/lib/python3.7/site-packages/ipykernel_launcher.py:35: SettingWithCopyWarning: \n",
      "A value is trying to be set on a copy of a slice from a DataFrame.\n",
      "Try using .loc[row_indexer,col_indexer] = value instead\n",
      "\n",
      "See the caveats in the documentation: http://pandas.pydata.org/pandas-docs/stable/user_guide/indexing.html#returning-a-view-versus-a-copy\n",
      "/Users/trae/.virtualenvs/talus_api/lib/python3.7/site-packages/pandas/core/frame.py:4102: SettingWithCopyWarning: \n",
      "A value is trying to be set on a copy of a slice from a DataFrame\n",
      "\n",
      "See the caveats in the documentation: http://pandas.pydata.org/pandas-docs/stable/user_guide/indexing.html#returning-a-view-versus-a-copy\n",
      "  errors=errors,\n"
     ]
    },
    {
     "name": "stdout",
     "output_type": "stream",
     "text": [
      "(28, 16)\n",
      "length: 4\n",
      "list: ['…', '0', '1842', '1842a']\n"
     ]
    },
    {
     "name": "stderr",
     "output_type": "stream",
     "text": [
      "/Users/trae/.virtualenvs/talus_api/lib/python3.7/site-packages/ipykernel_launcher.py:34: SettingWithCopyWarning: \n",
      "A value is trying to be set on a copy of a slice from a DataFrame.\n",
      "Try using .loc[row_indexer,col_indexer] = value instead\n",
      "\n",
      "See the caveats in the documentation: http://pandas.pydata.org/pandas-docs/stable/user_guide/indexing.html#returning-a-view-versus-a-copy\n",
      "/Users/trae/.virtualenvs/talus_api/lib/python3.7/site-packages/ipykernel_launcher.py:35: SettingWithCopyWarning: \n",
      "A value is trying to be set on a copy of a slice from a DataFrame.\n",
      "Try using .loc[row_indexer,col_indexer] = value instead\n",
      "\n",
      "See the caveats in the documentation: http://pandas.pydata.org/pandas-docs/stable/user_guide/indexing.html#returning-a-view-versus-a-copy\n",
      "/Users/trae/.virtualenvs/talus_api/lib/python3.7/site-packages/pandas/core/frame.py:4102: SettingWithCopyWarning: \n",
      "A value is trying to be set on a copy of a slice from a DataFrame\n",
      "\n",
      "See the caveats in the documentation: http://pandas.pydata.org/pandas-docs/stable/user_guide/indexing.html#returning-a-view-versus-a-copy\n",
      "  errors=errors,\n"
     ]
    },
    {
     "name": "stdout",
     "output_type": "stream",
     "text": [
      "(28, 16)\n",
      "length: 4\n",
      "list: ['…', '0', '1842', '1842a']\n"
     ]
    },
    {
     "name": "stderr",
     "output_type": "stream",
     "text": [
      "/Users/trae/.virtualenvs/talus_api/lib/python3.7/site-packages/ipykernel_launcher.py:34: SettingWithCopyWarning: \n",
      "A value is trying to be set on a copy of a slice from a DataFrame.\n",
      "Try using .loc[row_indexer,col_indexer] = value instead\n",
      "\n",
      "See the caveats in the documentation: http://pandas.pydata.org/pandas-docs/stable/user_guide/indexing.html#returning-a-view-versus-a-copy\n",
      "/Users/trae/.virtualenvs/talus_api/lib/python3.7/site-packages/ipykernel_launcher.py:35: SettingWithCopyWarning: \n",
      "A value is trying to be set on a copy of a slice from a DataFrame.\n",
      "Try using .loc[row_indexer,col_indexer] = value instead\n",
      "\n",
      "See the caveats in the documentation: http://pandas.pydata.org/pandas-docs/stable/user_guide/indexing.html#returning-a-view-versus-a-copy\n",
      "/Users/trae/.virtualenvs/talus_api/lib/python3.7/site-packages/pandas/core/frame.py:4102: SettingWithCopyWarning: \n",
      "A value is trying to be set on a copy of a slice from a DataFrame\n",
      "\n",
      "See the caveats in the documentation: http://pandas.pydata.org/pandas-docs/stable/user_guide/indexing.html#returning-a-view-versus-a-copy\n",
      "  errors=errors,\n"
     ]
    },
    {
     "name": "stdout",
     "output_type": "stream",
     "text": [
      "(28, 16)\n",
      "length: 4\n",
      "list: ['…', '0', '1842', '1842a']\n"
     ]
    },
    {
     "name": "stderr",
     "output_type": "stream",
     "text": [
      "/Users/trae/.virtualenvs/talus_api/lib/python3.7/site-packages/ipykernel_launcher.py:34: SettingWithCopyWarning: \n",
      "A value is trying to be set on a copy of a slice from a DataFrame.\n",
      "Try using .loc[row_indexer,col_indexer] = value instead\n",
      "\n",
      "See the caveats in the documentation: http://pandas.pydata.org/pandas-docs/stable/user_guide/indexing.html#returning-a-view-versus-a-copy\n",
      "/Users/trae/.virtualenvs/talus_api/lib/python3.7/site-packages/ipykernel_launcher.py:35: SettingWithCopyWarning: \n",
      "A value is trying to be set on a copy of a slice from a DataFrame.\n",
      "Try using .loc[row_indexer,col_indexer] = value instead\n",
      "\n",
      "See the caveats in the documentation: http://pandas.pydata.org/pandas-docs/stable/user_guide/indexing.html#returning-a-view-versus-a-copy\n",
      "/Users/trae/.virtualenvs/talus_api/lib/python3.7/site-packages/pandas/core/frame.py:4102: SettingWithCopyWarning: \n",
      "A value is trying to be set on a copy of a slice from a DataFrame\n",
      "\n",
      "See the caveats in the documentation: http://pandas.pydata.org/pandas-docs/stable/user_guide/indexing.html#returning-a-view-versus-a-copy\n",
      "  errors=errors,\n"
     ]
    },
    {
     "name": "stdout",
     "output_type": "stream",
     "text": [
      "(29, 16)\n",
      "length: 4\n",
      "list: ['…', '0', '1613', '1613a']\n"
     ]
    },
    {
     "name": "stderr",
     "output_type": "stream",
     "text": [
      "/Users/trae/.virtualenvs/talus_api/lib/python3.7/site-packages/ipykernel_launcher.py:34: SettingWithCopyWarning: \n",
      "A value is trying to be set on a copy of a slice from a DataFrame.\n",
      "Try using .loc[row_indexer,col_indexer] = value instead\n",
      "\n",
      "See the caveats in the documentation: http://pandas.pydata.org/pandas-docs/stable/user_guide/indexing.html#returning-a-view-versus-a-copy\n",
      "/Users/trae/.virtualenvs/talus_api/lib/python3.7/site-packages/ipykernel_launcher.py:35: SettingWithCopyWarning: \n",
      "A value is trying to be set on a copy of a slice from a DataFrame.\n",
      "Try using .loc[row_indexer,col_indexer] = value instead\n",
      "\n",
      "See the caveats in the documentation: http://pandas.pydata.org/pandas-docs/stable/user_guide/indexing.html#returning-a-view-versus-a-copy\n",
      "/Users/trae/.virtualenvs/talus_api/lib/python3.7/site-packages/pandas/core/frame.py:4102: SettingWithCopyWarning: \n",
      "A value is trying to be set on a copy of a slice from a DataFrame\n",
      "\n",
      "See the caveats in the documentation: http://pandas.pydata.org/pandas-docs/stable/user_guide/indexing.html#returning-a-view-versus-a-copy\n",
      "  errors=errors,\n"
     ]
    },
    {
     "name": "stdout",
     "output_type": "stream",
     "text": [
      "(29, 16)\n",
      "length: 4\n",
      "list: ['…', '0', '1427', '1427a']\n"
     ]
    },
    {
     "name": "stderr",
     "output_type": "stream",
     "text": [
      "/Users/trae/.virtualenvs/talus_api/lib/python3.7/site-packages/ipykernel_launcher.py:34: SettingWithCopyWarning: \n",
      "A value is trying to be set on a copy of a slice from a DataFrame.\n",
      "Try using .loc[row_indexer,col_indexer] = value instead\n",
      "\n",
      "See the caveats in the documentation: http://pandas.pydata.org/pandas-docs/stable/user_guide/indexing.html#returning-a-view-versus-a-copy\n",
      "/Users/trae/.virtualenvs/talus_api/lib/python3.7/site-packages/ipykernel_launcher.py:35: SettingWithCopyWarning: \n",
      "A value is trying to be set on a copy of a slice from a DataFrame.\n",
      "Try using .loc[row_indexer,col_indexer] = value instead\n",
      "\n",
      "See the caveats in the documentation: http://pandas.pydata.org/pandas-docs/stable/user_guide/indexing.html#returning-a-view-versus-a-copy\n",
      "/Users/trae/.virtualenvs/talus_api/lib/python3.7/site-packages/pandas/core/frame.py:4102: SettingWithCopyWarning: \n",
      "A value is trying to be set on a copy of a slice from a DataFrame\n",
      "\n",
      "See the caveats in the documentation: http://pandas.pydata.org/pandas-docs/stable/user_guide/indexing.html#returning-a-view-versus-a-copy\n",
      "  errors=errors,\n"
     ]
    },
    {
     "name": "stdout",
     "output_type": "stream",
     "text": [
      "(29, 16)\n",
      "length: 4\n",
      "list: ['…', '0', '1427', '1427a']\n"
     ]
    },
    {
     "name": "stderr",
     "output_type": "stream",
     "text": [
      "/Users/trae/.virtualenvs/talus_api/lib/python3.7/site-packages/ipykernel_launcher.py:34: SettingWithCopyWarning: \n",
      "A value is trying to be set on a copy of a slice from a DataFrame.\n",
      "Try using .loc[row_indexer,col_indexer] = value instead\n",
      "\n",
      "See the caveats in the documentation: http://pandas.pydata.org/pandas-docs/stable/user_guide/indexing.html#returning-a-view-versus-a-copy\n",
      "/Users/trae/.virtualenvs/talus_api/lib/python3.7/site-packages/ipykernel_launcher.py:35: SettingWithCopyWarning: \n",
      "A value is trying to be set on a copy of a slice from a DataFrame.\n",
      "Try using .loc[row_indexer,col_indexer] = value instead\n",
      "\n",
      "See the caveats in the documentation: http://pandas.pydata.org/pandas-docs/stable/user_guide/indexing.html#returning-a-view-versus-a-copy\n",
      "/Users/trae/.virtualenvs/talus_api/lib/python3.7/site-packages/pandas/core/frame.py:4102: SettingWithCopyWarning: \n",
      "A value is trying to be set on a copy of a slice from a DataFrame\n",
      "\n",
      "See the caveats in the documentation: http://pandas.pydata.org/pandas-docs/stable/user_guide/indexing.html#returning-a-view-versus-a-copy\n",
      "  errors=errors,\n"
     ]
    },
    {
     "name": "stdout",
     "output_type": "stream",
     "text": [
      "(18, 17)\n",
      "index 0 is out of bounds for axis 0 with size 0\n",
      "(28, 16)\n",
      "length: 4\n",
      "list: ['…', '0', '904', '904a']\n"
     ]
    },
    {
     "name": "stderr",
     "output_type": "stream",
     "text": [
      "/Users/trae/.virtualenvs/talus_api/lib/python3.7/site-packages/ipykernel_launcher.py:34: SettingWithCopyWarning: \n",
      "A value is trying to be set on a copy of a slice from a DataFrame.\n",
      "Try using .loc[row_indexer,col_indexer] = value instead\n",
      "\n",
      "See the caveats in the documentation: http://pandas.pydata.org/pandas-docs/stable/user_guide/indexing.html#returning-a-view-versus-a-copy\n",
      "/Users/trae/.virtualenvs/talus_api/lib/python3.7/site-packages/ipykernel_launcher.py:35: SettingWithCopyWarning: \n",
      "A value is trying to be set on a copy of a slice from a DataFrame.\n",
      "Try using .loc[row_indexer,col_indexer] = value instead\n",
      "\n",
      "See the caveats in the documentation: http://pandas.pydata.org/pandas-docs/stable/user_guide/indexing.html#returning-a-view-versus-a-copy\n",
      "/Users/trae/.virtualenvs/talus_api/lib/python3.7/site-packages/pandas/core/frame.py:4102: SettingWithCopyWarning: \n",
      "A value is trying to be set on a copy of a slice from a DataFrame\n",
      "\n",
      "See the caveats in the documentation: http://pandas.pydata.org/pandas-docs/stable/user_guide/indexing.html#returning-a-view-versus-a-copy\n",
      "  errors=errors,\n"
     ]
    },
    {
     "name": "stdout",
     "output_type": "stream",
     "text": [
      "(29, 16)\n",
      "length: 4\n",
      "list: ['…', '0', '904', '904a']\n"
     ]
    },
    {
     "name": "stderr",
     "output_type": "stream",
     "text": [
      "/Users/trae/.virtualenvs/talus_api/lib/python3.7/site-packages/ipykernel_launcher.py:34: SettingWithCopyWarning: \n",
      "A value is trying to be set on a copy of a slice from a DataFrame.\n",
      "Try using .loc[row_indexer,col_indexer] = value instead\n",
      "\n",
      "See the caveats in the documentation: http://pandas.pydata.org/pandas-docs/stable/user_guide/indexing.html#returning-a-view-versus-a-copy\n",
      "/Users/trae/.virtualenvs/talus_api/lib/python3.7/site-packages/ipykernel_launcher.py:35: SettingWithCopyWarning: \n",
      "A value is trying to be set on a copy of a slice from a DataFrame.\n",
      "Try using .loc[row_indexer,col_indexer] = value instead\n",
      "\n",
      "See the caveats in the documentation: http://pandas.pydata.org/pandas-docs/stable/user_guide/indexing.html#returning-a-view-versus-a-copy\n",
      "/Users/trae/.virtualenvs/talus_api/lib/python3.7/site-packages/pandas/core/frame.py:4102: SettingWithCopyWarning: \n",
      "A value is trying to be set on a copy of a slice from a DataFrame\n",
      "\n",
      "See the caveats in the documentation: http://pandas.pydata.org/pandas-docs/stable/user_guide/indexing.html#returning-a-view-versus-a-copy\n",
      "  errors=errors,\n"
     ]
    },
    {
     "name": "stdout",
     "output_type": "stream",
     "text": [
      "(28, 16)\n",
      "length: 4\n",
      "list: ['…', '0', '904', '904a']\n"
     ]
    },
    {
     "name": "stderr",
     "output_type": "stream",
     "text": [
      "/Users/trae/.virtualenvs/talus_api/lib/python3.7/site-packages/ipykernel_launcher.py:34: SettingWithCopyWarning: \n",
      "A value is trying to be set on a copy of a slice from a DataFrame.\n",
      "Try using .loc[row_indexer,col_indexer] = value instead\n",
      "\n",
      "See the caveats in the documentation: http://pandas.pydata.org/pandas-docs/stable/user_guide/indexing.html#returning-a-view-versus-a-copy\n",
      "/Users/trae/.virtualenvs/talus_api/lib/python3.7/site-packages/ipykernel_launcher.py:35: SettingWithCopyWarning: \n",
      "A value is trying to be set on a copy of a slice from a DataFrame.\n",
      "Try using .loc[row_indexer,col_indexer] = value instead\n",
      "\n",
      "See the caveats in the documentation: http://pandas.pydata.org/pandas-docs/stable/user_guide/indexing.html#returning-a-view-versus-a-copy\n",
      "/Users/trae/.virtualenvs/talus_api/lib/python3.7/site-packages/pandas/core/frame.py:4102: SettingWithCopyWarning: \n",
      "A value is trying to be set on a copy of a slice from a DataFrame\n",
      "\n",
      "See the caveats in the documentation: http://pandas.pydata.org/pandas-docs/stable/user_guide/indexing.html#returning-a-view-versus-a-copy\n",
      "  errors=errors,\n"
     ]
    },
    {
     "name": "stdout",
     "output_type": "stream",
     "text": [
      "(28, 16)\n",
      "length: 4\n",
      "list: ['…', '0', '904', '904a']\n"
     ]
    },
    {
     "name": "stderr",
     "output_type": "stream",
     "text": [
      "/Users/trae/.virtualenvs/talus_api/lib/python3.7/site-packages/ipykernel_launcher.py:34: SettingWithCopyWarning: \n",
      "A value is trying to be set on a copy of a slice from a DataFrame.\n",
      "Try using .loc[row_indexer,col_indexer] = value instead\n",
      "\n",
      "See the caveats in the documentation: http://pandas.pydata.org/pandas-docs/stable/user_guide/indexing.html#returning-a-view-versus-a-copy\n",
      "/Users/trae/.virtualenvs/talus_api/lib/python3.7/site-packages/ipykernel_launcher.py:35: SettingWithCopyWarning: \n",
      "A value is trying to be set on a copy of a slice from a DataFrame.\n",
      "Try using .loc[row_indexer,col_indexer] = value instead\n",
      "\n",
      "See the caveats in the documentation: http://pandas.pydata.org/pandas-docs/stable/user_guide/indexing.html#returning-a-view-versus-a-copy\n",
      "/Users/trae/.virtualenvs/talus_api/lib/python3.7/site-packages/pandas/core/frame.py:4102: SettingWithCopyWarning: \n",
      "A value is trying to be set on a copy of a slice from a DataFrame\n",
      "\n",
      "See the caveats in the documentation: http://pandas.pydata.org/pandas-docs/stable/user_guide/indexing.html#returning-a-view-versus-a-copy\n",
      "  errors=errors,\n"
     ]
    },
    {
     "name": "stdout",
     "output_type": "stream",
     "text": [
      "(29, 16)\n",
      "length: 4\n",
      "list: ['…', '0', '904', '904a']\n"
     ]
    },
    {
     "name": "stderr",
     "output_type": "stream",
     "text": [
      "/Users/trae/.virtualenvs/talus_api/lib/python3.7/site-packages/ipykernel_launcher.py:34: SettingWithCopyWarning: \n",
      "A value is trying to be set on a copy of a slice from a DataFrame.\n",
      "Try using .loc[row_indexer,col_indexer] = value instead\n",
      "\n",
      "See the caveats in the documentation: http://pandas.pydata.org/pandas-docs/stable/user_guide/indexing.html#returning-a-view-versus-a-copy\n",
      "/Users/trae/.virtualenvs/talus_api/lib/python3.7/site-packages/ipykernel_launcher.py:35: SettingWithCopyWarning: \n",
      "A value is trying to be set on a copy of a slice from a DataFrame.\n",
      "Try using .loc[row_indexer,col_indexer] = value instead\n",
      "\n",
      "See the caveats in the documentation: http://pandas.pydata.org/pandas-docs/stable/user_guide/indexing.html#returning-a-view-versus-a-copy\n",
      "/Users/trae/.virtualenvs/talus_api/lib/python3.7/site-packages/pandas/core/frame.py:4102: SettingWithCopyWarning: \n",
      "A value is trying to be set on a copy of a slice from a DataFrame\n",
      "\n",
      "See the caveats in the documentation: http://pandas.pydata.org/pandas-docs/stable/user_guide/indexing.html#returning-a-view-versus-a-copy\n",
      "  errors=errors,\n"
     ]
    },
    {
     "name": "stdout",
     "output_type": "stream",
     "text": [
      "(29, 16)\n",
      "length: 4\n",
      "list: ['…', '0', '904', '904a']\n"
     ]
    },
    {
     "name": "stderr",
     "output_type": "stream",
     "text": [
      "/Users/trae/.virtualenvs/talus_api/lib/python3.7/site-packages/ipykernel_launcher.py:34: SettingWithCopyWarning: \n",
      "A value is trying to be set on a copy of a slice from a DataFrame.\n",
      "Try using .loc[row_indexer,col_indexer] = value instead\n",
      "\n",
      "See the caveats in the documentation: http://pandas.pydata.org/pandas-docs/stable/user_guide/indexing.html#returning-a-view-versus-a-copy\n",
      "/Users/trae/.virtualenvs/talus_api/lib/python3.7/site-packages/ipykernel_launcher.py:35: SettingWithCopyWarning: \n",
      "A value is trying to be set on a copy of a slice from a DataFrame.\n",
      "Try using .loc[row_indexer,col_indexer] = value instead\n",
      "\n",
      "See the caveats in the documentation: http://pandas.pydata.org/pandas-docs/stable/user_guide/indexing.html#returning-a-view-versus-a-copy\n",
      "/Users/trae/.virtualenvs/talus_api/lib/python3.7/site-packages/pandas/core/frame.py:4102: SettingWithCopyWarning: \n",
      "A value is trying to be set on a copy of a slice from a DataFrame\n",
      "\n",
      "See the caveats in the documentation: http://pandas.pydata.org/pandas-docs/stable/user_guide/indexing.html#returning-a-view-versus-a-copy\n",
      "  errors=errors,\n"
     ]
    },
    {
     "name": "stdout",
     "output_type": "stream",
     "text": [
      "(26, 16)\n",
      "index 0 is out of bounds for axis 0 with size 0\n",
      "(29, 16)\n",
      "length: 4\n",
      "list: ['142', '0', '279', '279a']\n"
     ]
    },
    {
     "name": "stderr",
     "output_type": "stream",
     "text": [
      "/Users/trae/.virtualenvs/talus_api/lib/python3.7/site-packages/ipykernel_launcher.py:34: SettingWithCopyWarning: \n",
      "A value is trying to be set on a copy of a slice from a DataFrame.\n",
      "Try using .loc[row_indexer,col_indexer] = value instead\n",
      "\n",
      "See the caveats in the documentation: http://pandas.pydata.org/pandas-docs/stable/user_guide/indexing.html#returning-a-view-versus-a-copy\n",
      "/Users/trae/.virtualenvs/talus_api/lib/python3.7/site-packages/ipykernel_launcher.py:35: SettingWithCopyWarning: \n",
      "A value is trying to be set on a copy of a slice from a DataFrame.\n",
      "Try using .loc[row_indexer,col_indexer] = value instead\n",
      "\n",
      "See the caveats in the documentation: http://pandas.pydata.org/pandas-docs/stable/user_guide/indexing.html#returning-a-view-versus-a-copy\n",
      "/Users/trae/.virtualenvs/talus_api/lib/python3.7/site-packages/pandas/core/frame.py:4102: SettingWithCopyWarning: \n",
      "A value is trying to be set on a copy of a slice from a DataFrame\n",
      "\n",
      "See the caveats in the documentation: http://pandas.pydata.org/pandas-docs/stable/user_guide/indexing.html#returning-a-view-versus-a-copy\n",
      "  errors=errors,\n"
     ]
    },
    {
     "name": "stdout",
     "output_type": "stream",
     "text": [
      "(29, 16)\n",
      "length: 4\n",
      "list: ['142', '0', '279', '279a']\n"
     ]
    },
    {
     "name": "stderr",
     "output_type": "stream",
     "text": [
      "/Users/trae/.virtualenvs/talus_api/lib/python3.7/site-packages/ipykernel_launcher.py:34: SettingWithCopyWarning: \n",
      "A value is trying to be set on a copy of a slice from a DataFrame.\n",
      "Try using .loc[row_indexer,col_indexer] = value instead\n",
      "\n",
      "See the caveats in the documentation: http://pandas.pydata.org/pandas-docs/stable/user_guide/indexing.html#returning-a-view-versus-a-copy\n",
      "/Users/trae/.virtualenvs/talus_api/lib/python3.7/site-packages/ipykernel_launcher.py:35: SettingWithCopyWarning: \n",
      "A value is trying to be set on a copy of a slice from a DataFrame.\n",
      "Try using .loc[row_indexer,col_indexer] = value instead\n",
      "\n",
      "See the caveats in the documentation: http://pandas.pydata.org/pandas-docs/stable/user_guide/indexing.html#returning-a-view-versus-a-copy\n",
      "/Users/trae/.virtualenvs/talus_api/lib/python3.7/site-packages/pandas/core/frame.py:4102: SettingWithCopyWarning: \n",
      "A value is trying to be set on a copy of a slice from a DataFrame\n",
      "\n",
      "See the caveats in the documentation: http://pandas.pydata.org/pandas-docs/stable/user_guide/indexing.html#returning-a-view-versus-a-copy\n",
      "  errors=errors,\n"
     ]
    },
    {
     "name": "stdout",
     "output_type": "stream",
     "text": [
      "(29, 16)\n",
      "length: 4\n",
      "list: ['135', '0', '279', '279a']\n"
     ]
    },
    {
     "name": "stderr",
     "output_type": "stream",
     "text": [
      "/Users/trae/.virtualenvs/talus_api/lib/python3.7/site-packages/ipykernel_launcher.py:34: SettingWithCopyWarning: \n",
      "A value is trying to be set on a copy of a slice from a DataFrame.\n",
      "Try using .loc[row_indexer,col_indexer] = value instead\n",
      "\n",
      "See the caveats in the documentation: http://pandas.pydata.org/pandas-docs/stable/user_guide/indexing.html#returning-a-view-versus-a-copy\n",
      "/Users/trae/.virtualenvs/talus_api/lib/python3.7/site-packages/ipykernel_launcher.py:35: SettingWithCopyWarning: \n",
      "A value is trying to be set on a copy of a slice from a DataFrame.\n",
      "Try using .loc[row_indexer,col_indexer] = value instead\n",
      "\n",
      "See the caveats in the documentation: http://pandas.pydata.org/pandas-docs/stable/user_guide/indexing.html#returning-a-view-versus-a-copy\n",
      "/Users/trae/.virtualenvs/talus_api/lib/python3.7/site-packages/pandas/core/frame.py:4102: SettingWithCopyWarning: \n",
      "A value is trying to be set on a copy of a slice from a DataFrame\n",
      "\n",
      "See the caveats in the documentation: http://pandas.pydata.org/pandas-docs/stable/user_guide/indexing.html#returning-a-view-versus-a-copy\n",
      "  errors=errors,\n"
     ]
    },
    {
     "name": "stdout",
     "output_type": "stream",
     "text": [
      "(30, 16)\n",
      "length: 4\n",
      "list: ['62', '0', '279', '279a']\n"
     ]
    },
    {
     "name": "stderr",
     "output_type": "stream",
     "text": [
      "/Users/trae/.virtualenvs/talus_api/lib/python3.7/site-packages/ipykernel_launcher.py:34: SettingWithCopyWarning: \n",
      "A value is trying to be set on a copy of a slice from a DataFrame.\n",
      "Try using .loc[row_indexer,col_indexer] = value instead\n",
      "\n",
      "See the caveats in the documentation: http://pandas.pydata.org/pandas-docs/stable/user_guide/indexing.html#returning-a-view-versus-a-copy\n",
      "/Users/trae/.virtualenvs/talus_api/lib/python3.7/site-packages/ipykernel_launcher.py:35: SettingWithCopyWarning: \n",
      "A value is trying to be set on a copy of a slice from a DataFrame.\n",
      "Try using .loc[row_indexer,col_indexer] = value instead\n",
      "\n",
      "See the caveats in the documentation: http://pandas.pydata.org/pandas-docs/stable/user_guide/indexing.html#returning-a-view-versus-a-copy\n",
      "/Users/trae/.virtualenvs/talus_api/lib/python3.7/site-packages/pandas/core/frame.py:4102: SettingWithCopyWarning: \n",
      "A value is trying to be set on a copy of a slice from a DataFrame\n",
      "\n",
      "See the caveats in the documentation: http://pandas.pydata.org/pandas-docs/stable/user_guide/indexing.html#returning-a-view-versus-a-copy\n",
      "  errors=errors,\n"
     ]
    },
    {
     "name": "stdout",
     "output_type": "stream",
     "text": [
      "(29, 16)\n",
      "length: 4\n",
      "list: ['36', '0', '159', '159a']\n"
     ]
    },
    {
     "name": "stderr",
     "output_type": "stream",
     "text": [
      "/Users/trae/.virtualenvs/talus_api/lib/python3.7/site-packages/ipykernel_launcher.py:34: SettingWithCopyWarning: \n",
      "A value is trying to be set on a copy of a slice from a DataFrame.\n",
      "Try using .loc[row_indexer,col_indexer] = value instead\n",
      "\n",
      "See the caveats in the documentation: http://pandas.pydata.org/pandas-docs/stable/user_guide/indexing.html#returning-a-view-versus-a-copy\n",
      "/Users/trae/.virtualenvs/talus_api/lib/python3.7/site-packages/ipykernel_launcher.py:35: SettingWithCopyWarning: \n",
      "A value is trying to be set on a copy of a slice from a DataFrame.\n",
      "Try using .loc[row_indexer,col_indexer] = value instead\n",
      "\n",
      "See the caveats in the documentation: http://pandas.pydata.org/pandas-docs/stable/user_guide/indexing.html#returning-a-view-versus-a-copy\n",
      "/Users/trae/.virtualenvs/talus_api/lib/python3.7/site-packages/pandas/core/frame.py:4102: SettingWithCopyWarning: \n",
      "A value is trying to be set on a copy of a slice from a DataFrame\n",
      "\n",
      "See the caveats in the documentation: http://pandas.pydata.org/pandas-docs/stable/user_guide/indexing.html#returning-a-view-versus-a-copy\n",
      "  errors=errors,\n"
     ]
    },
    {
     "name": "stdout",
     "output_type": "stream",
     "text": [
      "(29, 16)\n",
      "length: 4\n",
      "list: ['36', '0', '159', '159a']\n"
     ]
    },
    {
     "name": "stderr",
     "output_type": "stream",
     "text": [
      "/Users/trae/.virtualenvs/talus_api/lib/python3.7/site-packages/ipykernel_launcher.py:34: SettingWithCopyWarning: \n",
      "A value is trying to be set on a copy of a slice from a DataFrame.\n",
      "Try using .loc[row_indexer,col_indexer] = value instead\n",
      "\n",
      "See the caveats in the documentation: http://pandas.pydata.org/pandas-docs/stable/user_guide/indexing.html#returning-a-view-versus-a-copy\n",
      "/Users/trae/.virtualenvs/talus_api/lib/python3.7/site-packages/ipykernel_launcher.py:35: SettingWithCopyWarning: \n",
      "A value is trying to be set on a copy of a slice from a DataFrame.\n",
      "Try using .loc[row_indexer,col_indexer] = value instead\n",
      "\n",
      "See the caveats in the documentation: http://pandas.pydata.org/pandas-docs/stable/user_guide/indexing.html#returning-a-view-versus-a-copy\n",
      "/Users/trae/.virtualenvs/talus_api/lib/python3.7/site-packages/pandas/core/frame.py:4102: SettingWithCopyWarning: \n",
      "A value is trying to be set on a copy of a slice from a DataFrame\n",
      "\n",
      "See the caveats in the documentation: http://pandas.pydata.org/pandas-docs/stable/user_guide/indexing.html#returning-a-view-versus-a-copy\n",
      "  errors=errors,\n"
     ]
    },
    {
     "name": "stdout",
     "output_type": "stream",
     "text": [
      "(29, 16)\n",
      "length: 4\n",
      "list: ['36', '0', '159', '159a']\n"
     ]
    },
    {
     "name": "stderr",
     "output_type": "stream",
     "text": [
      "/Users/trae/.virtualenvs/talus_api/lib/python3.7/site-packages/ipykernel_launcher.py:34: SettingWithCopyWarning: \n",
      "A value is trying to be set on a copy of a slice from a DataFrame.\n",
      "Try using .loc[row_indexer,col_indexer] = value instead\n",
      "\n",
      "See the caveats in the documentation: http://pandas.pydata.org/pandas-docs/stable/user_guide/indexing.html#returning-a-view-versus-a-copy\n",
      "/Users/trae/.virtualenvs/talus_api/lib/python3.7/site-packages/ipykernel_launcher.py:35: SettingWithCopyWarning: \n",
      "A value is trying to be set on a copy of a slice from a DataFrame.\n",
      "Try using .loc[row_indexer,col_indexer] = value instead\n",
      "\n",
      "See the caveats in the documentation: http://pandas.pydata.org/pandas-docs/stable/user_guide/indexing.html#returning-a-view-versus-a-copy\n",
      "/Users/trae/.virtualenvs/talus_api/lib/python3.7/site-packages/pandas/core/frame.py:4102: SettingWithCopyWarning: \n",
      "A value is trying to be set on a copy of a slice from a DataFrame\n",
      "\n",
      "See the caveats in the documentation: http://pandas.pydata.org/pandas-docs/stable/user_guide/indexing.html#returning-a-view-versus-a-copy\n",
      "  errors=errors,\n"
     ]
    },
    {
     "name": "stdout",
     "output_type": "stream",
     "text": [
      "(29, 17)\n",
      "length: 5\n",
      "list: ['27', '0', '20', '20', '2018-03']\n"
     ]
    },
    {
     "name": "stderr",
     "output_type": "stream",
     "text": [
      "/Users/trae/.virtualenvs/talus_api/lib/python3.7/site-packages/ipykernel_launcher.py:34: SettingWithCopyWarning: \n",
      "A value is trying to be set on a copy of a slice from a DataFrame.\n",
      "Try using .loc[row_indexer,col_indexer] = value instead\n",
      "\n",
      "See the caveats in the documentation: http://pandas.pydata.org/pandas-docs/stable/user_guide/indexing.html#returning-a-view-versus-a-copy\n",
      "/Users/trae/.virtualenvs/talus_api/lib/python3.7/site-packages/ipykernel_launcher.py:35: SettingWithCopyWarning: \n",
      "A value is trying to be set on a copy of a slice from a DataFrame.\n",
      "Try using .loc[row_indexer,col_indexer] = value instead\n",
      "\n",
      "See the caveats in the documentation: http://pandas.pydata.org/pandas-docs/stable/user_guide/indexing.html#returning-a-view-versus-a-copy\n",
      "/Users/trae/.virtualenvs/talus_api/lib/python3.7/site-packages/pandas/core/frame.py:4102: SettingWithCopyWarning: \n",
      "A value is trying to be set on a copy of a slice from a DataFrame\n",
      "\n",
      "See the caveats in the documentation: http://pandas.pydata.org/pandas-docs/stable/user_guide/indexing.html#returning-a-view-versus-a-copy\n",
      "  errors=errors,\n"
     ]
    },
    {
     "name": "stdout",
     "output_type": "stream",
     "text": [
      "(28, 17)\n",
      "length: 5\n",
      "list: ['27', '0', '20', '20', '2018-03']\n"
     ]
    },
    {
     "name": "stderr",
     "output_type": "stream",
     "text": [
      "/Users/trae/.virtualenvs/talus_api/lib/python3.7/site-packages/ipykernel_launcher.py:34: SettingWithCopyWarning: \n",
      "A value is trying to be set on a copy of a slice from a DataFrame.\n",
      "Try using .loc[row_indexer,col_indexer] = value instead\n",
      "\n",
      "See the caveats in the documentation: http://pandas.pydata.org/pandas-docs/stable/user_guide/indexing.html#returning-a-view-versus-a-copy\n",
      "/Users/trae/.virtualenvs/talus_api/lib/python3.7/site-packages/ipykernel_launcher.py:35: SettingWithCopyWarning: \n",
      "A value is trying to be set on a copy of a slice from a DataFrame.\n",
      "Try using .loc[row_indexer,col_indexer] = value instead\n",
      "\n",
      "See the caveats in the documentation: http://pandas.pydata.org/pandas-docs/stable/user_guide/indexing.html#returning-a-view-versus-a-copy\n",
      "/Users/trae/.virtualenvs/talus_api/lib/python3.7/site-packages/pandas/core/frame.py:4102: SettingWithCopyWarning: \n",
      "A value is trying to be set on a copy of a slice from a DataFrame\n",
      "\n",
      "See the caveats in the documentation: http://pandas.pydata.org/pandas-docs/stable/user_guide/indexing.html#returning-a-view-versus-a-copy\n",
      "  errors=errors,\n"
     ]
    },
    {
     "name": "stdout",
     "output_type": "stream",
     "text": [
      "(27, 17)\n",
      "length: 5\n",
      "list: ['27', '0', '20', '20', '2018-03']\n"
     ]
    },
    {
     "name": "stderr",
     "output_type": "stream",
     "text": [
      "/Users/trae/.virtualenvs/talus_api/lib/python3.7/site-packages/ipykernel_launcher.py:34: SettingWithCopyWarning: \n",
      "A value is trying to be set on a copy of a slice from a DataFrame.\n",
      "Try using .loc[row_indexer,col_indexer] = value instead\n",
      "\n",
      "See the caveats in the documentation: http://pandas.pydata.org/pandas-docs/stable/user_guide/indexing.html#returning-a-view-versus-a-copy\n",
      "/Users/trae/.virtualenvs/talus_api/lib/python3.7/site-packages/ipykernel_launcher.py:35: SettingWithCopyWarning: \n",
      "A value is trying to be set on a copy of a slice from a DataFrame.\n",
      "Try using .loc[row_indexer,col_indexer] = value instead\n",
      "\n",
      "See the caveats in the documentation: http://pandas.pydata.org/pandas-docs/stable/user_guide/indexing.html#returning-a-view-versus-a-copy\n",
      "/Users/trae/.virtualenvs/talus_api/lib/python3.7/site-packages/pandas/core/frame.py:4102: SettingWithCopyWarning: \n",
      "A value is trying to be set on a copy of a slice from a DataFrame\n",
      "\n",
      "See the caveats in the documentation: http://pandas.pydata.org/pandas-docs/stable/user_guide/indexing.html#returning-a-view-versus-a-copy\n",
      "  errors=errors,\n"
     ]
    },
    {
     "name": "stdout",
     "output_type": "stream",
     "text": [
      "(29, 17)\n",
      "length: 5\n",
      "list: ['23', '0', '20', '20', '2018-03']\n"
     ]
    },
    {
     "name": "stderr",
     "output_type": "stream",
     "text": [
      "/Users/trae/.virtualenvs/talus_api/lib/python3.7/site-packages/ipykernel_launcher.py:34: SettingWithCopyWarning: \n",
      "A value is trying to be set on a copy of a slice from a DataFrame.\n",
      "Try using .loc[row_indexer,col_indexer] = value instead\n",
      "\n",
      "See the caveats in the documentation: http://pandas.pydata.org/pandas-docs/stable/user_guide/indexing.html#returning-a-view-versus-a-copy\n",
      "/Users/trae/.virtualenvs/talus_api/lib/python3.7/site-packages/ipykernel_launcher.py:35: SettingWithCopyWarning: \n",
      "A value is trying to be set on a copy of a slice from a DataFrame.\n",
      "Try using .loc[row_indexer,col_indexer] = value instead\n",
      "\n",
      "See the caveats in the documentation: http://pandas.pydata.org/pandas-docs/stable/user_guide/indexing.html#returning-a-view-versus-a-copy\n",
      "/Users/trae/.virtualenvs/talus_api/lib/python3.7/site-packages/pandas/core/frame.py:4102: SettingWithCopyWarning: \n",
      "A value is trying to be set on a copy of a slice from a DataFrame\n",
      "\n",
      "See the caveats in the documentation: http://pandas.pydata.org/pandas-docs/stable/user_guide/indexing.html#returning-a-view-versus-a-copy\n",
      "  errors=errors,\n"
     ]
    },
    {
     "name": "stdout",
     "output_type": "stream",
     "text": [
      "(28, 17)\n",
      "length: 5\n",
      "list: ['23', '0', '20', '20', '2018-03']\n"
     ]
    },
    {
     "name": "stderr",
     "output_type": "stream",
     "text": [
      "/Users/trae/.virtualenvs/talus_api/lib/python3.7/site-packages/ipykernel_launcher.py:34: SettingWithCopyWarning: \n",
      "A value is trying to be set on a copy of a slice from a DataFrame.\n",
      "Try using .loc[row_indexer,col_indexer] = value instead\n",
      "\n",
      "See the caveats in the documentation: http://pandas.pydata.org/pandas-docs/stable/user_guide/indexing.html#returning-a-view-versus-a-copy\n",
      "/Users/trae/.virtualenvs/talus_api/lib/python3.7/site-packages/ipykernel_launcher.py:35: SettingWithCopyWarning: \n",
      "A value is trying to be set on a copy of a slice from a DataFrame.\n",
      "Try using .loc[row_indexer,col_indexer] = value instead\n",
      "\n",
      "See the caveats in the documentation: http://pandas.pydata.org/pandas-docs/stable/user_guide/indexing.html#returning-a-view-versus-a-copy\n",
      "/Users/trae/.virtualenvs/talus_api/lib/python3.7/site-packages/pandas/core/frame.py:4102: SettingWithCopyWarning: \n",
      "A value is trying to be set on a copy of a slice from a DataFrame\n",
      "\n",
      "See the caveats in the documentation: http://pandas.pydata.org/pandas-docs/stable/user_guide/indexing.html#returning-a-view-versus-a-copy\n",
      "  errors=errors,\n"
     ]
    },
    {
     "name": "stdout",
     "output_type": "stream",
     "text": [
      "(28, 17)\n",
      "length: 5\n",
      "list: ['2', '0', '2', '2', '2018-01']\n"
     ]
    },
    {
     "name": "stderr",
     "output_type": "stream",
     "text": [
      "/Users/trae/.virtualenvs/talus_api/lib/python3.7/site-packages/ipykernel_launcher.py:34: SettingWithCopyWarning: \n",
      "A value is trying to be set on a copy of a slice from a DataFrame.\n",
      "Try using .loc[row_indexer,col_indexer] = value instead\n",
      "\n",
      "See the caveats in the documentation: http://pandas.pydata.org/pandas-docs/stable/user_guide/indexing.html#returning-a-view-versus-a-copy\n",
      "/Users/trae/.virtualenvs/talus_api/lib/python3.7/site-packages/ipykernel_launcher.py:35: SettingWithCopyWarning: \n",
      "A value is trying to be set on a copy of a slice from a DataFrame.\n",
      "Try using .loc[row_indexer,col_indexer] = value instead\n",
      "\n",
      "See the caveats in the documentation: http://pandas.pydata.org/pandas-docs/stable/user_guide/indexing.html#returning-a-view-versus-a-copy\n",
      "/Users/trae/.virtualenvs/talus_api/lib/python3.7/site-packages/pandas/core/frame.py:4102: SettingWithCopyWarning: \n",
      "A value is trying to be set on a copy of a slice from a DataFrame\n",
      "\n",
      "See the caveats in the documentation: http://pandas.pydata.org/pandas-docs/stable/user_guide/indexing.html#returning-a-view-versus-a-copy\n",
      "  errors=errors,\n"
     ]
    },
    {
     "name": "stdout",
     "output_type": "stream",
     "text": [
      "(28, 17)\n",
      "length: 5\n",
      "list: ['2', '0', '2', '2', '2018-01']\n"
     ]
    },
    {
     "name": "stderr",
     "output_type": "stream",
     "text": [
      "/Users/trae/.virtualenvs/talus_api/lib/python3.7/site-packages/ipykernel_launcher.py:34: SettingWithCopyWarning: \n",
      "A value is trying to be set on a copy of a slice from a DataFrame.\n",
      "Try using .loc[row_indexer,col_indexer] = value instead\n",
      "\n",
      "See the caveats in the documentation: http://pandas.pydata.org/pandas-docs/stable/user_guide/indexing.html#returning-a-view-versus-a-copy\n",
      "/Users/trae/.virtualenvs/talus_api/lib/python3.7/site-packages/ipykernel_launcher.py:35: SettingWithCopyWarning: \n",
      "A value is trying to be set on a copy of a slice from a DataFrame.\n",
      "Try using .loc[row_indexer,col_indexer] = value instead\n",
      "\n",
      "See the caveats in the documentation: http://pandas.pydata.org/pandas-docs/stable/user_guide/indexing.html#returning-a-view-versus-a-copy\n",
      "/Users/trae/.virtualenvs/talus_api/lib/python3.7/site-packages/pandas/core/frame.py:4102: SettingWithCopyWarning: \n",
      "A value is trying to be set on a copy of a slice from a DataFrame\n",
      "\n",
      "See the caveats in the documentation: http://pandas.pydata.org/pandas-docs/stable/user_guide/indexing.html#returning-a-view-versus-a-copy\n",
      "  errors=errors,\n"
     ]
    },
    {
     "name": "stdout",
     "output_type": "stream",
     "text": [
      "(27, 18)\n",
      "Length mismatch: Expected axis has 18 elements, new values have 16 elements\n",
      "(27, 16)\n",
      "length: 4\n",
      "list: ['591', '1', '103', '104']\n"
     ]
    },
    {
     "name": "stderr",
     "output_type": "stream",
     "text": [
      "/Users/trae/.virtualenvs/talus_api/lib/python3.7/site-packages/ipykernel_launcher.py:34: SettingWithCopyWarning: \n",
      "A value is trying to be set on a copy of a slice from a DataFrame.\n",
      "Try using .loc[row_indexer,col_indexer] = value instead\n",
      "\n",
      "See the caveats in the documentation: http://pandas.pydata.org/pandas-docs/stable/user_guide/indexing.html#returning-a-view-versus-a-copy\n",
      "/Users/trae/.virtualenvs/talus_api/lib/python3.7/site-packages/ipykernel_launcher.py:35: SettingWithCopyWarning: \n",
      "A value is trying to be set on a copy of a slice from a DataFrame.\n",
      "Try using .loc[row_indexer,col_indexer] = value instead\n",
      "\n",
      "See the caveats in the documentation: http://pandas.pydata.org/pandas-docs/stable/user_guide/indexing.html#returning-a-view-versus-a-copy\n",
      "/Users/trae/.virtualenvs/talus_api/lib/python3.7/site-packages/pandas/core/frame.py:4102: SettingWithCopyWarning: \n",
      "A value is trying to be set on a copy of a slice from a DataFrame\n",
      "\n",
      "See the caveats in the documentation: http://pandas.pydata.org/pandas-docs/stable/user_guide/indexing.html#returning-a-view-versus-a-copy\n",
      "  errors=errors,\n"
     ]
    },
    {
     "name": "stdout",
     "output_type": "stream",
     "text": [
      "(29, 16)\n",
      "length: 4\n",
      "list: ['591', '1', '103', '104']\n"
     ]
    },
    {
     "name": "stderr",
     "output_type": "stream",
     "text": [
      "/Users/trae/.virtualenvs/talus_api/lib/python3.7/site-packages/ipykernel_launcher.py:34: SettingWithCopyWarning: \n",
      "A value is trying to be set on a copy of a slice from a DataFrame.\n",
      "Try using .loc[row_indexer,col_indexer] = value instead\n",
      "\n",
      "See the caveats in the documentation: http://pandas.pydata.org/pandas-docs/stable/user_guide/indexing.html#returning-a-view-versus-a-copy\n",
      "/Users/trae/.virtualenvs/talus_api/lib/python3.7/site-packages/ipykernel_launcher.py:35: SettingWithCopyWarning: \n",
      "A value is trying to be set on a copy of a slice from a DataFrame.\n",
      "Try using .loc[row_indexer,col_indexer] = value instead\n",
      "\n",
      "See the caveats in the documentation: http://pandas.pydata.org/pandas-docs/stable/user_guide/indexing.html#returning-a-view-versus-a-copy\n",
      "/Users/trae/.virtualenvs/talus_api/lib/python3.7/site-packages/pandas/core/frame.py:4102: SettingWithCopyWarning: \n",
      "A value is trying to be set on a copy of a slice from a DataFrame\n",
      "\n",
      "See the caveats in the documentation: http://pandas.pydata.org/pandas-docs/stable/user_guide/indexing.html#returning-a-view-versus-a-copy\n",
      "  errors=errors,\n"
     ]
    },
    {
     "name": "stdout",
     "output_type": "stream",
     "text": [
      "(17, 17)\n",
      "index 0 is out of bounds for axis 0 with size 0\n",
      "(28, 16)\n",
      "length: 4\n",
      "list: ['502', '1', '71', '72']\n"
     ]
    },
    {
     "name": "stderr",
     "output_type": "stream",
     "text": [
      "/Users/trae/.virtualenvs/talus_api/lib/python3.7/site-packages/ipykernel_launcher.py:34: SettingWithCopyWarning: \n",
      "A value is trying to be set on a copy of a slice from a DataFrame.\n",
      "Try using .loc[row_indexer,col_indexer] = value instead\n",
      "\n",
      "See the caveats in the documentation: http://pandas.pydata.org/pandas-docs/stable/user_guide/indexing.html#returning-a-view-versus-a-copy\n",
      "/Users/trae/.virtualenvs/talus_api/lib/python3.7/site-packages/ipykernel_launcher.py:35: SettingWithCopyWarning: \n",
      "A value is trying to be set on a copy of a slice from a DataFrame.\n",
      "Try using .loc[row_indexer,col_indexer] = value instead\n",
      "\n",
      "See the caveats in the documentation: http://pandas.pydata.org/pandas-docs/stable/user_guide/indexing.html#returning-a-view-versus-a-copy\n",
      "/Users/trae/.virtualenvs/talus_api/lib/python3.7/site-packages/pandas/core/frame.py:4102: SettingWithCopyWarning: \n",
      "A value is trying to be set on a copy of a slice from a DataFrame\n",
      "\n",
      "See the caveats in the documentation: http://pandas.pydata.org/pandas-docs/stable/user_guide/indexing.html#returning-a-view-versus-a-copy\n",
      "  errors=errors,\n"
     ]
    },
    {
     "name": "stdout",
     "output_type": "stream",
     "text": [
      "(28, 16)\n",
      "length: 4\n",
      "list: ['487', '0', '70', '70']\n"
     ]
    },
    {
     "name": "stderr",
     "output_type": "stream",
     "text": [
      "/Users/trae/.virtualenvs/talus_api/lib/python3.7/site-packages/ipykernel_launcher.py:34: SettingWithCopyWarning: \n",
      "A value is trying to be set on a copy of a slice from a DataFrame.\n",
      "Try using .loc[row_indexer,col_indexer] = value instead\n",
      "\n",
      "See the caveats in the documentation: http://pandas.pydata.org/pandas-docs/stable/user_guide/indexing.html#returning-a-view-versus-a-copy\n",
      "/Users/trae/.virtualenvs/talus_api/lib/python3.7/site-packages/ipykernel_launcher.py:35: SettingWithCopyWarning: \n",
      "A value is trying to be set on a copy of a slice from a DataFrame.\n",
      "Try using .loc[row_indexer,col_indexer] = value instead\n",
      "\n",
      "See the caveats in the documentation: http://pandas.pydata.org/pandas-docs/stable/user_guide/indexing.html#returning-a-view-versus-a-copy\n",
      "/Users/trae/.virtualenvs/talus_api/lib/python3.7/site-packages/pandas/core/frame.py:4102: SettingWithCopyWarning: \n",
      "A value is trying to be set on a copy of a slice from a DataFrame\n",
      "\n",
      "See the caveats in the documentation: http://pandas.pydata.org/pandas-docs/stable/user_guide/indexing.html#returning-a-view-versus-a-copy\n",
      "  errors=errors,\n"
     ]
    },
    {
     "name": "stdout",
     "output_type": "stream",
     "text": [
      "(28, 16)\n",
      "length: 4\n",
      "list: ['487', '0', '70', '70']\n"
     ]
    },
    {
     "name": "stderr",
     "output_type": "stream",
     "text": [
      "/Users/trae/.virtualenvs/talus_api/lib/python3.7/site-packages/ipykernel_launcher.py:34: SettingWithCopyWarning: \n",
      "A value is trying to be set on a copy of a slice from a DataFrame.\n",
      "Try using .loc[row_indexer,col_indexer] = value instead\n",
      "\n",
      "See the caveats in the documentation: http://pandas.pydata.org/pandas-docs/stable/user_guide/indexing.html#returning-a-view-versus-a-copy\n",
      "/Users/trae/.virtualenvs/talus_api/lib/python3.7/site-packages/ipykernel_launcher.py:35: SettingWithCopyWarning: \n",
      "A value is trying to be set on a copy of a slice from a DataFrame.\n",
      "Try using .loc[row_indexer,col_indexer] = value instead\n",
      "\n",
      "See the caveats in the documentation: http://pandas.pydata.org/pandas-docs/stable/user_guide/indexing.html#returning-a-view-versus-a-copy\n",
      "/Users/trae/.virtualenvs/talus_api/lib/python3.7/site-packages/pandas/core/frame.py:4102: SettingWithCopyWarning: \n",
      "A value is trying to be set on a copy of a slice from a DataFrame\n",
      "\n",
      "See the caveats in the documentation: http://pandas.pydata.org/pandas-docs/stable/user_guide/indexing.html#returning-a-view-versus-a-copy\n",
      "  errors=errors,\n"
     ]
    },
    {
     "name": "stdout",
     "output_type": "stream",
     "text": [
      "(28, 16)\n",
      "length: 4\n",
      "list: ['411', '0', '57', '57']\n"
     ]
    },
    {
     "name": "stderr",
     "output_type": "stream",
     "text": [
      "/Users/trae/.virtualenvs/talus_api/lib/python3.7/site-packages/ipykernel_launcher.py:34: SettingWithCopyWarning: \n",
      "A value is trying to be set on a copy of a slice from a DataFrame.\n",
      "Try using .loc[row_indexer,col_indexer] = value instead\n",
      "\n",
      "See the caveats in the documentation: http://pandas.pydata.org/pandas-docs/stable/user_guide/indexing.html#returning-a-view-versus-a-copy\n",
      "/Users/trae/.virtualenvs/talus_api/lib/python3.7/site-packages/ipykernel_launcher.py:35: SettingWithCopyWarning: \n",
      "A value is trying to be set on a copy of a slice from a DataFrame.\n",
      "Try using .loc[row_indexer,col_indexer] = value instead\n",
      "\n",
      "See the caveats in the documentation: http://pandas.pydata.org/pandas-docs/stable/user_guide/indexing.html#returning-a-view-versus-a-copy\n",
      "/Users/trae/.virtualenvs/talus_api/lib/python3.7/site-packages/pandas/core/frame.py:4102: SettingWithCopyWarning: \n",
      "A value is trying to be set on a copy of a slice from a DataFrame\n",
      "\n",
      "See the caveats in the documentation: http://pandas.pydata.org/pandas-docs/stable/user_guide/indexing.html#returning-a-view-versus-a-copy\n",
      "  errors=errors,\n"
     ]
    },
    {
     "name": "stdout",
     "output_type": "stream",
     "text": [
      "(28, 16)\n",
      "length: 4\n",
      "list: ['403', '0', '56', '56']\n"
     ]
    },
    {
     "name": "stderr",
     "output_type": "stream",
     "text": [
      "/Users/trae/.virtualenvs/talus_api/lib/python3.7/site-packages/ipykernel_launcher.py:34: SettingWithCopyWarning: \n",
      "A value is trying to be set on a copy of a slice from a DataFrame.\n",
      "Try using .loc[row_indexer,col_indexer] = value instead\n",
      "\n",
      "See the caveats in the documentation: http://pandas.pydata.org/pandas-docs/stable/user_guide/indexing.html#returning-a-view-versus-a-copy\n",
      "/Users/trae/.virtualenvs/talus_api/lib/python3.7/site-packages/ipykernel_launcher.py:35: SettingWithCopyWarning: \n",
      "A value is trying to be set on a copy of a slice from a DataFrame.\n",
      "Try using .loc[row_indexer,col_indexer] = value instead\n",
      "\n",
      "See the caveats in the documentation: http://pandas.pydata.org/pandas-docs/stable/user_guide/indexing.html#returning-a-view-versus-a-copy\n",
      "/Users/trae/.virtualenvs/talus_api/lib/python3.7/site-packages/pandas/core/frame.py:4102: SettingWithCopyWarning: \n",
      "A value is trying to be set on a copy of a slice from a DataFrame\n",
      "\n",
      "See the caveats in the documentation: http://pandas.pydata.org/pandas-docs/stable/user_guide/indexing.html#returning-a-view-versus-a-copy\n",
      "  errors=errors,\n"
     ]
    },
    {
     "name": "stdout",
     "output_type": "stream",
     "text": [
      "(28, 16)\n",
      "length: 4\n",
      "list: ['385', '0', '56', '56']\n"
     ]
    },
    {
     "name": "stderr",
     "output_type": "stream",
     "text": [
      "/Users/trae/.virtualenvs/talus_api/lib/python3.7/site-packages/ipykernel_launcher.py:34: SettingWithCopyWarning: \n",
      "A value is trying to be set on a copy of a slice from a DataFrame.\n",
      "Try using .loc[row_indexer,col_indexer] = value instead\n",
      "\n",
      "See the caveats in the documentation: http://pandas.pydata.org/pandas-docs/stable/user_guide/indexing.html#returning-a-view-versus-a-copy\n",
      "/Users/trae/.virtualenvs/talus_api/lib/python3.7/site-packages/ipykernel_launcher.py:35: SettingWithCopyWarning: \n",
      "A value is trying to be set on a copy of a slice from a DataFrame.\n",
      "Try using .loc[row_indexer,col_indexer] = value instead\n",
      "\n",
      "See the caveats in the documentation: http://pandas.pydata.org/pandas-docs/stable/user_guide/indexing.html#returning-a-view-versus-a-copy\n",
      "/Users/trae/.virtualenvs/talus_api/lib/python3.7/site-packages/pandas/core/frame.py:4102: SettingWithCopyWarning: \n",
      "A value is trying to be set on a copy of a slice from a DataFrame\n",
      "\n",
      "See the caveats in the documentation: http://pandas.pydata.org/pandas-docs/stable/user_guide/indexing.html#returning-a-view-versus-a-copy\n",
      "  errors=errors,\n"
     ]
    },
    {
     "name": "stdout",
     "output_type": "stream",
     "text": [
      "(28, 16)\n",
      "length: 4\n",
      "list: ['381', '0', '50', '50']\n"
     ]
    },
    {
     "name": "stderr",
     "output_type": "stream",
     "text": [
      "/Users/trae/.virtualenvs/talus_api/lib/python3.7/site-packages/ipykernel_launcher.py:34: SettingWithCopyWarning: \n",
      "A value is trying to be set on a copy of a slice from a DataFrame.\n",
      "Try using .loc[row_indexer,col_indexer] = value instead\n",
      "\n",
      "See the caveats in the documentation: http://pandas.pydata.org/pandas-docs/stable/user_guide/indexing.html#returning-a-view-versus-a-copy\n",
      "/Users/trae/.virtualenvs/talus_api/lib/python3.7/site-packages/ipykernel_launcher.py:35: SettingWithCopyWarning: \n",
      "A value is trying to be set on a copy of a slice from a DataFrame.\n",
      "Try using .loc[row_indexer,col_indexer] = value instead\n",
      "\n",
      "See the caveats in the documentation: http://pandas.pydata.org/pandas-docs/stable/user_guide/indexing.html#returning-a-view-versus-a-copy\n",
      "/Users/trae/.virtualenvs/talus_api/lib/python3.7/site-packages/pandas/core/frame.py:4102: SettingWithCopyWarning: \n",
      "A value is trying to be set on a copy of a slice from a DataFrame\n",
      "\n",
      "See the caveats in the documentation: http://pandas.pydata.org/pandas-docs/stable/user_guide/indexing.html#returning-a-view-versus-a-copy\n",
      "  errors=errors,\n"
     ]
    },
    {
     "name": "stdout",
     "output_type": "stream",
     "text": [
      "(28, 16)\n",
      "length: 4\n",
      "list: ['381', '0', '50', '50']\n"
     ]
    },
    {
     "name": "stderr",
     "output_type": "stream",
     "text": [
      "/Users/trae/.virtualenvs/talus_api/lib/python3.7/site-packages/ipykernel_launcher.py:34: SettingWithCopyWarning: \n",
      "A value is trying to be set on a copy of a slice from a DataFrame.\n",
      "Try using .loc[row_indexer,col_indexer] = value instead\n",
      "\n",
      "See the caveats in the documentation: http://pandas.pydata.org/pandas-docs/stable/user_guide/indexing.html#returning-a-view-versus-a-copy\n",
      "/Users/trae/.virtualenvs/talus_api/lib/python3.7/site-packages/ipykernel_launcher.py:35: SettingWithCopyWarning: \n",
      "A value is trying to be set on a copy of a slice from a DataFrame.\n",
      "Try using .loc[row_indexer,col_indexer] = value instead\n",
      "\n",
      "See the caveats in the documentation: http://pandas.pydata.org/pandas-docs/stable/user_guide/indexing.html#returning-a-view-versus-a-copy\n",
      "/Users/trae/.virtualenvs/talus_api/lib/python3.7/site-packages/pandas/core/frame.py:4102: SettingWithCopyWarning: \n",
      "A value is trying to be set on a copy of a slice from a DataFrame\n",
      "\n",
      "See the caveats in the documentation: http://pandas.pydata.org/pandas-docs/stable/user_guide/indexing.html#returning-a-view-versus-a-copy\n",
      "  errors=errors,\n"
     ]
    },
    {
     "name": "stdout",
     "output_type": "stream",
     "text": [
      "(28, 16)\n",
      "length: 4\n",
      "list: ['380', '0', '49', '49b']\n"
     ]
    },
    {
     "name": "stderr",
     "output_type": "stream",
     "text": [
      "/Users/trae/.virtualenvs/talus_api/lib/python3.7/site-packages/ipykernel_launcher.py:34: SettingWithCopyWarning: \n",
      "A value is trying to be set on a copy of a slice from a DataFrame.\n",
      "Try using .loc[row_indexer,col_indexer] = value instead\n",
      "\n",
      "See the caveats in the documentation: http://pandas.pydata.org/pandas-docs/stable/user_guide/indexing.html#returning-a-view-versus-a-copy\n",
      "/Users/trae/.virtualenvs/talus_api/lib/python3.7/site-packages/ipykernel_launcher.py:35: SettingWithCopyWarning: \n",
      "A value is trying to be set on a copy of a slice from a DataFrame.\n",
      "Try using .loc[row_indexer,col_indexer] = value instead\n",
      "\n",
      "See the caveats in the documentation: http://pandas.pydata.org/pandas-docs/stable/user_guide/indexing.html#returning-a-view-versus-a-copy\n",
      "/Users/trae/.virtualenvs/talus_api/lib/python3.7/site-packages/pandas/core/frame.py:4102: SettingWithCopyWarning: \n",
      "A value is trying to be set on a copy of a slice from a DataFrame\n",
      "\n",
      "See the caveats in the documentation: http://pandas.pydata.org/pandas-docs/stable/user_guide/indexing.html#returning-a-view-versus-a-copy\n",
      "  errors=errors,\n"
     ]
    },
    {
     "name": "stdout",
     "output_type": "stream",
     "text": [
      "(28, 16)\n",
      "length: 4\n",
      "list: ['364', '0', '34', '34b']\n"
     ]
    },
    {
     "name": "stderr",
     "output_type": "stream",
     "text": [
      "/Users/trae/.virtualenvs/talus_api/lib/python3.7/site-packages/ipykernel_launcher.py:34: SettingWithCopyWarning: \n",
      "A value is trying to be set on a copy of a slice from a DataFrame.\n",
      "Try using .loc[row_indexer,col_indexer] = value instead\n",
      "\n",
      "See the caveats in the documentation: http://pandas.pydata.org/pandas-docs/stable/user_guide/indexing.html#returning-a-view-versus-a-copy\n",
      "/Users/trae/.virtualenvs/talus_api/lib/python3.7/site-packages/ipykernel_launcher.py:35: SettingWithCopyWarning: \n",
      "A value is trying to be set on a copy of a slice from a DataFrame.\n",
      "Try using .loc[row_indexer,col_indexer] = value instead\n",
      "\n",
      "See the caveats in the documentation: http://pandas.pydata.org/pandas-docs/stable/user_guide/indexing.html#returning-a-view-versus-a-copy\n",
      "/Users/trae/.virtualenvs/talus_api/lib/python3.7/site-packages/pandas/core/frame.py:4102: SettingWithCopyWarning: \n",
      "A value is trying to be set on a copy of a slice from a DataFrame\n",
      "\n",
      "See the caveats in the documentation: http://pandas.pydata.org/pandas-docs/stable/user_guide/indexing.html#returning-a-view-versus-a-copy\n",
      "  errors=errors,\n"
     ]
    },
    {
     "name": "stdout",
     "output_type": "stream",
     "text": [
      "(28, 16)\n",
      "length: 4\n",
      "list: ['321', '0', '0', '0']\n"
     ]
    },
    {
     "name": "stderr",
     "output_type": "stream",
     "text": [
      "/Users/trae/.virtualenvs/talus_api/lib/python3.7/site-packages/ipykernel_launcher.py:34: SettingWithCopyWarning: \n",
      "A value is trying to be set on a copy of a slice from a DataFrame.\n",
      "Try using .loc[row_indexer,col_indexer] = value instead\n",
      "\n",
      "See the caveats in the documentation: http://pandas.pydata.org/pandas-docs/stable/user_guide/indexing.html#returning-a-view-versus-a-copy\n",
      "/Users/trae/.virtualenvs/talus_api/lib/python3.7/site-packages/ipykernel_launcher.py:35: SettingWithCopyWarning: \n",
      "A value is trying to be set on a copy of a slice from a DataFrame.\n",
      "Try using .loc[row_indexer,col_indexer] = value instead\n",
      "\n",
      "See the caveats in the documentation: http://pandas.pydata.org/pandas-docs/stable/user_guide/indexing.html#returning-a-view-versus-a-copy\n",
      "/Users/trae/.virtualenvs/talus_api/lib/python3.7/site-packages/pandas/core/frame.py:4102: SettingWithCopyWarning: \n",
      "A value is trying to be set on a copy of a slice from a DataFrame\n",
      "\n",
      "See the caveats in the documentation: http://pandas.pydata.org/pandas-docs/stable/user_guide/indexing.html#returning-a-view-versus-a-copy\n",
      "  errors=errors,\n"
     ]
    },
    {
     "name": "stdout",
     "output_type": "stream",
     "text": [
      "(28, 16)\n",
      "length: 4\n",
      "list: ['306', '0', '0', '0']\n"
     ]
    },
    {
     "name": "stderr",
     "output_type": "stream",
     "text": [
      "/Users/trae/.virtualenvs/talus_api/lib/python3.7/site-packages/ipykernel_launcher.py:34: SettingWithCopyWarning: \n",
      "A value is trying to be set on a copy of a slice from a DataFrame.\n",
      "Try using .loc[row_indexer,col_indexer] = value instead\n",
      "\n",
      "See the caveats in the documentation: http://pandas.pydata.org/pandas-docs/stable/user_guide/indexing.html#returning-a-view-versus-a-copy\n",
      "/Users/trae/.virtualenvs/talus_api/lib/python3.7/site-packages/ipykernel_launcher.py:35: SettingWithCopyWarning: \n",
      "A value is trying to be set on a copy of a slice from a DataFrame.\n",
      "Try using .loc[row_indexer,col_indexer] = value instead\n",
      "\n",
      "See the caveats in the documentation: http://pandas.pydata.org/pandas-docs/stable/user_guide/indexing.html#returning-a-view-versus-a-copy\n",
      "/Users/trae/.virtualenvs/talus_api/lib/python3.7/site-packages/pandas/core/frame.py:4102: SettingWithCopyWarning: \n",
      "A value is trying to be set on a copy of a slice from a DataFrame\n",
      "\n",
      "See the caveats in the documentation: http://pandas.pydata.org/pandas-docs/stable/user_guide/indexing.html#returning-a-view-versus-a-copy\n",
      "  errors=errors,\n"
     ]
    },
    {
     "name": "stdout",
     "output_type": "stream",
     "text": [
      "(28, 16)\n",
      "length: 4\n",
      "list: ['306', '0', '0', '0']\n"
     ]
    },
    {
     "name": "stderr",
     "output_type": "stream",
     "text": [
      "/Users/trae/.virtualenvs/talus_api/lib/python3.7/site-packages/ipykernel_launcher.py:34: SettingWithCopyWarning: \n",
      "A value is trying to be set on a copy of a slice from a DataFrame.\n",
      "Try using .loc[row_indexer,col_indexer] = value instead\n",
      "\n",
      "See the caveats in the documentation: http://pandas.pydata.org/pandas-docs/stable/user_guide/indexing.html#returning-a-view-versus-a-copy\n",
      "/Users/trae/.virtualenvs/talus_api/lib/python3.7/site-packages/ipykernel_launcher.py:35: SettingWithCopyWarning: \n",
      "A value is trying to be set on a copy of a slice from a DataFrame.\n",
      "Try using .loc[row_indexer,col_indexer] = value instead\n",
      "\n",
      "See the caveats in the documentation: http://pandas.pydata.org/pandas-docs/stable/user_guide/indexing.html#returning-a-view-versus-a-copy\n",
      "/Users/trae/.virtualenvs/talus_api/lib/python3.7/site-packages/pandas/core/frame.py:4102: SettingWithCopyWarning: \n",
      "A value is trying to be set on a copy of a slice from a DataFrame\n",
      "\n",
      "See the caveats in the documentation: http://pandas.pydata.org/pandas-docs/stable/user_guide/indexing.html#returning-a-view-versus-a-copy\n",
      "  errors=errors,\n"
     ]
    },
    {
     "name": "stdout",
     "output_type": "stream",
     "text": [
      "(28, 16)\n",
      "length: 4\n",
      "list: ['298', '0', '0', '0']\n"
     ]
    },
    {
     "name": "stderr",
     "output_type": "stream",
     "text": [
      "/Users/trae/.virtualenvs/talus_api/lib/python3.7/site-packages/ipykernel_launcher.py:34: SettingWithCopyWarning: \n",
      "A value is trying to be set on a copy of a slice from a DataFrame.\n",
      "Try using .loc[row_indexer,col_indexer] = value instead\n",
      "\n",
      "See the caveats in the documentation: http://pandas.pydata.org/pandas-docs/stable/user_guide/indexing.html#returning-a-view-versus-a-copy\n",
      "/Users/trae/.virtualenvs/talus_api/lib/python3.7/site-packages/ipykernel_launcher.py:35: SettingWithCopyWarning: \n",
      "A value is trying to be set on a copy of a slice from a DataFrame.\n",
      "Try using .loc[row_indexer,col_indexer] = value instead\n",
      "\n",
      "See the caveats in the documentation: http://pandas.pydata.org/pandas-docs/stable/user_guide/indexing.html#returning-a-view-versus-a-copy\n",
      "/Users/trae/.virtualenvs/talus_api/lib/python3.7/site-packages/pandas/core/frame.py:4102: SettingWithCopyWarning: \n",
      "A value is trying to be set on a copy of a slice from a DataFrame\n",
      "\n",
      "See the caveats in the documentation: http://pandas.pydata.org/pandas-docs/stable/user_guide/indexing.html#returning-a-view-versus-a-copy\n",
      "  errors=errors,\n"
     ]
    },
    {
     "name": "stdout",
     "output_type": "stream",
     "text": [
      "(28, 16)\n",
      "length: 4\n",
      "list: ['294', '0', '0', '0']\n"
     ]
    },
    {
     "name": "stderr",
     "output_type": "stream",
     "text": [
      "/Users/trae/.virtualenvs/talus_api/lib/python3.7/site-packages/ipykernel_launcher.py:34: SettingWithCopyWarning: \n",
      "A value is trying to be set on a copy of a slice from a DataFrame.\n",
      "Try using .loc[row_indexer,col_indexer] = value instead\n",
      "\n",
      "See the caveats in the documentation: http://pandas.pydata.org/pandas-docs/stable/user_guide/indexing.html#returning-a-view-versus-a-copy\n",
      "/Users/trae/.virtualenvs/talus_api/lib/python3.7/site-packages/ipykernel_launcher.py:35: SettingWithCopyWarning: \n",
      "A value is trying to be set on a copy of a slice from a DataFrame.\n",
      "Try using .loc[row_indexer,col_indexer] = value instead\n",
      "\n",
      "See the caveats in the documentation: http://pandas.pydata.org/pandas-docs/stable/user_guide/indexing.html#returning-a-view-versus-a-copy\n",
      "/Users/trae/.virtualenvs/talus_api/lib/python3.7/site-packages/pandas/core/frame.py:4102: SettingWithCopyWarning: \n",
      "A value is trying to be set on a copy of a slice from a DataFrame\n",
      "\n",
      "See the caveats in the documentation: http://pandas.pydata.org/pandas-docs/stable/user_guide/indexing.html#returning-a-view-versus-a-copy\n",
      "  errors=errors,\n"
     ]
    },
    {
     "name": "stdout",
     "output_type": "stream",
     "text": [
      "(28, 16)\n",
      "length: 4\n",
      "list: ['278', '0', '0', '0']\n"
     ]
    },
    {
     "name": "stderr",
     "output_type": "stream",
     "text": [
      "/Users/trae/.virtualenvs/talus_api/lib/python3.7/site-packages/ipykernel_launcher.py:34: SettingWithCopyWarning: \n",
      "A value is trying to be set on a copy of a slice from a DataFrame.\n",
      "Try using .loc[row_indexer,col_indexer] = value instead\n",
      "\n",
      "See the caveats in the documentation: http://pandas.pydata.org/pandas-docs/stable/user_guide/indexing.html#returning-a-view-versus-a-copy\n",
      "/Users/trae/.virtualenvs/talus_api/lib/python3.7/site-packages/ipykernel_launcher.py:35: SettingWithCopyWarning: \n",
      "A value is trying to be set on a copy of a slice from a DataFrame.\n",
      "Try using .loc[row_indexer,col_indexer] = value instead\n",
      "\n",
      "See the caveats in the documentation: http://pandas.pydata.org/pandas-docs/stable/user_guide/indexing.html#returning-a-view-versus-a-copy\n",
      "/Users/trae/.virtualenvs/talus_api/lib/python3.7/site-packages/pandas/core/frame.py:4102: SettingWithCopyWarning: \n",
      "A value is trying to be set on a copy of a slice from a DataFrame\n",
      "\n",
      "See the caveats in the documentation: http://pandas.pydata.org/pandas-docs/stable/user_guide/indexing.html#returning-a-view-versus-a-copy\n",
      "  errors=errors,\n"
     ]
    },
    {
     "name": "stdout",
     "output_type": "stream",
     "text": [
      "(28, 16)\n",
      "length: 4\n",
      "list: ['273', '0', '0', '0']\n"
     ]
    },
    {
     "name": "stderr",
     "output_type": "stream",
     "text": [
      "/Users/trae/.virtualenvs/talus_api/lib/python3.7/site-packages/ipykernel_launcher.py:34: SettingWithCopyWarning: \n",
      "A value is trying to be set on a copy of a slice from a DataFrame.\n",
      "Try using .loc[row_indexer,col_indexer] = value instead\n",
      "\n",
      "See the caveats in the documentation: http://pandas.pydata.org/pandas-docs/stable/user_guide/indexing.html#returning-a-view-versus-a-copy\n",
      "/Users/trae/.virtualenvs/talus_api/lib/python3.7/site-packages/ipykernel_launcher.py:35: SettingWithCopyWarning: \n",
      "A value is trying to be set on a copy of a slice from a DataFrame.\n",
      "Try using .loc[row_indexer,col_indexer] = value instead\n",
      "\n",
      "See the caveats in the documentation: http://pandas.pydata.org/pandas-docs/stable/user_guide/indexing.html#returning-a-view-versus-a-copy\n",
      "/Users/trae/.virtualenvs/talus_api/lib/python3.7/site-packages/pandas/core/frame.py:4102: SettingWithCopyWarning: \n",
      "A value is trying to be set on a copy of a slice from a DataFrame\n",
      "\n",
      "See the caveats in the documentation: http://pandas.pydata.org/pandas-docs/stable/user_guide/indexing.html#returning-a-view-versus-a-copy\n",
      "  errors=errors,\n"
     ]
    },
    {
     "name": "stdout",
     "output_type": "stream",
     "text": [
      "(28, 16)\n",
      "length: 4\n",
      "list: ['270', '0', '0', '0']\n"
     ]
    },
    {
     "name": "stderr",
     "output_type": "stream",
     "text": [
      "/Users/trae/.virtualenvs/talus_api/lib/python3.7/site-packages/ipykernel_launcher.py:34: SettingWithCopyWarning: \n",
      "A value is trying to be set on a copy of a slice from a DataFrame.\n",
      "Try using .loc[row_indexer,col_indexer] = value instead\n",
      "\n",
      "See the caveats in the documentation: http://pandas.pydata.org/pandas-docs/stable/user_guide/indexing.html#returning-a-view-versus-a-copy\n",
      "/Users/trae/.virtualenvs/talus_api/lib/python3.7/site-packages/ipykernel_launcher.py:35: SettingWithCopyWarning: \n",
      "A value is trying to be set on a copy of a slice from a DataFrame.\n",
      "Try using .loc[row_indexer,col_indexer] = value instead\n",
      "\n",
      "See the caveats in the documentation: http://pandas.pydata.org/pandas-docs/stable/user_guide/indexing.html#returning-a-view-versus-a-copy\n",
      "/Users/trae/.virtualenvs/talus_api/lib/python3.7/site-packages/pandas/core/frame.py:4102: SettingWithCopyWarning: \n",
      "A value is trying to be set on a copy of a slice from a DataFrame\n",
      "\n",
      "See the caveats in the documentation: http://pandas.pydata.org/pandas-docs/stable/user_guide/indexing.html#returning-a-view-versus-a-copy\n",
      "  errors=errors,\n"
     ]
    },
    {
     "name": "stdout",
     "output_type": "stream",
     "text": [
      "(28, 16)\n",
      "length: 4\n",
      "list: ['270', '0', '0', '0']\n"
     ]
    },
    {
     "name": "stderr",
     "output_type": "stream",
     "text": [
      "/Users/trae/.virtualenvs/talus_api/lib/python3.7/site-packages/ipykernel_launcher.py:34: SettingWithCopyWarning: \n",
      "A value is trying to be set on a copy of a slice from a DataFrame.\n",
      "Try using .loc[row_indexer,col_indexer] = value instead\n",
      "\n",
      "See the caveats in the documentation: http://pandas.pydata.org/pandas-docs/stable/user_guide/indexing.html#returning-a-view-versus-a-copy\n",
      "/Users/trae/.virtualenvs/talus_api/lib/python3.7/site-packages/ipykernel_launcher.py:35: SettingWithCopyWarning: \n",
      "A value is trying to be set on a copy of a slice from a DataFrame.\n",
      "Try using .loc[row_indexer,col_indexer] = value instead\n",
      "\n",
      "See the caveats in the documentation: http://pandas.pydata.org/pandas-docs/stable/user_guide/indexing.html#returning-a-view-versus-a-copy\n",
      "/Users/trae/.virtualenvs/talus_api/lib/python3.7/site-packages/pandas/core/frame.py:4102: SettingWithCopyWarning: \n",
      "A value is trying to be set on a copy of a slice from a DataFrame\n",
      "\n",
      "See the caveats in the documentation: http://pandas.pydata.org/pandas-docs/stable/user_guide/indexing.html#returning-a-view-versus-a-copy\n",
      "  errors=errors,\n"
     ]
    },
    {
     "name": "stdout",
     "output_type": "stream",
     "text": [
      "(28, 16)\n",
      "length: 4\n",
      "list: ['268', '0', '0', '0']\n"
     ]
    },
    {
     "name": "stderr",
     "output_type": "stream",
     "text": [
      "/Users/trae/.virtualenvs/talus_api/lib/python3.7/site-packages/ipykernel_launcher.py:34: SettingWithCopyWarning: \n",
      "A value is trying to be set on a copy of a slice from a DataFrame.\n",
      "Try using .loc[row_indexer,col_indexer] = value instead\n",
      "\n",
      "See the caveats in the documentation: http://pandas.pydata.org/pandas-docs/stable/user_guide/indexing.html#returning-a-view-versus-a-copy\n",
      "/Users/trae/.virtualenvs/talus_api/lib/python3.7/site-packages/ipykernel_launcher.py:35: SettingWithCopyWarning: \n",
      "A value is trying to be set on a copy of a slice from a DataFrame.\n",
      "Try using .loc[row_indexer,col_indexer] = value instead\n",
      "\n",
      "See the caveats in the documentation: http://pandas.pydata.org/pandas-docs/stable/user_guide/indexing.html#returning-a-view-versus-a-copy\n",
      "/Users/trae/.virtualenvs/talus_api/lib/python3.7/site-packages/pandas/core/frame.py:4102: SettingWithCopyWarning: \n",
      "A value is trying to be set on a copy of a slice from a DataFrame\n",
      "\n",
      "See the caveats in the documentation: http://pandas.pydata.org/pandas-docs/stable/user_guide/indexing.html#returning-a-view-versus-a-copy\n",
      "  errors=errors,\n"
     ]
    },
    {
     "name": "stdout",
     "output_type": "stream",
     "text": [
      "(28, 16)\n",
      "length: 4\n",
      "list: ['268', '0', '0', '0']\n"
     ]
    },
    {
     "name": "stderr",
     "output_type": "stream",
     "text": [
      "/Users/trae/.virtualenvs/talus_api/lib/python3.7/site-packages/ipykernel_launcher.py:34: SettingWithCopyWarning: \n",
      "A value is trying to be set on a copy of a slice from a DataFrame.\n",
      "Try using .loc[row_indexer,col_indexer] = value instead\n",
      "\n",
      "See the caveats in the documentation: http://pandas.pydata.org/pandas-docs/stable/user_guide/indexing.html#returning-a-view-versus-a-copy\n",
      "/Users/trae/.virtualenvs/talus_api/lib/python3.7/site-packages/ipykernel_launcher.py:35: SettingWithCopyWarning: \n",
      "A value is trying to be set on a copy of a slice from a DataFrame.\n",
      "Try using .loc[row_indexer,col_indexer] = value instead\n",
      "\n",
      "See the caveats in the documentation: http://pandas.pydata.org/pandas-docs/stable/user_guide/indexing.html#returning-a-view-versus-a-copy\n",
      "/Users/trae/.virtualenvs/talus_api/lib/python3.7/site-packages/pandas/core/frame.py:4102: SettingWithCopyWarning: \n",
      "A value is trying to be set on a copy of a slice from a DataFrame\n",
      "\n",
      "See the caveats in the documentation: http://pandas.pydata.org/pandas-docs/stable/user_guide/indexing.html#returning-a-view-versus-a-copy\n",
      "  errors=errors,\n"
     ]
    },
    {
     "name": "stdout",
     "output_type": "stream",
     "text": [
      "(21, 16)\n",
      "length: 4\n",
      "list: ['261', '0', '0', '0']\n"
     ]
    },
    {
     "name": "stderr",
     "output_type": "stream",
     "text": [
      "/Users/trae/.virtualenvs/talus_api/lib/python3.7/site-packages/ipykernel_launcher.py:34: SettingWithCopyWarning: \n",
      "A value is trying to be set on a copy of a slice from a DataFrame.\n",
      "Try using .loc[row_indexer,col_indexer] = value instead\n",
      "\n",
      "See the caveats in the documentation: http://pandas.pydata.org/pandas-docs/stable/user_guide/indexing.html#returning-a-view-versus-a-copy\n",
      "/Users/trae/.virtualenvs/talus_api/lib/python3.7/site-packages/ipykernel_launcher.py:35: SettingWithCopyWarning: \n",
      "A value is trying to be set on a copy of a slice from a DataFrame.\n",
      "Try using .loc[row_indexer,col_indexer] = value instead\n",
      "\n",
      "See the caveats in the documentation: http://pandas.pydata.org/pandas-docs/stable/user_guide/indexing.html#returning-a-view-versus-a-copy\n",
      "/Users/trae/.virtualenvs/talus_api/lib/python3.7/site-packages/pandas/core/frame.py:4102: SettingWithCopyWarning: \n",
      "A value is trying to be set on a copy of a slice from a DataFrame\n",
      "\n",
      "See the caveats in the documentation: http://pandas.pydata.org/pandas-docs/stable/user_guide/indexing.html#returning-a-view-versus-a-copy\n",
      "  errors=errors,\n"
     ]
    },
    {
     "name": "stdout",
     "output_type": "stream",
     "text": [
      "(28, 16)\n",
      "length: 4\n",
      "list: ['251', '0', '0', '0']\n"
     ]
    },
    {
     "name": "stderr",
     "output_type": "stream",
     "text": [
      "/Users/trae/.virtualenvs/talus_api/lib/python3.7/site-packages/ipykernel_launcher.py:34: SettingWithCopyWarning: \n",
      "A value is trying to be set on a copy of a slice from a DataFrame.\n",
      "Try using .loc[row_indexer,col_indexer] = value instead\n",
      "\n",
      "See the caveats in the documentation: http://pandas.pydata.org/pandas-docs/stable/user_guide/indexing.html#returning-a-view-versus-a-copy\n",
      "/Users/trae/.virtualenvs/talus_api/lib/python3.7/site-packages/ipykernel_launcher.py:35: SettingWithCopyWarning: \n",
      "A value is trying to be set on a copy of a slice from a DataFrame.\n",
      "Try using .loc[row_indexer,col_indexer] = value instead\n",
      "\n",
      "See the caveats in the documentation: http://pandas.pydata.org/pandas-docs/stable/user_guide/indexing.html#returning-a-view-versus-a-copy\n",
      "/Users/trae/.virtualenvs/talus_api/lib/python3.7/site-packages/pandas/core/frame.py:4102: SettingWithCopyWarning: \n",
      "A value is trying to be set on a copy of a slice from a DataFrame\n",
      "\n",
      "See the caveats in the documentation: http://pandas.pydata.org/pandas-docs/stable/user_guide/indexing.html#returning-a-view-versus-a-copy\n",
      "  errors=errors,\n"
     ]
    },
    {
     "name": "stdout",
     "output_type": "stream",
     "text": [
      "(28, 16)\n",
      "length: 4\n",
      "list: ['251', '0', '0', '0']\n"
     ]
    },
    {
     "name": "stderr",
     "output_type": "stream",
     "text": [
      "/Users/trae/.virtualenvs/talus_api/lib/python3.7/site-packages/ipykernel_launcher.py:34: SettingWithCopyWarning: \n",
      "A value is trying to be set on a copy of a slice from a DataFrame.\n",
      "Try using .loc[row_indexer,col_indexer] = value instead\n",
      "\n",
      "See the caveats in the documentation: http://pandas.pydata.org/pandas-docs/stable/user_guide/indexing.html#returning-a-view-versus-a-copy\n",
      "/Users/trae/.virtualenvs/talus_api/lib/python3.7/site-packages/ipykernel_launcher.py:35: SettingWithCopyWarning: \n",
      "A value is trying to be set on a copy of a slice from a DataFrame.\n",
      "Try using .loc[row_indexer,col_indexer] = value instead\n",
      "\n",
      "See the caveats in the documentation: http://pandas.pydata.org/pandas-docs/stable/user_guide/indexing.html#returning-a-view-versus-a-copy\n",
      "/Users/trae/.virtualenvs/talus_api/lib/python3.7/site-packages/pandas/core/frame.py:4102: SettingWithCopyWarning: \n",
      "A value is trying to be set on a copy of a slice from a DataFrame\n",
      "\n",
      "See the caveats in the documentation: http://pandas.pydata.org/pandas-docs/stable/user_guide/indexing.html#returning-a-view-versus-a-copy\n",
      "  errors=errors,\n"
     ]
    },
    {
     "name": "stdout",
     "output_type": "stream",
     "text": [
      "(28, 16)\n",
      "length: 4\n",
      "list: ['230', '0', '0', '0']\n"
     ]
    },
    {
     "name": "stderr",
     "output_type": "stream",
     "text": [
      "/Users/trae/.virtualenvs/talus_api/lib/python3.7/site-packages/ipykernel_launcher.py:34: SettingWithCopyWarning: \n",
      "A value is trying to be set on a copy of a slice from a DataFrame.\n",
      "Try using .loc[row_indexer,col_indexer] = value instead\n",
      "\n",
      "See the caveats in the documentation: http://pandas.pydata.org/pandas-docs/stable/user_guide/indexing.html#returning-a-view-versus-a-copy\n",
      "/Users/trae/.virtualenvs/talus_api/lib/python3.7/site-packages/ipykernel_launcher.py:35: SettingWithCopyWarning: \n",
      "A value is trying to be set on a copy of a slice from a DataFrame.\n",
      "Try using .loc[row_indexer,col_indexer] = value instead\n",
      "\n",
      "See the caveats in the documentation: http://pandas.pydata.org/pandas-docs/stable/user_guide/indexing.html#returning-a-view-versus-a-copy\n",
      "/Users/trae/.virtualenvs/talus_api/lib/python3.7/site-packages/pandas/core/frame.py:4102: SettingWithCopyWarning: \n",
      "A value is trying to be set on a copy of a slice from a DataFrame\n",
      "\n",
      "See the caveats in the documentation: http://pandas.pydata.org/pandas-docs/stable/user_guide/indexing.html#returning-a-view-versus-a-copy\n",
      "  errors=errors,\n"
     ]
    },
    {
     "name": "stdout",
     "output_type": "stream",
     "text": [
      "(28, 16)\n",
      "length: 4\n",
      "list: ['183', '0', '0', '0']\n"
     ]
    },
    {
     "name": "stderr",
     "output_type": "stream",
     "text": [
      "/Users/trae/.virtualenvs/talus_api/lib/python3.7/site-packages/ipykernel_launcher.py:34: SettingWithCopyWarning: \n",
      "A value is trying to be set on a copy of a slice from a DataFrame.\n",
      "Try using .loc[row_indexer,col_indexer] = value instead\n",
      "\n",
      "See the caveats in the documentation: http://pandas.pydata.org/pandas-docs/stable/user_guide/indexing.html#returning-a-view-versus-a-copy\n",
      "/Users/trae/.virtualenvs/talus_api/lib/python3.7/site-packages/ipykernel_launcher.py:35: SettingWithCopyWarning: \n",
      "A value is trying to be set on a copy of a slice from a DataFrame.\n",
      "Try using .loc[row_indexer,col_indexer] = value instead\n",
      "\n",
      "See the caveats in the documentation: http://pandas.pydata.org/pandas-docs/stable/user_guide/indexing.html#returning-a-view-versus-a-copy\n",
      "/Users/trae/.virtualenvs/talus_api/lib/python3.7/site-packages/pandas/core/frame.py:4102: SettingWithCopyWarning: \n",
      "A value is trying to be set on a copy of a slice from a DataFrame\n",
      "\n",
      "See the caveats in the documentation: http://pandas.pydata.org/pandas-docs/stable/user_guide/indexing.html#returning-a-view-versus-a-copy\n",
      "  errors=errors,\n"
     ]
    },
    {
     "name": "stdout",
     "output_type": "stream",
     "text": [
      "(28, 16)\n",
      "length: 4\n",
      "list: ['169', '0', '0', '0']\n"
     ]
    },
    {
     "name": "stderr",
     "output_type": "stream",
     "text": [
      "/Users/trae/.virtualenvs/talus_api/lib/python3.7/site-packages/ipykernel_launcher.py:34: SettingWithCopyWarning: \n",
      "A value is trying to be set on a copy of a slice from a DataFrame.\n",
      "Try using .loc[row_indexer,col_indexer] = value instead\n",
      "\n",
      "See the caveats in the documentation: http://pandas.pydata.org/pandas-docs/stable/user_guide/indexing.html#returning-a-view-versus-a-copy\n",
      "/Users/trae/.virtualenvs/talus_api/lib/python3.7/site-packages/ipykernel_launcher.py:35: SettingWithCopyWarning: \n",
      "A value is trying to be set on a copy of a slice from a DataFrame.\n",
      "Try using .loc[row_indexer,col_indexer] = value instead\n",
      "\n",
      "See the caveats in the documentation: http://pandas.pydata.org/pandas-docs/stable/user_guide/indexing.html#returning-a-view-versus-a-copy\n",
      "/Users/trae/.virtualenvs/talus_api/lib/python3.7/site-packages/pandas/core/frame.py:4102: SettingWithCopyWarning: \n",
      "A value is trying to be set on a copy of a slice from a DataFrame\n",
      "\n",
      "See the caveats in the documentation: http://pandas.pydata.org/pandas-docs/stable/user_guide/indexing.html#returning-a-view-versus-a-copy\n",
      "  errors=errors,\n"
     ]
    },
    {
     "name": "stdout",
     "output_type": "stream",
     "text": [
      "(28, 16)\n",
      "length: 4\n",
      "list: ['158', '0', '0', '0']\n"
     ]
    },
    {
     "name": "stderr",
     "output_type": "stream",
     "text": [
      "/Users/trae/.virtualenvs/talus_api/lib/python3.7/site-packages/ipykernel_launcher.py:34: SettingWithCopyWarning: \n",
      "A value is trying to be set on a copy of a slice from a DataFrame.\n",
      "Try using .loc[row_indexer,col_indexer] = value instead\n",
      "\n",
      "See the caveats in the documentation: http://pandas.pydata.org/pandas-docs/stable/user_guide/indexing.html#returning-a-view-versus-a-copy\n",
      "/Users/trae/.virtualenvs/talus_api/lib/python3.7/site-packages/ipykernel_launcher.py:35: SettingWithCopyWarning: \n",
      "A value is trying to be set on a copy of a slice from a DataFrame.\n",
      "Try using .loc[row_indexer,col_indexer] = value instead\n",
      "\n",
      "See the caveats in the documentation: http://pandas.pydata.org/pandas-docs/stable/user_guide/indexing.html#returning-a-view-versus-a-copy\n",
      "/Users/trae/.virtualenvs/talus_api/lib/python3.7/site-packages/pandas/core/frame.py:4102: SettingWithCopyWarning: \n",
      "A value is trying to be set on a copy of a slice from a DataFrame\n",
      "\n",
      "See the caveats in the documentation: http://pandas.pydata.org/pandas-docs/stable/user_guide/indexing.html#returning-a-view-versus-a-copy\n",
      "  errors=errors,\n"
     ]
    },
    {
     "name": "stdout",
     "output_type": "stream",
     "text": [
      "(18, 18)\n",
      "Length mismatch: Expected axis has 18 elements, new values have 16 elements\n",
      "(28, 16)\n",
      "length: 4\n",
      "list: ['126', '0', '0', '0']\n"
     ]
    },
    {
     "name": "stderr",
     "output_type": "stream",
     "text": [
      "/Users/trae/.virtualenvs/talus_api/lib/python3.7/site-packages/ipykernel_launcher.py:34: SettingWithCopyWarning: \n",
      "A value is trying to be set on a copy of a slice from a DataFrame.\n",
      "Try using .loc[row_indexer,col_indexer] = value instead\n",
      "\n",
      "See the caveats in the documentation: http://pandas.pydata.org/pandas-docs/stable/user_guide/indexing.html#returning-a-view-versus-a-copy\n",
      "/Users/trae/.virtualenvs/talus_api/lib/python3.7/site-packages/ipykernel_launcher.py:35: SettingWithCopyWarning: \n",
      "A value is trying to be set on a copy of a slice from a DataFrame.\n",
      "Try using .loc[row_indexer,col_indexer] = value instead\n",
      "\n",
      "See the caveats in the documentation: http://pandas.pydata.org/pandas-docs/stable/user_guide/indexing.html#returning-a-view-versus-a-copy\n",
      "/Users/trae/.virtualenvs/talus_api/lib/python3.7/site-packages/pandas/core/frame.py:4102: SettingWithCopyWarning: \n",
      "A value is trying to be set on a copy of a slice from a DataFrame\n",
      "\n",
      "See the caveats in the documentation: http://pandas.pydata.org/pandas-docs/stable/user_guide/indexing.html#returning-a-view-versus-a-copy\n",
      "  errors=errors,\n"
     ]
    },
    {
     "name": "stdout",
     "output_type": "stream",
     "text": [
      "(27, 16)\n",
      "length: 4\n",
      "list: ['117', '0', '0', '0']\n"
     ]
    },
    {
     "name": "stderr",
     "output_type": "stream",
     "text": [
      "/Users/trae/.virtualenvs/talus_api/lib/python3.7/site-packages/ipykernel_launcher.py:34: SettingWithCopyWarning: \n",
      "A value is trying to be set on a copy of a slice from a DataFrame.\n",
      "Try using .loc[row_indexer,col_indexer] = value instead\n",
      "\n",
      "See the caveats in the documentation: http://pandas.pydata.org/pandas-docs/stable/user_guide/indexing.html#returning-a-view-versus-a-copy\n",
      "/Users/trae/.virtualenvs/talus_api/lib/python3.7/site-packages/ipykernel_launcher.py:35: SettingWithCopyWarning: \n",
      "A value is trying to be set on a copy of a slice from a DataFrame.\n",
      "Try using .loc[row_indexer,col_indexer] = value instead\n",
      "\n",
      "See the caveats in the documentation: http://pandas.pydata.org/pandas-docs/stable/user_guide/indexing.html#returning-a-view-versus-a-copy\n",
      "/Users/trae/.virtualenvs/talus_api/lib/python3.7/site-packages/pandas/core/frame.py:4102: SettingWithCopyWarning: \n",
      "A value is trying to be set on a copy of a slice from a DataFrame\n",
      "\n",
      "See the caveats in the documentation: http://pandas.pydata.org/pandas-docs/stable/user_guide/indexing.html#returning-a-view-versus-a-copy\n",
      "  errors=errors,\n"
     ]
    },
    {
     "name": "stdout",
     "output_type": "stream",
     "text": [
      "(28, 16)\n",
      "length: 4\n",
      "list: ['105', '0', '0', '0']\n"
     ]
    },
    {
     "name": "stderr",
     "output_type": "stream",
     "text": [
      "/Users/trae/.virtualenvs/talus_api/lib/python3.7/site-packages/ipykernel_launcher.py:34: SettingWithCopyWarning: \n",
      "A value is trying to be set on a copy of a slice from a DataFrame.\n",
      "Try using .loc[row_indexer,col_indexer] = value instead\n",
      "\n",
      "See the caveats in the documentation: http://pandas.pydata.org/pandas-docs/stable/user_guide/indexing.html#returning-a-view-versus-a-copy\n",
      "/Users/trae/.virtualenvs/talus_api/lib/python3.7/site-packages/ipykernel_launcher.py:35: SettingWithCopyWarning: \n",
      "A value is trying to be set on a copy of a slice from a DataFrame.\n",
      "Try using .loc[row_indexer,col_indexer] = value instead\n",
      "\n",
      "See the caveats in the documentation: http://pandas.pydata.org/pandas-docs/stable/user_guide/indexing.html#returning-a-view-versus-a-copy\n",
      "/Users/trae/.virtualenvs/talus_api/lib/python3.7/site-packages/pandas/core/frame.py:4102: SettingWithCopyWarning: \n",
      "A value is trying to be set on a copy of a slice from a DataFrame\n",
      "\n",
      "See the caveats in the documentation: http://pandas.pydata.org/pandas-docs/stable/user_guide/indexing.html#returning-a-view-versus-a-copy\n",
      "  errors=errors,\n"
     ]
    },
    {
     "name": "stdout",
     "output_type": "stream",
     "text": [
      "(28, 16)\n",
      "length: 4\n",
      "list: ['102', '0', '0', '0']\n"
     ]
    },
    {
     "name": "stderr",
     "output_type": "stream",
     "text": [
      "/Users/trae/.virtualenvs/talus_api/lib/python3.7/site-packages/ipykernel_launcher.py:34: SettingWithCopyWarning: \n",
      "A value is trying to be set on a copy of a slice from a DataFrame.\n",
      "Try using .loc[row_indexer,col_indexer] = value instead\n",
      "\n",
      "See the caveats in the documentation: http://pandas.pydata.org/pandas-docs/stable/user_guide/indexing.html#returning-a-view-versus-a-copy\n",
      "/Users/trae/.virtualenvs/talus_api/lib/python3.7/site-packages/ipykernel_launcher.py:35: SettingWithCopyWarning: \n",
      "A value is trying to be set on a copy of a slice from a DataFrame.\n",
      "Try using .loc[row_indexer,col_indexer] = value instead\n",
      "\n",
      "See the caveats in the documentation: http://pandas.pydata.org/pandas-docs/stable/user_guide/indexing.html#returning-a-view-versus-a-copy\n",
      "/Users/trae/.virtualenvs/talus_api/lib/python3.7/site-packages/pandas/core/frame.py:4102: SettingWithCopyWarning: \n",
      "A value is trying to be set on a copy of a slice from a DataFrame\n",
      "\n",
      "See the caveats in the documentation: http://pandas.pydata.org/pandas-docs/stable/user_guide/indexing.html#returning-a-view-versus-a-copy\n",
      "  errors=errors,\n"
     ]
    },
    {
     "name": "stdout",
     "output_type": "stream",
     "text": [
      "(28, 16)\n",
      "length: 4\n",
      "list: ['92', '0', '0', '0']\n"
     ]
    },
    {
     "name": "stderr",
     "output_type": "stream",
     "text": [
      "/Users/trae/.virtualenvs/talus_api/lib/python3.7/site-packages/ipykernel_launcher.py:34: SettingWithCopyWarning: \n",
      "A value is trying to be set on a copy of a slice from a DataFrame.\n",
      "Try using .loc[row_indexer,col_indexer] = value instead\n",
      "\n",
      "See the caveats in the documentation: http://pandas.pydata.org/pandas-docs/stable/user_guide/indexing.html#returning-a-view-versus-a-copy\n",
      "/Users/trae/.virtualenvs/talus_api/lib/python3.7/site-packages/ipykernel_launcher.py:35: SettingWithCopyWarning: \n",
      "A value is trying to be set on a copy of a slice from a DataFrame.\n",
      "Try using .loc[row_indexer,col_indexer] = value instead\n",
      "\n",
      "See the caveats in the documentation: http://pandas.pydata.org/pandas-docs/stable/user_guide/indexing.html#returning-a-view-versus-a-copy\n",
      "/Users/trae/.virtualenvs/talus_api/lib/python3.7/site-packages/pandas/core/frame.py:4102: SettingWithCopyWarning: \n",
      "A value is trying to be set on a copy of a slice from a DataFrame\n",
      "\n",
      "See the caveats in the documentation: http://pandas.pydata.org/pandas-docs/stable/user_guide/indexing.html#returning-a-view-versus-a-copy\n",
      "  errors=errors,\n"
     ]
    },
    {
     "name": "stdout",
     "output_type": "stream",
     "text": [
      "(28, 16)\n",
      "length: 4\n",
      "list: ['92', '0', '0', '0']\n"
     ]
    },
    {
     "name": "stderr",
     "output_type": "stream",
     "text": [
      "/Users/trae/.virtualenvs/talus_api/lib/python3.7/site-packages/ipykernel_launcher.py:34: SettingWithCopyWarning: \n",
      "A value is trying to be set on a copy of a slice from a DataFrame.\n",
      "Try using .loc[row_indexer,col_indexer] = value instead\n",
      "\n",
      "See the caveats in the documentation: http://pandas.pydata.org/pandas-docs/stable/user_guide/indexing.html#returning-a-view-versus-a-copy\n",
      "/Users/trae/.virtualenvs/talus_api/lib/python3.7/site-packages/ipykernel_launcher.py:35: SettingWithCopyWarning: \n",
      "A value is trying to be set on a copy of a slice from a DataFrame.\n",
      "Try using .loc[row_indexer,col_indexer] = value instead\n",
      "\n",
      "See the caveats in the documentation: http://pandas.pydata.org/pandas-docs/stable/user_guide/indexing.html#returning-a-view-versus-a-copy\n",
      "/Users/trae/.virtualenvs/talus_api/lib/python3.7/site-packages/pandas/core/frame.py:4102: SettingWithCopyWarning: \n",
      "A value is trying to be set on a copy of a slice from a DataFrame\n",
      "\n",
      "See the caveats in the documentation: http://pandas.pydata.org/pandas-docs/stable/user_guide/indexing.html#returning-a-view-versus-a-copy\n",
      "  errors=errors,\n"
     ]
    },
    {
     "name": "stdout",
     "output_type": "stream",
     "text": [
      "(28, 16)\n",
      "length: 4\n",
      "list: ['92', '0', '0', '0']\n"
     ]
    },
    {
     "name": "stderr",
     "output_type": "stream",
     "text": [
      "/Users/trae/.virtualenvs/talus_api/lib/python3.7/site-packages/ipykernel_launcher.py:34: SettingWithCopyWarning: \n",
      "A value is trying to be set on a copy of a slice from a DataFrame.\n",
      "Try using .loc[row_indexer,col_indexer] = value instead\n",
      "\n",
      "See the caveats in the documentation: http://pandas.pydata.org/pandas-docs/stable/user_guide/indexing.html#returning-a-view-versus-a-copy\n",
      "/Users/trae/.virtualenvs/talus_api/lib/python3.7/site-packages/ipykernel_launcher.py:35: SettingWithCopyWarning: \n",
      "A value is trying to be set on a copy of a slice from a DataFrame.\n",
      "Try using .loc[row_indexer,col_indexer] = value instead\n",
      "\n",
      "See the caveats in the documentation: http://pandas.pydata.org/pandas-docs/stable/user_guide/indexing.html#returning-a-view-versus-a-copy\n",
      "/Users/trae/.virtualenvs/talus_api/lib/python3.7/site-packages/pandas/core/frame.py:4102: SettingWithCopyWarning: \n",
      "A value is trying to be set on a copy of a slice from a DataFrame\n",
      "\n",
      "See the caveats in the documentation: http://pandas.pydata.org/pandas-docs/stable/user_guide/indexing.html#returning-a-view-versus-a-copy\n",
      "  errors=errors,\n"
     ]
    },
    {
     "name": "stdout",
     "output_type": "stream",
     "text": [
      "(28, 16)\n",
      "length: 4\n",
      "list: ['92', '0', '0', '0']\n"
     ]
    },
    {
     "name": "stderr",
     "output_type": "stream",
     "text": [
      "/Users/trae/.virtualenvs/talus_api/lib/python3.7/site-packages/ipykernel_launcher.py:34: SettingWithCopyWarning: \n",
      "A value is trying to be set on a copy of a slice from a DataFrame.\n",
      "Try using .loc[row_indexer,col_indexer] = value instead\n",
      "\n",
      "See the caveats in the documentation: http://pandas.pydata.org/pandas-docs/stable/user_guide/indexing.html#returning-a-view-versus-a-copy\n",
      "/Users/trae/.virtualenvs/talus_api/lib/python3.7/site-packages/ipykernel_launcher.py:35: SettingWithCopyWarning: \n",
      "A value is trying to be set on a copy of a slice from a DataFrame.\n",
      "Try using .loc[row_indexer,col_indexer] = value instead\n",
      "\n",
      "See the caveats in the documentation: http://pandas.pydata.org/pandas-docs/stable/user_guide/indexing.html#returning-a-view-versus-a-copy\n",
      "/Users/trae/.virtualenvs/talus_api/lib/python3.7/site-packages/pandas/core/frame.py:4102: SettingWithCopyWarning: \n",
      "A value is trying to be set on a copy of a slice from a DataFrame\n",
      "\n",
      "See the caveats in the documentation: http://pandas.pydata.org/pandas-docs/stable/user_guide/indexing.html#returning-a-view-versus-a-copy\n",
      "  errors=errors,\n"
     ]
    },
    {
     "name": "stdout",
     "output_type": "stream",
     "text": [
      "(28, 16)\n",
      "length: 4\n",
      "list: ['73', '0', '0', '0']\n"
     ]
    },
    {
     "name": "stderr",
     "output_type": "stream",
     "text": [
      "/Users/trae/.virtualenvs/talus_api/lib/python3.7/site-packages/ipykernel_launcher.py:34: SettingWithCopyWarning: \n",
      "A value is trying to be set on a copy of a slice from a DataFrame.\n",
      "Try using .loc[row_indexer,col_indexer] = value instead\n",
      "\n",
      "See the caveats in the documentation: http://pandas.pydata.org/pandas-docs/stable/user_guide/indexing.html#returning-a-view-versus-a-copy\n",
      "/Users/trae/.virtualenvs/talus_api/lib/python3.7/site-packages/ipykernel_launcher.py:35: SettingWithCopyWarning: \n",
      "A value is trying to be set on a copy of a slice from a DataFrame.\n",
      "Try using .loc[row_indexer,col_indexer] = value instead\n",
      "\n",
      "See the caveats in the documentation: http://pandas.pydata.org/pandas-docs/stable/user_guide/indexing.html#returning-a-view-versus-a-copy\n",
      "/Users/trae/.virtualenvs/talus_api/lib/python3.7/site-packages/pandas/core/frame.py:4102: SettingWithCopyWarning: \n",
      "A value is trying to be set on a copy of a slice from a DataFrame\n",
      "\n",
      "See the caveats in the documentation: http://pandas.pydata.org/pandas-docs/stable/user_guide/indexing.html#returning-a-view-versus-a-copy\n",
      "  errors=errors,\n"
     ]
    },
    {
     "name": "stdout",
     "output_type": "stream",
     "text": [
      "(29, 17)\n",
      "length: 5\n",
      "list: ['59', '0', '0', '0', '2012-17']\n"
     ]
    },
    {
     "name": "stderr",
     "output_type": "stream",
     "text": [
      "/Users/trae/.virtualenvs/talus_api/lib/python3.7/site-packages/ipykernel_launcher.py:34: SettingWithCopyWarning: \n",
      "A value is trying to be set on a copy of a slice from a DataFrame.\n",
      "Try using .loc[row_indexer,col_indexer] = value instead\n",
      "\n",
      "See the caveats in the documentation: http://pandas.pydata.org/pandas-docs/stable/user_guide/indexing.html#returning-a-view-versus-a-copy\n",
      "/Users/trae/.virtualenvs/talus_api/lib/python3.7/site-packages/ipykernel_launcher.py:35: SettingWithCopyWarning: \n",
      "A value is trying to be set on a copy of a slice from a DataFrame.\n",
      "Try using .loc[row_indexer,col_indexer] = value instead\n",
      "\n",
      "See the caveats in the documentation: http://pandas.pydata.org/pandas-docs/stable/user_guide/indexing.html#returning-a-view-versus-a-copy\n",
      "/Users/trae/.virtualenvs/talus_api/lib/python3.7/site-packages/pandas/core/frame.py:4102: SettingWithCopyWarning: \n",
      "A value is trying to be set on a copy of a slice from a DataFrame\n",
      "\n",
      "See the caveats in the documentation: http://pandas.pydata.org/pandas-docs/stable/user_guide/indexing.html#returning-a-view-versus-a-copy\n",
      "  errors=errors,\n"
     ]
    },
    {
     "name": "stdout",
     "output_type": "stream",
     "text": [
      "(27, 18)\n",
      "Length mismatch: Expected axis has 18 elements, new values have 16 elements\n",
      "(29, 17)\n",
      "length: 5\n",
      "list: ['27', '0', '0', '0', '2012-17']\n"
     ]
    },
    {
     "name": "stderr",
     "output_type": "stream",
     "text": [
      "/Users/trae/.virtualenvs/talus_api/lib/python3.7/site-packages/ipykernel_launcher.py:34: SettingWithCopyWarning: \n",
      "A value is trying to be set on a copy of a slice from a DataFrame.\n",
      "Try using .loc[row_indexer,col_indexer] = value instead\n",
      "\n",
      "See the caveats in the documentation: http://pandas.pydata.org/pandas-docs/stable/user_guide/indexing.html#returning-a-view-versus-a-copy\n",
      "/Users/trae/.virtualenvs/talus_api/lib/python3.7/site-packages/ipykernel_launcher.py:35: SettingWithCopyWarning: \n",
      "A value is trying to be set on a copy of a slice from a DataFrame.\n",
      "Try using .loc[row_indexer,col_indexer] = value instead\n",
      "\n",
      "See the caveats in the documentation: http://pandas.pydata.org/pandas-docs/stable/user_guide/indexing.html#returning-a-view-versus-a-copy\n",
      "/Users/trae/.virtualenvs/talus_api/lib/python3.7/site-packages/pandas/core/frame.py:4102: SettingWithCopyWarning: \n",
      "A value is trying to be set on a copy of a slice from a DataFrame\n",
      "\n",
      "See the caveats in the documentation: http://pandas.pydata.org/pandas-docs/stable/user_guide/indexing.html#returning-a-view-versus-a-copy\n",
      "  errors=errors,\n"
     ]
    },
    {
     "name": "stdout",
     "output_type": "stream",
     "text": [
      "(29, 17)\n",
      "length: 5\n",
      "list: ['27', '0', '0', '0', '2012-17']\n"
     ]
    },
    {
     "name": "stderr",
     "output_type": "stream",
     "text": [
      "/Users/trae/.virtualenvs/talus_api/lib/python3.7/site-packages/ipykernel_launcher.py:34: SettingWithCopyWarning: \n",
      "A value is trying to be set on a copy of a slice from a DataFrame.\n",
      "Try using .loc[row_indexer,col_indexer] = value instead\n",
      "\n",
      "See the caveats in the documentation: http://pandas.pydata.org/pandas-docs/stable/user_guide/indexing.html#returning-a-view-versus-a-copy\n",
      "/Users/trae/.virtualenvs/talus_api/lib/python3.7/site-packages/ipykernel_launcher.py:35: SettingWithCopyWarning: \n",
      "A value is trying to be set on a copy of a slice from a DataFrame.\n",
      "Try using .loc[row_indexer,col_indexer] = value instead\n",
      "\n",
      "See the caveats in the documentation: http://pandas.pydata.org/pandas-docs/stable/user_guide/indexing.html#returning-a-view-versus-a-copy\n",
      "/Users/trae/.virtualenvs/talus_api/lib/python3.7/site-packages/pandas/core/frame.py:4102: SettingWithCopyWarning: \n",
      "A value is trying to be set on a copy of a slice from a DataFrame\n",
      "\n",
      "See the caveats in the documentation: http://pandas.pydata.org/pandas-docs/stable/user_guide/indexing.html#returning-a-view-versus-a-copy\n",
      "  errors=errors,\n"
     ]
    },
    {
     "name": "stdout",
     "output_type": "stream",
     "text": [
      "(29, 17)\n",
      "length: 5\n",
      "list: ['27', '0', '0', '0', '2012-17']\n"
     ]
    },
    {
     "name": "stderr",
     "output_type": "stream",
     "text": [
      "/Users/trae/.virtualenvs/talus_api/lib/python3.7/site-packages/ipykernel_launcher.py:34: SettingWithCopyWarning: \n",
      "A value is trying to be set on a copy of a slice from a DataFrame.\n",
      "Try using .loc[row_indexer,col_indexer] = value instead\n",
      "\n",
      "See the caveats in the documentation: http://pandas.pydata.org/pandas-docs/stable/user_guide/indexing.html#returning-a-view-versus-a-copy\n",
      "/Users/trae/.virtualenvs/talus_api/lib/python3.7/site-packages/ipykernel_launcher.py:35: SettingWithCopyWarning: \n",
      "A value is trying to be set on a copy of a slice from a DataFrame.\n",
      "Try using .loc[row_indexer,col_indexer] = value instead\n",
      "\n",
      "See the caveats in the documentation: http://pandas.pydata.org/pandas-docs/stable/user_guide/indexing.html#returning-a-view-versus-a-copy\n",
      "/Users/trae/.virtualenvs/talus_api/lib/python3.7/site-packages/pandas/core/frame.py:4102: SettingWithCopyWarning: \n",
      "A value is trying to be set on a copy of a slice from a DataFrame\n",
      "\n",
      "See the caveats in the documentation: http://pandas.pydata.org/pandas-docs/stable/user_guide/indexing.html#returning-a-view-versus-a-copy\n",
      "  errors=errors,\n"
     ]
    },
    {
     "name": "stdout",
     "output_type": "stream",
     "text": [
      "(29, 17)\n",
      "length: 5\n",
      "list: ['9', '0', '0', '0', '2012-17']\n"
     ]
    },
    {
     "name": "stderr",
     "output_type": "stream",
     "text": [
      "/Users/trae/.virtualenvs/talus_api/lib/python3.7/site-packages/ipykernel_launcher.py:34: SettingWithCopyWarning: \n",
      "A value is trying to be set on a copy of a slice from a DataFrame.\n",
      "Try using .loc[row_indexer,col_indexer] = value instead\n",
      "\n",
      "See the caveats in the documentation: http://pandas.pydata.org/pandas-docs/stable/user_guide/indexing.html#returning-a-view-versus-a-copy\n",
      "/Users/trae/.virtualenvs/talus_api/lib/python3.7/site-packages/ipykernel_launcher.py:35: SettingWithCopyWarning: \n",
      "A value is trying to be set on a copy of a slice from a DataFrame.\n",
      "Try using .loc[row_indexer,col_indexer] = value instead\n",
      "\n",
      "See the caveats in the documentation: http://pandas.pydata.org/pandas-docs/stable/user_guide/indexing.html#returning-a-view-versus-a-copy\n",
      "/Users/trae/.virtualenvs/talus_api/lib/python3.7/site-packages/pandas/core/frame.py:4102: SettingWithCopyWarning: \n",
      "A value is trying to be set on a copy of a slice from a DataFrame\n",
      "\n",
      "See the caveats in the documentation: http://pandas.pydata.org/pandas-docs/stable/user_guide/indexing.html#returning-a-view-versus-a-copy\n",
      "  errors=errors,\n"
     ]
    },
    {
     "name": "stdout",
     "output_type": "stream",
     "text": [
      "(28, 17)\n",
      "length: 5\n",
      "list: ['5', '0', '0', '0', '2012-17']\n"
     ]
    },
    {
     "name": "stderr",
     "output_type": "stream",
     "text": [
      "/Users/trae/.virtualenvs/talus_api/lib/python3.7/site-packages/ipykernel_launcher.py:34: SettingWithCopyWarning: \n",
      "A value is trying to be set on a copy of a slice from a DataFrame.\n",
      "Try using .loc[row_indexer,col_indexer] = value instead\n",
      "\n",
      "See the caveats in the documentation: http://pandas.pydata.org/pandas-docs/stable/user_guide/indexing.html#returning-a-view-versus-a-copy\n",
      "/Users/trae/.virtualenvs/talus_api/lib/python3.7/site-packages/ipykernel_launcher.py:35: SettingWithCopyWarning: \n",
      "A value is trying to be set on a copy of a slice from a DataFrame.\n",
      "Try using .loc[row_indexer,col_indexer] = value instead\n",
      "\n",
      "See the caveats in the documentation: http://pandas.pydata.org/pandas-docs/stable/user_guide/indexing.html#returning-a-view-versus-a-copy\n",
      "/Users/trae/.virtualenvs/talus_api/lib/python3.7/site-packages/pandas/core/frame.py:4102: SettingWithCopyWarning: \n",
      "A value is trying to be set on a copy of a slice from a DataFrame\n",
      "\n",
      "See the caveats in the documentation: http://pandas.pydata.org/pandas-docs/stable/user_guide/indexing.html#returning-a-view-versus-a-copy\n",
      "  errors=errors,\n"
     ]
    },
    {
     "name": "stdout",
     "output_type": "stream",
     "text": [
      "(28, 17)\n",
      "length: 5\n",
      "list: ['5', '0', '0', '0', '2012-17']\n"
     ]
    },
    {
     "name": "stderr",
     "output_type": "stream",
     "text": [
      "/Users/trae/.virtualenvs/talus_api/lib/python3.7/site-packages/ipykernel_launcher.py:34: SettingWithCopyWarning: \n",
      "A value is trying to be set on a copy of a slice from a DataFrame.\n",
      "Try using .loc[row_indexer,col_indexer] = value instead\n",
      "\n",
      "See the caveats in the documentation: http://pandas.pydata.org/pandas-docs/stable/user_guide/indexing.html#returning-a-view-versus-a-copy\n",
      "/Users/trae/.virtualenvs/talus_api/lib/python3.7/site-packages/ipykernel_launcher.py:35: SettingWithCopyWarning: \n",
      "A value is trying to be set on a copy of a slice from a DataFrame.\n",
      "Try using .loc[row_indexer,col_indexer] = value instead\n",
      "\n",
      "See the caveats in the documentation: http://pandas.pydata.org/pandas-docs/stable/user_guide/indexing.html#returning-a-view-versus-a-copy\n",
      "/Users/trae/.virtualenvs/talus_api/lib/python3.7/site-packages/pandas/core/frame.py:4102: SettingWithCopyWarning: \n",
      "A value is trying to be set on a copy of a slice from a DataFrame\n",
      "\n",
      "See the caveats in the documentation: http://pandas.pydata.org/pandas-docs/stable/user_guide/indexing.html#returning-a-view-versus-a-copy\n",
      "  errors=errors,\n"
     ]
    },
    {
     "name": "stdout",
     "output_type": "stream",
     "text": [
      "(28, 17)\n",
      "length: 5\n",
      "list: ['0', '0', '0', '0', '2012-17']\n"
     ]
    },
    {
     "name": "stderr",
     "output_type": "stream",
     "text": [
      "/Users/trae/.virtualenvs/talus_api/lib/python3.7/site-packages/ipykernel_launcher.py:34: SettingWithCopyWarning: \n",
      "A value is trying to be set on a copy of a slice from a DataFrame.\n",
      "Try using .loc[row_indexer,col_indexer] = value instead\n",
      "\n",
      "See the caveats in the documentation: http://pandas.pydata.org/pandas-docs/stable/user_guide/indexing.html#returning-a-view-versus-a-copy\n",
      "/Users/trae/.virtualenvs/talus_api/lib/python3.7/site-packages/ipykernel_launcher.py:35: SettingWithCopyWarning: \n",
      "A value is trying to be set on a copy of a slice from a DataFrame.\n",
      "Try using .loc[row_indexer,col_indexer] = value instead\n",
      "\n",
      "See the caveats in the documentation: http://pandas.pydata.org/pandas-docs/stable/user_guide/indexing.html#returning-a-view-versus-a-copy\n",
      "/Users/trae/.virtualenvs/talus_api/lib/python3.7/site-packages/pandas/core/frame.py:4102: SettingWithCopyWarning: \n",
      "A value is trying to be set on a copy of a slice from a DataFrame\n",
      "\n",
      "See the caveats in the documentation: http://pandas.pydata.org/pandas-docs/stable/user_guide/indexing.html#returning-a-view-versus-a-copy\n",
      "  errors=errors,\n"
     ]
    },
    {
     "name": "stdout",
     "output_type": "stream",
     "text": [
      "(28, 17)\n",
      "length: 5\n",
      "list: ['0', '0', '0', '0', '2012-17']\n"
     ]
    },
    {
     "name": "stderr",
     "output_type": "stream",
     "text": [
      "/Users/trae/.virtualenvs/talus_api/lib/python3.7/site-packages/ipykernel_launcher.py:34: SettingWithCopyWarning: \n",
      "A value is trying to be set on a copy of a slice from a DataFrame.\n",
      "Try using .loc[row_indexer,col_indexer] = value instead\n",
      "\n",
      "See the caveats in the documentation: http://pandas.pydata.org/pandas-docs/stable/user_guide/indexing.html#returning-a-view-versus-a-copy\n",
      "/Users/trae/.virtualenvs/talus_api/lib/python3.7/site-packages/ipykernel_launcher.py:35: SettingWithCopyWarning: \n",
      "A value is trying to be set on a copy of a slice from a DataFrame.\n",
      "Try using .loc[row_indexer,col_indexer] = value instead\n",
      "\n",
      "See the caveats in the documentation: http://pandas.pydata.org/pandas-docs/stable/user_guide/indexing.html#returning-a-view-versus-a-copy\n",
      "/Users/trae/.virtualenvs/talus_api/lib/python3.7/site-packages/pandas/core/frame.py:4102: SettingWithCopyWarning: \n",
      "A value is trying to be set on a copy of a slice from a DataFrame\n",
      "\n",
      "See the caveats in the documentation: http://pandas.pydata.org/pandas-docs/stable/user_guide/indexing.html#returning-a-view-versus-a-copy\n",
      "  errors=errors,\n"
     ]
    },
    {
     "name": "stdout",
     "output_type": "stream",
     "text": [
      "(28, 16)\n",
      "length: 4\n",
      "list: ['620', '0', '0', '0']\n"
     ]
    },
    {
     "name": "stderr",
     "output_type": "stream",
     "text": [
      "/Users/trae/.virtualenvs/talus_api/lib/python3.7/site-packages/ipykernel_launcher.py:34: SettingWithCopyWarning: \n",
      "A value is trying to be set on a copy of a slice from a DataFrame.\n",
      "Try using .loc[row_indexer,col_indexer] = value instead\n",
      "\n",
      "See the caveats in the documentation: http://pandas.pydata.org/pandas-docs/stable/user_guide/indexing.html#returning-a-view-versus-a-copy\n",
      "/Users/trae/.virtualenvs/talus_api/lib/python3.7/site-packages/ipykernel_launcher.py:35: SettingWithCopyWarning: \n",
      "A value is trying to be set on a copy of a slice from a DataFrame.\n",
      "Try using .loc[row_indexer,col_indexer] = value instead\n",
      "\n",
      "See the caveats in the documentation: http://pandas.pydata.org/pandas-docs/stable/user_guide/indexing.html#returning-a-view-versus-a-copy\n",
      "/Users/trae/.virtualenvs/talus_api/lib/python3.7/site-packages/pandas/core/frame.py:4102: SettingWithCopyWarning: \n",
      "A value is trying to be set on a copy of a slice from a DataFrame\n",
      "\n",
      "See the caveats in the documentation: http://pandas.pydata.org/pandas-docs/stable/user_guide/indexing.html#returning-a-view-versus-a-copy\n",
      "  errors=errors,\n"
     ]
    },
    {
     "name": "stdout",
     "output_type": "stream",
     "text": [
      "(28, 16)\n",
      "length: 4\n",
      "list: ['596', '0', '0', '0']\n"
     ]
    },
    {
     "name": "stderr",
     "output_type": "stream",
     "text": [
      "/Users/trae/.virtualenvs/talus_api/lib/python3.7/site-packages/ipykernel_launcher.py:34: SettingWithCopyWarning: \n",
      "A value is trying to be set on a copy of a slice from a DataFrame.\n",
      "Try using .loc[row_indexer,col_indexer] = value instead\n",
      "\n",
      "See the caveats in the documentation: http://pandas.pydata.org/pandas-docs/stable/user_guide/indexing.html#returning-a-view-versus-a-copy\n",
      "/Users/trae/.virtualenvs/talus_api/lib/python3.7/site-packages/ipykernel_launcher.py:35: SettingWithCopyWarning: \n",
      "A value is trying to be set on a copy of a slice from a DataFrame.\n",
      "Try using .loc[row_indexer,col_indexer] = value instead\n",
      "\n",
      "See the caveats in the documentation: http://pandas.pydata.org/pandas-docs/stable/user_guide/indexing.html#returning-a-view-versus-a-copy\n",
      "/Users/trae/.virtualenvs/talus_api/lib/python3.7/site-packages/pandas/core/frame.py:4102: SettingWithCopyWarning: \n",
      "A value is trying to be set on a copy of a slice from a DataFrame\n",
      "\n",
      "See the caveats in the documentation: http://pandas.pydata.org/pandas-docs/stable/user_guide/indexing.html#returning-a-view-versus-a-copy\n",
      "  errors=errors,\n"
     ]
    },
    {
     "name": "stdout",
     "output_type": "stream",
     "text": [
      "(28, 16)\n",
      "length: 4\n",
      "list: ['564', '0', '0', '0']\n"
     ]
    },
    {
     "name": "stderr",
     "output_type": "stream",
     "text": [
      "/Users/trae/.virtualenvs/talus_api/lib/python3.7/site-packages/ipykernel_launcher.py:34: SettingWithCopyWarning: \n",
      "A value is trying to be set on a copy of a slice from a DataFrame.\n",
      "Try using .loc[row_indexer,col_indexer] = value instead\n",
      "\n",
      "See the caveats in the documentation: http://pandas.pydata.org/pandas-docs/stable/user_guide/indexing.html#returning-a-view-versus-a-copy\n",
      "/Users/trae/.virtualenvs/talus_api/lib/python3.7/site-packages/ipykernel_launcher.py:35: SettingWithCopyWarning: \n",
      "A value is trying to be set on a copy of a slice from a DataFrame.\n",
      "Try using .loc[row_indexer,col_indexer] = value instead\n",
      "\n",
      "See the caveats in the documentation: http://pandas.pydata.org/pandas-docs/stable/user_guide/indexing.html#returning-a-view-versus-a-copy\n",
      "/Users/trae/.virtualenvs/talus_api/lib/python3.7/site-packages/pandas/core/frame.py:4102: SettingWithCopyWarning: \n",
      "A value is trying to be set on a copy of a slice from a DataFrame\n",
      "\n",
      "See the caveats in the documentation: http://pandas.pydata.org/pandas-docs/stable/user_guide/indexing.html#returning-a-view-versus-a-copy\n",
      "  errors=errors,\n"
     ]
    },
    {
     "name": "stdout",
     "output_type": "stream",
     "text": [
      "(28, 16)\n",
      "length: 4\n",
      "list: ['564', '0', '0', '0']\n"
     ]
    },
    {
     "name": "stderr",
     "output_type": "stream",
     "text": [
      "/Users/trae/.virtualenvs/talus_api/lib/python3.7/site-packages/ipykernel_launcher.py:34: SettingWithCopyWarning: \n",
      "A value is trying to be set on a copy of a slice from a DataFrame.\n",
      "Try using .loc[row_indexer,col_indexer] = value instead\n",
      "\n",
      "See the caveats in the documentation: http://pandas.pydata.org/pandas-docs/stable/user_guide/indexing.html#returning-a-view-versus-a-copy\n",
      "/Users/trae/.virtualenvs/talus_api/lib/python3.7/site-packages/ipykernel_launcher.py:35: SettingWithCopyWarning: \n",
      "A value is trying to be set on a copy of a slice from a DataFrame.\n",
      "Try using .loc[row_indexer,col_indexer] = value instead\n",
      "\n",
      "See the caveats in the documentation: http://pandas.pydata.org/pandas-docs/stable/user_guide/indexing.html#returning-a-view-versus-a-copy\n",
      "/Users/trae/.virtualenvs/talus_api/lib/python3.7/site-packages/pandas/core/frame.py:4102: SettingWithCopyWarning: \n",
      "A value is trying to be set on a copy of a slice from a DataFrame\n",
      "\n",
      "See the caveats in the documentation: http://pandas.pydata.org/pandas-docs/stable/user_guide/indexing.html#returning-a-view-versus-a-copy\n",
      "  errors=errors,\n"
     ]
    },
    {
     "name": "stdout",
     "output_type": "stream",
     "text": [
      "(28, 16)\n",
      "length: 4\n",
      "list: ['535', '0', '0', '0']\n"
     ]
    },
    {
     "name": "stderr",
     "output_type": "stream",
     "text": [
      "/Users/trae/.virtualenvs/talus_api/lib/python3.7/site-packages/ipykernel_launcher.py:34: SettingWithCopyWarning: \n",
      "A value is trying to be set on a copy of a slice from a DataFrame.\n",
      "Try using .loc[row_indexer,col_indexer] = value instead\n",
      "\n",
      "See the caveats in the documentation: http://pandas.pydata.org/pandas-docs/stable/user_guide/indexing.html#returning-a-view-versus-a-copy\n",
      "/Users/trae/.virtualenvs/talus_api/lib/python3.7/site-packages/ipykernel_launcher.py:35: SettingWithCopyWarning: \n",
      "A value is trying to be set on a copy of a slice from a DataFrame.\n",
      "Try using .loc[row_indexer,col_indexer] = value instead\n",
      "\n",
      "See the caveats in the documentation: http://pandas.pydata.org/pandas-docs/stable/user_guide/indexing.html#returning-a-view-versus-a-copy\n",
      "/Users/trae/.virtualenvs/talus_api/lib/python3.7/site-packages/pandas/core/frame.py:4102: SettingWithCopyWarning: \n",
      "A value is trying to be set on a copy of a slice from a DataFrame\n",
      "\n",
      "See the caveats in the documentation: http://pandas.pydata.org/pandas-docs/stable/user_guide/indexing.html#returning-a-view-versus-a-copy\n",
      "  errors=errors,\n"
     ]
    },
    {
     "name": "stdout",
     "output_type": "stream",
     "text": [
      "(28, 16)\n",
      "length: 4\n",
      "list: ['495', '0', '0', '0']\n"
     ]
    },
    {
     "name": "stderr",
     "output_type": "stream",
     "text": [
      "/Users/trae/.virtualenvs/talus_api/lib/python3.7/site-packages/ipykernel_launcher.py:34: SettingWithCopyWarning: \n",
      "A value is trying to be set on a copy of a slice from a DataFrame.\n",
      "Try using .loc[row_indexer,col_indexer] = value instead\n",
      "\n",
      "See the caveats in the documentation: http://pandas.pydata.org/pandas-docs/stable/user_guide/indexing.html#returning-a-view-versus-a-copy\n",
      "/Users/trae/.virtualenvs/talus_api/lib/python3.7/site-packages/ipykernel_launcher.py:35: SettingWithCopyWarning: \n",
      "A value is trying to be set on a copy of a slice from a DataFrame.\n",
      "Try using .loc[row_indexer,col_indexer] = value instead\n",
      "\n",
      "See the caveats in the documentation: http://pandas.pydata.org/pandas-docs/stable/user_guide/indexing.html#returning-a-view-versus-a-copy\n",
      "/Users/trae/.virtualenvs/talus_api/lib/python3.7/site-packages/pandas/core/frame.py:4102: SettingWithCopyWarning: \n",
      "A value is trying to be set on a copy of a slice from a DataFrame\n",
      "\n",
      "See the caveats in the documentation: http://pandas.pydata.org/pandas-docs/stable/user_guide/indexing.html#returning-a-view-versus-a-copy\n",
      "  errors=errors,\n"
     ]
    },
    {
     "name": "stdout",
     "output_type": "stream",
     "text": [
      "(28, 16)\n",
      "length: 4\n",
      "list: ['416', '0', '0', '0']\n"
     ]
    },
    {
     "name": "stderr",
     "output_type": "stream",
     "text": [
      "/Users/trae/.virtualenvs/talus_api/lib/python3.7/site-packages/ipykernel_launcher.py:34: SettingWithCopyWarning: \n",
      "A value is trying to be set on a copy of a slice from a DataFrame.\n",
      "Try using .loc[row_indexer,col_indexer] = value instead\n",
      "\n",
      "See the caveats in the documentation: http://pandas.pydata.org/pandas-docs/stable/user_guide/indexing.html#returning-a-view-versus-a-copy\n",
      "/Users/trae/.virtualenvs/talus_api/lib/python3.7/site-packages/ipykernel_launcher.py:35: SettingWithCopyWarning: \n",
      "A value is trying to be set on a copy of a slice from a DataFrame.\n",
      "Try using .loc[row_indexer,col_indexer] = value instead\n",
      "\n",
      "See the caveats in the documentation: http://pandas.pydata.org/pandas-docs/stable/user_guide/indexing.html#returning-a-view-versus-a-copy\n",
      "/Users/trae/.virtualenvs/talus_api/lib/python3.7/site-packages/pandas/core/frame.py:4102: SettingWithCopyWarning: \n",
      "A value is trying to be set on a copy of a slice from a DataFrame\n",
      "\n",
      "See the caveats in the documentation: http://pandas.pydata.org/pandas-docs/stable/user_guide/indexing.html#returning-a-view-versus-a-copy\n",
      "  errors=errors,\n"
     ]
    },
    {
     "name": "stdout",
     "output_type": "stream",
     "text": [
      "(28, 16)\n",
      "length: 4\n",
      "list: ['416', '0', '0', '0']\n"
     ]
    },
    {
     "name": "stderr",
     "output_type": "stream",
     "text": [
      "/Users/trae/.virtualenvs/talus_api/lib/python3.7/site-packages/ipykernel_launcher.py:34: SettingWithCopyWarning: \n",
      "A value is trying to be set on a copy of a slice from a DataFrame.\n",
      "Try using .loc[row_indexer,col_indexer] = value instead\n",
      "\n",
      "See the caveats in the documentation: http://pandas.pydata.org/pandas-docs/stable/user_guide/indexing.html#returning-a-view-versus-a-copy\n",
      "/Users/trae/.virtualenvs/talus_api/lib/python3.7/site-packages/ipykernel_launcher.py:35: SettingWithCopyWarning: \n",
      "A value is trying to be set on a copy of a slice from a DataFrame.\n",
      "Try using .loc[row_indexer,col_indexer] = value instead\n",
      "\n",
      "See the caveats in the documentation: http://pandas.pydata.org/pandas-docs/stable/user_guide/indexing.html#returning-a-view-versus-a-copy\n",
      "/Users/trae/.virtualenvs/talus_api/lib/python3.7/site-packages/pandas/core/frame.py:4102: SettingWithCopyWarning: \n",
      "A value is trying to be set on a copy of a slice from a DataFrame\n",
      "\n",
      "See the caveats in the documentation: http://pandas.pydata.org/pandas-docs/stable/user_guide/indexing.html#returning-a-view-versus-a-copy\n",
      "  errors=errors,\n"
     ]
    },
    {
     "name": "stdout",
     "output_type": "stream",
     "text": [
      "(28, 17)\n",
      "index 0 is out of bounds for axis 0 with size 0\n",
      "(28, 17)\n",
      "index 0 is out of bounds for axis 0 with size 0\n",
      "(29, 16)\n",
      "length: 4\n",
      "list: ['348', '0', '0', '0']\n"
     ]
    },
    {
     "name": "stderr",
     "output_type": "stream",
     "text": [
      "/Users/trae/.virtualenvs/talus_api/lib/python3.7/site-packages/ipykernel_launcher.py:34: SettingWithCopyWarning: \n",
      "A value is trying to be set on a copy of a slice from a DataFrame.\n",
      "Try using .loc[row_indexer,col_indexer] = value instead\n",
      "\n",
      "See the caveats in the documentation: http://pandas.pydata.org/pandas-docs/stable/user_guide/indexing.html#returning-a-view-versus-a-copy\n",
      "/Users/trae/.virtualenvs/talus_api/lib/python3.7/site-packages/ipykernel_launcher.py:35: SettingWithCopyWarning: \n",
      "A value is trying to be set on a copy of a slice from a DataFrame.\n",
      "Try using .loc[row_indexer,col_indexer] = value instead\n",
      "\n",
      "See the caveats in the documentation: http://pandas.pydata.org/pandas-docs/stable/user_guide/indexing.html#returning-a-view-versus-a-copy\n",
      "/Users/trae/.virtualenvs/talus_api/lib/python3.7/site-packages/pandas/core/frame.py:4102: SettingWithCopyWarning: \n",
      "A value is trying to be set on a copy of a slice from a DataFrame\n",
      "\n",
      "See the caveats in the documentation: http://pandas.pydata.org/pandas-docs/stable/user_guide/indexing.html#returning-a-view-versus-a-copy\n",
      "  errors=errors,\n"
     ]
    },
    {
     "name": "stdout",
     "output_type": "stream",
     "text": [
      "(28, 16)\n",
      "length: 4\n",
      "list: ['338', '0', '0', '0']\n"
     ]
    },
    {
     "name": "stderr",
     "output_type": "stream",
     "text": [
      "/Users/trae/.virtualenvs/talus_api/lib/python3.7/site-packages/ipykernel_launcher.py:34: SettingWithCopyWarning: \n",
      "A value is trying to be set on a copy of a slice from a DataFrame.\n",
      "Try using .loc[row_indexer,col_indexer] = value instead\n",
      "\n",
      "See the caveats in the documentation: http://pandas.pydata.org/pandas-docs/stable/user_guide/indexing.html#returning-a-view-versus-a-copy\n",
      "/Users/trae/.virtualenvs/talus_api/lib/python3.7/site-packages/ipykernel_launcher.py:35: SettingWithCopyWarning: \n",
      "A value is trying to be set on a copy of a slice from a DataFrame.\n",
      "Try using .loc[row_indexer,col_indexer] = value instead\n",
      "\n",
      "See the caveats in the documentation: http://pandas.pydata.org/pandas-docs/stable/user_guide/indexing.html#returning-a-view-versus-a-copy\n",
      "/Users/trae/.virtualenvs/talus_api/lib/python3.7/site-packages/pandas/core/frame.py:4102: SettingWithCopyWarning: \n",
      "A value is trying to be set on a copy of a slice from a DataFrame\n",
      "\n",
      "See the caveats in the documentation: http://pandas.pydata.org/pandas-docs/stable/user_guide/indexing.html#returning-a-view-versus-a-copy\n",
      "  errors=errors,\n"
     ]
    },
    {
     "name": "stdout",
     "output_type": "stream",
     "text": [
      "(27, 16)\n",
      "length: 4\n",
      "list: ['324', '0', '0', '0']\n"
     ]
    },
    {
     "name": "stderr",
     "output_type": "stream",
     "text": [
      "/Users/trae/.virtualenvs/talus_api/lib/python3.7/site-packages/ipykernel_launcher.py:34: SettingWithCopyWarning: \n",
      "A value is trying to be set on a copy of a slice from a DataFrame.\n",
      "Try using .loc[row_indexer,col_indexer] = value instead\n",
      "\n",
      "See the caveats in the documentation: http://pandas.pydata.org/pandas-docs/stable/user_guide/indexing.html#returning-a-view-versus-a-copy\n",
      "/Users/trae/.virtualenvs/talus_api/lib/python3.7/site-packages/ipykernel_launcher.py:35: SettingWithCopyWarning: \n",
      "A value is trying to be set on a copy of a slice from a DataFrame.\n",
      "Try using .loc[row_indexer,col_indexer] = value instead\n",
      "\n",
      "See the caveats in the documentation: http://pandas.pydata.org/pandas-docs/stable/user_guide/indexing.html#returning-a-view-versus-a-copy\n",
      "/Users/trae/.virtualenvs/talus_api/lib/python3.7/site-packages/pandas/core/frame.py:4102: SettingWithCopyWarning: \n",
      "A value is trying to be set on a copy of a slice from a DataFrame\n",
      "\n",
      "See the caveats in the documentation: http://pandas.pydata.org/pandas-docs/stable/user_guide/indexing.html#returning-a-view-versus-a-copy\n",
      "  errors=errors,\n"
     ]
    },
    {
     "name": "stdout",
     "output_type": "stream",
     "text": [
      "(27, 16)\n",
      "length: 4\n",
      "list: ['320', '0', '0', '0']\n"
     ]
    },
    {
     "name": "stderr",
     "output_type": "stream",
     "text": [
      "/Users/trae/.virtualenvs/talus_api/lib/python3.7/site-packages/ipykernel_launcher.py:34: SettingWithCopyWarning: \n",
      "A value is trying to be set on a copy of a slice from a DataFrame.\n",
      "Try using .loc[row_indexer,col_indexer] = value instead\n",
      "\n",
      "See the caveats in the documentation: http://pandas.pydata.org/pandas-docs/stable/user_guide/indexing.html#returning-a-view-versus-a-copy\n",
      "/Users/trae/.virtualenvs/talus_api/lib/python3.7/site-packages/ipykernel_launcher.py:35: SettingWithCopyWarning: \n",
      "A value is trying to be set on a copy of a slice from a DataFrame.\n",
      "Try using .loc[row_indexer,col_indexer] = value instead\n",
      "\n",
      "See the caveats in the documentation: http://pandas.pydata.org/pandas-docs/stable/user_guide/indexing.html#returning-a-view-versus-a-copy\n",
      "/Users/trae/.virtualenvs/talus_api/lib/python3.7/site-packages/pandas/core/frame.py:4102: SettingWithCopyWarning: \n",
      "A value is trying to be set on a copy of a slice from a DataFrame\n",
      "\n",
      "See the caveats in the documentation: http://pandas.pydata.org/pandas-docs/stable/user_guide/indexing.html#returning-a-view-versus-a-copy\n",
      "  errors=errors,\n"
     ]
    },
    {
     "name": "stdout",
     "output_type": "stream",
     "text": [
      "(29, 18)\n",
      "Length mismatch: Expected axis has 18 elements, new values have 16 elements\n",
      "(29, 16)\n",
      "length: 4\n",
      "list: ['251', '0', '0', '0']\n"
     ]
    },
    {
     "name": "stderr",
     "output_type": "stream",
     "text": [
      "/Users/trae/.virtualenvs/talus_api/lib/python3.7/site-packages/ipykernel_launcher.py:34: SettingWithCopyWarning: \n",
      "A value is trying to be set on a copy of a slice from a DataFrame.\n",
      "Try using .loc[row_indexer,col_indexer] = value instead\n",
      "\n",
      "See the caveats in the documentation: http://pandas.pydata.org/pandas-docs/stable/user_guide/indexing.html#returning-a-view-versus-a-copy\n",
      "/Users/trae/.virtualenvs/talus_api/lib/python3.7/site-packages/ipykernel_launcher.py:35: SettingWithCopyWarning: \n",
      "A value is trying to be set on a copy of a slice from a DataFrame.\n",
      "Try using .loc[row_indexer,col_indexer] = value instead\n",
      "\n",
      "See the caveats in the documentation: http://pandas.pydata.org/pandas-docs/stable/user_guide/indexing.html#returning-a-view-versus-a-copy\n",
      "/Users/trae/.virtualenvs/talus_api/lib/python3.7/site-packages/pandas/core/frame.py:4102: SettingWithCopyWarning: \n",
      "A value is trying to be set on a copy of a slice from a DataFrame\n",
      "\n",
      "See the caveats in the documentation: http://pandas.pydata.org/pandas-docs/stable/user_guide/indexing.html#returning-a-view-versus-a-copy\n",
      "  errors=errors,\n"
     ]
    },
    {
     "name": "stdout",
     "output_type": "stream",
     "text": [
      "(29, 16)\n",
      "length: 4\n",
      "list: ['249', '0', '0', '0']\n"
     ]
    },
    {
     "name": "stderr",
     "output_type": "stream",
     "text": [
      "/Users/trae/.virtualenvs/talus_api/lib/python3.7/site-packages/ipykernel_launcher.py:34: SettingWithCopyWarning: \n",
      "A value is trying to be set on a copy of a slice from a DataFrame.\n",
      "Try using .loc[row_indexer,col_indexer] = value instead\n",
      "\n",
      "See the caveats in the documentation: http://pandas.pydata.org/pandas-docs/stable/user_guide/indexing.html#returning-a-view-versus-a-copy\n",
      "/Users/trae/.virtualenvs/talus_api/lib/python3.7/site-packages/ipykernel_launcher.py:35: SettingWithCopyWarning: \n",
      "A value is trying to be set on a copy of a slice from a DataFrame.\n",
      "Try using .loc[row_indexer,col_indexer] = value instead\n",
      "\n",
      "See the caveats in the documentation: http://pandas.pydata.org/pandas-docs/stable/user_guide/indexing.html#returning-a-view-versus-a-copy\n",
      "/Users/trae/.virtualenvs/talus_api/lib/python3.7/site-packages/pandas/core/frame.py:4102: SettingWithCopyWarning: \n",
      "A value is trying to be set on a copy of a slice from a DataFrame\n",
      "\n",
      "See the caveats in the documentation: http://pandas.pydata.org/pandas-docs/stable/user_guide/indexing.html#returning-a-view-versus-a-copy\n",
      "  errors=errors,\n"
     ]
    },
    {
     "name": "stdout",
     "output_type": "stream",
     "text": [
      "(29, 16)\n",
      "length: 4\n",
      "list: ['245', '0', '0', '0']\n"
     ]
    },
    {
     "name": "stderr",
     "output_type": "stream",
     "text": [
      "/Users/trae/.virtualenvs/talus_api/lib/python3.7/site-packages/ipykernel_launcher.py:34: SettingWithCopyWarning: \n",
      "A value is trying to be set on a copy of a slice from a DataFrame.\n",
      "Try using .loc[row_indexer,col_indexer] = value instead\n",
      "\n",
      "See the caveats in the documentation: http://pandas.pydata.org/pandas-docs/stable/user_guide/indexing.html#returning-a-view-versus-a-copy\n",
      "/Users/trae/.virtualenvs/talus_api/lib/python3.7/site-packages/ipykernel_launcher.py:35: SettingWithCopyWarning: \n",
      "A value is trying to be set on a copy of a slice from a DataFrame.\n",
      "Try using .loc[row_indexer,col_indexer] = value instead\n",
      "\n",
      "See the caveats in the documentation: http://pandas.pydata.org/pandas-docs/stable/user_guide/indexing.html#returning-a-view-versus-a-copy\n",
      "/Users/trae/.virtualenvs/talus_api/lib/python3.7/site-packages/pandas/core/frame.py:4102: SettingWithCopyWarning: \n",
      "A value is trying to be set on a copy of a slice from a DataFrame\n",
      "\n",
      "See the caveats in the documentation: http://pandas.pydata.org/pandas-docs/stable/user_guide/indexing.html#returning-a-view-versus-a-copy\n",
      "  errors=errors,\n"
     ]
    },
    {
     "name": "stdout",
     "output_type": "stream",
     "text": [
      "(29, 16)\n",
      "length: 4\n",
      "list: ['231', '0', '0', '0']\n"
     ]
    },
    {
     "name": "stderr",
     "output_type": "stream",
     "text": [
      "/Users/trae/.virtualenvs/talus_api/lib/python3.7/site-packages/ipykernel_launcher.py:34: SettingWithCopyWarning: \n",
      "A value is trying to be set on a copy of a slice from a DataFrame.\n",
      "Try using .loc[row_indexer,col_indexer] = value instead\n",
      "\n",
      "See the caveats in the documentation: http://pandas.pydata.org/pandas-docs/stable/user_guide/indexing.html#returning-a-view-versus-a-copy\n",
      "/Users/trae/.virtualenvs/talus_api/lib/python3.7/site-packages/ipykernel_launcher.py:35: SettingWithCopyWarning: \n",
      "A value is trying to be set on a copy of a slice from a DataFrame.\n",
      "Try using .loc[row_indexer,col_indexer] = value instead\n",
      "\n",
      "See the caveats in the documentation: http://pandas.pydata.org/pandas-docs/stable/user_guide/indexing.html#returning-a-view-versus-a-copy\n",
      "/Users/trae/.virtualenvs/talus_api/lib/python3.7/site-packages/pandas/core/frame.py:4102: SettingWithCopyWarning: \n",
      "A value is trying to be set on a copy of a slice from a DataFrame\n",
      "\n",
      "See the caveats in the documentation: http://pandas.pydata.org/pandas-docs/stable/user_guide/indexing.html#returning-a-view-versus-a-copy\n",
      "  errors=errors,\n"
     ]
    },
    {
     "name": "stdout",
     "output_type": "stream",
     "text": [
      "(29, 16)\n",
      "length: 4\n",
      "list: ['196', '0', '0', '0']\n"
     ]
    },
    {
     "name": "stderr",
     "output_type": "stream",
     "text": [
      "/Users/trae/.virtualenvs/talus_api/lib/python3.7/site-packages/ipykernel_launcher.py:34: SettingWithCopyWarning: \n",
      "A value is trying to be set on a copy of a slice from a DataFrame.\n",
      "Try using .loc[row_indexer,col_indexer] = value instead\n",
      "\n",
      "See the caveats in the documentation: http://pandas.pydata.org/pandas-docs/stable/user_guide/indexing.html#returning-a-view-versus-a-copy\n",
      "/Users/trae/.virtualenvs/talus_api/lib/python3.7/site-packages/ipykernel_launcher.py:35: SettingWithCopyWarning: \n",
      "A value is trying to be set on a copy of a slice from a DataFrame.\n",
      "Try using .loc[row_indexer,col_indexer] = value instead\n",
      "\n",
      "See the caveats in the documentation: http://pandas.pydata.org/pandas-docs/stable/user_guide/indexing.html#returning-a-view-versus-a-copy\n",
      "/Users/trae/.virtualenvs/talus_api/lib/python3.7/site-packages/pandas/core/frame.py:4102: SettingWithCopyWarning: \n",
      "A value is trying to be set on a copy of a slice from a DataFrame\n",
      "\n",
      "See the caveats in the documentation: http://pandas.pydata.org/pandas-docs/stable/user_guide/indexing.html#returning-a-view-versus-a-copy\n",
      "  errors=errors,\n"
     ]
    },
    {
     "name": "stdout",
     "output_type": "stream",
     "text": [
      "(29, 16)\n",
      "length: 4\n",
      "list: ['168', '0', '0', '0']\n"
     ]
    },
    {
     "name": "stderr",
     "output_type": "stream",
     "text": [
      "/Users/trae/.virtualenvs/talus_api/lib/python3.7/site-packages/ipykernel_launcher.py:34: SettingWithCopyWarning: \n",
      "A value is trying to be set on a copy of a slice from a DataFrame.\n",
      "Try using .loc[row_indexer,col_indexer] = value instead\n",
      "\n",
      "See the caveats in the documentation: http://pandas.pydata.org/pandas-docs/stable/user_guide/indexing.html#returning-a-view-versus-a-copy\n",
      "/Users/trae/.virtualenvs/talus_api/lib/python3.7/site-packages/ipykernel_launcher.py:35: SettingWithCopyWarning: \n",
      "A value is trying to be set on a copy of a slice from a DataFrame.\n",
      "Try using .loc[row_indexer,col_indexer] = value instead\n",
      "\n",
      "See the caveats in the documentation: http://pandas.pydata.org/pandas-docs/stable/user_guide/indexing.html#returning-a-view-versus-a-copy\n",
      "/Users/trae/.virtualenvs/talus_api/lib/python3.7/site-packages/pandas/core/frame.py:4102: SettingWithCopyWarning: \n",
      "A value is trying to be set on a copy of a slice from a DataFrame\n",
      "\n",
      "See the caveats in the documentation: http://pandas.pydata.org/pandas-docs/stable/user_guide/indexing.html#returning-a-view-versus-a-copy\n",
      "  errors=errors,\n"
     ]
    },
    {
     "name": "stdout",
     "output_type": "stream",
     "text": [
      "(30, 16)\n",
      "length: 4\n",
      "list: ['146', '0', '0', '0']\n"
     ]
    },
    {
     "name": "stderr",
     "output_type": "stream",
     "text": [
      "/Users/trae/.virtualenvs/talus_api/lib/python3.7/site-packages/ipykernel_launcher.py:34: SettingWithCopyWarning: \n",
      "A value is trying to be set on a copy of a slice from a DataFrame.\n",
      "Try using .loc[row_indexer,col_indexer] = value instead\n",
      "\n",
      "See the caveats in the documentation: http://pandas.pydata.org/pandas-docs/stable/user_guide/indexing.html#returning-a-view-versus-a-copy\n",
      "/Users/trae/.virtualenvs/talus_api/lib/python3.7/site-packages/ipykernel_launcher.py:35: SettingWithCopyWarning: \n",
      "A value is trying to be set on a copy of a slice from a DataFrame.\n",
      "Try using .loc[row_indexer,col_indexer] = value instead\n",
      "\n",
      "See the caveats in the documentation: http://pandas.pydata.org/pandas-docs/stable/user_guide/indexing.html#returning-a-view-versus-a-copy\n",
      "/Users/trae/.virtualenvs/talus_api/lib/python3.7/site-packages/pandas/core/frame.py:4102: SettingWithCopyWarning: \n",
      "A value is trying to be set on a copy of a slice from a DataFrame\n",
      "\n",
      "See the caveats in the documentation: http://pandas.pydata.org/pandas-docs/stable/user_guide/indexing.html#returning-a-view-versus-a-copy\n",
      "  errors=errors,\n"
     ]
    },
    {
     "name": "stdout",
     "output_type": "stream",
     "text": [
      "(29, 16)\n",
      "length: 4\n",
      "list: ['90', '0', '0', '0']\n"
     ]
    },
    {
     "name": "stderr",
     "output_type": "stream",
     "text": [
      "/Users/trae/.virtualenvs/talus_api/lib/python3.7/site-packages/ipykernel_launcher.py:34: SettingWithCopyWarning: \n",
      "A value is trying to be set on a copy of a slice from a DataFrame.\n",
      "Try using .loc[row_indexer,col_indexer] = value instead\n",
      "\n",
      "See the caveats in the documentation: http://pandas.pydata.org/pandas-docs/stable/user_guide/indexing.html#returning-a-view-versus-a-copy\n",
      "/Users/trae/.virtualenvs/talus_api/lib/python3.7/site-packages/ipykernel_launcher.py:35: SettingWithCopyWarning: \n",
      "A value is trying to be set on a copy of a slice from a DataFrame.\n",
      "Try using .loc[row_indexer,col_indexer] = value instead\n",
      "\n",
      "See the caveats in the documentation: http://pandas.pydata.org/pandas-docs/stable/user_guide/indexing.html#returning-a-view-versus-a-copy\n",
      "/Users/trae/.virtualenvs/talus_api/lib/python3.7/site-packages/pandas/core/frame.py:4102: SettingWithCopyWarning: \n",
      "A value is trying to be set on a copy of a slice from a DataFrame\n",
      "\n",
      "See the caveats in the documentation: http://pandas.pydata.org/pandas-docs/stable/user_guide/indexing.html#returning-a-view-versus-a-copy\n",
      "  errors=errors,\n"
     ]
    },
    {
     "name": "stdout",
     "output_type": "stream",
     "text": [
      "(29, 16)\n",
      "length: 4\n",
      "list: ['90', '0', '0', '0']\n"
     ]
    },
    {
     "name": "stderr",
     "output_type": "stream",
     "text": [
      "/Users/trae/.virtualenvs/talus_api/lib/python3.7/site-packages/ipykernel_launcher.py:34: SettingWithCopyWarning: \n",
      "A value is trying to be set on a copy of a slice from a DataFrame.\n",
      "Try using .loc[row_indexer,col_indexer] = value instead\n",
      "\n",
      "See the caveats in the documentation: http://pandas.pydata.org/pandas-docs/stable/user_guide/indexing.html#returning-a-view-versus-a-copy\n",
      "/Users/trae/.virtualenvs/talus_api/lib/python3.7/site-packages/ipykernel_launcher.py:35: SettingWithCopyWarning: \n",
      "A value is trying to be set on a copy of a slice from a DataFrame.\n",
      "Try using .loc[row_indexer,col_indexer] = value instead\n",
      "\n",
      "See the caveats in the documentation: http://pandas.pydata.org/pandas-docs/stable/user_guide/indexing.html#returning-a-view-versus-a-copy\n",
      "/Users/trae/.virtualenvs/talus_api/lib/python3.7/site-packages/pandas/core/frame.py:4102: SettingWithCopyWarning: \n",
      "A value is trying to be set on a copy of a slice from a DataFrame\n",
      "\n",
      "See the caveats in the documentation: http://pandas.pydata.org/pandas-docs/stable/user_guide/indexing.html#returning-a-view-versus-a-copy\n",
      "  errors=errors,\n"
     ]
    },
    {
     "name": "stdout",
     "output_type": "stream",
     "text": [
      "(29, 16)\n",
      "length: 4\n",
      "list: ['90', '0', '0', '0']\n"
     ]
    },
    {
     "name": "stderr",
     "output_type": "stream",
     "text": [
      "/Users/trae/.virtualenvs/talus_api/lib/python3.7/site-packages/ipykernel_launcher.py:34: SettingWithCopyWarning: \n",
      "A value is trying to be set on a copy of a slice from a DataFrame.\n",
      "Try using .loc[row_indexer,col_indexer] = value instead\n",
      "\n",
      "See the caveats in the documentation: http://pandas.pydata.org/pandas-docs/stable/user_guide/indexing.html#returning-a-view-versus-a-copy\n",
      "/Users/trae/.virtualenvs/talus_api/lib/python3.7/site-packages/ipykernel_launcher.py:35: SettingWithCopyWarning: \n",
      "A value is trying to be set on a copy of a slice from a DataFrame.\n",
      "Try using .loc[row_indexer,col_indexer] = value instead\n",
      "\n",
      "See the caveats in the documentation: http://pandas.pydata.org/pandas-docs/stable/user_guide/indexing.html#returning-a-view-versus-a-copy\n",
      "/Users/trae/.virtualenvs/talus_api/lib/python3.7/site-packages/pandas/core/frame.py:4102: SettingWithCopyWarning: \n",
      "A value is trying to be set on a copy of a slice from a DataFrame\n",
      "\n",
      "See the caveats in the documentation: http://pandas.pydata.org/pandas-docs/stable/user_guide/indexing.html#returning-a-view-versus-a-copy\n",
      "  errors=errors,\n"
     ]
    },
    {
     "name": "stdout",
     "output_type": "stream",
     "text": [
      "(29, 16)\n",
      "length: 4\n",
      "list: ['90', '0', '0', '0']\n"
     ]
    },
    {
     "name": "stderr",
     "output_type": "stream",
     "text": [
      "/Users/trae/.virtualenvs/talus_api/lib/python3.7/site-packages/ipykernel_launcher.py:34: SettingWithCopyWarning: \n",
      "A value is trying to be set on a copy of a slice from a DataFrame.\n",
      "Try using .loc[row_indexer,col_indexer] = value instead\n",
      "\n",
      "See the caveats in the documentation: http://pandas.pydata.org/pandas-docs/stable/user_guide/indexing.html#returning-a-view-versus-a-copy\n",
      "/Users/trae/.virtualenvs/talus_api/lib/python3.7/site-packages/ipykernel_launcher.py:35: SettingWithCopyWarning: \n",
      "A value is trying to be set on a copy of a slice from a DataFrame.\n",
      "Try using .loc[row_indexer,col_indexer] = value instead\n",
      "\n",
      "See the caveats in the documentation: http://pandas.pydata.org/pandas-docs/stable/user_guide/indexing.html#returning-a-view-versus-a-copy\n",
      "/Users/trae/.virtualenvs/talus_api/lib/python3.7/site-packages/pandas/core/frame.py:4102: SettingWithCopyWarning: \n",
      "A value is trying to be set on a copy of a slice from a DataFrame\n",
      "\n",
      "See the caveats in the documentation: http://pandas.pydata.org/pandas-docs/stable/user_guide/indexing.html#returning-a-view-versus-a-copy\n",
      "  errors=errors,\n"
     ]
    },
    {
     "name": "stdout",
     "output_type": "stream",
     "text": [
      "(29, 16)\n",
      "length: 4\n",
      "list: ['90', '0', '0', '0']\n"
     ]
    },
    {
     "name": "stderr",
     "output_type": "stream",
     "text": [
      "/Users/trae/.virtualenvs/talus_api/lib/python3.7/site-packages/ipykernel_launcher.py:34: SettingWithCopyWarning: \n",
      "A value is trying to be set on a copy of a slice from a DataFrame.\n",
      "Try using .loc[row_indexer,col_indexer] = value instead\n",
      "\n",
      "See the caveats in the documentation: http://pandas.pydata.org/pandas-docs/stable/user_guide/indexing.html#returning-a-view-versus-a-copy\n",
      "/Users/trae/.virtualenvs/talus_api/lib/python3.7/site-packages/ipykernel_launcher.py:35: SettingWithCopyWarning: \n",
      "A value is trying to be set on a copy of a slice from a DataFrame.\n",
      "Try using .loc[row_indexer,col_indexer] = value instead\n",
      "\n",
      "See the caveats in the documentation: http://pandas.pydata.org/pandas-docs/stable/user_guide/indexing.html#returning-a-view-versus-a-copy\n",
      "/Users/trae/.virtualenvs/talus_api/lib/python3.7/site-packages/pandas/core/frame.py:4102: SettingWithCopyWarning: \n",
      "A value is trying to be set on a copy of a slice from a DataFrame\n",
      "\n",
      "See the caveats in the documentation: http://pandas.pydata.org/pandas-docs/stable/user_guide/indexing.html#returning-a-view-versus-a-copy\n",
      "  errors=errors,\n"
     ]
    },
    {
     "name": "stdout",
     "output_type": "stream",
     "text": [
      "(29, 16)\n",
      "length: 4\n",
      "list: ['90', '0', '0', '0']\n"
     ]
    },
    {
     "name": "stderr",
     "output_type": "stream",
     "text": [
      "/Users/trae/.virtualenvs/talus_api/lib/python3.7/site-packages/ipykernel_launcher.py:34: SettingWithCopyWarning: \n",
      "A value is trying to be set on a copy of a slice from a DataFrame.\n",
      "Try using .loc[row_indexer,col_indexer] = value instead\n",
      "\n",
      "See the caveats in the documentation: http://pandas.pydata.org/pandas-docs/stable/user_guide/indexing.html#returning-a-view-versus-a-copy\n",
      "/Users/trae/.virtualenvs/talus_api/lib/python3.7/site-packages/ipykernel_launcher.py:35: SettingWithCopyWarning: \n",
      "A value is trying to be set on a copy of a slice from a DataFrame.\n",
      "Try using .loc[row_indexer,col_indexer] = value instead\n",
      "\n",
      "See the caveats in the documentation: http://pandas.pydata.org/pandas-docs/stable/user_guide/indexing.html#returning-a-view-versus-a-copy\n",
      "/Users/trae/.virtualenvs/talus_api/lib/python3.7/site-packages/pandas/core/frame.py:4102: SettingWithCopyWarning: \n",
      "A value is trying to be set on a copy of a slice from a DataFrame\n",
      "\n",
      "See the caveats in the documentation: http://pandas.pydata.org/pandas-docs/stable/user_guide/indexing.html#returning-a-view-versus-a-copy\n",
      "  errors=errors,\n"
     ]
    },
    {
     "name": "stdout",
     "output_type": "stream",
     "text": [
      "(29, 16)\n",
      "length: 4\n",
      "list: ['90', '0', '0', '0']\n"
     ]
    },
    {
     "name": "stderr",
     "output_type": "stream",
     "text": [
      "/Users/trae/.virtualenvs/talus_api/lib/python3.7/site-packages/ipykernel_launcher.py:34: SettingWithCopyWarning: \n",
      "A value is trying to be set on a copy of a slice from a DataFrame.\n",
      "Try using .loc[row_indexer,col_indexer] = value instead\n",
      "\n",
      "See the caveats in the documentation: http://pandas.pydata.org/pandas-docs/stable/user_guide/indexing.html#returning-a-view-versus-a-copy\n",
      "/Users/trae/.virtualenvs/talus_api/lib/python3.7/site-packages/ipykernel_launcher.py:35: SettingWithCopyWarning: \n",
      "A value is trying to be set on a copy of a slice from a DataFrame.\n",
      "Try using .loc[row_indexer,col_indexer] = value instead\n",
      "\n",
      "See the caveats in the documentation: http://pandas.pydata.org/pandas-docs/stable/user_guide/indexing.html#returning-a-view-versus-a-copy\n",
      "/Users/trae/.virtualenvs/talus_api/lib/python3.7/site-packages/pandas/core/frame.py:4102: SettingWithCopyWarning: \n",
      "A value is trying to be set on a copy of a slice from a DataFrame\n",
      "\n",
      "See the caveats in the documentation: http://pandas.pydata.org/pandas-docs/stable/user_guide/indexing.html#returning-a-view-versus-a-copy\n",
      "  errors=errors,\n"
     ]
    },
    {
     "name": "stdout",
     "output_type": "stream",
     "text": [
      "(29, 16)\n",
      "length: 4\n",
      "list: ['90', '0', '0', '0']\n"
     ]
    },
    {
     "name": "stderr",
     "output_type": "stream",
     "text": [
      "/Users/trae/.virtualenvs/talus_api/lib/python3.7/site-packages/ipykernel_launcher.py:34: SettingWithCopyWarning: \n",
      "A value is trying to be set on a copy of a slice from a DataFrame.\n",
      "Try using .loc[row_indexer,col_indexer] = value instead\n",
      "\n",
      "See the caveats in the documentation: http://pandas.pydata.org/pandas-docs/stable/user_guide/indexing.html#returning-a-view-versus-a-copy\n",
      "/Users/trae/.virtualenvs/talus_api/lib/python3.7/site-packages/ipykernel_launcher.py:35: SettingWithCopyWarning: \n",
      "A value is trying to be set on a copy of a slice from a DataFrame.\n",
      "Try using .loc[row_indexer,col_indexer] = value instead\n",
      "\n",
      "See the caveats in the documentation: http://pandas.pydata.org/pandas-docs/stable/user_guide/indexing.html#returning-a-view-versus-a-copy\n",
      "/Users/trae/.virtualenvs/talus_api/lib/python3.7/site-packages/pandas/core/frame.py:4102: SettingWithCopyWarning: \n",
      "A value is trying to be set on a copy of a slice from a DataFrame\n",
      "\n",
      "See the caveats in the documentation: http://pandas.pydata.org/pandas-docs/stable/user_guide/indexing.html#returning-a-view-versus-a-copy\n",
      "  errors=errors,\n"
     ]
    },
    {
     "name": "stdout",
     "output_type": "stream",
     "text": [
      "(29, 16)\n",
      "length: 4\n",
      "list: ['72', '0', '0', '0']\n"
     ]
    },
    {
     "name": "stderr",
     "output_type": "stream",
     "text": [
      "/Users/trae/.virtualenvs/talus_api/lib/python3.7/site-packages/ipykernel_launcher.py:34: SettingWithCopyWarning: \n",
      "A value is trying to be set on a copy of a slice from a DataFrame.\n",
      "Try using .loc[row_indexer,col_indexer] = value instead\n",
      "\n",
      "See the caveats in the documentation: http://pandas.pydata.org/pandas-docs/stable/user_guide/indexing.html#returning-a-view-versus-a-copy\n",
      "/Users/trae/.virtualenvs/talus_api/lib/python3.7/site-packages/ipykernel_launcher.py:35: SettingWithCopyWarning: \n",
      "A value is trying to be set on a copy of a slice from a DataFrame.\n",
      "Try using .loc[row_indexer,col_indexer] = value instead\n",
      "\n",
      "See the caveats in the documentation: http://pandas.pydata.org/pandas-docs/stable/user_guide/indexing.html#returning-a-view-versus-a-copy\n",
      "/Users/trae/.virtualenvs/talus_api/lib/python3.7/site-packages/pandas/core/frame.py:4102: SettingWithCopyWarning: \n",
      "A value is trying to be set on a copy of a slice from a DataFrame\n",
      "\n",
      "See the caveats in the documentation: http://pandas.pydata.org/pandas-docs/stable/user_guide/indexing.html#returning-a-view-versus-a-copy\n",
      "  errors=errors,\n"
     ]
    },
    {
     "name": "stdout",
     "output_type": "stream",
     "text": [
      "(29, 16)\n",
      "length: 4\n",
      "list: ['72', '0', '0', '0']\n"
     ]
    },
    {
     "name": "stderr",
     "output_type": "stream",
     "text": [
      "/Users/trae/.virtualenvs/talus_api/lib/python3.7/site-packages/ipykernel_launcher.py:34: SettingWithCopyWarning: \n",
      "A value is trying to be set on a copy of a slice from a DataFrame.\n",
      "Try using .loc[row_indexer,col_indexer] = value instead\n",
      "\n",
      "See the caveats in the documentation: http://pandas.pydata.org/pandas-docs/stable/user_guide/indexing.html#returning-a-view-versus-a-copy\n",
      "/Users/trae/.virtualenvs/talus_api/lib/python3.7/site-packages/ipykernel_launcher.py:35: SettingWithCopyWarning: \n",
      "A value is trying to be set on a copy of a slice from a DataFrame.\n",
      "Try using .loc[row_indexer,col_indexer] = value instead\n",
      "\n",
      "See the caveats in the documentation: http://pandas.pydata.org/pandas-docs/stable/user_guide/indexing.html#returning-a-view-versus-a-copy\n",
      "/Users/trae/.virtualenvs/talus_api/lib/python3.7/site-packages/pandas/core/frame.py:4102: SettingWithCopyWarning: \n",
      "A value is trying to be set on a copy of a slice from a DataFrame\n",
      "\n",
      "See the caveats in the documentation: http://pandas.pydata.org/pandas-docs/stable/user_guide/indexing.html#returning-a-view-versus-a-copy\n",
      "  errors=errors,\n"
     ]
    },
    {
     "name": "stdout",
     "output_type": "stream",
     "text": [
      "(29, 16)\n",
      "length: 4\n",
      "list: ['72', '0', '0', '0']\n"
     ]
    },
    {
     "name": "stderr",
     "output_type": "stream",
     "text": [
      "/Users/trae/.virtualenvs/talus_api/lib/python3.7/site-packages/ipykernel_launcher.py:34: SettingWithCopyWarning: \n",
      "A value is trying to be set on a copy of a slice from a DataFrame.\n",
      "Try using .loc[row_indexer,col_indexer] = value instead\n",
      "\n",
      "See the caveats in the documentation: http://pandas.pydata.org/pandas-docs/stable/user_guide/indexing.html#returning-a-view-versus-a-copy\n",
      "/Users/trae/.virtualenvs/talus_api/lib/python3.7/site-packages/ipykernel_launcher.py:35: SettingWithCopyWarning: \n",
      "A value is trying to be set on a copy of a slice from a DataFrame.\n",
      "Try using .loc[row_indexer,col_indexer] = value instead\n",
      "\n",
      "See the caveats in the documentation: http://pandas.pydata.org/pandas-docs/stable/user_guide/indexing.html#returning-a-view-versus-a-copy\n",
      "/Users/trae/.virtualenvs/talus_api/lib/python3.7/site-packages/pandas/core/frame.py:4102: SettingWithCopyWarning: \n",
      "A value is trying to be set on a copy of a slice from a DataFrame\n",
      "\n",
      "See the caveats in the documentation: http://pandas.pydata.org/pandas-docs/stable/user_guide/indexing.html#returning-a-view-versus-a-copy\n",
      "  errors=errors,\n"
     ]
    },
    {
     "name": "stdout",
     "output_type": "stream",
     "text": [
      "(29, 16)\n",
      "length: 4\n",
      "list: ['72', '0', '0', '0']\n"
     ]
    },
    {
     "name": "stderr",
     "output_type": "stream",
     "text": [
      "/Users/trae/.virtualenvs/talus_api/lib/python3.7/site-packages/ipykernel_launcher.py:34: SettingWithCopyWarning: \n",
      "A value is trying to be set on a copy of a slice from a DataFrame.\n",
      "Try using .loc[row_indexer,col_indexer] = value instead\n",
      "\n",
      "See the caveats in the documentation: http://pandas.pydata.org/pandas-docs/stable/user_guide/indexing.html#returning-a-view-versus-a-copy\n",
      "/Users/trae/.virtualenvs/talus_api/lib/python3.7/site-packages/ipykernel_launcher.py:35: SettingWithCopyWarning: \n",
      "A value is trying to be set on a copy of a slice from a DataFrame.\n",
      "Try using .loc[row_indexer,col_indexer] = value instead\n",
      "\n",
      "See the caveats in the documentation: http://pandas.pydata.org/pandas-docs/stable/user_guide/indexing.html#returning-a-view-versus-a-copy\n",
      "/Users/trae/.virtualenvs/talus_api/lib/python3.7/site-packages/pandas/core/frame.py:4102: SettingWithCopyWarning: \n",
      "A value is trying to be set on a copy of a slice from a DataFrame\n",
      "\n",
      "See the caveats in the documentation: http://pandas.pydata.org/pandas-docs/stable/user_guide/indexing.html#returning-a-view-versus-a-copy\n",
      "  errors=errors,\n"
     ]
    },
    {
     "name": "stdout",
     "output_type": "stream",
     "text": [
      "(29, 16)\n",
      "length: 4\n",
      "list: ['53', '0', '0', '0']\n"
     ]
    },
    {
     "name": "stderr",
     "output_type": "stream",
     "text": [
      "/Users/trae/.virtualenvs/talus_api/lib/python3.7/site-packages/ipykernel_launcher.py:34: SettingWithCopyWarning: \n",
      "A value is trying to be set on a copy of a slice from a DataFrame.\n",
      "Try using .loc[row_indexer,col_indexer] = value instead\n",
      "\n",
      "See the caveats in the documentation: http://pandas.pydata.org/pandas-docs/stable/user_guide/indexing.html#returning-a-view-versus-a-copy\n",
      "/Users/trae/.virtualenvs/talus_api/lib/python3.7/site-packages/ipykernel_launcher.py:35: SettingWithCopyWarning: \n",
      "A value is trying to be set on a copy of a slice from a DataFrame.\n",
      "Try using .loc[row_indexer,col_indexer] = value instead\n",
      "\n",
      "See the caveats in the documentation: http://pandas.pydata.org/pandas-docs/stable/user_guide/indexing.html#returning-a-view-versus-a-copy\n",
      "/Users/trae/.virtualenvs/talus_api/lib/python3.7/site-packages/pandas/core/frame.py:4102: SettingWithCopyWarning: \n",
      "A value is trying to be set on a copy of a slice from a DataFrame\n",
      "\n",
      "See the caveats in the documentation: http://pandas.pydata.org/pandas-docs/stable/user_guide/indexing.html#returning-a-view-versus-a-copy\n",
      "  errors=errors,\n"
     ]
    },
    {
     "name": "stdout",
     "output_type": "stream",
     "text": [
      "(29, 16)\n",
      "length: 4\n",
      "list: ['53', '0', '0', '0']\n"
     ]
    },
    {
     "name": "stderr",
     "output_type": "stream",
     "text": [
      "/Users/trae/.virtualenvs/talus_api/lib/python3.7/site-packages/ipykernel_launcher.py:34: SettingWithCopyWarning: \n",
      "A value is trying to be set on a copy of a slice from a DataFrame.\n",
      "Try using .loc[row_indexer,col_indexer] = value instead\n",
      "\n",
      "See the caveats in the documentation: http://pandas.pydata.org/pandas-docs/stable/user_guide/indexing.html#returning-a-view-versus-a-copy\n",
      "/Users/trae/.virtualenvs/talus_api/lib/python3.7/site-packages/ipykernel_launcher.py:35: SettingWithCopyWarning: \n",
      "A value is trying to be set on a copy of a slice from a DataFrame.\n",
      "Try using .loc[row_indexer,col_indexer] = value instead\n",
      "\n",
      "See the caveats in the documentation: http://pandas.pydata.org/pandas-docs/stable/user_guide/indexing.html#returning-a-view-versus-a-copy\n",
      "/Users/trae/.virtualenvs/talus_api/lib/python3.7/site-packages/pandas/core/frame.py:4102: SettingWithCopyWarning: \n",
      "A value is trying to be set on a copy of a slice from a DataFrame\n",
      "\n",
      "See the caveats in the documentation: http://pandas.pydata.org/pandas-docs/stable/user_guide/indexing.html#returning-a-view-versus-a-copy\n",
      "  errors=errors,\n"
     ]
    },
    {
     "name": "stdout",
     "output_type": "stream",
     "text": [
      "(29, 16)\n",
      "length: 4\n",
      "list: ['44', '0', '0', '0']\n"
     ]
    },
    {
     "name": "stderr",
     "output_type": "stream",
     "text": [
      "/Users/trae/.virtualenvs/talus_api/lib/python3.7/site-packages/ipykernel_launcher.py:34: SettingWithCopyWarning: \n",
      "A value is trying to be set on a copy of a slice from a DataFrame.\n",
      "Try using .loc[row_indexer,col_indexer] = value instead\n",
      "\n",
      "See the caveats in the documentation: http://pandas.pydata.org/pandas-docs/stable/user_guide/indexing.html#returning-a-view-versus-a-copy\n",
      "/Users/trae/.virtualenvs/talus_api/lib/python3.7/site-packages/ipykernel_launcher.py:35: SettingWithCopyWarning: \n",
      "A value is trying to be set on a copy of a slice from a DataFrame.\n",
      "Try using .loc[row_indexer,col_indexer] = value instead\n",
      "\n",
      "See the caveats in the documentation: http://pandas.pydata.org/pandas-docs/stable/user_guide/indexing.html#returning-a-view-versus-a-copy\n",
      "/Users/trae/.virtualenvs/talus_api/lib/python3.7/site-packages/pandas/core/frame.py:4102: SettingWithCopyWarning: \n",
      "A value is trying to be set on a copy of a slice from a DataFrame\n",
      "\n",
      "See the caveats in the documentation: http://pandas.pydata.org/pandas-docs/stable/user_guide/indexing.html#returning-a-view-versus-a-copy\n",
      "  errors=errors,\n"
     ]
    },
    {
     "name": "stdout",
     "output_type": "stream",
     "text": [
      "(29, 16)\n",
      "length: 4\n",
      "list: ['44', '0', '0', '0']\n"
     ]
    },
    {
     "name": "stderr",
     "output_type": "stream",
     "text": [
      "/Users/trae/.virtualenvs/talus_api/lib/python3.7/site-packages/ipykernel_launcher.py:34: SettingWithCopyWarning: \n",
      "A value is trying to be set on a copy of a slice from a DataFrame.\n",
      "Try using .loc[row_indexer,col_indexer] = value instead\n",
      "\n",
      "See the caveats in the documentation: http://pandas.pydata.org/pandas-docs/stable/user_guide/indexing.html#returning-a-view-versus-a-copy\n",
      "/Users/trae/.virtualenvs/talus_api/lib/python3.7/site-packages/ipykernel_launcher.py:35: SettingWithCopyWarning: \n",
      "A value is trying to be set on a copy of a slice from a DataFrame.\n",
      "Try using .loc[row_indexer,col_indexer] = value instead\n",
      "\n",
      "See the caveats in the documentation: http://pandas.pydata.org/pandas-docs/stable/user_guide/indexing.html#returning-a-view-versus-a-copy\n",
      "/Users/trae/.virtualenvs/talus_api/lib/python3.7/site-packages/pandas/core/frame.py:4102: SettingWithCopyWarning: \n",
      "A value is trying to be set on a copy of a slice from a DataFrame\n",
      "\n",
      "See the caveats in the documentation: http://pandas.pydata.org/pandas-docs/stable/user_guide/indexing.html#returning-a-view-versus-a-copy\n",
      "  errors=errors,\n"
     ]
    },
    {
     "name": "stdout",
     "output_type": "stream",
     "text": [
      "(29, 16)\n",
      "length: 4\n",
      "list: ['44', '0', '0', '0']\n"
     ]
    },
    {
     "name": "stderr",
     "output_type": "stream",
     "text": [
      "/Users/trae/.virtualenvs/talus_api/lib/python3.7/site-packages/ipykernel_launcher.py:34: SettingWithCopyWarning: \n",
      "A value is trying to be set on a copy of a slice from a DataFrame.\n",
      "Try using .loc[row_indexer,col_indexer] = value instead\n",
      "\n",
      "See the caveats in the documentation: http://pandas.pydata.org/pandas-docs/stable/user_guide/indexing.html#returning-a-view-versus-a-copy\n",
      "/Users/trae/.virtualenvs/talus_api/lib/python3.7/site-packages/ipykernel_launcher.py:35: SettingWithCopyWarning: \n",
      "A value is trying to be set on a copy of a slice from a DataFrame.\n",
      "Try using .loc[row_indexer,col_indexer] = value instead\n",
      "\n",
      "See the caveats in the documentation: http://pandas.pydata.org/pandas-docs/stable/user_guide/indexing.html#returning-a-view-versus-a-copy\n",
      "/Users/trae/.virtualenvs/talus_api/lib/python3.7/site-packages/pandas/core/frame.py:4102: SettingWithCopyWarning: \n",
      "A value is trying to be set on a copy of a slice from a DataFrame\n",
      "\n",
      "See the caveats in the documentation: http://pandas.pydata.org/pandas-docs/stable/user_guide/indexing.html#returning-a-view-versus-a-copy\n",
      "  errors=errors,\n"
     ]
    },
    {
     "name": "stdout",
     "output_type": "stream",
     "text": [
      "(29, 18)\n",
      "Length mismatch: Expected axis has 18 elements, new values have 16 elements\n",
      "(29, 18)\n",
      "Length mismatch: Expected axis has 18 elements, new values have 16 elements\n",
      "(29, 18)\n",
      "Length mismatch: Expected axis has 18 elements, new values have 16 elements\n",
      "(29, 18)\n",
      "Length mismatch: Expected axis has 18 elements, new values have 16 elements\n",
      "(29, 18)\n",
      "Length mismatch: Expected axis has 18 elements, new values have 16 elements\n",
      "(29, 18)\n",
      "Length mismatch: Expected axis has 18 elements, new values have 16 elements\n",
      "(30, 17)\n",
      "length: 5\n",
      "list: ['14', '0', '0', '0', '2012/16']\n"
     ]
    },
    {
     "name": "stderr",
     "output_type": "stream",
     "text": [
      "/Users/trae/.virtualenvs/talus_api/lib/python3.7/site-packages/ipykernel_launcher.py:34: SettingWithCopyWarning: \n",
      "A value is trying to be set on a copy of a slice from a DataFrame.\n",
      "Try using .loc[row_indexer,col_indexer] = value instead\n",
      "\n",
      "See the caveats in the documentation: http://pandas.pydata.org/pandas-docs/stable/user_guide/indexing.html#returning-a-view-versus-a-copy\n",
      "/Users/trae/.virtualenvs/talus_api/lib/python3.7/site-packages/ipykernel_launcher.py:35: SettingWithCopyWarning: \n",
      "A value is trying to be set on a copy of a slice from a DataFrame.\n",
      "Try using .loc[row_indexer,col_indexer] = value instead\n",
      "\n",
      "See the caveats in the documentation: http://pandas.pydata.org/pandas-docs/stable/user_guide/indexing.html#returning-a-view-versus-a-copy\n",
      "/Users/trae/.virtualenvs/talus_api/lib/python3.7/site-packages/pandas/core/frame.py:4102: SettingWithCopyWarning: \n",
      "A value is trying to be set on a copy of a slice from a DataFrame\n",
      "\n",
      "See the caveats in the documentation: http://pandas.pydata.org/pandas-docs/stable/user_guide/indexing.html#returning-a-view-versus-a-copy\n",
      "  errors=errors,\n"
     ]
    },
    {
     "name": "stdout",
     "output_type": "stream",
     "text": [
      "(30, 17)\n",
      "length: 5\n",
      "list: ['3', '0', '0', '0', '2012/16']\n"
     ]
    },
    {
     "name": "stderr",
     "output_type": "stream",
     "text": [
      "/Users/trae/.virtualenvs/talus_api/lib/python3.7/site-packages/ipykernel_launcher.py:34: SettingWithCopyWarning: \n",
      "A value is trying to be set on a copy of a slice from a DataFrame.\n",
      "Try using .loc[row_indexer,col_indexer] = value instead\n",
      "\n",
      "See the caveats in the documentation: http://pandas.pydata.org/pandas-docs/stable/user_guide/indexing.html#returning-a-view-versus-a-copy\n",
      "/Users/trae/.virtualenvs/talus_api/lib/python3.7/site-packages/ipykernel_launcher.py:35: SettingWithCopyWarning: \n",
      "A value is trying to be set on a copy of a slice from a DataFrame.\n",
      "Try using .loc[row_indexer,col_indexer] = value instead\n",
      "\n",
      "See the caveats in the documentation: http://pandas.pydata.org/pandas-docs/stable/user_guide/indexing.html#returning-a-view-versus-a-copy\n",
      "/Users/trae/.virtualenvs/talus_api/lib/python3.7/site-packages/pandas/core/frame.py:4102: SettingWithCopyWarning: \n",
      "A value is trying to be set on a copy of a slice from a DataFrame\n",
      "\n",
      "See the caveats in the documentation: http://pandas.pydata.org/pandas-docs/stable/user_guide/indexing.html#returning-a-view-versus-a-copy\n",
      "  errors=errors,\n"
     ]
    },
    {
     "name": "stdout",
     "output_type": "stream",
     "text": [
      "(30, 17)\n",
      "length: 5\n",
      "list: ['3', '0', '0', '0', '2012/16']\n"
     ]
    },
    {
     "name": "stderr",
     "output_type": "stream",
     "text": [
      "/Users/trae/.virtualenvs/talus_api/lib/python3.7/site-packages/ipykernel_launcher.py:34: SettingWithCopyWarning: \n",
      "A value is trying to be set on a copy of a slice from a DataFrame.\n",
      "Try using .loc[row_indexer,col_indexer] = value instead\n",
      "\n",
      "See the caveats in the documentation: http://pandas.pydata.org/pandas-docs/stable/user_guide/indexing.html#returning-a-view-versus-a-copy\n",
      "/Users/trae/.virtualenvs/talus_api/lib/python3.7/site-packages/ipykernel_launcher.py:35: SettingWithCopyWarning: \n",
      "A value is trying to be set on a copy of a slice from a DataFrame.\n",
      "Try using .loc[row_indexer,col_indexer] = value instead\n",
      "\n",
      "See the caveats in the documentation: http://pandas.pydata.org/pandas-docs/stable/user_guide/indexing.html#returning-a-view-versus-a-copy\n",
      "/Users/trae/.virtualenvs/talus_api/lib/python3.7/site-packages/pandas/core/frame.py:4102: SettingWithCopyWarning: \n",
      "A value is trying to be set on a copy of a slice from a DataFrame\n",
      "\n",
      "See the caveats in the documentation: http://pandas.pydata.org/pandas-docs/stable/user_guide/indexing.html#returning-a-view-versus-a-copy\n",
      "  errors=errors,\n"
     ]
    },
    {
     "name": "stdout",
     "output_type": "stream",
     "text": [
      "(30, 17)\n",
      "length: 5\n",
      "list: ['0', '0', '0', '0', '2012/16']\n"
     ]
    },
    {
     "name": "stderr",
     "output_type": "stream",
     "text": [
      "/Users/trae/.virtualenvs/talus_api/lib/python3.7/site-packages/ipykernel_launcher.py:34: SettingWithCopyWarning: \n",
      "A value is trying to be set on a copy of a slice from a DataFrame.\n",
      "Try using .loc[row_indexer,col_indexer] = value instead\n",
      "\n",
      "See the caveats in the documentation: http://pandas.pydata.org/pandas-docs/stable/user_guide/indexing.html#returning-a-view-versus-a-copy\n",
      "/Users/trae/.virtualenvs/talus_api/lib/python3.7/site-packages/ipykernel_launcher.py:35: SettingWithCopyWarning: \n",
      "A value is trying to be set on a copy of a slice from a DataFrame.\n",
      "Try using .loc[row_indexer,col_indexer] = value instead\n",
      "\n",
      "See the caveats in the documentation: http://pandas.pydata.org/pandas-docs/stable/user_guide/indexing.html#returning-a-view-versus-a-copy\n",
      "/Users/trae/.virtualenvs/talus_api/lib/python3.7/site-packages/pandas/core/frame.py:4102: SettingWithCopyWarning: \n",
      "A value is trying to be set on a copy of a slice from a DataFrame\n",
      "\n",
      "See the caveats in the documentation: http://pandas.pydata.org/pandas-docs/stable/user_guide/indexing.html#returning-a-view-versus-a-copy\n",
      "  errors=errors,\n"
     ]
    },
    {
     "name": "stdout",
     "output_type": "stream",
     "text": [
      "(30, 17)\n",
      "length: 5\n",
      "list: ['0', '0', '0', '0', '2012/16']\n"
     ]
    },
    {
     "name": "stderr",
     "output_type": "stream",
     "text": [
      "/Users/trae/.virtualenvs/talus_api/lib/python3.7/site-packages/ipykernel_launcher.py:34: SettingWithCopyWarning: \n",
      "A value is trying to be set on a copy of a slice from a DataFrame.\n",
      "Try using .loc[row_indexer,col_indexer] = value instead\n",
      "\n",
      "See the caveats in the documentation: http://pandas.pydata.org/pandas-docs/stable/user_guide/indexing.html#returning-a-view-versus-a-copy\n",
      "/Users/trae/.virtualenvs/talus_api/lib/python3.7/site-packages/ipykernel_launcher.py:35: SettingWithCopyWarning: \n",
      "A value is trying to be set on a copy of a slice from a DataFrame.\n",
      "Try using .loc[row_indexer,col_indexer] = value instead\n",
      "\n",
      "See the caveats in the documentation: http://pandas.pydata.org/pandas-docs/stable/user_guide/indexing.html#returning-a-view-versus-a-copy\n",
      "/Users/trae/.virtualenvs/talus_api/lib/python3.7/site-packages/pandas/core/frame.py:4102: SettingWithCopyWarning: \n",
      "A value is trying to be set on a copy of a slice from a DataFrame\n",
      "\n",
      "See the caveats in the documentation: http://pandas.pydata.org/pandas-docs/stable/user_guide/indexing.html#returning-a-view-versus-a-copy\n",
      "  errors=errors,\n"
     ]
    },
    {
     "name": "stdout",
     "output_type": "stream",
     "text": [
      "(30, 17)\n",
      "length: 5\n",
      "list: ['0', '0', '0', '0', '2012/16']\n"
     ]
    },
    {
     "name": "stderr",
     "output_type": "stream",
     "text": [
      "/Users/trae/.virtualenvs/talus_api/lib/python3.7/site-packages/ipykernel_launcher.py:34: SettingWithCopyWarning: \n",
      "A value is trying to be set on a copy of a slice from a DataFrame.\n",
      "Try using .loc[row_indexer,col_indexer] = value instead\n",
      "\n",
      "See the caveats in the documentation: http://pandas.pydata.org/pandas-docs/stable/user_guide/indexing.html#returning-a-view-versus-a-copy\n",
      "/Users/trae/.virtualenvs/talus_api/lib/python3.7/site-packages/ipykernel_launcher.py:35: SettingWithCopyWarning: \n",
      "A value is trying to be set on a copy of a slice from a DataFrame.\n",
      "Try using .loc[row_indexer,col_indexer] = value instead\n",
      "\n",
      "See the caveats in the documentation: http://pandas.pydata.org/pandas-docs/stable/user_guide/indexing.html#returning-a-view-versus-a-copy\n",
      "/Users/trae/.virtualenvs/talus_api/lib/python3.7/site-packages/pandas/core/frame.py:4102: SettingWithCopyWarning: \n",
      "A value is trying to be set on a copy of a slice from a DataFrame\n",
      "\n",
      "See the caveats in the documentation: http://pandas.pydata.org/pandas-docs/stable/user_guide/indexing.html#returning-a-view-versus-a-copy\n",
      "  errors=errors,\n"
     ]
    },
    {
     "name": "stdout",
     "output_type": "stream",
     "text": [
      "(30, 17)\n",
      "length: 5\n",
      "list: ['…', '…', '…', '…', '2012/16']\n"
     ]
    },
    {
     "name": "stderr",
     "output_type": "stream",
     "text": [
      "/Users/trae/.virtualenvs/talus_api/lib/python3.7/site-packages/ipykernel_launcher.py:34: SettingWithCopyWarning: \n",
      "A value is trying to be set on a copy of a slice from a DataFrame.\n",
      "Try using .loc[row_indexer,col_indexer] = value instead\n",
      "\n",
      "See the caveats in the documentation: http://pandas.pydata.org/pandas-docs/stable/user_guide/indexing.html#returning-a-view-versus-a-copy\n",
      "/Users/trae/.virtualenvs/talus_api/lib/python3.7/site-packages/ipykernel_launcher.py:35: SettingWithCopyWarning: \n",
      "A value is trying to be set on a copy of a slice from a DataFrame.\n",
      "Try using .loc[row_indexer,col_indexer] = value instead\n",
      "\n",
      "See the caveats in the documentation: http://pandas.pydata.org/pandas-docs/stable/user_guide/indexing.html#returning-a-view-versus-a-copy\n",
      "/Users/trae/.virtualenvs/talus_api/lib/python3.7/site-packages/pandas/core/frame.py:4102: SettingWithCopyWarning: \n",
      "A value is trying to be set on a copy of a slice from a DataFrame\n",
      "\n",
      "See the caveats in the documentation: http://pandas.pydata.org/pandas-docs/stable/user_guide/indexing.html#returning-a-view-versus-a-copy\n",
      "  errors=errors,\n"
     ]
    },
    {
     "name": "stdout",
     "output_type": "stream",
     "text": [
      "(30, 16)\n",
      "length: 4\n",
      "list: ['596', '0', '0', '0']\n"
     ]
    },
    {
     "name": "stderr",
     "output_type": "stream",
     "text": [
      "/Users/trae/.virtualenvs/talus_api/lib/python3.7/site-packages/ipykernel_launcher.py:34: SettingWithCopyWarning: \n",
      "A value is trying to be set on a copy of a slice from a DataFrame.\n",
      "Try using .loc[row_indexer,col_indexer] = value instead\n",
      "\n",
      "See the caveats in the documentation: http://pandas.pydata.org/pandas-docs/stable/user_guide/indexing.html#returning-a-view-versus-a-copy\n",
      "/Users/trae/.virtualenvs/talus_api/lib/python3.7/site-packages/ipykernel_launcher.py:35: SettingWithCopyWarning: \n",
      "A value is trying to be set on a copy of a slice from a DataFrame.\n",
      "Try using .loc[row_indexer,col_indexer] = value instead\n",
      "\n",
      "See the caveats in the documentation: http://pandas.pydata.org/pandas-docs/stable/user_guide/indexing.html#returning-a-view-versus-a-copy\n",
      "/Users/trae/.virtualenvs/talus_api/lib/python3.7/site-packages/pandas/core/frame.py:4102: SettingWithCopyWarning: \n",
      "A value is trying to be set on a copy of a slice from a DataFrame\n",
      "\n",
      "See the caveats in the documentation: http://pandas.pydata.org/pandas-docs/stable/user_guide/indexing.html#returning-a-view-versus-a-copy\n",
      "  errors=errors,\n"
     ]
    },
    {
     "name": "stdout",
     "output_type": "stream",
     "text": [
      "(30, 16)\n",
      "length: 4\n",
      "list: ['596', '0', '0', '0']\n"
     ]
    },
    {
     "name": "stderr",
     "output_type": "stream",
     "text": [
      "/Users/trae/.virtualenvs/talus_api/lib/python3.7/site-packages/ipykernel_launcher.py:34: SettingWithCopyWarning: \n",
      "A value is trying to be set on a copy of a slice from a DataFrame.\n",
      "Try using .loc[row_indexer,col_indexer] = value instead\n",
      "\n",
      "See the caveats in the documentation: http://pandas.pydata.org/pandas-docs/stable/user_guide/indexing.html#returning-a-view-versus-a-copy\n",
      "/Users/trae/.virtualenvs/talus_api/lib/python3.7/site-packages/ipykernel_launcher.py:35: SettingWithCopyWarning: \n",
      "A value is trying to be set on a copy of a slice from a DataFrame.\n",
      "Try using .loc[row_indexer,col_indexer] = value instead\n",
      "\n",
      "See the caveats in the documentation: http://pandas.pydata.org/pandas-docs/stable/user_guide/indexing.html#returning-a-view-versus-a-copy\n",
      "/Users/trae/.virtualenvs/talus_api/lib/python3.7/site-packages/pandas/core/frame.py:4102: SettingWithCopyWarning: \n",
      "A value is trying to be set on a copy of a slice from a DataFrame\n",
      "\n",
      "See the caveats in the documentation: http://pandas.pydata.org/pandas-docs/stable/user_guide/indexing.html#returning-a-view-versus-a-copy\n",
      "  errors=errors,\n"
     ]
    },
    {
     "name": "stdout",
     "output_type": "stream",
     "text": [
      "(30, 16)\n",
      "length: 4\n",
      "list: ['596', '0', '0', '0']\n"
     ]
    },
    {
     "name": "stderr",
     "output_type": "stream",
     "text": [
      "/Users/trae/.virtualenvs/talus_api/lib/python3.7/site-packages/ipykernel_launcher.py:34: SettingWithCopyWarning: \n",
      "A value is trying to be set on a copy of a slice from a DataFrame.\n",
      "Try using .loc[row_indexer,col_indexer] = value instead\n",
      "\n",
      "See the caveats in the documentation: http://pandas.pydata.org/pandas-docs/stable/user_guide/indexing.html#returning-a-view-versus-a-copy\n",
      "/Users/trae/.virtualenvs/talus_api/lib/python3.7/site-packages/ipykernel_launcher.py:35: SettingWithCopyWarning: \n",
      "A value is trying to be set on a copy of a slice from a DataFrame.\n",
      "Try using .loc[row_indexer,col_indexer] = value instead\n",
      "\n",
      "See the caveats in the documentation: http://pandas.pydata.org/pandas-docs/stable/user_guide/indexing.html#returning-a-view-versus-a-copy\n",
      "/Users/trae/.virtualenvs/talus_api/lib/python3.7/site-packages/pandas/core/frame.py:4102: SettingWithCopyWarning: \n",
      "A value is trying to be set on a copy of a slice from a DataFrame\n",
      "\n",
      "See the caveats in the documentation: http://pandas.pydata.org/pandas-docs/stable/user_guide/indexing.html#returning-a-view-versus-a-copy\n",
      "  errors=errors,\n"
     ]
    },
    {
     "name": "stdout",
     "output_type": "stream",
     "text": [
      "(30, 16)\n",
      "length: 4\n",
      "list: ['562', '0', '0', '0']\n"
     ]
    },
    {
     "name": "stderr",
     "output_type": "stream",
     "text": [
      "/Users/trae/.virtualenvs/talus_api/lib/python3.7/site-packages/ipykernel_launcher.py:34: SettingWithCopyWarning: \n",
      "A value is trying to be set on a copy of a slice from a DataFrame.\n",
      "Try using .loc[row_indexer,col_indexer] = value instead\n",
      "\n",
      "See the caveats in the documentation: http://pandas.pydata.org/pandas-docs/stable/user_guide/indexing.html#returning-a-view-versus-a-copy\n",
      "/Users/trae/.virtualenvs/talus_api/lib/python3.7/site-packages/ipykernel_launcher.py:35: SettingWithCopyWarning: \n",
      "A value is trying to be set on a copy of a slice from a DataFrame.\n",
      "Try using .loc[row_indexer,col_indexer] = value instead\n",
      "\n",
      "See the caveats in the documentation: http://pandas.pydata.org/pandas-docs/stable/user_guide/indexing.html#returning-a-view-versus-a-copy\n",
      "/Users/trae/.virtualenvs/talus_api/lib/python3.7/site-packages/pandas/core/frame.py:4102: SettingWithCopyWarning: \n",
      "A value is trying to be set on a copy of a slice from a DataFrame\n",
      "\n",
      "See the caveats in the documentation: http://pandas.pydata.org/pandas-docs/stable/user_guide/indexing.html#returning-a-view-versus-a-copy\n",
      "  errors=errors,\n"
     ]
    },
    {
     "name": "stdout",
     "output_type": "stream",
     "text": [
      "(30, 16)\n",
      "length: 4\n",
      "list: ['549', '0', '0', '0']\n"
     ]
    },
    {
     "name": "stderr",
     "output_type": "stream",
     "text": [
      "/Users/trae/.virtualenvs/talus_api/lib/python3.7/site-packages/ipykernel_launcher.py:34: SettingWithCopyWarning: \n",
      "A value is trying to be set on a copy of a slice from a DataFrame.\n",
      "Try using .loc[row_indexer,col_indexer] = value instead\n",
      "\n",
      "See the caveats in the documentation: http://pandas.pydata.org/pandas-docs/stable/user_guide/indexing.html#returning-a-view-versus-a-copy\n",
      "/Users/trae/.virtualenvs/talus_api/lib/python3.7/site-packages/ipykernel_launcher.py:35: SettingWithCopyWarning: \n",
      "A value is trying to be set on a copy of a slice from a DataFrame.\n",
      "Try using .loc[row_indexer,col_indexer] = value instead\n",
      "\n",
      "See the caveats in the documentation: http://pandas.pydata.org/pandas-docs/stable/user_guide/indexing.html#returning-a-view-versus-a-copy\n",
      "/Users/trae/.virtualenvs/talus_api/lib/python3.7/site-packages/pandas/core/frame.py:4102: SettingWithCopyWarning: \n",
      "A value is trying to be set on a copy of a slice from a DataFrame\n",
      "\n",
      "See the caveats in the documentation: http://pandas.pydata.org/pandas-docs/stable/user_guide/indexing.html#returning-a-view-versus-a-copy\n",
      "  errors=errors,\n"
     ]
    },
    {
     "name": "stdout",
     "output_type": "stream",
     "text": [
      "(29, 17)\n",
      "index 0 is out of bounds for axis 0 with size 0\n",
      "(30, 16)\n",
      "length: 4\n",
      "list: ['530', '0', '0', '0']\n"
     ]
    },
    {
     "name": "stderr",
     "output_type": "stream",
     "text": [
      "/Users/trae/.virtualenvs/talus_api/lib/python3.7/site-packages/ipykernel_launcher.py:34: SettingWithCopyWarning: \n",
      "A value is trying to be set on a copy of a slice from a DataFrame.\n",
      "Try using .loc[row_indexer,col_indexer] = value instead\n",
      "\n",
      "See the caveats in the documentation: http://pandas.pydata.org/pandas-docs/stable/user_guide/indexing.html#returning-a-view-versus-a-copy\n",
      "/Users/trae/.virtualenvs/talus_api/lib/python3.7/site-packages/ipykernel_launcher.py:35: SettingWithCopyWarning: \n",
      "A value is trying to be set on a copy of a slice from a DataFrame.\n",
      "Try using .loc[row_indexer,col_indexer] = value instead\n",
      "\n",
      "See the caveats in the documentation: http://pandas.pydata.org/pandas-docs/stable/user_guide/indexing.html#returning-a-view-versus-a-copy\n",
      "/Users/trae/.virtualenvs/talus_api/lib/python3.7/site-packages/pandas/core/frame.py:4102: SettingWithCopyWarning: \n",
      "A value is trying to be set on a copy of a slice from a DataFrame\n",
      "\n",
      "See the caveats in the documentation: http://pandas.pydata.org/pandas-docs/stable/user_guide/indexing.html#returning-a-view-versus-a-copy\n",
      "  errors=errors,\n"
     ]
    },
    {
     "name": "stdout",
     "output_type": "stream",
     "text": [
      "(30, 16)\n",
      "length: 4\n",
      "list: ['517', '0', '0', '0']\n"
     ]
    },
    {
     "name": "stderr",
     "output_type": "stream",
     "text": [
      "/Users/trae/.virtualenvs/talus_api/lib/python3.7/site-packages/ipykernel_launcher.py:34: SettingWithCopyWarning: \n",
      "A value is trying to be set on a copy of a slice from a DataFrame.\n",
      "Try using .loc[row_indexer,col_indexer] = value instead\n",
      "\n",
      "See the caveats in the documentation: http://pandas.pydata.org/pandas-docs/stable/user_guide/indexing.html#returning-a-view-versus-a-copy\n",
      "/Users/trae/.virtualenvs/talus_api/lib/python3.7/site-packages/ipykernel_launcher.py:35: SettingWithCopyWarning: \n",
      "A value is trying to be set on a copy of a slice from a DataFrame.\n",
      "Try using .loc[row_indexer,col_indexer] = value instead\n",
      "\n",
      "See the caveats in the documentation: http://pandas.pydata.org/pandas-docs/stable/user_guide/indexing.html#returning-a-view-versus-a-copy\n",
      "/Users/trae/.virtualenvs/talus_api/lib/python3.7/site-packages/pandas/core/frame.py:4102: SettingWithCopyWarning: \n",
      "A value is trying to be set on a copy of a slice from a DataFrame\n",
      "\n",
      "See the caveats in the documentation: http://pandas.pydata.org/pandas-docs/stable/user_guide/indexing.html#returning-a-view-versus-a-copy\n",
      "  errors=errors,\n"
     ]
    },
    {
     "name": "stdout",
     "output_type": "stream",
     "text": [
      "(30, 16)\n",
      "length: 4\n",
      "list: ['483', '0', '0', '0']\n"
     ]
    },
    {
     "name": "stderr",
     "output_type": "stream",
     "text": [
      "/Users/trae/.virtualenvs/talus_api/lib/python3.7/site-packages/ipykernel_launcher.py:34: SettingWithCopyWarning: \n",
      "A value is trying to be set on a copy of a slice from a DataFrame.\n",
      "Try using .loc[row_indexer,col_indexer] = value instead\n",
      "\n",
      "See the caveats in the documentation: http://pandas.pydata.org/pandas-docs/stable/user_guide/indexing.html#returning-a-view-versus-a-copy\n",
      "/Users/trae/.virtualenvs/talus_api/lib/python3.7/site-packages/ipykernel_launcher.py:35: SettingWithCopyWarning: \n",
      "A value is trying to be set on a copy of a slice from a DataFrame.\n",
      "Try using .loc[row_indexer,col_indexer] = value instead\n",
      "\n",
      "See the caveats in the documentation: http://pandas.pydata.org/pandas-docs/stable/user_guide/indexing.html#returning-a-view-versus-a-copy\n",
      "/Users/trae/.virtualenvs/talus_api/lib/python3.7/site-packages/pandas/core/frame.py:4102: SettingWithCopyWarning: \n",
      "A value is trying to be set on a copy of a slice from a DataFrame\n",
      "\n",
      "See the caveats in the documentation: http://pandas.pydata.org/pandas-docs/stable/user_guide/indexing.html#returning-a-view-versus-a-copy\n",
      "  errors=errors,\n"
     ]
    },
    {
     "name": "stdout",
     "output_type": "stream",
     "text": [
      "(30, 16)\n",
      "length: 4\n",
      "list: ['467', '0', '0', '0']\n"
     ]
    },
    {
     "name": "stderr",
     "output_type": "stream",
     "text": [
      "/Users/trae/.virtualenvs/talus_api/lib/python3.7/site-packages/ipykernel_launcher.py:34: SettingWithCopyWarning: \n",
      "A value is trying to be set on a copy of a slice from a DataFrame.\n",
      "Try using .loc[row_indexer,col_indexer] = value instead\n",
      "\n",
      "See the caveats in the documentation: http://pandas.pydata.org/pandas-docs/stable/user_guide/indexing.html#returning-a-view-versus-a-copy\n",
      "/Users/trae/.virtualenvs/talus_api/lib/python3.7/site-packages/ipykernel_launcher.py:35: SettingWithCopyWarning: \n",
      "A value is trying to be set on a copy of a slice from a DataFrame.\n",
      "Try using .loc[row_indexer,col_indexer] = value instead\n",
      "\n",
      "See the caveats in the documentation: http://pandas.pydata.org/pandas-docs/stable/user_guide/indexing.html#returning-a-view-versus-a-copy\n",
      "/Users/trae/.virtualenvs/talus_api/lib/python3.7/site-packages/pandas/core/frame.py:4102: SettingWithCopyWarning: \n",
      "A value is trying to be set on a copy of a slice from a DataFrame\n",
      "\n",
      "See the caveats in the documentation: http://pandas.pydata.org/pandas-docs/stable/user_guide/indexing.html#returning-a-view-versus-a-copy\n",
      "  errors=errors,\n"
     ]
    },
    {
     "name": "stdout",
     "output_type": "stream",
     "text": [
      "(30, 16)\n",
      "length: 4\n",
      "list: ['379', '0', '0', '0']\n"
     ]
    },
    {
     "name": "stderr",
     "output_type": "stream",
     "text": [
      "/Users/trae/.virtualenvs/talus_api/lib/python3.7/site-packages/ipykernel_launcher.py:34: SettingWithCopyWarning: \n",
      "A value is trying to be set on a copy of a slice from a DataFrame.\n",
      "Try using .loc[row_indexer,col_indexer] = value instead\n",
      "\n",
      "See the caveats in the documentation: http://pandas.pydata.org/pandas-docs/stable/user_guide/indexing.html#returning-a-view-versus-a-copy\n",
      "/Users/trae/.virtualenvs/talus_api/lib/python3.7/site-packages/ipykernel_launcher.py:35: SettingWithCopyWarning: \n",
      "A value is trying to be set on a copy of a slice from a DataFrame.\n",
      "Try using .loc[row_indexer,col_indexer] = value instead\n",
      "\n",
      "See the caveats in the documentation: http://pandas.pydata.org/pandas-docs/stable/user_guide/indexing.html#returning-a-view-versus-a-copy\n",
      "/Users/trae/.virtualenvs/talus_api/lib/python3.7/site-packages/pandas/core/frame.py:4102: SettingWithCopyWarning: \n",
      "A value is trying to be set on a copy of a slice from a DataFrame\n",
      "\n",
      "See the caveats in the documentation: http://pandas.pydata.org/pandas-docs/stable/user_guide/indexing.html#returning-a-view-versus-a-copy\n",
      "  errors=errors,\n"
     ]
    },
    {
     "name": "stdout",
     "output_type": "stream",
     "text": [
      "(30, 16)\n",
      "length: 4\n",
      "list: ['379', '0', '0', '0']\n"
     ]
    },
    {
     "name": "stderr",
     "output_type": "stream",
     "text": [
      "/Users/trae/.virtualenvs/talus_api/lib/python3.7/site-packages/ipykernel_launcher.py:34: SettingWithCopyWarning: \n",
      "A value is trying to be set on a copy of a slice from a DataFrame.\n",
      "Try using .loc[row_indexer,col_indexer] = value instead\n",
      "\n",
      "See the caveats in the documentation: http://pandas.pydata.org/pandas-docs/stable/user_guide/indexing.html#returning-a-view-versus-a-copy\n",
      "/Users/trae/.virtualenvs/talus_api/lib/python3.7/site-packages/ipykernel_launcher.py:35: SettingWithCopyWarning: \n",
      "A value is trying to be set on a copy of a slice from a DataFrame.\n",
      "Try using .loc[row_indexer,col_indexer] = value instead\n",
      "\n",
      "See the caveats in the documentation: http://pandas.pydata.org/pandas-docs/stable/user_guide/indexing.html#returning-a-view-versus-a-copy\n",
      "/Users/trae/.virtualenvs/talus_api/lib/python3.7/site-packages/pandas/core/frame.py:4102: SettingWithCopyWarning: \n",
      "A value is trying to be set on a copy of a slice from a DataFrame\n",
      "\n",
      "See the caveats in the documentation: http://pandas.pydata.org/pandas-docs/stable/user_guide/indexing.html#returning-a-view-versus-a-copy\n",
      "  errors=errors,\n"
     ]
    },
    {
     "name": "stdout",
     "output_type": "stream",
     "text": [
      "(30, 16)\n",
      "length: 4\n",
      "list: ['379', '0', '0', '0']\n"
     ]
    },
    {
     "name": "stderr",
     "output_type": "stream",
     "text": [
      "/Users/trae/.virtualenvs/talus_api/lib/python3.7/site-packages/ipykernel_launcher.py:34: SettingWithCopyWarning: \n",
      "A value is trying to be set on a copy of a slice from a DataFrame.\n",
      "Try using .loc[row_indexer,col_indexer] = value instead\n",
      "\n",
      "See the caveats in the documentation: http://pandas.pydata.org/pandas-docs/stable/user_guide/indexing.html#returning-a-view-versus-a-copy\n",
      "/Users/trae/.virtualenvs/talus_api/lib/python3.7/site-packages/ipykernel_launcher.py:35: SettingWithCopyWarning: \n",
      "A value is trying to be set on a copy of a slice from a DataFrame.\n",
      "Try using .loc[row_indexer,col_indexer] = value instead\n",
      "\n",
      "See the caveats in the documentation: http://pandas.pydata.org/pandas-docs/stable/user_guide/indexing.html#returning-a-view-versus-a-copy\n",
      "/Users/trae/.virtualenvs/talus_api/lib/python3.7/site-packages/pandas/core/frame.py:4102: SettingWithCopyWarning: \n",
      "A value is trying to be set on a copy of a slice from a DataFrame\n",
      "\n",
      "See the caveats in the documentation: http://pandas.pydata.org/pandas-docs/stable/user_guide/indexing.html#returning-a-view-versus-a-copy\n",
      "  errors=errors,\n"
     ]
    },
    {
     "name": "stdout",
     "output_type": "stream",
     "text": [
      "(30, 16)\n",
      "length: 4\n",
      "list: ['363', '0', '0', '0']\n"
     ]
    },
    {
     "name": "stderr",
     "output_type": "stream",
     "text": [
      "/Users/trae/.virtualenvs/talus_api/lib/python3.7/site-packages/ipykernel_launcher.py:34: SettingWithCopyWarning: \n",
      "A value is trying to be set on a copy of a slice from a DataFrame.\n",
      "Try using .loc[row_indexer,col_indexer] = value instead\n",
      "\n",
      "See the caveats in the documentation: http://pandas.pydata.org/pandas-docs/stable/user_guide/indexing.html#returning-a-view-versus-a-copy\n",
      "/Users/trae/.virtualenvs/talus_api/lib/python3.7/site-packages/ipykernel_launcher.py:35: SettingWithCopyWarning: \n",
      "A value is trying to be set on a copy of a slice from a DataFrame.\n",
      "Try using .loc[row_indexer,col_indexer] = value instead\n",
      "\n",
      "See the caveats in the documentation: http://pandas.pydata.org/pandas-docs/stable/user_guide/indexing.html#returning-a-view-versus-a-copy\n",
      "/Users/trae/.virtualenvs/talus_api/lib/python3.7/site-packages/pandas/core/frame.py:4102: SettingWithCopyWarning: \n",
      "A value is trying to be set on a copy of a slice from a DataFrame\n",
      "\n",
      "See the caveats in the documentation: http://pandas.pydata.org/pandas-docs/stable/user_guide/indexing.html#returning-a-view-versus-a-copy\n",
      "  errors=errors,\n"
     ]
    },
    {
     "name": "stdout",
     "output_type": "stream",
     "text": [
      "(30, 16)\n",
      "length: 4\n",
      "list: ['363', '0', '0', '0']\n"
     ]
    },
    {
     "name": "stderr",
     "output_type": "stream",
     "text": [
      "/Users/trae/.virtualenvs/talus_api/lib/python3.7/site-packages/ipykernel_launcher.py:34: SettingWithCopyWarning: \n",
      "A value is trying to be set on a copy of a slice from a DataFrame.\n",
      "Try using .loc[row_indexer,col_indexer] = value instead\n",
      "\n",
      "See the caveats in the documentation: http://pandas.pydata.org/pandas-docs/stable/user_guide/indexing.html#returning-a-view-versus-a-copy\n",
      "/Users/trae/.virtualenvs/talus_api/lib/python3.7/site-packages/ipykernel_launcher.py:35: SettingWithCopyWarning: \n",
      "A value is trying to be set on a copy of a slice from a DataFrame.\n",
      "Try using .loc[row_indexer,col_indexer] = value instead\n",
      "\n",
      "See the caveats in the documentation: http://pandas.pydata.org/pandas-docs/stable/user_guide/indexing.html#returning-a-view-versus-a-copy\n",
      "/Users/trae/.virtualenvs/talus_api/lib/python3.7/site-packages/pandas/core/frame.py:4102: SettingWithCopyWarning: \n",
      "A value is trying to be set on a copy of a slice from a DataFrame\n",
      "\n",
      "See the caveats in the documentation: http://pandas.pydata.org/pandas-docs/stable/user_guide/indexing.html#returning-a-view-versus-a-copy\n",
      "  errors=errors,\n"
     ]
    },
    {
     "name": "stdout",
     "output_type": "stream",
     "text": [
      "(30, 16)\n",
      "length: 4\n",
      "list: ['333', '0', '0', '0']\n"
     ]
    },
    {
     "name": "stderr",
     "output_type": "stream",
     "text": [
      "/Users/trae/.virtualenvs/talus_api/lib/python3.7/site-packages/ipykernel_launcher.py:34: SettingWithCopyWarning: \n",
      "A value is trying to be set on a copy of a slice from a DataFrame.\n",
      "Try using .loc[row_indexer,col_indexer] = value instead\n",
      "\n",
      "See the caveats in the documentation: http://pandas.pydata.org/pandas-docs/stable/user_guide/indexing.html#returning-a-view-versus-a-copy\n",
      "/Users/trae/.virtualenvs/talus_api/lib/python3.7/site-packages/ipykernel_launcher.py:35: SettingWithCopyWarning: \n",
      "A value is trying to be set on a copy of a slice from a DataFrame.\n",
      "Try using .loc[row_indexer,col_indexer] = value instead\n",
      "\n",
      "See the caveats in the documentation: http://pandas.pydata.org/pandas-docs/stable/user_guide/indexing.html#returning-a-view-versus-a-copy\n",
      "/Users/trae/.virtualenvs/talus_api/lib/python3.7/site-packages/pandas/core/frame.py:4102: SettingWithCopyWarning: \n",
      "A value is trying to be set on a copy of a slice from a DataFrame\n",
      "\n",
      "See the caveats in the documentation: http://pandas.pydata.org/pandas-docs/stable/user_guide/indexing.html#returning-a-view-versus-a-copy\n",
      "  errors=errors,\n"
     ]
    },
    {
     "name": "stdout",
     "output_type": "stream",
     "text": [
      "(30, 16)\n",
      "length: 4\n",
      "list: ['333', '0', '0', '0']\n"
     ]
    },
    {
     "name": "stderr",
     "output_type": "stream",
     "text": [
      "/Users/trae/.virtualenvs/talus_api/lib/python3.7/site-packages/ipykernel_launcher.py:34: SettingWithCopyWarning: \n",
      "A value is trying to be set on a copy of a slice from a DataFrame.\n",
      "Try using .loc[row_indexer,col_indexer] = value instead\n",
      "\n",
      "See the caveats in the documentation: http://pandas.pydata.org/pandas-docs/stable/user_guide/indexing.html#returning-a-view-versus-a-copy\n",
      "/Users/trae/.virtualenvs/talus_api/lib/python3.7/site-packages/ipykernel_launcher.py:35: SettingWithCopyWarning: \n",
      "A value is trying to be set on a copy of a slice from a DataFrame.\n",
      "Try using .loc[row_indexer,col_indexer] = value instead\n",
      "\n",
      "See the caveats in the documentation: http://pandas.pydata.org/pandas-docs/stable/user_guide/indexing.html#returning-a-view-versus-a-copy\n",
      "/Users/trae/.virtualenvs/talus_api/lib/python3.7/site-packages/pandas/core/frame.py:4102: SettingWithCopyWarning: \n",
      "A value is trying to be set on a copy of a slice from a DataFrame\n",
      "\n",
      "See the caveats in the documentation: http://pandas.pydata.org/pandas-docs/stable/user_guide/indexing.html#returning-a-view-versus-a-copy\n",
      "  errors=errors,\n"
     ]
    },
    {
     "name": "stdout",
     "output_type": "stream",
     "text": [
      "(30, 16)\n",
      "length: 4\n",
      "list: ['333', '0', '0', '0']\n"
     ]
    },
    {
     "name": "stderr",
     "output_type": "stream",
     "text": [
      "/Users/trae/.virtualenvs/talus_api/lib/python3.7/site-packages/ipykernel_launcher.py:34: SettingWithCopyWarning: \n",
      "A value is trying to be set on a copy of a slice from a DataFrame.\n",
      "Try using .loc[row_indexer,col_indexer] = value instead\n",
      "\n",
      "See the caveats in the documentation: http://pandas.pydata.org/pandas-docs/stable/user_guide/indexing.html#returning-a-view-versus-a-copy\n",
      "/Users/trae/.virtualenvs/talus_api/lib/python3.7/site-packages/ipykernel_launcher.py:35: SettingWithCopyWarning: \n",
      "A value is trying to be set on a copy of a slice from a DataFrame.\n",
      "Try using .loc[row_indexer,col_indexer] = value instead\n",
      "\n",
      "See the caveats in the documentation: http://pandas.pydata.org/pandas-docs/stable/user_guide/indexing.html#returning-a-view-versus-a-copy\n",
      "/Users/trae/.virtualenvs/talus_api/lib/python3.7/site-packages/pandas/core/frame.py:4102: SettingWithCopyWarning: \n",
      "A value is trying to be set on a copy of a slice from a DataFrame\n",
      "\n",
      "See the caveats in the documentation: http://pandas.pydata.org/pandas-docs/stable/user_guide/indexing.html#returning-a-view-versus-a-copy\n",
      "  errors=errors,\n"
     ]
    },
    {
     "name": "stdout",
     "output_type": "stream",
     "text": [
      "(30, 16)\n",
      "length: 4\n",
      "list: ['333', '0', '0', '0']\n"
     ]
    },
    {
     "name": "stderr",
     "output_type": "stream",
     "text": [
      "/Users/trae/.virtualenvs/talus_api/lib/python3.7/site-packages/ipykernel_launcher.py:34: SettingWithCopyWarning: \n",
      "A value is trying to be set on a copy of a slice from a DataFrame.\n",
      "Try using .loc[row_indexer,col_indexer] = value instead\n",
      "\n",
      "See the caveats in the documentation: http://pandas.pydata.org/pandas-docs/stable/user_guide/indexing.html#returning-a-view-versus-a-copy\n",
      "/Users/trae/.virtualenvs/talus_api/lib/python3.7/site-packages/ipykernel_launcher.py:35: SettingWithCopyWarning: \n",
      "A value is trying to be set on a copy of a slice from a DataFrame.\n",
      "Try using .loc[row_indexer,col_indexer] = value instead\n",
      "\n",
      "See the caveats in the documentation: http://pandas.pydata.org/pandas-docs/stable/user_guide/indexing.html#returning-a-view-versus-a-copy\n",
      "/Users/trae/.virtualenvs/talus_api/lib/python3.7/site-packages/pandas/core/frame.py:4102: SettingWithCopyWarning: \n",
      "A value is trying to be set on a copy of a slice from a DataFrame\n",
      "\n",
      "See the caveats in the documentation: http://pandas.pydata.org/pandas-docs/stable/user_guide/indexing.html#returning-a-view-versus-a-copy\n",
      "  errors=errors,\n"
     ]
    },
    {
     "name": "stdout",
     "output_type": "stream",
     "text": [
      "(30, 16)\n",
      "length: 4\n",
      "list: ['233', '0', '0', '0']\n"
     ]
    },
    {
     "name": "stderr",
     "output_type": "stream",
     "text": [
      "/Users/trae/.virtualenvs/talus_api/lib/python3.7/site-packages/ipykernel_launcher.py:34: SettingWithCopyWarning: \n",
      "A value is trying to be set on a copy of a slice from a DataFrame.\n",
      "Try using .loc[row_indexer,col_indexer] = value instead\n",
      "\n",
      "See the caveats in the documentation: http://pandas.pydata.org/pandas-docs/stable/user_guide/indexing.html#returning-a-view-versus-a-copy\n",
      "/Users/trae/.virtualenvs/talus_api/lib/python3.7/site-packages/ipykernel_launcher.py:35: SettingWithCopyWarning: \n",
      "A value is trying to be set on a copy of a slice from a DataFrame.\n",
      "Try using .loc[row_indexer,col_indexer] = value instead\n",
      "\n",
      "See the caveats in the documentation: http://pandas.pydata.org/pandas-docs/stable/user_guide/indexing.html#returning-a-view-versus-a-copy\n",
      "/Users/trae/.virtualenvs/talus_api/lib/python3.7/site-packages/pandas/core/frame.py:4102: SettingWithCopyWarning: \n",
      "A value is trying to be set on a copy of a slice from a DataFrame\n",
      "\n",
      "See the caveats in the documentation: http://pandas.pydata.org/pandas-docs/stable/user_guide/indexing.html#returning-a-view-versus-a-copy\n",
      "  errors=errors,\n"
     ]
    },
    {
     "name": "stdout",
     "output_type": "stream",
     "text": [
      "(30, 16)\n",
      "length: 4\n",
      "list: ['233', '0', '0', '0']\n"
     ]
    },
    {
     "name": "stderr",
     "output_type": "stream",
     "text": [
      "/Users/trae/.virtualenvs/talus_api/lib/python3.7/site-packages/ipykernel_launcher.py:34: SettingWithCopyWarning: \n",
      "A value is trying to be set on a copy of a slice from a DataFrame.\n",
      "Try using .loc[row_indexer,col_indexer] = value instead\n",
      "\n",
      "See the caveats in the documentation: http://pandas.pydata.org/pandas-docs/stable/user_guide/indexing.html#returning-a-view-versus-a-copy\n",
      "/Users/trae/.virtualenvs/talus_api/lib/python3.7/site-packages/ipykernel_launcher.py:35: SettingWithCopyWarning: \n",
      "A value is trying to be set on a copy of a slice from a DataFrame.\n",
      "Try using .loc[row_indexer,col_indexer] = value instead\n",
      "\n",
      "See the caveats in the documentation: http://pandas.pydata.org/pandas-docs/stable/user_guide/indexing.html#returning-a-view-versus-a-copy\n",
      "/Users/trae/.virtualenvs/talus_api/lib/python3.7/site-packages/pandas/core/frame.py:4102: SettingWithCopyWarning: \n",
      "A value is trying to be set on a copy of a slice from a DataFrame\n",
      "\n",
      "See the caveats in the documentation: http://pandas.pydata.org/pandas-docs/stable/user_guide/indexing.html#returning-a-view-versus-a-copy\n",
      "  errors=errors,\n"
     ]
    },
    {
     "name": "stdout",
     "output_type": "stream",
     "text": [
      "(30, 16)\n",
      "length: 4\n",
      "list: ['233', '0', '0', '0']\n"
     ]
    },
    {
     "name": "stderr",
     "output_type": "stream",
     "text": [
      "/Users/trae/.virtualenvs/talus_api/lib/python3.7/site-packages/ipykernel_launcher.py:34: SettingWithCopyWarning: \n",
      "A value is trying to be set on a copy of a slice from a DataFrame.\n",
      "Try using .loc[row_indexer,col_indexer] = value instead\n",
      "\n",
      "See the caveats in the documentation: http://pandas.pydata.org/pandas-docs/stable/user_guide/indexing.html#returning-a-view-versus-a-copy\n",
      "/Users/trae/.virtualenvs/talus_api/lib/python3.7/site-packages/ipykernel_launcher.py:35: SettingWithCopyWarning: \n",
      "A value is trying to be set on a copy of a slice from a DataFrame.\n",
      "Try using .loc[row_indexer,col_indexer] = value instead\n",
      "\n",
      "See the caveats in the documentation: http://pandas.pydata.org/pandas-docs/stable/user_guide/indexing.html#returning-a-view-versus-a-copy\n",
      "/Users/trae/.virtualenvs/talus_api/lib/python3.7/site-packages/pandas/core/frame.py:4102: SettingWithCopyWarning: \n",
      "A value is trying to be set on a copy of a slice from a DataFrame\n",
      "\n",
      "See the caveats in the documentation: http://pandas.pydata.org/pandas-docs/stable/user_guide/indexing.html#returning-a-view-versus-a-copy\n",
      "  errors=errors,\n"
     ]
    },
    {
     "name": "stdout",
     "output_type": "stream",
     "text": [
      "(30, 16)\n",
      "length: 4\n",
      "list: ['233', '0', '0', '0']\n"
     ]
    },
    {
     "name": "stderr",
     "output_type": "stream",
     "text": [
      "/Users/trae/.virtualenvs/talus_api/lib/python3.7/site-packages/ipykernel_launcher.py:34: SettingWithCopyWarning: \n",
      "A value is trying to be set on a copy of a slice from a DataFrame.\n",
      "Try using .loc[row_indexer,col_indexer] = value instead\n",
      "\n",
      "See the caveats in the documentation: http://pandas.pydata.org/pandas-docs/stable/user_guide/indexing.html#returning-a-view-versus-a-copy\n",
      "/Users/trae/.virtualenvs/talus_api/lib/python3.7/site-packages/ipykernel_launcher.py:35: SettingWithCopyWarning: \n",
      "A value is trying to be set on a copy of a slice from a DataFrame.\n",
      "Try using .loc[row_indexer,col_indexer] = value instead\n",
      "\n",
      "See the caveats in the documentation: http://pandas.pydata.org/pandas-docs/stable/user_guide/indexing.html#returning-a-view-versus-a-copy\n",
      "/Users/trae/.virtualenvs/talus_api/lib/python3.7/site-packages/pandas/core/frame.py:4102: SettingWithCopyWarning: \n",
      "A value is trying to be set on a copy of a slice from a DataFrame\n",
      "\n",
      "See the caveats in the documentation: http://pandas.pydata.org/pandas-docs/stable/user_guide/indexing.html#returning-a-view-versus-a-copy\n",
      "  errors=errors,\n"
     ]
    },
    {
     "name": "stdout",
     "output_type": "stream",
     "text": [
      "(30, 18)\n",
      "Length mismatch: Expected axis has 18 elements, new values have 16 elements\n",
      "(30, 16)\n",
      "length: 4\n",
      "list: ['233', '0', '0', '0']\n"
     ]
    },
    {
     "name": "stderr",
     "output_type": "stream",
     "text": [
      "/Users/trae/.virtualenvs/talus_api/lib/python3.7/site-packages/ipykernel_launcher.py:34: SettingWithCopyWarning: \n",
      "A value is trying to be set on a copy of a slice from a DataFrame.\n",
      "Try using .loc[row_indexer,col_indexer] = value instead\n",
      "\n",
      "See the caveats in the documentation: http://pandas.pydata.org/pandas-docs/stable/user_guide/indexing.html#returning-a-view-versus-a-copy\n",
      "/Users/trae/.virtualenvs/talus_api/lib/python3.7/site-packages/ipykernel_launcher.py:35: SettingWithCopyWarning: \n",
      "A value is trying to be set on a copy of a slice from a DataFrame.\n",
      "Try using .loc[row_indexer,col_indexer] = value instead\n",
      "\n",
      "See the caveats in the documentation: http://pandas.pydata.org/pandas-docs/stable/user_guide/indexing.html#returning-a-view-versus-a-copy\n",
      "/Users/trae/.virtualenvs/talus_api/lib/python3.7/site-packages/pandas/core/frame.py:4102: SettingWithCopyWarning: \n",
      "A value is trying to be set on a copy of a slice from a DataFrame\n",
      "\n",
      "See the caveats in the documentation: http://pandas.pydata.org/pandas-docs/stable/user_guide/indexing.html#returning-a-view-versus-a-copy\n",
      "  errors=errors,\n"
     ]
    },
    {
     "name": "stdout",
     "output_type": "stream",
     "text": [
      "(30, 16)\n",
      "length: 4\n",
      "list: ['233', '0', '0', '0']\n"
     ]
    },
    {
     "name": "stderr",
     "output_type": "stream",
     "text": [
      "/Users/trae/.virtualenvs/talus_api/lib/python3.7/site-packages/ipykernel_launcher.py:34: SettingWithCopyWarning: \n",
      "A value is trying to be set on a copy of a slice from a DataFrame.\n",
      "Try using .loc[row_indexer,col_indexer] = value instead\n",
      "\n",
      "See the caveats in the documentation: http://pandas.pydata.org/pandas-docs/stable/user_guide/indexing.html#returning-a-view-versus-a-copy\n",
      "/Users/trae/.virtualenvs/talus_api/lib/python3.7/site-packages/ipykernel_launcher.py:35: SettingWithCopyWarning: \n",
      "A value is trying to be set on a copy of a slice from a DataFrame.\n",
      "Try using .loc[row_indexer,col_indexer] = value instead\n",
      "\n",
      "See the caveats in the documentation: http://pandas.pydata.org/pandas-docs/stable/user_guide/indexing.html#returning-a-view-versus-a-copy\n",
      "/Users/trae/.virtualenvs/talus_api/lib/python3.7/site-packages/pandas/core/frame.py:4102: SettingWithCopyWarning: \n",
      "A value is trying to be set on a copy of a slice from a DataFrame\n",
      "\n",
      "See the caveats in the documentation: http://pandas.pydata.org/pandas-docs/stable/user_guide/indexing.html#returning-a-view-versus-a-copy\n",
      "  errors=errors,\n"
     ]
    },
    {
     "name": "stdout",
     "output_type": "stream",
     "text": [
      "(30, 16)\n",
      "length: 4\n",
      "list: ['179', '0', '0', '0']\n"
     ]
    },
    {
     "name": "stderr",
     "output_type": "stream",
     "text": [
      "/Users/trae/.virtualenvs/talus_api/lib/python3.7/site-packages/ipykernel_launcher.py:34: SettingWithCopyWarning: \n",
      "A value is trying to be set on a copy of a slice from a DataFrame.\n",
      "Try using .loc[row_indexer,col_indexer] = value instead\n",
      "\n",
      "See the caveats in the documentation: http://pandas.pydata.org/pandas-docs/stable/user_guide/indexing.html#returning-a-view-versus-a-copy\n",
      "/Users/trae/.virtualenvs/talus_api/lib/python3.7/site-packages/ipykernel_launcher.py:35: SettingWithCopyWarning: \n",
      "A value is trying to be set on a copy of a slice from a DataFrame.\n",
      "Try using .loc[row_indexer,col_indexer] = value instead\n",
      "\n",
      "See the caveats in the documentation: http://pandas.pydata.org/pandas-docs/stable/user_guide/indexing.html#returning-a-view-versus-a-copy\n",
      "/Users/trae/.virtualenvs/talus_api/lib/python3.7/site-packages/pandas/core/frame.py:4102: SettingWithCopyWarning: \n",
      "A value is trying to be set on a copy of a slice from a DataFrame\n",
      "\n",
      "See the caveats in the documentation: http://pandas.pydata.org/pandas-docs/stable/user_guide/indexing.html#returning-a-view-versus-a-copy\n",
      "  errors=errors,\n"
     ]
    },
    {
     "name": "stdout",
     "output_type": "stream",
     "text": [
      "(30, 16)\n",
      "length: 4\n",
      "list: ['179', '0', '0', '0']\n"
     ]
    },
    {
     "name": "stderr",
     "output_type": "stream",
     "text": [
      "/Users/trae/.virtualenvs/talus_api/lib/python3.7/site-packages/ipykernel_launcher.py:34: SettingWithCopyWarning: \n",
      "A value is trying to be set on a copy of a slice from a DataFrame.\n",
      "Try using .loc[row_indexer,col_indexer] = value instead\n",
      "\n",
      "See the caveats in the documentation: http://pandas.pydata.org/pandas-docs/stable/user_guide/indexing.html#returning-a-view-versus-a-copy\n",
      "/Users/trae/.virtualenvs/talus_api/lib/python3.7/site-packages/ipykernel_launcher.py:35: SettingWithCopyWarning: \n",
      "A value is trying to be set on a copy of a slice from a DataFrame.\n",
      "Try using .loc[row_indexer,col_indexer] = value instead\n",
      "\n",
      "See the caveats in the documentation: http://pandas.pydata.org/pandas-docs/stable/user_guide/indexing.html#returning-a-view-versus-a-copy\n",
      "/Users/trae/.virtualenvs/talus_api/lib/python3.7/site-packages/pandas/core/frame.py:4102: SettingWithCopyWarning: \n",
      "A value is trying to be set on a copy of a slice from a DataFrame\n",
      "\n",
      "See the caveats in the documentation: http://pandas.pydata.org/pandas-docs/stable/user_guide/indexing.html#returning-a-view-versus-a-copy\n",
      "  errors=errors,\n"
     ]
    },
    {
     "name": "stdout",
     "output_type": "stream",
     "text": [
      "(30, 18)\n",
      "Length mismatch: Expected axis has 18 elements, new values have 16 elements\n",
      "(30, 18)\n",
      "Length mismatch: Expected axis has 18 elements, new values have 16 elements\n",
      "(30, 16)\n",
      "length: 4\n",
      "list: ['157', '0', '0', '0']\n"
     ]
    },
    {
     "name": "stderr",
     "output_type": "stream",
     "text": [
      "/Users/trae/.virtualenvs/talus_api/lib/python3.7/site-packages/ipykernel_launcher.py:34: SettingWithCopyWarning: \n",
      "A value is trying to be set on a copy of a slice from a DataFrame.\n",
      "Try using .loc[row_indexer,col_indexer] = value instead\n",
      "\n",
      "See the caveats in the documentation: http://pandas.pydata.org/pandas-docs/stable/user_guide/indexing.html#returning-a-view-versus-a-copy\n",
      "/Users/trae/.virtualenvs/talus_api/lib/python3.7/site-packages/ipykernel_launcher.py:35: SettingWithCopyWarning: \n",
      "A value is trying to be set on a copy of a slice from a DataFrame.\n",
      "Try using .loc[row_indexer,col_indexer] = value instead\n",
      "\n",
      "See the caveats in the documentation: http://pandas.pydata.org/pandas-docs/stable/user_guide/indexing.html#returning-a-view-versus-a-copy\n",
      "/Users/trae/.virtualenvs/talus_api/lib/python3.7/site-packages/pandas/core/frame.py:4102: SettingWithCopyWarning: \n",
      "A value is trying to be set on a copy of a slice from a DataFrame\n",
      "\n",
      "See the caveats in the documentation: http://pandas.pydata.org/pandas-docs/stable/user_guide/indexing.html#returning-a-view-versus-a-copy\n",
      "  errors=errors,\n"
     ]
    },
    {
     "name": "stdout",
     "output_type": "stream",
     "text": [
      "(30, 16)\n",
      "length: 4\n",
      "list: ['138', '0', '0', '0']\n"
     ]
    },
    {
     "name": "stderr",
     "output_type": "stream",
     "text": [
      "/Users/trae/.virtualenvs/talus_api/lib/python3.7/site-packages/ipykernel_launcher.py:34: SettingWithCopyWarning: \n",
      "A value is trying to be set on a copy of a slice from a DataFrame.\n",
      "Try using .loc[row_indexer,col_indexer] = value instead\n",
      "\n",
      "See the caveats in the documentation: http://pandas.pydata.org/pandas-docs/stable/user_guide/indexing.html#returning-a-view-versus-a-copy\n",
      "/Users/trae/.virtualenvs/talus_api/lib/python3.7/site-packages/ipykernel_launcher.py:35: SettingWithCopyWarning: \n",
      "A value is trying to be set on a copy of a slice from a DataFrame.\n",
      "Try using .loc[row_indexer,col_indexer] = value instead\n",
      "\n",
      "See the caveats in the documentation: http://pandas.pydata.org/pandas-docs/stable/user_guide/indexing.html#returning-a-view-versus-a-copy\n",
      "/Users/trae/.virtualenvs/talus_api/lib/python3.7/site-packages/pandas/core/frame.py:4102: SettingWithCopyWarning: \n",
      "A value is trying to be set on a copy of a slice from a DataFrame\n",
      "\n",
      "See the caveats in the documentation: http://pandas.pydata.org/pandas-docs/stable/user_guide/indexing.html#returning-a-view-versus-a-copy\n",
      "  errors=errors,\n"
     ]
    },
    {
     "name": "stdout",
     "output_type": "stream",
     "text": [
      "(30, 16)\n",
      "length: 4\n",
      "list: ['138', '0', '0', '0']\n"
     ]
    },
    {
     "name": "stderr",
     "output_type": "stream",
     "text": [
      "/Users/trae/.virtualenvs/talus_api/lib/python3.7/site-packages/ipykernel_launcher.py:34: SettingWithCopyWarning: \n",
      "A value is trying to be set on a copy of a slice from a DataFrame.\n",
      "Try using .loc[row_indexer,col_indexer] = value instead\n",
      "\n",
      "See the caveats in the documentation: http://pandas.pydata.org/pandas-docs/stable/user_guide/indexing.html#returning-a-view-versus-a-copy\n",
      "/Users/trae/.virtualenvs/talus_api/lib/python3.7/site-packages/ipykernel_launcher.py:35: SettingWithCopyWarning: \n",
      "A value is trying to be set on a copy of a slice from a DataFrame.\n",
      "Try using .loc[row_indexer,col_indexer] = value instead\n",
      "\n",
      "See the caveats in the documentation: http://pandas.pydata.org/pandas-docs/stable/user_guide/indexing.html#returning-a-view-versus-a-copy\n",
      "/Users/trae/.virtualenvs/talus_api/lib/python3.7/site-packages/pandas/core/frame.py:4102: SettingWithCopyWarning: \n",
      "A value is trying to be set on a copy of a slice from a DataFrame\n",
      "\n",
      "See the caveats in the documentation: http://pandas.pydata.org/pandas-docs/stable/user_guide/indexing.html#returning-a-view-versus-a-copy\n",
      "  errors=errors,\n"
     ]
    },
    {
     "name": "stdout",
     "output_type": "stream",
     "text": [
      "(30, 16)\n",
      "length: 4\n",
      "list: ['107', '0', '0', '0']\n"
     ]
    },
    {
     "name": "stderr",
     "output_type": "stream",
     "text": [
      "/Users/trae/.virtualenvs/talus_api/lib/python3.7/site-packages/ipykernel_launcher.py:34: SettingWithCopyWarning: \n",
      "A value is trying to be set on a copy of a slice from a DataFrame.\n",
      "Try using .loc[row_indexer,col_indexer] = value instead\n",
      "\n",
      "See the caveats in the documentation: http://pandas.pydata.org/pandas-docs/stable/user_guide/indexing.html#returning-a-view-versus-a-copy\n",
      "/Users/trae/.virtualenvs/talus_api/lib/python3.7/site-packages/ipykernel_launcher.py:35: SettingWithCopyWarning: \n",
      "A value is trying to be set on a copy of a slice from a DataFrame.\n",
      "Try using .loc[row_indexer,col_indexer] = value instead\n",
      "\n",
      "See the caveats in the documentation: http://pandas.pydata.org/pandas-docs/stable/user_guide/indexing.html#returning-a-view-versus-a-copy\n",
      "/Users/trae/.virtualenvs/talus_api/lib/python3.7/site-packages/pandas/core/frame.py:4102: SettingWithCopyWarning: \n",
      "A value is trying to be set on a copy of a slice from a DataFrame\n",
      "\n",
      "See the caveats in the documentation: http://pandas.pydata.org/pandas-docs/stable/user_guide/indexing.html#returning-a-view-versus-a-copy\n",
      "  errors=errors,\n"
     ]
    },
    {
     "name": "stdout",
     "output_type": "stream",
     "text": [
      "(30, 16)\n",
      "length: 4\n",
      "list: ['94', '0', '0', '0']\n"
     ]
    },
    {
     "name": "stderr",
     "output_type": "stream",
     "text": [
      "/Users/trae/.virtualenvs/talus_api/lib/python3.7/site-packages/ipykernel_launcher.py:34: SettingWithCopyWarning: \n",
      "A value is trying to be set on a copy of a slice from a DataFrame.\n",
      "Try using .loc[row_indexer,col_indexer] = value instead\n",
      "\n",
      "See the caveats in the documentation: http://pandas.pydata.org/pandas-docs/stable/user_guide/indexing.html#returning-a-view-versus-a-copy\n",
      "/Users/trae/.virtualenvs/talus_api/lib/python3.7/site-packages/ipykernel_launcher.py:35: SettingWithCopyWarning: \n",
      "A value is trying to be set on a copy of a slice from a DataFrame.\n",
      "Try using .loc[row_indexer,col_indexer] = value instead\n",
      "\n",
      "See the caveats in the documentation: http://pandas.pydata.org/pandas-docs/stable/user_guide/indexing.html#returning-a-view-versus-a-copy\n",
      "/Users/trae/.virtualenvs/talus_api/lib/python3.7/site-packages/pandas/core/frame.py:4102: SettingWithCopyWarning: \n",
      "A value is trying to be set on a copy of a slice from a DataFrame\n",
      "\n",
      "See the caveats in the documentation: http://pandas.pydata.org/pandas-docs/stable/user_guide/indexing.html#returning-a-view-versus-a-copy\n",
      "  errors=errors,\n"
     ]
    },
    {
     "name": "stdout",
     "output_type": "stream",
     "text": [
      "(30, 18)\n",
      "Length mismatch: Expected axis has 18 elements, new values have 16 elements\n",
      "(30, 16)\n",
      "length: 4\n",
      "list: ['94', '0', '0', '0']\n"
     ]
    },
    {
     "name": "stderr",
     "output_type": "stream",
     "text": [
      "/Users/trae/.virtualenvs/talus_api/lib/python3.7/site-packages/ipykernel_launcher.py:34: SettingWithCopyWarning: \n",
      "A value is trying to be set on a copy of a slice from a DataFrame.\n",
      "Try using .loc[row_indexer,col_indexer] = value instead\n",
      "\n",
      "See the caveats in the documentation: http://pandas.pydata.org/pandas-docs/stable/user_guide/indexing.html#returning-a-view-versus-a-copy\n",
      "/Users/trae/.virtualenvs/talus_api/lib/python3.7/site-packages/ipykernel_launcher.py:35: SettingWithCopyWarning: \n",
      "A value is trying to be set on a copy of a slice from a DataFrame.\n",
      "Try using .loc[row_indexer,col_indexer] = value instead\n",
      "\n",
      "See the caveats in the documentation: http://pandas.pydata.org/pandas-docs/stable/user_guide/indexing.html#returning-a-view-versus-a-copy\n",
      "/Users/trae/.virtualenvs/talus_api/lib/python3.7/site-packages/pandas/core/frame.py:4102: SettingWithCopyWarning: \n",
      "A value is trying to be set on a copy of a slice from a DataFrame\n",
      "\n",
      "See the caveats in the documentation: http://pandas.pydata.org/pandas-docs/stable/user_guide/indexing.html#returning-a-view-versus-a-copy\n",
      "  errors=errors,\n"
     ]
    },
    {
     "name": "stdout",
     "output_type": "stream",
     "text": [
      "(30, 16)\n",
      "length: 4\n",
      "list: ['75', '0', '0', '0']\n"
     ]
    },
    {
     "name": "stderr",
     "output_type": "stream",
     "text": [
      "/Users/trae/.virtualenvs/talus_api/lib/python3.7/site-packages/ipykernel_launcher.py:34: SettingWithCopyWarning: \n",
      "A value is trying to be set on a copy of a slice from a DataFrame.\n",
      "Try using .loc[row_indexer,col_indexer] = value instead\n",
      "\n",
      "See the caveats in the documentation: http://pandas.pydata.org/pandas-docs/stable/user_guide/indexing.html#returning-a-view-versus-a-copy\n",
      "/Users/trae/.virtualenvs/talus_api/lib/python3.7/site-packages/ipykernel_launcher.py:35: SettingWithCopyWarning: \n",
      "A value is trying to be set on a copy of a slice from a DataFrame.\n",
      "Try using .loc[row_indexer,col_indexer] = value instead\n",
      "\n",
      "See the caveats in the documentation: http://pandas.pydata.org/pandas-docs/stable/user_guide/indexing.html#returning-a-view-versus-a-copy\n",
      "/Users/trae/.virtualenvs/talus_api/lib/python3.7/site-packages/pandas/core/frame.py:4102: SettingWithCopyWarning: \n",
      "A value is trying to be set on a copy of a slice from a DataFrame\n",
      "\n",
      "See the caveats in the documentation: http://pandas.pydata.org/pandas-docs/stable/user_guide/indexing.html#returning-a-view-versus-a-copy\n",
      "  errors=errors,\n"
     ]
    },
    {
     "name": "stdout",
     "output_type": "stream",
     "text": [
      "(30, 16)\n",
      "length: 4\n",
      "list: ['75', '0', '0', '0']\n"
     ]
    },
    {
     "name": "stderr",
     "output_type": "stream",
     "text": [
      "/Users/trae/.virtualenvs/talus_api/lib/python3.7/site-packages/ipykernel_launcher.py:34: SettingWithCopyWarning: \n",
      "A value is trying to be set on a copy of a slice from a DataFrame.\n",
      "Try using .loc[row_indexer,col_indexer] = value instead\n",
      "\n",
      "See the caveats in the documentation: http://pandas.pydata.org/pandas-docs/stable/user_guide/indexing.html#returning-a-view-versus-a-copy\n",
      "/Users/trae/.virtualenvs/talus_api/lib/python3.7/site-packages/ipykernel_launcher.py:35: SettingWithCopyWarning: \n",
      "A value is trying to be set on a copy of a slice from a DataFrame.\n",
      "Try using .loc[row_indexer,col_indexer] = value instead\n",
      "\n",
      "See the caveats in the documentation: http://pandas.pydata.org/pandas-docs/stable/user_guide/indexing.html#returning-a-view-versus-a-copy\n",
      "/Users/trae/.virtualenvs/talus_api/lib/python3.7/site-packages/pandas/core/frame.py:4102: SettingWithCopyWarning: \n",
      "A value is trying to be set on a copy of a slice from a DataFrame\n",
      "\n",
      "See the caveats in the documentation: http://pandas.pydata.org/pandas-docs/stable/user_guide/indexing.html#returning-a-view-versus-a-copy\n",
      "  errors=errors,\n"
     ]
    },
    {
     "name": "stdout",
     "output_type": "stream",
     "text": [
      "(30, 16)\n",
      "length: 4\n",
      "list: ['65', '0', '0', '0']\n"
     ]
    },
    {
     "name": "stderr",
     "output_type": "stream",
     "text": [
      "/Users/trae/.virtualenvs/talus_api/lib/python3.7/site-packages/ipykernel_launcher.py:34: SettingWithCopyWarning: \n",
      "A value is trying to be set on a copy of a slice from a DataFrame.\n",
      "Try using .loc[row_indexer,col_indexer] = value instead\n",
      "\n",
      "See the caveats in the documentation: http://pandas.pydata.org/pandas-docs/stable/user_guide/indexing.html#returning-a-view-versus-a-copy\n",
      "/Users/trae/.virtualenvs/talus_api/lib/python3.7/site-packages/ipykernel_launcher.py:35: SettingWithCopyWarning: \n",
      "A value is trying to be set on a copy of a slice from a DataFrame.\n",
      "Try using .loc[row_indexer,col_indexer] = value instead\n",
      "\n",
      "See the caveats in the documentation: http://pandas.pydata.org/pandas-docs/stable/user_guide/indexing.html#returning-a-view-versus-a-copy\n",
      "/Users/trae/.virtualenvs/talus_api/lib/python3.7/site-packages/pandas/core/frame.py:4102: SettingWithCopyWarning: \n",
      "A value is trying to be set on a copy of a slice from a DataFrame\n",
      "\n",
      "See the caveats in the documentation: http://pandas.pydata.org/pandas-docs/stable/user_guide/indexing.html#returning-a-view-versus-a-copy\n",
      "  errors=errors,\n"
     ]
    },
    {
     "name": "stdout",
     "output_type": "stream",
     "text": [
      "(30, 16)\n",
      "length: 4\n",
      "list: ['36', '0', '0', '0']\n"
     ]
    },
    {
     "name": "stderr",
     "output_type": "stream",
     "text": [
      "/Users/trae/.virtualenvs/talus_api/lib/python3.7/site-packages/ipykernel_launcher.py:34: SettingWithCopyWarning: \n",
      "A value is trying to be set on a copy of a slice from a DataFrame.\n",
      "Try using .loc[row_indexer,col_indexer] = value instead\n",
      "\n",
      "See the caveats in the documentation: http://pandas.pydata.org/pandas-docs/stable/user_guide/indexing.html#returning-a-view-versus-a-copy\n",
      "/Users/trae/.virtualenvs/talus_api/lib/python3.7/site-packages/ipykernel_launcher.py:35: SettingWithCopyWarning: \n",
      "A value is trying to be set on a copy of a slice from a DataFrame.\n",
      "Try using .loc[row_indexer,col_indexer] = value instead\n",
      "\n",
      "See the caveats in the documentation: http://pandas.pydata.org/pandas-docs/stable/user_guide/indexing.html#returning-a-view-versus-a-copy\n",
      "/Users/trae/.virtualenvs/talus_api/lib/python3.7/site-packages/pandas/core/frame.py:4102: SettingWithCopyWarning: \n",
      "A value is trying to be set on a copy of a slice from a DataFrame\n",
      "\n",
      "See the caveats in the documentation: http://pandas.pydata.org/pandas-docs/stable/user_guide/indexing.html#returning-a-view-versus-a-copy\n",
      "  errors=errors,\n"
     ]
    },
    {
     "name": "stdout",
     "output_type": "stream",
     "text": [
      "(30, 16)\n",
      "length: 4\n",
      "list: ['25', '0', '0', '0']\n"
     ]
    },
    {
     "name": "stderr",
     "output_type": "stream",
     "text": [
      "/Users/trae/.virtualenvs/talus_api/lib/python3.7/site-packages/ipykernel_launcher.py:34: SettingWithCopyWarning: \n",
      "A value is trying to be set on a copy of a slice from a DataFrame.\n",
      "Try using .loc[row_indexer,col_indexer] = value instead\n",
      "\n",
      "See the caveats in the documentation: http://pandas.pydata.org/pandas-docs/stable/user_guide/indexing.html#returning-a-view-versus-a-copy\n",
      "/Users/trae/.virtualenvs/talus_api/lib/python3.7/site-packages/ipykernel_launcher.py:35: SettingWithCopyWarning: \n",
      "A value is trying to be set on a copy of a slice from a DataFrame.\n",
      "Try using .loc[row_indexer,col_indexer] = value instead\n",
      "\n",
      "See the caveats in the documentation: http://pandas.pydata.org/pandas-docs/stable/user_guide/indexing.html#returning-a-view-versus-a-copy\n",
      "/Users/trae/.virtualenvs/talus_api/lib/python3.7/site-packages/pandas/core/frame.py:4102: SettingWithCopyWarning: \n",
      "A value is trying to be set on a copy of a slice from a DataFrame\n",
      "\n",
      "See the caveats in the documentation: http://pandas.pydata.org/pandas-docs/stable/user_guide/indexing.html#returning-a-view-versus-a-copy\n",
      "  errors=errors,\n"
     ]
    },
    {
     "name": "stdout",
     "output_type": "stream",
     "text": [
      "(30, 16)\n",
      "length: 4\n",
      "list: ['25', '0', '0', '0']\n"
     ]
    },
    {
     "name": "stderr",
     "output_type": "stream",
     "text": [
      "/Users/trae/.virtualenvs/talus_api/lib/python3.7/site-packages/ipykernel_launcher.py:34: SettingWithCopyWarning: \n",
      "A value is trying to be set on a copy of a slice from a DataFrame.\n",
      "Try using .loc[row_indexer,col_indexer] = value instead\n",
      "\n",
      "See the caveats in the documentation: http://pandas.pydata.org/pandas-docs/stable/user_guide/indexing.html#returning-a-view-versus-a-copy\n",
      "/Users/trae/.virtualenvs/talus_api/lib/python3.7/site-packages/ipykernel_launcher.py:35: SettingWithCopyWarning: \n",
      "A value is trying to be set on a copy of a slice from a DataFrame.\n",
      "Try using .loc[row_indexer,col_indexer] = value instead\n",
      "\n",
      "See the caveats in the documentation: http://pandas.pydata.org/pandas-docs/stable/user_guide/indexing.html#returning-a-view-versus-a-copy\n",
      "/Users/trae/.virtualenvs/talus_api/lib/python3.7/site-packages/pandas/core/frame.py:4102: SettingWithCopyWarning: \n",
      "A value is trying to be set on a copy of a slice from a DataFrame\n",
      "\n",
      "See the caveats in the documentation: http://pandas.pydata.org/pandas-docs/stable/user_guide/indexing.html#returning-a-view-versus-a-copy\n",
      "  errors=errors,\n"
     ]
    },
    {
     "name": "stdout",
     "output_type": "stream",
     "text": [
      "(30, 16)\n",
      "length: 4\n",
      "list: ['8', '0', '0', '0']\n"
     ]
    },
    {
     "name": "stderr",
     "output_type": "stream",
     "text": [
      "/Users/trae/.virtualenvs/talus_api/lib/python3.7/site-packages/ipykernel_launcher.py:34: SettingWithCopyWarning: \n",
      "A value is trying to be set on a copy of a slice from a DataFrame.\n",
      "Try using .loc[row_indexer,col_indexer] = value instead\n",
      "\n",
      "See the caveats in the documentation: http://pandas.pydata.org/pandas-docs/stable/user_guide/indexing.html#returning-a-view-versus-a-copy\n",
      "/Users/trae/.virtualenvs/talus_api/lib/python3.7/site-packages/ipykernel_launcher.py:35: SettingWithCopyWarning: \n",
      "A value is trying to be set on a copy of a slice from a DataFrame.\n",
      "Try using .loc[row_indexer,col_indexer] = value instead\n",
      "\n",
      "See the caveats in the documentation: http://pandas.pydata.org/pandas-docs/stable/user_guide/indexing.html#returning-a-view-versus-a-copy\n",
      "/Users/trae/.virtualenvs/talus_api/lib/python3.7/site-packages/pandas/core/frame.py:4102: SettingWithCopyWarning: \n",
      "A value is trying to be set on a copy of a slice from a DataFrame\n",
      "\n",
      "See the caveats in the documentation: http://pandas.pydata.org/pandas-docs/stable/user_guide/indexing.html#returning-a-view-versus-a-copy\n",
      "  errors=errors,\n"
     ]
    },
    {
     "name": "stdout",
     "output_type": "stream",
     "text": [
      "(30, 16)\n",
      "length: 4\n",
      "list: ['0', '0', '0', '0']\n"
     ]
    },
    {
     "name": "stderr",
     "output_type": "stream",
     "text": [
      "/Users/trae/.virtualenvs/talus_api/lib/python3.7/site-packages/ipykernel_launcher.py:34: SettingWithCopyWarning: \n",
      "A value is trying to be set on a copy of a slice from a DataFrame.\n",
      "Try using .loc[row_indexer,col_indexer] = value instead\n",
      "\n",
      "See the caveats in the documentation: http://pandas.pydata.org/pandas-docs/stable/user_guide/indexing.html#returning-a-view-versus-a-copy\n",
      "/Users/trae/.virtualenvs/talus_api/lib/python3.7/site-packages/ipykernel_launcher.py:35: SettingWithCopyWarning: \n",
      "A value is trying to be set on a copy of a slice from a DataFrame.\n",
      "Try using .loc[row_indexer,col_indexer] = value instead\n",
      "\n",
      "See the caveats in the documentation: http://pandas.pydata.org/pandas-docs/stable/user_guide/indexing.html#returning-a-view-versus-a-copy\n",
      "/Users/trae/.virtualenvs/talus_api/lib/python3.7/site-packages/pandas/core/frame.py:4102: SettingWithCopyWarning: \n",
      "A value is trying to be set on a copy of a slice from a DataFrame\n",
      "\n",
      "See the caveats in the documentation: http://pandas.pydata.org/pandas-docs/stable/user_guide/indexing.html#returning-a-view-versus-a-copy\n",
      "  errors=errors,\n"
     ]
    },
    {
     "name": "stdout",
     "output_type": "stream",
     "text": [
      "(30, 17)\n",
      "length: 5\n",
      "list: ['0', '0', '0', '0', '2012/16']\n"
     ]
    },
    {
     "name": "stderr",
     "output_type": "stream",
     "text": [
      "/Users/trae/.virtualenvs/talus_api/lib/python3.7/site-packages/ipykernel_launcher.py:34: SettingWithCopyWarning: \n",
      "A value is trying to be set on a copy of a slice from a DataFrame.\n",
      "Try using .loc[row_indexer,col_indexer] = value instead\n",
      "\n",
      "See the caveats in the documentation: http://pandas.pydata.org/pandas-docs/stable/user_guide/indexing.html#returning-a-view-versus-a-copy\n",
      "/Users/trae/.virtualenvs/talus_api/lib/python3.7/site-packages/ipykernel_launcher.py:35: SettingWithCopyWarning: \n",
      "A value is trying to be set on a copy of a slice from a DataFrame.\n",
      "Try using .loc[row_indexer,col_indexer] = value instead\n",
      "\n",
      "See the caveats in the documentation: http://pandas.pydata.org/pandas-docs/stable/user_guide/indexing.html#returning-a-view-versus-a-copy\n",
      "/Users/trae/.virtualenvs/talus_api/lib/python3.7/site-packages/pandas/core/frame.py:4102: SettingWithCopyWarning: \n",
      "A value is trying to be set on a copy of a slice from a DataFrame\n",
      "\n",
      "See the caveats in the documentation: http://pandas.pydata.org/pandas-docs/stable/user_guide/indexing.html#returning-a-view-versus-a-copy\n",
      "  errors=errors,\n"
     ]
    },
    {
     "name": "stdout",
     "output_type": "stream",
     "text": [
      "(30, 17)\n",
      "length: 5\n",
      "list: ['0', '0', '0', '0', '2012/16']\n"
     ]
    },
    {
     "name": "stderr",
     "output_type": "stream",
     "text": [
      "/Users/trae/.virtualenvs/talus_api/lib/python3.7/site-packages/ipykernel_launcher.py:34: SettingWithCopyWarning: \n",
      "A value is trying to be set on a copy of a slice from a DataFrame.\n",
      "Try using .loc[row_indexer,col_indexer] = value instead\n",
      "\n",
      "See the caveats in the documentation: http://pandas.pydata.org/pandas-docs/stable/user_guide/indexing.html#returning-a-view-versus-a-copy\n",
      "/Users/trae/.virtualenvs/talus_api/lib/python3.7/site-packages/ipykernel_launcher.py:35: SettingWithCopyWarning: \n",
      "A value is trying to be set on a copy of a slice from a DataFrame.\n",
      "Try using .loc[row_indexer,col_indexer] = value instead\n",
      "\n",
      "See the caveats in the documentation: http://pandas.pydata.org/pandas-docs/stable/user_guide/indexing.html#returning-a-view-versus-a-copy\n",
      "/Users/trae/.virtualenvs/talus_api/lib/python3.7/site-packages/pandas/core/frame.py:4102: SettingWithCopyWarning: \n",
      "A value is trying to be set on a copy of a slice from a DataFrame\n",
      "\n",
      "See the caveats in the documentation: http://pandas.pydata.org/pandas-docs/stable/user_guide/indexing.html#returning-a-view-versus-a-copy\n",
      "  errors=errors,\n"
     ]
    },
    {
     "name": "stdout",
     "output_type": "stream",
     "text": [
      "(30, 17)\n",
      "length: 5\n",
      "list: ['0', '0', '0', '0', '2012/16']\n"
     ]
    },
    {
     "name": "stderr",
     "output_type": "stream",
     "text": [
      "/Users/trae/.virtualenvs/talus_api/lib/python3.7/site-packages/ipykernel_launcher.py:34: SettingWithCopyWarning: \n",
      "A value is trying to be set on a copy of a slice from a DataFrame.\n",
      "Try using .loc[row_indexer,col_indexer] = value instead\n",
      "\n",
      "See the caveats in the documentation: http://pandas.pydata.org/pandas-docs/stable/user_guide/indexing.html#returning-a-view-versus-a-copy\n",
      "/Users/trae/.virtualenvs/talus_api/lib/python3.7/site-packages/ipykernel_launcher.py:35: SettingWithCopyWarning: \n",
      "A value is trying to be set on a copy of a slice from a DataFrame.\n",
      "Try using .loc[row_indexer,col_indexer] = value instead\n",
      "\n",
      "See the caveats in the documentation: http://pandas.pydata.org/pandas-docs/stable/user_guide/indexing.html#returning-a-view-versus-a-copy\n",
      "/Users/trae/.virtualenvs/talus_api/lib/python3.7/site-packages/pandas/core/frame.py:4102: SettingWithCopyWarning: \n",
      "A value is trying to be set on a copy of a slice from a DataFrame\n",
      "\n",
      "See the caveats in the documentation: http://pandas.pydata.org/pandas-docs/stable/user_guide/indexing.html#returning-a-view-versus-a-copy\n",
      "  errors=errors,\n"
     ]
    },
    {
     "name": "stdout",
     "output_type": "stream",
     "text": [
      "(30, 17)\n",
      "length: 5\n",
      "list: ['0', '0', '0', '0', '2012/16']\n"
     ]
    },
    {
     "name": "stderr",
     "output_type": "stream",
     "text": [
      "/Users/trae/.virtualenvs/talus_api/lib/python3.7/site-packages/ipykernel_launcher.py:34: SettingWithCopyWarning: \n",
      "A value is trying to be set on a copy of a slice from a DataFrame.\n",
      "Try using .loc[row_indexer,col_indexer] = value instead\n",
      "\n",
      "See the caveats in the documentation: http://pandas.pydata.org/pandas-docs/stable/user_guide/indexing.html#returning-a-view-versus-a-copy\n",
      "/Users/trae/.virtualenvs/talus_api/lib/python3.7/site-packages/ipykernel_launcher.py:35: SettingWithCopyWarning: \n",
      "A value is trying to be set on a copy of a slice from a DataFrame.\n",
      "Try using .loc[row_indexer,col_indexer] = value instead\n",
      "\n",
      "See the caveats in the documentation: http://pandas.pydata.org/pandas-docs/stable/user_guide/indexing.html#returning-a-view-versus-a-copy\n",
      "/Users/trae/.virtualenvs/talus_api/lib/python3.7/site-packages/pandas/core/frame.py:4102: SettingWithCopyWarning: \n",
      "A value is trying to be set on a copy of a slice from a DataFrame\n",
      "\n",
      "See the caveats in the documentation: http://pandas.pydata.org/pandas-docs/stable/user_guide/indexing.html#returning-a-view-versus-a-copy\n",
      "  errors=errors,\n"
     ]
    },
    {
     "name": "stdout",
     "output_type": "stream",
     "text": [
      "(30, 17)\n",
      "length: 5\n",
      "list: ['0', '0', '0', '0', '2012/16']\n"
     ]
    },
    {
     "name": "stderr",
     "output_type": "stream",
     "text": [
      "/Users/trae/.virtualenvs/talus_api/lib/python3.7/site-packages/ipykernel_launcher.py:34: SettingWithCopyWarning: \n",
      "A value is trying to be set on a copy of a slice from a DataFrame.\n",
      "Try using .loc[row_indexer,col_indexer] = value instead\n",
      "\n",
      "See the caveats in the documentation: http://pandas.pydata.org/pandas-docs/stable/user_guide/indexing.html#returning-a-view-versus-a-copy\n",
      "/Users/trae/.virtualenvs/talus_api/lib/python3.7/site-packages/ipykernel_launcher.py:35: SettingWithCopyWarning: \n",
      "A value is trying to be set on a copy of a slice from a DataFrame.\n",
      "Try using .loc[row_indexer,col_indexer] = value instead\n",
      "\n",
      "See the caveats in the documentation: http://pandas.pydata.org/pandas-docs/stable/user_guide/indexing.html#returning-a-view-versus-a-copy\n",
      "/Users/trae/.virtualenvs/talus_api/lib/python3.7/site-packages/pandas/core/frame.py:4102: SettingWithCopyWarning: \n",
      "A value is trying to be set on a copy of a slice from a DataFrame\n",
      "\n",
      "See the caveats in the documentation: http://pandas.pydata.org/pandas-docs/stable/user_guide/indexing.html#returning-a-view-versus-a-copy\n",
      "  errors=errors,\n"
     ]
    },
    {
     "name": "stdout",
     "output_type": "stream",
     "text": [
      "(29, 18)\n",
      "Length mismatch: Expected axis has 18 elements, new values have 16 elements\n",
      "(29, 17)\n",
      "index 0 is out of bounds for axis 0 with size 0\n",
      "(30, 16)\n",
      "length: 4\n",
      "list: ['420', '0', '0', '0']\n"
     ]
    },
    {
     "name": "stderr",
     "output_type": "stream",
     "text": [
      "/Users/trae/.virtualenvs/talus_api/lib/python3.7/site-packages/ipykernel_launcher.py:34: SettingWithCopyWarning: \n",
      "A value is trying to be set on a copy of a slice from a DataFrame.\n",
      "Try using .loc[row_indexer,col_indexer] = value instead\n",
      "\n",
      "See the caveats in the documentation: http://pandas.pydata.org/pandas-docs/stable/user_guide/indexing.html#returning-a-view-versus-a-copy\n",
      "/Users/trae/.virtualenvs/talus_api/lib/python3.7/site-packages/ipykernel_launcher.py:35: SettingWithCopyWarning: \n",
      "A value is trying to be set on a copy of a slice from a DataFrame.\n",
      "Try using .loc[row_indexer,col_indexer] = value instead\n",
      "\n",
      "See the caveats in the documentation: http://pandas.pydata.org/pandas-docs/stable/user_guide/indexing.html#returning-a-view-versus-a-copy\n",
      "/Users/trae/.virtualenvs/talus_api/lib/python3.7/site-packages/pandas/core/frame.py:4102: SettingWithCopyWarning: \n",
      "A value is trying to be set on a copy of a slice from a DataFrame\n",
      "\n",
      "See the caveats in the documentation: http://pandas.pydata.org/pandas-docs/stable/user_guide/indexing.html#returning-a-view-versus-a-copy\n",
      "  errors=errors,\n"
     ]
    },
    {
     "name": "stdout",
     "output_type": "stream",
     "text": [
      "(30, 16)\n",
      "length: 4\n",
      "list: ['385', '0', '0', '0']\n"
     ]
    },
    {
     "name": "stderr",
     "output_type": "stream",
     "text": [
      "/Users/trae/.virtualenvs/talus_api/lib/python3.7/site-packages/ipykernel_launcher.py:34: SettingWithCopyWarning: \n",
      "A value is trying to be set on a copy of a slice from a DataFrame.\n",
      "Try using .loc[row_indexer,col_indexer] = value instead\n",
      "\n",
      "See the caveats in the documentation: http://pandas.pydata.org/pandas-docs/stable/user_guide/indexing.html#returning-a-view-versus-a-copy\n",
      "/Users/trae/.virtualenvs/talus_api/lib/python3.7/site-packages/ipykernel_launcher.py:35: SettingWithCopyWarning: \n",
      "A value is trying to be set on a copy of a slice from a DataFrame.\n",
      "Try using .loc[row_indexer,col_indexer] = value instead\n",
      "\n",
      "See the caveats in the documentation: http://pandas.pydata.org/pandas-docs/stable/user_guide/indexing.html#returning-a-view-versus-a-copy\n",
      "/Users/trae/.virtualenvs/talus_api/lib/python3.7/site-packages/pandas/core/frame.py:4102: SettingWithCopyWarning: \n",
      "A value is trying to be set on a copy of a slice from a DataFrame\n",
      "\n",
      "See the caveats in the documentation: http://pandas.pydata.org/pandas-docs/stable/user_guide/indexing.html#returning-a-view-versus-a-copy\n",
      "  errors=errors,\n"
     ]
    },
    {
     "name": "stdout",
     "output_type": "stream",
     "text": [
      "(30, 16)\n",
      "length: 4\n",
      "list: ['385', '0', '0', '0']\n"
     ]
    },
    {
     "name": "stderr",
     "output_type": "stream",
     "text": [
      "/Users/trae/.virtualenvs/talus_api/lib/python3.7/site-packages/ipykernel_launcher.py:34: SettingWithCopyWarning: \n",
      "A value is trying to be set on a copy of a slice from a DataFrame.\n",
      "Try using .loc[row_indexer,col_indexer] = value instead\n",
      "\n",
      "See the caveats in the documentation: http://pandas.pydata.org/pandas-docs/stable/user_guide/indexing.html#returning-a-view-versus-a-copy\n",
      "/Users/trae/.virtualenvs/talus_api/lib/python3.7/site-packages/ipykernel_launcher.py:35: SettingWithCopyWarning: \n",
      "A value is trying to be set on a copy of a slice from a DataFrame.\n",
      "Try using .loc[row_indexer,col_indexer] = value instead\n",
      "\n",
      "See the caveats in the documentation: http://pandas.pydata.org/pandas-docs/stable/user_guide/indexing.html#returning-a-view-versus-a-copy\n",
      "/Users/trae/.virtualenvs/talus_api/lib/python3.7/site-packages/pandas/core/frame.py:4102: SettingWithCopyWarning: \n",
      "A value is trying to be set on a copy of a slice from a DataFrame\n",
      "\n",
      "See the caveats in the documentation: http://pandas.pydata.org/pandas-docs/stable/user_guide/indexing.html#returning-a-view-versus-a-copy\n",
      "  errors=errors,\n"
     ]
    },
    {
     "name": "stdout",
     "output_type": "stream",
     "text": [
      "(30, 16)\n",
      "length: 4\n",
      "list: ['367', '0', '0', '0']\n"
     ]
    },
    {
     "name": "stderr",
     "output_type": "stream",
     "text": [
      "/Users/trae/.virtualenvs/talus_api/lib/python3.7/site-packages/ipykernel_launcher.py:34: SettingWithCopyWarning: \n",
      "A value is trying to be set on a copy of a slice from a DataFrame.\n",
      "Try using .loc[row_indexer,col_indexer] = value instead\n",
      "\n",
      "See the caveats in the documentation: http://pandas.pydata.org/pandas-docs/stable/user_guide/indexing.html#returning-a-view-versus-a-copy\n",
      "/Users/trae/.virtualenvs/talus_api/lib/python3.7/site-packages/ipykernel_launcher.py:35: SettingWithCopyWarning: \n",
      "A value is trying to be set on a copy of a slice from a DataFrame.\n",
      "Try using .loc[row_indexer,col_indexer] = value instead\n",
      "\n",
      "See the caveats in the documentation: http://pandas.pydata.org/pandas-docs/stable/user_guide/indexing.html#returning-a-view-versus-a-copy\n",
      "/Users/trae/.virtualenvs/talus_api/lib/python3.7/site-packages/pandas/core/frame.py:4102: SettingWithCopyWarning: \n",
      "A value is trying to be set on a copy of a slice from a DataFrame\n",
      "\n",
      "See the caveats in the documentation: http://pandas.pydata.org/pandas-docs/stable/user_guide/indexing.html#returning-a-view-versus-a-copy\n",
      "  errors=errors,\n"
     ]
    },
    {
     "name": "stdout",
     "output_type": "stream",
     "text": [
      "(30, 16)\n",
      "length: 4\n",
      "list: ['333', '0', '0', '0']\n"
     ]
    },
    {
     "name": "stderr",
     "output_type": "stream",
     "text": [
      "/Users/trae/.virtualenvs/talus_api/lib/python3.7/site-packages/ipykernel_launcher.py:34: SettingWithCopyWarning: \n",
      "A value is trying to be set on a copy of a slice from a DataFrame.\n",
      "Try using .loc[row_indexer,col_indexer] = value instead\n",
      "\n",
      "See the caveats in the documentation: http://pandas.pydata.org/pandas-docs/stable/user_guide/indexing.html#returning-a-view-versus-a-copy\n",
      "/Users/trae/.virtualenvs/talus_api/lib/python3.7/site-packages/ipykernel_launcher.py:35: SettingWithCopyWarning: \n",
      "A value is trying to be set on a copy of a slice from a DataFrame.\n",
      "Try using .loc[row_indexer,col_indexer] = value instead\n",
      "\n",
      "See the caveats in the documentation: http://pandas.pydata.org/pandas-docs/stable/user_guide/indexing.html#returning-a-view-versus-a-copy\n",
      "/Users/trae/.virtualenvs/talus_api/lib/python3.7/site-packages/pandas/core/frame.py:4102: SettingWithCopyWarning: \n",
      "A value is trying to be set on a copy of a slice from a DataFrame\n",
      "\n",
      "See the caveats in the documentation: http://pandas.pydata.org/pandas-docs/stable/user_guide/indexing.html#returning-a-view-versus-a-copy\n",
      "  errors=errors,\n"
     ]
    },
    {
     "name": "stdout",
     "output_type": "stream",
     "text": [
      "(30, 16)\n",
      "length: 4\n",
      "list: ['273', '0', '0', '0']\n"
     ]
    },
    {
     "name": "stderr",
     "output_type": "stream",
     "text": [
      "/Users/trae/.virtualenvs/talus_api/lib/python3.7/site-packages/ipykernel_launcher.py:34: SettingWithCopyWarning: \n",
      "A value is trying to be set on a copy of a slice from a DataFrame.\n",
      "Try using .loc[row_indexer,col_indexer] = value instead\n",
      "\n",
      "See the caveats in the documentation: http://pandas.pydata.org/pandas-docs/stable/user_guide/indexing.html#returning-a-view-versus-a-copy\n",
      "/Users/trae/.virtualenvs/talus_api/lib/python3.7/site-packages/ipykernel_launcher.py:35: SettingWithCopyWarning: \n",
      "A value is trying to be set on a copy of a slice from a DataFrame.\n",
      "Try using .loc[row_indexer,col_indexer] = value instead\n",
      "\n",
      "See the caveats in the documentation: http://pandas.pydata.org/pandas-docs/stable/user_guide/indexing.html#returning-a-view-versus-a-copy\n",
      "/Users/trae/.virtualenvs/talus_api/lib/python3.7/site-packages/pandas/core/frame.py:4102: SettingWithCopyWarning: \n",
      "A value is trying to be set on a copy of a slice from a DataFrame\n",
      "\n",
      "See the caveats in the documentation: http://pandas.pydata.org/pandas-docs/stable/user_guide/indexing.html#returning-a-view-versus-a-copy\n",
      "  errors=errors,\n"
     ]
    },
    {
     "name": "stdout",
     "output_type": "stream",
     "text": [
      "(30, 16)\n",
      "length: 4\n",
      "list: ['275', '0', '0', '0']\n"
     ]
    },
    {
     "name": "stderr",
     "output_type": "stream",
     "text": [
      "/Users/trae/.virtualenvs/talus_api/lib/python3.7/site-packages/ipykernel_launcher.py:34: SettingWithCopyWarning: \n",
      "A value is trying to be set on a copy of a slice from a DataFrame.\n",
      "Try using .loc[row_indexer,col_indexer] = value instead\n",
      "\n",
      "See the caveats in the documentation: http://pandas.pydata.org/pandas-docs/stable/user_guide/indexing.html#returning-a-view-versus-a-copy\n",
      "/Users/trae/.virtualenvs/talus_api/lib/python3.7/site-packages/ipykernel_launcher.py:35: SettingWithCopyWarning: \n",
      "A value is trying to be set on a copy of a slice from a DataFrame.\n",
      "Try using .loc[row_indexer,col_indexer] = value instead\n",
      "\n",
      "See the caveats in the documentation: http://pandas.pydata.org/pandas-docs/stable/user_guide/indexing.html#returning-a-view-versus-a-copy\n",
      "/Users/trae/.virtualenvs/talus_api/lib/python3.7/site-packages/pandas/core/frame.py:4102: SettingWithCopyWarning: \n",
      "A value is trying to be set on a copy of a slice from a DataFrame\n",
      "\n",
      "See the caveats in the documentation: http://pandas.pydata.org/pandas-docs/stable/user_guide/indexing.html#returning-a-view-versus-a-copy\n",
      "  errors=errors,\n"
     ]
    },
    {
     "name": "stdout",
     "output_type": "stream",
     "text": [
      "(30, 16)\n",
      "length: 4\n",
      "list: ['239', '0', '0', '0']\n"
     ]
    },
    {
     "name": "stderr",
     "output_type": "stream",
     "text": [
      "/Users/trae/.virtualenvs/talus_api/lib/python3.7/site-packages/ipykernel_launcher.py:34: SettingWithCopyWarning: \n",
      "A value is trying to be set on a copy of a slice from a DataFrame.\n",
      "Try using .loc[row_indexer,col_indexer] = value instead\n",
      "\n",
      "See the caveats in the documentation: http://pandas.pydata.org/pandas-docs/stable/user_guide/indexing.html#returning-a-view-versus-a-copy\n",
      "/Users/trae/.virtualenvs/talus_api/lib/python3.7/site-packages/ipykernel_launcher.py:35: SettingWithCopyWarning: \n",
      "A value is trying to be set on a copy of a slice from a DataFrame.\n",
      "Try using .loc[row_indexer,col_indexer] = value instead\n",
      "\n",
      "See the caveats in the documentation: http://pandas.pydata.org/pandas-docs/stable/user_guide/indexing.html#returning-a-view-versus-a-copy\n",
      "/Users/trae/.virtualenvs/talus_api/lib/python3.7/site-packages/pandas/core/frame.py:4102: SettingWithCopyWarning: \n",
      "A value is trying to be set on a copy of a slice from a DataFrame\n",
      "\n",
      "See the caveats in the documentation: http://pandas.pydata.org/pandas-docs/stable/user_guide/indexing.html#returning-a-view-versus-a-copy\n",
      "  errors=errors,\n"
     ]
    },
    {
     "name": "stdout",
     "output_type": "stream",
     "text": [
      "(30, 16)\n",
      "length: 4\n",
      "list: ['177', '0', '0', '0']\n"
     ]
    },
    {
     "name": "stderr",
     "output_type": "stream",
     "text": [
      "/Users/trae/.virtualenvs/talus_api/lib/python3.7/site-packages/ipykernel_launcher.py:34: SettingWithCopyWarning: \n",
      "A value is trying to be set on a copy of a slice from a DataFrame.\n",
      "Try using .loc[row_indexer,col_indexer] = value instead\n",
      "\n",
      "See the caveats in the documentation: http://pandas.pydata.org/pandas-docs/stable/user_guide/indexing.html#returning-a-view-versus-a-copy\n",
      "/Users/trae/.virtualenvs/talus_api/lib/python3.7/site-packages/ipykernel_launcher.py:35: SettingWithCopyWarning: \n",
      "A value is trying to be set on a copy of a slice from a DataFrame.\n",
      "Try using .loc[row_indexer,col_indexer] = value instead\n",
      "\n",
      "See the caveats in the documentation: http://pandas.pydata.org/pandas-docs/stable/user_guide/indexing.html#returning-a-view-versus-a-copy\n",
      "/Users/trae/.virtualenvs/talus_api/lib/python3.7/site-packages/pandas/core/frame.py:4102: SettingWithCopyWarning: \n",
      "A value is trying to be set on a copy of a slice from a DataFrame\n",
      "\n",
      "See the caveats in the documentation: http://pandas.pydata.org/pandas-docs/stable/user_guide/indexing.html#returning-a-view-versus-a-copy\n",
      "  errors=errors,\n"
     ]
    },
    {
     "name": "stdout",
     "output_type": "stream",
     "text": [
      "(30, 18)\n",
      "Length mismatch: Expected axis has 18 elements, new values have 16 elements\n",
      "(30, 16)\n",
      "length: 4\n",
      "list: ['92', '0', '0', '0']\n"
     ]
    },
    {
     "name": "stderr",
     "output_type": "stream",
     "text": [
      "/Users/trae/.virtualenvs/talus_api/lib/python3.7/site-packages/ipykernel_launcher.py:34: SettingWithCopyWarning: \n",
      "A value is trying to be set on a copy of a slice from a DataFrame.\n",
      "Try using .loc[row_indexer,col_indexer] = value instead\n",
      "\n",
      "See the caveats in the documentation: http://pandas.pydata.org/pandas-docs/stable/user_guide/indexing.html#returning-a-view-versus-a-copy\n",
      "/Users/trae/.virtualenvs/talus_api/lib/python3.7/site-packages/ipykernel_launcher.py:35: SettingWithCopyWarning: \n",
      "A value is trying to be set on a copy of a slice from a DataFrame.\n",
      "Try using .loc[row_indexer,col_indexer] = value instead\n",
      "\n",
      "See the caveats in the documentation: http://pandas.pydata.org/pandas-docs/stable/user_guide/indexing.html#returning-a-view-versus-a-copy\n",
      "/Users/trae/.virtualenvs/talus_api/lib/python3.7/site-packages/pandas/core/frame.py:4102: SettingWithCopyWarning: \n",
      "A value is trying to be set on a copy of a slice from a DataFrame\n",
      "\n",
      "See the caveats in the documentation: http://pandas.pydata.org/pandas-docs/stable/user_guide/indexing.html#returning-a-view-versus-a-copy\n",
      "  errors=errors,\n"
     ]
    },
    {
     "name": "stdout",
     "output_type": "stream",
     "text": [
      "(30, 16)\n",
      "length: 4\n",
      "list: ['32', '0', '0', '0']\n"
     ]
    },
    {
     "name": "stderr",
     "output_type": "stream",
     "text": [
      "/Users/trae/.virtualenvs/talus_api/lib/python3.7/site-packages/ipykernel_launcher.py:34: SettingWithCopyWarning: \n",
      "A value is trying to be set on a copy of a slice from a DataFrame.\n",
      "Try using .loc[row_indexer,col_indexer] = value instead\n",
      "\n",
      "See the caveats in the documentation: http://pandas.pydata.org/pandas-docs/stable/user_guide/indexing.html#returning-a-view-versus-a-copy\n",
      "/Users/trae/.virtualenvs/talus_api/lib/python3.7/site-packages/ipykernel_launcher.py:35: SettingWithCopyWarning: \n",
      "A value is trying to be set on a copy of a slice from a DataFrame.\n",
      "Try using .loc[row_indexer,col_indexer] = value instead\n",
      "\n",
      "See the caveats in the documentation: http://pandas.pydata.org/pandas-docs/stable/user_guide/indexing.html#returning-a-view-versus-a-copy\n",
      "/Users/trae/.virtualenvs/talus_api/lib/python3.7/site-packages/pandas/core/frame.py:4102: SettingWithCopyWarning: \n",
      "A value is trying to be set on a copy of a slice from a DataFrame\n",
      "\n",
      "See the caveats in the documentation: http://pandas.pydata.org/pandas-docs/stable/user_guide/indexing.html#returning-a-view-versus-a-copy\n",
      "  errors=errors,\n"
     ]
    },
    {
     "name": "stdout",
     "output_type": "stream",
     "text": [
      "(30, 18)\n",
      "Length mismatch: Expected axis has 18 elements, new values have 16 elements\n",
      "(30, 18)\n",
      "Length mismatch: Expected axis has 18 elements, new values have 16 elements\n",
      "(30, 17)\n",
      "length: 5\n",
      "list: ['…', '…', '…', '…', '2012/16']\n"
     ]
    },
    {
     "name": "stderr",
     "output_type": "stream",
     "text": [
      "/Users/trae/.virtualenvs/talus_api/lib/python3.7/site-packages/ipykernel_launcher.py:34: SettingWithCopyWarning: \n",
      "A value is trying to be set on a copy of a slice from a DataFrame.\n",
      "Try using .loc[row_indexer,col_indexer] = value instead\n",
      "\n",
      "See the caveats in the documentation: http://pandas.pydata.org/pandas-docs/stable/user_guide/indexing.html#returning-a-view-versus-a-copy\n",
      "/Users/trae/.virtualenvs/talus_api/lib/python3.7/site-packages/ipykernel_launcher.py:35: SettingWithCopyWarning: \n",
      "A value is trying to be set on a copy of a slice from a DataFrame.\n",
      "Try using .loc[row_indexer,col_indexer] = value instead\n",
      "\n",
      "See the caveats in the documentation: http://pandas.pydata.org/pandas-docs/stable/user_guide/indexing.html#returning-a-view-versus-a-copy\n",
      "/Users/trae/.virtualenvs/talus_api/lib/python3.7/site-packages/pandas/core/frame.py:4102: SettingWithCopyWarning: \n",
      "A value is trying to be set on a copy of a slice from a DataFrame\n",
      "\n",
      "See the caveats in the documentation: http://pandas.pydata.org/pandas-docs/stable/user_guide/indexing.html#returning-a-view-versus-a-copy\n",
      "  errors=errors,\n"
     ]
    },
    {
     "name": "stdout",
     "output_type": "stream",
     "text": [
      "(30, 17)\n",
      "length: 5\n",
      "list: ['0', '…', '…', '…', '2012/16']\n"
     ]
    },
    {
     "name": "stderr",
     "output_type": "stream",
     "text": [
      "/Users/trae/.virtualenvs/talus_api/lib/python3.7/site-packages/ipykernel_launcher.py:34: SettingWithCopyWarning: \n",
      "A value is trying to be set on a copy of a slice from a DataFrame.\n",
      "Try using .loc[row_indexer,col_indexer] = value instead\n",
      "\n",
      "See the caveats in the documentation: http://pandas.pydata.org/pandas-docs/stable/user_guide/indexing.html#returning-a-view-versus-a-copy\n",
      "/Users/trae/.virtualenvs/talus_api/lib/python3.7/site-packages/ipykernel_launcher.py:35: SettingWithCopyWarning: \n",
      "A value is trying to be set on a copy of a slice from a DataFrame.\n",
      "Try using .loc[row_indexer,col_indexer] = value instead\n",
      "\n",
      "See the caveats in the documentation: http://pandas.pydata.org/pandas-docs/stable/user_guide/indexing.html#returning-a-view-versus-a-copy\n",
      "/Users/trae/.virtualenvs/talus_api/lib/python3.7/site-packages/pandas/core/frame.py:4102: SettingWithCopyWarning: \n",
      "A value is trying to be set on a copy of a slice from a DataFrame\n",
      "\n",
      "See the caveats in the documentation: http://pandas.pydata.org/pandas-docs/stable/user_guide/indexing.html#returning-a-view-versus-a-copy\n",
      "  errors=errors,\n"
     ]
    },
    {
     "name": "stdout",
     "output_type": "stream",
     "text": [
      "(30, 18)\n",
      "Length mismatch: Expected axis has 18 elements, new values have 16 elements\n",
      "(30, 18)\n",
      "Length mismatch: Expected axis has 18 elements, new values have 16 elements\n",
      "(30, 18)\n",
      "Length mismatch: Expected axis has 18 elements, new values have 16 elements\n",
      "(29, 16)\n",
      "length: 4\n",
      "list: ['321', '0', '0', '0']\n"
     ]
    },
    {
     "name": "stderr",
     "output_type": "stream",
     "text": [
      "/Users/trae/.virtualenvs/talus_api/lib/python3.7/site-packages/ipykernel_launcher.py:34: SettingWithCopyWarning: \n",
      "A value is trying to be set on a copy of a slice from a DataFrame.\n",
      "Try using .loc[row_indexer,col_indexer] = value instead\n",
      "\n",
      "See the caveats in the documentation: http://pandas.pydata.org/pandas-docs/stable/user_guide/indexing.html#returning-a-view-versus-a-copy\n",
      "/Users/trae/.virtualenvs/talus_api/lib/python3.7/site-packages/ipykernel_launcher.py:35: SettingWithCopyWarning: \n",
      "A value is trying to be set on a copy of a slice from a DataFrame.\n",
      "Try using .loc[row_indexer,col_indexer] = value instead\n",
      "\n",
      "See the caveats in the documentation: http://pandas.pydata.org/pandas-docs/stable/user_guide/indexing.html#returning-a-view-versus-a-copy\n",
      "/Users/trae/.virtualenvs/talus_api/lib/python3.7/site-packages/pandas/core/frame.py:4102: SettingWithCopyWarning: \n",
      "A value is trying to be set on a copy of a slice from a DataFrame\n",
      "\n",
      "See the caveats in the documentation: http://pandas.pydata.org/pandas-docs/stable/user_guide/indexing.html#returning-a-view-versus-a-copy\n",
      "  errors=errors,\n"
     ]
    },
    {
     "name": "stdout",
     "output_type": "stream",
     "text": [
      "(30, 16)\n",
      "length: 4\n",
      "list: ['239', '0', '0', '0']\n"
     ]
    },
    {
     "name": "stderr",
     "output_type": "stream",
     "text": [
      "/Users/trae/.virtualenvs/talus_api/lib/python3.7/site-packages/ipykernel_launcher.py:34: SettingWithCopyWarning: \n",
      "A value is trying to be set on a copy of a slice from a DataFrame.\n",
      "Try using .loc[row_indexer,col_indexer] = value instead\n",
      "\n",
      "See the caveats in the documentation: http://pandas.pydata.org/pandas-docs/stable/user_guide/indexing.html#returning-a-view-versus-a-copy\n",
      "/Users/trae/.virtualenvs/talus_api/lib/python3.7/site-packages/ipykernel_launcher.py:35: SettingWithCopyWarning: \n",
      "A value is trying to be set on a copy of a slice from a DataFrame.\n",
      "Try using .loc[row_indexer,col_indexer] = value instead\n",
      "\n",
      "See the caveats in the documentation: http://pandas.pydata.org/pandas-docs/stable/user_guide/indexing.html#returning-a-view-versus-a-copy\n",
      "/Users/trae/.virtualenvs/talus_api/lib/python3.7/site-packages/pandas/core/frame.py:4102: SettingWithCopyWarning: \n",
      "A value is trying to be set on a copy of a slice from a DataFrame\n",
      "\n",
      "See the caveats in the documentation: http://pandas.pydata.org/pandas-docs/stable/user_guide/indexing.html#returning-a-view-versus-a-copy\n",
      "  errors=errors,\n"
     ]
    },
    {
     "name": "stdout",
     "output_type": "stream",
     "text": [
      "(30, 16)\n",
      "length: 4\n",
      "list: ['235', '0', '0', '0']\n"
     ]
    },
    {
     "name": "stderr",
     "output_type": "stream",
     "text": [
      "/Users/trae/.virtualenvs/talus_api/lib/python3.7/site-packages/ipykernel_launcher.py:34: SettingWithCopyWarning: \n",
      "A value is trying to be set on a copy of a slice from a DataFrame.\n",
      "Try using .loc[row_indexer,col_indexer] = value instead\n",
      "\n",
      "See the caveats in the documentation: http://pandas.pydata.org/pandas-docs/stable/user_guide/indexing.html#returning-a-view-versus-a-copy\n",
      "/Users/trae/.virtualenvs/talus_api/lib/python3.7/site-packages/ipykernel_launcher.py:35: SettingWithCopyWarning: \n",
      "A value is trying to be set on a copy of a slice from a DataFrame.\n",
      "Try using .loc[row_indexer,col_indexer] = value instead\n",
      "\n",
      "See the caveats in the documentation: http://pandas.pydata.org/pandas-docs/stable/user_guide/indexing.html#returning-a-view-versus-a-copy\n",
      "/Users/trae/.virtualenvs/talus_api/lib/python3.7/site-packages/pandas/core/frame.py:4102: SettingWithCopyWarning: \n",
      "A value is trying to be set on a copy of a slice from a DataFrame\n",
      "\n",
      "See the caveats in the documentation: http://pandas.pydata.org/pandas-docs/stable/user_guide/indexing.html#returning-a-view-versus-a-copy\n",
      "  errors=errors,\n"
     ]
    },
    {
     "name": "stdout",
     "output_type": "stream",
     "text": [
      "(30, 18)\n",
      "Length mismatch: Expected axis has 18 elements, new values have 16 elements\n",
      "(30, 16)\n",
      "length: 4\n",
      "list: ['106', '0', '0', '0']\n"
     ]
    },
    {
     "name": "stderr",
     "output_type": "stream",
     "text": [
      "/Users/trae/.virtualenvs/talus_api/lib/python3.7/site-packages/ipykernel_launcher.py:34: SettingWithCopyWarning: \n",
      "A value is trying to be set on a copy of a slice from a DataFrame.\n",
      "Try using .loc[row_indexer,col_indexer] = value instead\n",
      "\n",
      "See the caveats in the documentation: http://pandas.pydata.org/pandas-docs/stable/user_guide/indexing.html#returning-a-view-versus-a-copy\n",
      "/Users/trae/.virtualenvs/talus_api/lib/python3.7/site-packages/ipykernel_launcher.py:35: SettingWithCopyWarning: \n",
      "A value is trying to be set on a copy of a slice from a DataFrame.\n",
      "Try using .loc[row_indexer,col_indexer] = value instead\n",
      "\n",
      "See the caveats in the documentation: http://pandas.pydata.org/pandas-docs/stable/user_guide/indexing.html#returning-a-view-versus-a-copy\n",
      "/Users/trae/.virtualenvs/talus_api/lib/python3.7/site-packages/pandas/core/frame.py:4102: SettingWithCopyWarning: \n",
      "A value is trying to be set on a copy of a slice from a DataFrame\n",
      "\n",
      "See the caveats in the documentation: http://pandas.pydata.org/pandas-docs/stable/user_guide/indexing.html#returning-a-view-versus-a-copy\n",
      "  errors=errors,\n"
     ]
    },
    {
     "name": "stdout",
     "output_type": "stream",
     "text": [
      "(30, 17)\n",
      "length: 5\n",
      "list: ['32', '0', '0', '0', '2012/16']\n"
     ]
    },
    {
     "name": "stderr",
     "output_type": "stream",
     "text": [
      "/Users/trae/.virtualenvs/talus_api/lib/python3.7/site-packages/ipykernel_launcher.py:34: SettingWithCopyWarning: \n",
      "A value is trying to be set on a copy of a slice from a DataFrame.\n",
      "Try using .loc[row_indexer,col_indexer] = value instead\n",
      "\n",
      "See the caveats in the documentation: http://pandas.pydata.org/pandas-docs/stable/user_guide/indexing.html#returning-a-view-versus-a-copy\n",
      "/Users/trae/.virtualenvs/talus_api/lib/python3.7/site-packages/ipykernel_launcher.py:35: SettingWithCopyWarning: \n",
      "A value is trying to be set on a copy of a slice from a DataFrame.\n",
      "Try using .loc[row_indexer,col_indexer] = value instead\n",
      "\n",
      "See the caveats in the documentation: http://pandas.pydata.org/pandas-docs/stable/user_guide/indexing.html#returning-a-view-versus-a-copy\n",
      "/Users/trae/.virtualenvs/talus_api/lib/python3.7/site-packages/pandas/core/frame.py:4102: SettingWithCopyWarning: \n",
      "A value is trying to be set on a copy of a slice from a DataFrame\n",
      "\n",
      "See the caveats in the documentation: http://pandas.pydata.org/pandas-docs/stable/user_guide/indexing.html#returning-a-view-versus-a-copy\n",
      "  errors=errors,\n"
     ]
    },
    {
     "name": "stdout",
     "output_type": "stream",
     "text": [
      "(29, 18)\n",
      "Length mismatch: Expected axis has 18 elements, new values have 16 elements\n",
      "(29, 18)\n",
      "Length mismatch: Expected axis has 18 elements, new values have 16 elements\n",
      "(30, 18)\n",
      "Length mismatch: Expected axis has 18 elements, new values have 16 elements\n",
      "(29, 18)\n",
      "Length mismatch: Expected axis has 18 elements, new values have 16 elements\n",
      "(29, 18)\n",
      "Length mismatch: Expected axis has 18 elements, new values have 16 elements\n",
      "(30, 18)\n",
      "Length mismatch: Expected axis has 18 elements, new values have 16 elements\n"
     ]
    }
   ],
   "source": [
    "base_url = 'https://www.paho.org'\n",
    "\n",
    "#for report in report_list_2:\n",
    "for report in report_list_2:\n",
    "    #filename = f\"Issue({report['number']})-{report['month']} {report['day']}, {report['year']}.pdf\"\n",
    "    #report['filename'] = filename\n",
    "\n",
    "    #report['parse_result'] = read_pdf(base_url + report['url'], filename)\n",
    "    values_list = read_pdf(report['filename'])\n",
    "    \n",
    "    if isinstance(values_list, list):\n",
    "        print(\"length: \" + str(len(values_list)))\n",
    "        print(\"list: \" + str(values_list))\n",
    "\n",
    "        report['error'] = None\n",
    "        report['suspected_cases'] = values_list[0]\n",
    "        report['measles_confirmed_clin'] = values_list[1]\n",
    "        report['measles_confirmed_lab'] = values_list[2]\n",
    "        if len(values_list) == 5:\n",
    "            report['measles_confirmed_epi'] = values_list[3]\n",
    "            report['measles_confirmed_total'] = values_list[4]\n",
    "        else:\n",
    "            report['measles_confirmed_epi'] = None\n",
    "            report['measles_confirmed_total'] = values_list[3]\n",
    "\n",
    "    else:\n",
    "        report['error'] = values_list\n",
    "        report['suspected_cases'] = None\n",
    "        report['measles_confirmed_clin'] = None\n",
    "        report['measles_confirmed_lab'] = None\n",
    "        report['measles_confirmed_epi'] = None\n",
    "        report['measles_confirmed_total'] = None"
   ]
  },
  {
   "cell_type": "code",
   "execution_count": 165,
   "metadata": {},
   "outputs": [
    {
     "data": {
      "text/html": [
       "<div>\n",
       "<style scoped>\n",
       "    .dataframe tbody tr th:only-of-type {\n",
       "        vertical-align: middle;\n",
       "    }\n",
       "\n",
       "    .dataframe tbody tr th {\n",
       "        vertical-align: top;\n",
       "    }\n",
       "\n",
       "    .dataframe thead th {\n",
       "        text-align: right;\n",
       "    }\n",
       "</style>\n",
       "<table border=\"1\" class=\"dataframe\">\n",
       "  <thead>\n",
       "    <tr style=\"text-align: right;\">\n",
       "      <th></th>\n",
       "      <th>link</th>\n",
       "      <th>url</th>\n",
       "      <th>number</th>\n",
       "      <th>day</th>\n",
       "      <th>month</th>\n",
       "      <th>year</th>\n",
       "      <th>filename</th>\n",
       "      <th>parse_result</th>\n",
       "      <th>error</th>\n",
       "      <th>suspected_cases</th>\n",
       "      <th>measles_confirmed_clin</th>\n",
       "      <th>measles_confirmed_lab</th>\n",
       "      <th>measles_confirmed_total</th>\n",
       "      <th>measles_confirmed_epi</th>\n",
       "    </tr>\n",
       "  </thead>\n",
       "  <tbody>\n",
       "    <tr>\n",
       "      <td>0</td>\n",
       "      <td>Measles Rubella Weekly Bulletin (47) - 23 Nove...</td>\n",
       "      <td>/hq/index.php?option=com_docman&amp;task=doc_downl...</td>\n",
       "      <td>47</td>\n",
       "      <td>23</td>\n",
       "      <td>November</td>\n",
       "      <td>2019</td>\n",
       "      <td>Issue(47)-November 23, 2019.pdf</td>\n",
       "      <td>Susp. Cases 2019 Measles Confirmed 2019 Clin...</td>\n",
       "      <td>None</td>\n",
       "      <td>1447</td>\n",
       "      <td>100</td>\n",
       "      <td>397</td>\n",
       "      <td>520b</td>\n",
       "      <td>23</td>\n",
       "    </tr>\n",
       "    <tr>\n",
       "      <td>1</td>\n",
       "      <td>Measles Rubella Weekly Bulletin (46) - 16 Nove...</td>\n",
       "      <td>/hq/index.php?option=com_docman&amp;task=doc_downl...</td>\n",
       "      <td>46</td>\n",
       "      <td>16</td>\n",
       "      <td>November</td>\n",
       "      <td>2019</td>\n",
       "      <td>Issue(46)-November 16, 2019.pdf</td>\n",
       "      <td>Susp. Cases 2019 Measles Confirmed 2019 Clin...</td>\n",
       "      <td>None</td>\n",
       "      <td>1447</td>\n",
       "      <td>100</td>\n",
       "      <td>397</td>\n",
       "      <td>520b</td>\n",
       "      <td>23</td>\n",
       "    </tr>\n",
       "    <tr>\n",
       "      <td>2</td>\n",
       "      <td>Measles Rubella Weekly Bulletin (45) - 9 Novem...</td>\n",
       "      <td>/hq/index.php?option=com_docman&amp;task=doc_downl...</td>\n",
       "      <td>45</td>\n",
       "      <td>9</td>\n",
       "      <td>November</td>\n",
       "      <td>2019</td>\n",
       "      <td>Issue(45)-November 9, 2019.pdf</td>\n",
       "      <td>Susp. Cases 2019 Measles Confirmed 2019 Clin...</td>\n",
       "      <td>None</td>\n",
       "      <td>1447</td>\n",
       "      <td>100</td>\n",
       "      <td>397</td>\n",
       "      <td>520b</td>\n",
       "      <td>23</td>\n",
       "    </tr>\n",
       "    <tr>\n",
       "      <td>3</td>\n",
       "      <td>Measles Rubella Weekly Bulletin (44) -  2 Nove...</td>\n",
       "      <td>/hq/index.php?option=com_docman&amp;task=doc_downl...</td>\n",
       "      <td>44</td>\n",
       "      <td>2</td>\n",
       "      <td>November</td>\n",
       "      <td>2019</td>\n",
       "      <td>Issue(44)-November 2, 2019.pdf</td>\n",
       "      <td>Susp. Cases 2019 Measles Confirmed 2019 Clin...</td>\n",
       "      <td>None</td>\n",
       "      <td>461</td>\n",
       "      <td>100</td>\n",
       "      <td>397</td>\n",
       "      <td>520a</td>\n",
       "      <td>23</td>\n",
       "    </tr>\n",
       "    <tr>\n",
       "      <td>4</td>\n",
       "      <td>Measles Rubella Weekly Bulletin (43) - 26 Octo...</td>\n",
       "      <td>/hq/index.php?option=com_docman&amp;task=doc_downl...</td>\n",
       "      <td>43</td>\n",
       "      <td>26</td>\n",
       "      <td>October</td>\n",
       "      <td>2019</td>\n",
       "      <td>Issue(43)-October 26, 2019.pdf</td>\n",
       "      <td>Susp. Cases 2019 Measles Confirmed 2019 Clin...</td>\n",
       "      <td>None</td>\n",
       "      <td>461</td>\n",
       "      <td>100</td>\n",
       "      <td>397</td>\n",
       "      <td>520a</td>\n",
       "      <td>23</td>\n",
       "    </tr>\n",
       "  </tbody>\n",
       "</table>\n",
       "</div>"
      ],
      "text/plain": [
       "                                                link  \\\n",
       "0  Measles Rubella Weekly Bulletin (47) - 23 Nove...   \n",
       "1  Measles Rubella Weekly Bulletin (46) - 16 Nove...   \n",
       "2  Measles Rubella Weekly Bulletin (45) - 9 Novem...   \n",
       "3  Measles Rubella Weekly Bulletin (44) -  2 Nove...   \n",
       "4  Measles Rubella Weekly Bulletin (43) - 26 Octo...   \n",
       "\n",
       "                                                 url number day     month  \\\n",
       "0  /hq/index.php?option=com_docman&task=doc_downl...     47  23  November   \n",
       "1  /hq/index.php?option=com_docman&task=doc_downl...     46  16  November   \n",
       "2  /hq/index.php?option=com_docman&task=doc_downl...     45   9  November   \n",
       "3  /hq/index.php?option=com_docman&task=doc_downl...     44   2  November   \n",
       "4  /hq/index.php?option=com_docman&task=doc_downl...     43  26   October   \n",
       "\n",
       "   year                         filename  \\\n",
       "0  2019  Issue(47)-November 23, 2019.pdf   \n",
       "1  2019  Issue(46)-November 16, 2019.pdf   \n",
       "2  2019   Issue(45)-November 9, 2019.pdf   \n",
       "3  2019   Issue(44)-November 2, 2019.pdf   \n",
       "4  2019   Issue(43)-October 26, 2019.pdf   \n",
       "\n",
       "                                        parse_result error suspected_cases  \\\n",
       "0    Susp. Cases 2019 Measles Confirmed 2019 Clin...  None            1447   \n",
       "1    Susp. Cases 2019 Measles Confirmed 2019 Clin...  None            1447   \n",
       "2    Susp. Cases 2019 Measles Confirmed 2019 Clin...  None            1447   \n",
       "3    Susp. Cases 2019 Measles Confirmed 2019 Clin...  None             461   \n",
       "4    Susp. Cases 2019 Measles Confirmed 2019 Clin...  None             461   \n",
       "\n",
       "  measles_confirmed_clin measles_confirmed_lab measles_confirmed_total  \\\n",
       "0                    100                   397                    520b   \n",
       "1                    100                   397                    520b   \n",
       "2                    100                   397                    520b   \n",
       "3                    100                   397                    520a   \n",
       "4                    100                   397                    520a   \n",
       "\n",
       "  measles_confirmed_epi  \n",
       "0                    23  \n",
       "1                    23  \n",
       "2                    23  \n",
       "3                    23  \n",
       "4                    23  "
      ]
     },
     "execution_count": 165,
     "metadata": {},
     "output_type": "execute_result"
    }
   ],
   "source": [
    "test_df = pd.DataFrame(report_list_2)\n",
    "\n",
    "test_df.head(5)"
   ]
  },
  {
   "cell_type": "code",
   "execution_count": 124,
   "metadata": {},
   "outputs": [
    {
     "data": {
      "text/plain": [
       "{'link': 'Measles Rubella Weekly Bulletin (47) - 23 November 2019',\n",
       " 'url': '/hq/index.php?option=com_docman&task=doc_download&gid=51111&lang=en',\n",
       " 'number': '47',\n",
       " 'day': '23',\n",
       " 'month': 'November',\n",
       " 'year': '2019',\n",
       " 'filename': 'Issue(47)-November 23, 2019.pdf',\n",
       " 'parse_result':   Susp. Cases 2019 Measles Confirmed 2019 Clin. Measles Confirmed 2019 Lab.  \\\n",
       " 7             1447                          100                         397   \n",
       " \n",
       "   Measles Confirmed 2019 Total  \n",
       " 7                           23  ,\n",
       " 'error': None,\n",
       " 'suspected_cases': '1447',\n",
       " 'measles_confirmed_clin': '100',\n",
       " 'measles_confirmed_lab': '397',\n",
       " 'measles_confirmed_total': '23'}"
      ]
     },
     "execution_count": 124,
     "metadata": {},
     "output_type": "execute_result"
    }
   ],
   "source": [
    "report_list_2[0]"
   ]
  },
  {
   "cell_type": "code",
   "execution_count": 84,
   "metadata": {},
   "outputs": [
    {
     "name": "stdout",
     "output_type": "stream",
     "text": [
      "sme2502.pdf\n",
      "{'accuracy': 99.22, 'whitespace': 12.82, 'order': 1, 'page': 1}\n",
      "        0     1\n",
      "4     AND   BOL\n",
      "5     COL  None\n",
      "6     ECU  None\n",
      "7     PER  None\n",
      "8     VEN  None\n",
      "9     BRA   BRA\n",
      "10    CAP   CRI\n",
      "11    GTM  None\n",
      "12    HND  None\n",
      "13    NIC  None\n",
      "14    PAN  None\n",
      "15    SLV  None\n",
      "16    CAR   CAR\n",
      "17    LAC   CUB\n",
      "18    DOM  None\n",
      "19    HTI  None\n",
      "20    MEX   MEX\n",
      "21    NOA   CAN\n",
      "22    USA  None\n",
      "23    SOC   ARG\n",
      "24    CHL  None\n",
      "25    PRY  None\n",
      "26    URY  None\n",
      "27  TOTAL  None\n"
     ]
    },
    {
     "name": "stderr",
     "output_type": "stream",
     "text": [
      "/Users/trae/.virtualenvs/talus_api/lib/python3.7/site-packages/pandas/core/frame.py:4102: SettingWithCopyWarning: \n",
      "A value is trying to be set on a copy of a slice from a DataFrame\n",
      "\n",
      "See the caveats in the documentation: http://pandas.pydata.org/pandas-docs/stable/user_guide/indexing.html#returning-a-view-versus-a-copy\n",
      "  errors=errors,\n",
      "/Users/trae/.virtualenvs/talus_api/lib/python3.7/site-packages/ipykernel_launcher.py:26: SettingWithCopyWarning: \n",
      "A value is trying to be set on a copy of a slice from a DataFrame.\n",
      "Try using .loc[row_indexer,col_indexer] = value instead\n",
      "\n",
      "See the caveats in the documentation: http://pandas.pydata.org/pandas-docs/stable/user_guide/indexing.html#returning-a-view-versus-a-copy\n",
      "/Users/trae/.virtualenvs/talus_api/lib/python3.7/site-packages/ipykernel_launcher.py:27: SettingWithCopyWarning: \n",
      "A value is trying to be set on a copy of a slice from a DataFrame.\n",
      "Try using .loc[row_indexer,col_indexer] = value instead\n",
      "\n",
      "See the caveats in the documentation: http://pandas.pydata.org/pandas-docs/stable/user_guide/indexing.html#returning-a-view-versus-a-copy\n"
     ]
    },
    {
     "data": {
      "text/html": [
       "<div>\n",
       "<style scoped>\n",
       "    .dataframe tbody tr th:only-of-type {\n",
       "        vertical-align: middle;\n",
       "    }\n",
       "\n",
       "    .dataframe tbody tr th {\n",
       "        vertical-align: top;\n",
       "    }\n",
       "\n",
       "    .dataframe thead th {\n",
       "        text-align: right;\n",
       "    }\n",
       "</style>\n",
       "<table border=\"1\" class=\"dataframe\">\n",
       "  <thead>\n",
       "    <tr style=\"text-align: right;\">\n",
       "      <th></th>\n",
       "      <th>Susp. Cases 2019</th>\n",
       "      <th>Measles Confirmed 2019 Clin.</th>\n",
       "      <th>Measles Confirmed 2019 Lab.</th>\n",
       "      <th>Measles Confirmed 2019 Total</th>\n",
       "    </tr>\n",
       "  </thead>\n",
       "  <tbody>\n",
       "    <tr>\n",
       "      <td>8</td>\n",
       "      <td>2</td>\n",
       "      <td>0</td>\n",
       "      <td>0</td>\n",
       "      <td>0</td>\n",
       "    </tr>\n",
       "  </tbody>\n",
       "</table>\n",
       "</div>"
      ],
      "text/plain": [
       "  Susp. Cases 2019 Measles Confirmed 2019 Clin. Measles Confirmed 2019 Lab.  \\\n",
       "8                2                            0                           0   \n",
       "\n",
       "  Measles Confirmed 2019 Total  \n",
       "8                            0  "
      ]
     },
     "execution_count": 84,
     "metadata": {},
     "output_type": "execute_result"
    }
   ],
   "source": [
    "read_pdf('sme2502.pdf')"
   ]
  },
  {
   "cell_type": "code",
   "execution_count": 166,
   "metadata": {},
   "outputs": [],
   "source": [
    "results_df_2 = pd.DataFrame(report_list_2)"
   ]
  },
  {
   "cell_type": "code",
   "execution_count": 167,
   "metadata": {},
   "outputs": [
    {
     "data": {
      "text/plain": [
       "(282, 14)"
      ]
     },
     "execution_count": 167,
     "metadata": {},
     "output_type": "execute_result"
    }
   ],
   "source": [
    "results_df_2.shape"
   ]
  },
  {
   "cell_type": "code",
   "execution_count": 168,
   "metadata": {},
   "outputs": [],
   "source": [
    "mask = [i is not None for i in results_df_2.parse_result.tolist()]"
   ]
  },
  {
   "cell_type": "code",
   "execution_count": 169,
   "metadata": {},
   "outputs": [],
   "source": [
    "results_df_2.loc[mask, :].to_csv('test_output_2.csv', index=False)"
   ]
  },
  {
   "cell_type": "code",
   "execution_count": null,
   "metadata": {},
   "outputs": [],
   "source": []
  },
  {
   "cell_type": "code",
   "execution_count": null,
   "metadata": {},
   "outputs": [],
   "source": []
  },
  {
   "cell_type": "code",
   "execution_count": 103,
   "metadata": {},
   "outputs": [
    {
     "data": {
      "text/html": [
       "<div>\n",
       "<style scoped>\n",
       "    .dataframe tbody tr th:only-of-type {\n",
       "        vertical-align: middle;\n",
       "    }\n",
       "\n",
       "    .dataframe tbody tr th {\n",
       "        vertical-align: top;\n",
       "    }\n",
       "\n",
       "    .dataframe thead th {\n",
       "        text-align: right;\n",
       "    }\n",
       "</style>\n",
       "<table border=\"1\" class=\"dataframe\">\n",
       "  <thead>\n",
       "    <tr style=\"text-align: right;\">\n",
       "      <th></th>\n",
       "      <th>Susp. Cases 2019</th>\n",
       "      <th>Measles Confirmed 2019 Clin.</th>\n",
       "      <th>Measles Confirmed 2019 Lab.</th>\n",
       "      <th>Measles Confirmed 2019 Total</th>\n",
       "    </tr>\n",
       "  </thead>\n",
       "  <tbody>\n",
       "    <tr>\n",
       "      <td>7</td>\n",
       "      <td>1447</td>\n",
       "      <td>100</td>\n",
       "      <td>397</td>\n",
       "      <td>23</td>\n",
       "    </tr>\n",
       "  </tbody>\n",
       "</table>\n",
       "</div>"
      ],
      "text/plain": [
       "  Susp. Cases 2019 Measles Confirmed 2019 Clin. Measles Confirmed 2019 Lab.  \\\n",
       "7             1447                          100                         397   \n",
       "\n",
       "  Measles Confirmed 2019 Total  \n",
       "7                           23  "
      ]
     },
     "execution_count": 103,
     "metadata": {},
     "output_type": "execute_result"
    }
   ],
   "source": [
    "results_df_2.loc[0,'parse_result']"
   ]
  },
  {
   "cell_type": "code",
   "execution_count": null,
   "metadata": {},
   "outputs": [],
   "source": []
  }
 ],
 "metadata": {
  "kernelspec": {
   "display_name": "Python 3",
   "language": "python",
   "name": "python3"
  },
  "language_info": {
   "codemirror_mode": {
    "name": "ipython",
    "version": 3
   },
   "file_extension": ".py",
   "mimetype": "text/x-python",
   "name": "python",
   "nbconvert_exporter": "python",
   "pygments_lexer": "ipython3",
   "version": "3.7.4"
  }
 },
 "nbformat": 4,
 "nbformat_minor": 4
}
